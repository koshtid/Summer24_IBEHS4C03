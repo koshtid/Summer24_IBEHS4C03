{
 "cells": [
  {
   "cell_type": "code",
   "execution_count": 189,
   "id": "b983a835-38ef-44ea-998c-58cb98aa7a70",
   "metadata": {},
   "outputs": [
    {
     "name": "stdin",
     "output_type": "stream",
     "text": [
      "Once deleted, variables cannot be recovered. Proceed (y/[n])?  y\n"
     ]
    }
   ],
   "source": [
    "%reset\n",
    "import numpy as np\n",
    "import pandas as pd\n",
    "import matplotlib.pyplot as plt\n",
    "import seaborn as sns\n",
    "import scipy\n",
    "from scipy import stats\n",
    "from scipy.stats import norm\n",
    "import statsmodels.api as sm"
   ]
  },
  {
   "cell_type": "markdown",
   "id": "cb1c536f-21ec-4a41-b2ec-b3df31396d5b",
   "metadata": {},
   "source": [
    "# 2 Sample t-test for testing for the differences in means: Independent t-test\n",
    "\n",
    "It is known that smoking is associated with chronic obstructive pulmaonary disease.  Research has shown that this process is linked with a number of inflammatory signatures in exhaled breath condensate (EBC), one of which is nitrite concentration. Average nitrate EBC concentration was collected from eleven nonsmokers and nine smokers.   \n",
    "\n",
    "Determine whether there is a significant difference in the mean nitrite EBC concentration between smokers and non-smokers, using a confidence level of 95%. \n",
    "\n",
    "Load and explore the data"
   ]
  },
  {
   "cell_type": "code",
   "execution_count": 190,
   "id": "49c689c9-d855-4da7-afe4-55b350c519bb",
   "metadata": {},
   "outputs": [],
   "source": [
    "Nonsmokers=pd.Series([15723, 18990, 7597, 24160, 12044, 17636, 19792, 24945, 21372, 19271, 22804],name=\"Nonsmokers\")\n",
    "Smokers=pd.Series([24960, 31210, 28234, 17786, 30612, 25944, 19437, 16945, 23434],name=\"Smokers\")"
   ]
  },
  {
   "cell_type": "code",
   "execution_count": 191,
   "id": "791ed47a-98c4-4a03-8fa2-42e890807c63",
   "metadata": {},
   "outputs": [],
   "source": [
    "# create a pandas dataframe of the name of df; axis=1 is for columns\n",
    "#df=pd.concat([Nonsmokers,Smokers],axis='columns')\n",
    "#df"
   ]
  },
  {
   "cell_type": "code",
   "execution_count": 192,
   "id": "fb36acd5-f06d-423d-8d35-5e3ba1f21f85",
   "metadata": {},
   "outputs": [
    {
     "data": {
      "text/html": [
       "<div>\n",
       "<style scoped>\n",
       "    .dataframe tbody tr th:only-of-type {\n",
       "        vertical-align: middle;\n",
       "    }\n",
       "\n",
       "    .dataframe tbody tr th {\n",
       "        vertical-align: top;\n",
       "    }\n",
       "\n",
       "    .dataframe thead th {\n",
       "        text-align: right;\n",
       "    }\n",
       "</style>\n",
       "<table border=\"1\" class=\"dataframe\">\n",
       "  <thead>\n",
       "    <tr style=\"text-align: right;\">\n",
       "      <th></th>\n",
       "      <th>Nonsmokers</th>\n",
       "      <th>Smokers</th>\n",
       "    </tr>\n",
       "  </thead>\n",
       "  <tbody>\n",
       "    <tr>\n",
       "      <th>0</th>\n",
       "      <td>15723</td>\n",
       "      <td>24960.0</td>\n",
       "    </tr>\n",
       "    <tr>\n",
       "      <th>1</th>\n",
       "      <td>18990</td>\n",
       "      <td>31210.0</td>\n",
       "    </tr>\n",
       "    <tr>\n",
       "      <th>2</th>\n",
       "      <td>7597</td>\n",
       "      <td>28234.0</td>\n",
       "    </tr>\n",
       "    <tr>\n",
       "      <th>3</th>\n",
       "      <td>24160</td>\n",
       "      <td>17786.0</td>\n",
       "    </tr>\n",
       "    <tr>\n",
       "      <th>4</th>\n",
       "      <td>12044</td>\n",
       "      <td>30612.0</td>\n",
       "    </tr>\n",
       "    <tr>\n",
       "      <th>5</th>\n",
       "      <td>17636</td>\n",
       "      <td>25944.0</td>\n",
       "    </tr>\n",
       "    <tr>\n",
       "      <th>6</th>\n",
       "      <td>19792</td>\n",
       "      <td>19437.0</td>\n",
       "    </tr>\n",
       "    <tr>\n",
       "      <th>7</th>\n",
       "      <td>24945</td>\n",
       "      <td>16945.0</td>\n",
       "    </tr>\n",
       "    <tr>\n",
       "      <th>8</th>\n",
       "      <td>21372</td>\n",
       "      <td>23434.0</td>\n",
       "    </tr>\n",
       "    <tr>\n",
       "      <th>9</th>\n",
       "      <td>19271</td>\n",
       "      <td>NaN</td>\n",
       "    </tr>\n",
       "    <tr>\n",
       "      <th>10</th>\n",
       "      <td>22804</td>\n",
       "      <td>NaN</td>\n",
       "    </tr>\n",
       "  </tbody>\n",
       "</table>\n",
       "</div>"
      ],
      "text/plain": [
       "    Nonsmokers  Smokers\n",
       "0        15723  24960.0\n",
       "1        18990  31210.0\n",
       "2         7597  28234.0\n",
       "3        24160  17786.0\n",
       "4        12044  30612.0\n",
       "5        17636  25944.0\n",
       "6        19792  19437.0\n",
       "7        24945  16945.0\n",
       "8        21372  23434.0\n",
       "9        19271      NaN\n",
       "10       22804      NaN"
      ]
     },
     "execution_count": 192,
     "metadata": {},
     "output_type": "execute_result"
    }
   ],
   "source": [
    "df=pd.concat([Nonsmokers,Smokers],axis='columns')\n",
    "df"
   ]
  },
  {
   "cell_type": "markdown",
   "id": "a54fdd7c-7e2a-4dd6-b605-8780f813ba81",
   "metadata": {},
   "source": [
    "# Checklist for Hypothesis Testing \n",
    "\n",
    "# - Examine the data and choose your statistical test"
   ]
  },
  {
   "cell_type": "code",
   "execution_count": 193,
   "id": "51a73864-cd73-42e3-b11a-cbf529bbf11c",
   "metadata": {},
   "outputs": [],
   "source": [
    "# Plot the data to visualize\n",
    "#ax=sns.boxplot(data=df,showmeans=True)\n",
    "#ax.set(xlabel=\"Smoking\")\n",
    "#ax.set(ylabel=\"Nitrite\")\n",
    "#ax=sns.swarmplot(data=df)"
   ]
  },
  {
   "cell_type": "code",
   "execution_count": 194,
   "id": "a66389d0-9dc7-42a0-bb70-e5997e3fd3ed",
   "metadata": {},
   "outputs": [
    {
     "data": {
      "image/png": "[encoded data removed]",
      "text/plain": [
       "<Figure size 640x480 with 1 Axes>"
      ]
     },
     "metadata": {},
     "output_type": "display_data"
    }
   ],
   "source": []
  },
  {
   "cell_type": "markdown",
   "id": "c2b1c3a6-b860-4d7c-892a-83f91ef6027d",
   "metadata": {},
   "source": [
    "Explore summary data to compare the statistics that you will be testing?\n",
    "\n",
    "Try .describe() for the pandas series or dataframe"
   ]
  },
  {
   "cell_type": "code",
   "execution_count": 195,
   "id": "2b910d50-a4c7-43a1-bf52-38f59f2cddba",
   "metadata": {},
   "outputs": [
    {
     "data": {
      "text/html": [
       "<div>\n",
       "<style scoped>\n",
       "    .dataframe tbody tr th:only-of-type {\n",
       "        vertical-align: middle;\n",
       "    }\n",
       "\n",
       "    .dataframe tbody tr th {\n",
       "        vertical-align: top;\n",
       "    }\n",
       "\n",
       "    .dataframe thead th {\n",
       "        text-align: right;\n",
       "    }\n",
       "</style>\n",
       "<table border=\"1\" class=\"dataframe\">\n",
       "  <thead>\n",
       "    <tr style=\"text-align: right;\">\n",
       "      <th></th>\n",
       "      <th>Nonsmokers</th>\n",
       "      <th>Smokers</th>\n",
       "    </tr>\n",
       "  </thead>\n",
       "  <tbody>\n",
       "    <tr>\n",
       "      <th>count</th>\n",
       "      <td>11.000000</td>\n",
       "      <td>9.000000</td>\n",
       "    </tr>\n",
       "    <tr>\n",
       "      <th>mean</th>\n",
       "      <td>18575.818182</td>\n",
       "      <td>24284.666667</td>\n",
       "    </tr>\n",
       "    <tr>\n",
       "      <th>std</th>\n",
       "      <td>5213.449603</td>\n",
       "      <td>5328.331892</td>\n",
       "    </tr>\n",
       "    <tr>\n",
       "      <th>min</th>\n",
       "      <td>7597.000000</td>\n",
       "      <td>16945.000000</td>\n",
       "    </tr>\n",
       "    <tr>\n",
       "      <th>25%</th>\n",
       "      <td>16679.500000</td>\n",
       "      <td>19437.000000</td>\n",
       "    </tr>\n",
       "    <tr>\n",
       "      <th>50%</th>\n",
       "      <td>19271.000000</td>\n",
       "      <td>24960.000000</td>\n",
       "    </tr>\n",
       "    <tr>\n",
       "      <th>75%</th>\n",
       "      <td>22088.000000</td>\n",
       "      <td>28234.000000</td>\n",
       "    </tr>\n",
       "    <tr>\n",
       "      <th>max</th>\n",
       "      <td>24945.000000</td>\n",
       "      <td>31210.000000</td>\n",
       "    </tr>\n",
       "  </tbody>\n",
       "</table>\n",
       "</div>"
      ],
      "text/plain": [
       "         Nonsmokers       Smokers\n",
       "count     11.000000      9.000000\n",
       "mean   18575.818182  24284.666667\n",
       "std     5213.449603   5328.331892\n",
       "min     7597.000000  16945.000000\n",
       "25%    16679.500000  19437.000000\n",
       "50%    19271.000000  24960.000000\n",
       "75%    22088.000000  28234.000000\n",
       "max    24945.000000  31210.000000"
      ]
     },
     "execution_count": 195,
     "metadata": {},
     "output_type": "execute_result"
    }
   ],
   "source": []
  },
  {
   "cell_type": "code",
   "execution_count": null,
   "id": "884c7ac3-c867-4de9-a922-f19589e409ea",
   "metadata": {},
   "outputs": [],
   "source": []
  },
  {
   "cell_type": "markdown",
   "id": "0e34bfd6-c4a8-4e59-954b-e64d27e4b773",
   "metadata": {},
   "source": [
    "Remember:  By default numpy uses a maximum likelihood estimate for the standard deviation (degrees of freedom (DF) = n so ddof=0), so to have it do the unbiased estimation we set the ddof = 1. Note that this is different than what pandas does. By default pandas uses ddof=1."
   ]
  },
  {
   "cell_type": "code",
   "execution_count": 196,
   "id": "3b838e8d-abd4-44f3-af2c-af45775352bd",
   "metadata": {},
   "outputs": [],
   "source": [
    "# standard deviation of the sample use ddof n-1\n"
   ]
  },
  {
   "cell_type": "markdown",
   "id": "883cc031-4e19-497f-92fc-613fe43a9d8a",
   "metadata": {},
   "source": [
    "# - Review assumptions of the chosen statistics test"
   ]
  },
  {
   "cell_type": "markdown",
   "id": "a5c05729-b5f2-42ea-8c6e-034a2d49cbfa",
   "metadata": {},
   "source": [
    "First review assumptions of 2 sample t-tests:  independence of sample (no trends within sample) and between samples (sample A does not affect sample B), normality, and equal variance.\n",
    "\n",
    "Samples are independent from each other (not linked or paired). \n",
    "\n",
    "Let's look at the assumption of normality next.  First we will run a a Shapiro-Wilk test to test if the sample data is well-modelled by a normal distribution and to compute how likely it is for a random variable underlying the data set to be  normally distributed.  \n",
    "\n",
    "Remember that this tests the null hypothesis that the sample is normally disributed.  Larger than 0.05 p-value means we fail to reject the null hypothesis (that the distribution of the sample is sig different from a normal distribution) and conclude that the sample is not significnatly different from a normal distribution."
   ]
  },
  {
   "cell_type": "markdown",
   "id": "59181bf9-be9f-47ef-9f48-a1ed98a631a7",
   "metadata": {},
   "source": [
    "try: stats.shapiro(Nonsmokers) and stats.shapiro(Smokers)"
   ]
  },
  {
   "cell_type": "code",
   "execution_count": null,
   "id": "4b32a680-60ac-48c5-ac2d-76f6d73b8aa5",
   "metadata": {},
   "outputs": [],
   "source": []
  },
  {
   "cell_type": "markdown",
   "id": "37605fa3-9fba-4fc2-be38-c0ec4bd92c79",
   "metadata": {},
   "source": [
    "We have shown that the two samples are normally distributed.  \n",
    "\n",
    "Now let's look at the assumption of equal variance (homogeneity of variance or homoscedasticity).  We want to assume that the varianes of the populations from which the different samples are drawn are equal.  We will look at the Levene's test, that tests the hypothesis that the population variances are equal.  The Levene test is pretty conservative, and you can use center='mean', 'median', or 'trimmed' to test with, with median being the most conservative and the dafault in SciPy.  If the resulting p-value is less than the chosen significnace level, the null hypothesis can be rejected and you conclude that there is a differnece between the variances.  Larger than 0.05 p-value measn we fail to reject the null hypthesis and conclude that we think that the variances are the same. \n",
    "\n",
    "try: stats.levene(Nonsmokers,Smokers,center='median')"
   ]
  },
  {
   "cell_type": "code",
   "execution_count": 197,
   "id": "431ff0dc-9603-498e-a269-fa3ce88618c6",
   "metadata": {},
   "outputs": [
    {
     "data": {
      "text/plain": [
       "LeveneResult(statistic=0.13178107984421228, pvalue=0.7208204036312478)"
      ]
     },
     "execution_count": 197,
     "metadata": {},
     "output_type": "execute_result"
    }
   ],
   "source": [
    "stats.levene(Nonsmokers,Smokers,center='median')"
   ]
  },
  {
   "cell_type": "code",
   "execution_count": null,
   "id": "435c1eb4-819a-4433-bfa5-1353ae14ef7a",
   "metadata": {},
   "outputs": [],
   "source": []
  },
  {
   "cell_type": "markdown",
   "id": "9c51aa98-6db8-444d-9b4a-f77a054a5bc5",
   "metadata": {},
   "source": [
    "We have looked at tests for normality and equal variance.  Let's also look at these assumptions visually using qq plots.  Remember that using qq plots are the best way and most accepted way to judge the assumptions of these tests, but the determiniations are subjective and take some getting use to.    "
   ]
  },
  {
   "cell_type": "markdown",
   "id": "e117feda-610f-4712-8870-07b3b7425c99",
   "metadata": {},
   "source": [
    "Let's look at normality via **qq plots** and plot this data on a qq plot. This method to plot the qq plots also takes loc (mean=location) and scale (std=scale) as the values. We'll use the ones calculated from our data set because in actuality we don't know the true population parameters. The additional parameter line='45' plots the y=x line on the same plot.\n",
    "\n",
    "Remember to sort your data for a qqplot"
   ]
  },
  {
   "cell_type": "code",
   "execution_count": 198,
   "id": "582e48ce-7b6f-4759-a50e-e7db1cfb59be",
   "metadata": {},
   "outputs": [],
   "source": [
    "#Nonsmokers.sort_values()\n",
    "#sm.qqplot(Nonsmokers,line='45',loc=np.mean(Nonsmokers),scale=np.std(Nonsmokers,ddof=1))"
   ]
  },
  {
   "cell_type": "code",
   "execution_count": 199,
   "id": "5a492961-5728-4d57-80c4-1feebadc25b9",
   "metadata": {},
   "outputs": [
    {
     "data": {
      "image/png": "[encoded data removed]",
      "text/plain": [
       "<Figure size 640x480 with 1 Axes>"
      ]
     },
     "execution_count": 199,
     "metadata": {},
     "output_type": "execute_result"
    },
    {
     "data": {
      "image/png": "[encoded data removed]",
      "text/plain": [
       "<Figure size 640x480 with 1 Axes>"
      ]
     },
     "metadata": {},
     "output_type": "display_data"
    }
   ],
   "source": []
  },
  {
   "cell_type": "code",
   "execution_count": null,
   "id": "e37c0357-7538-4e05-a68f-86625938718a",
   "metadata": {},
   "outputs": [],
   "source": []
  },
  {
   "cell_type": "markdown",
   "id": "3e47b8ac-1cc1-464e-bb2f-1603f833fb52",
   "metadata": {},
   "source": [
    "# - Formulate the null and alternative hypothesis \n",
    "\n",
    "Is it a one-sided test or a two-sided test?\n",
    "\n",
    "Null hypthesis=  \\\n",
    "Alternative hypothesis ="
   ]
  },
  {
   "cell_type": "markdown",
   "id": "ce496074-636e-47fa-bc8c-5aedc541f962",
   "metadata": {},
   "source": [
    "# - Choose a significance level to work to\n",
    "\n",
    "alpha = $\\alpha$ = "
   ]
  },
  {
   "cell_type": "code",
   "execution_count": null,
   "id": "10e36b9c-c646-4db4-8526-109fec568201",
   "metadata": {},
   "outputs": [],
   "source": []
  },
  {
   "cell_type": "markdown",
   "id": "9d34a4ef-c8c2-481a-aba9-6319952a137e",
   "metadata": {},
   "source": [
    "# - Calculate the test statistic from the data"
   ]
  },
  {
   "attachments": {
    "666a7849-21b2-410c-aa5f-5b85b78951af.png": {
     "image/png": "[encoded data removed]"
    }
   },
   "cell_type": "markdown",
   "id": "c80392bc-e1ae-4cc1-9220-039959c0f626",
   "metadata": {},
   "source": [
    "The t statistic to test whether the means are different can be calculated as follows: \\\n",
    "![image.png](attachment:666a7849-21b2-410c-aa5f-5b85b78951af.png)"
   ]
  },
  {
   "cell_type": "markdown",
   "id": "58575c24-78a5-4c37-a33a-ceb6c7f17026",
   "metadata": {},
   "source": [
    "Let's look at the calculations. \\\n",
    "n − 1 is the number of degrees of freedom for each group, and the total sample size minus two (that is, n1 + n2 − 2) is the total number of degrees of freedom, which is used in significance testing."
   ]
  },
  {
   "cell_type": "markdown",
   "id": "25fd9c3d-9213-425e-9103-31c01fa8ff69",
   "metadata": {},
   "source": [
    "What is the number of observations in sample A=NonSmokers?\n",
    "in Sample B=Smokers?\n",
    "\n",
    "What is the std in NonSmokers?\n",
    "in Smokers?\n",
    "\n",
    "What ist the mean in NonSmokers?\n",
    "in Smokers?\n",
    "\n",
    "What are the dof?"
   ]
  },
  {
   "cell_type": "code",
   "execution_count": null,
   "id": "d928dc33-7680-443e-8914-7b69607e2adc",
   "metadata": {},
   "outputs": [],
   "source": []
  },
  {
   "attachments": {
    "3ac4b38b-5aac-47e2-984a-5a46b62e57b5.png": {
     "image/png": "[encoded data removed]"
    }
   },
   "cell_type": "markdown",
   "id": "69186047-3b43-4b1a-924c-796a83cfea79",
   "metadata": {},
   "source": [
    "We will calculate a pooled estimate of the combined standard deviations, which is a weighted average of the two standard deviations, used when the variances are equivalent to each other \\\n",
    "![image.png](attachment:3ac4b38b-5aac-47e2-984a-5a46b62e57b5.png)"
   ]
  },
  {
   "cell_type": "code",
   "execution_count": 200,
   "id": "688cec6a-e7c0-40ab-b55f-b7f65a99ecff",
   "metadata": {},
   "outputs": [],
   "source": [
    "#s_pooled=np.sqrt((((nA-1)*stdNonsmokers**2)+((nB-1)*stdSmokers**2))/(nA+nB-2))\n",
    "# print(\"The pooled standard deviation is:  \"+str(s_pooled))"
   ]
  },
  {
   "cell_type": "code",
   "execution_count": 201,
   "id": "cc8cb7d0-03bd-4941-83c2-c99240da5dbc",
   "metadata": {},
   "outputs": [
    {
     "name": "stdout",
     "output_type": "stream",
     "text": [
      "The pooled standard deviation is:  5264.817890890664\n"
     ]
    }
   ],
   "source": []
  },
  {
   "attachments": {
    "666a7849-21b2-410c-aa5f-5b85b78951af.png": {
     "image/png": "[encoded data removed]"
    }
   },
   "cell_type": "markdown",
   "id": "69dfaeb4-d032-415e-b2dc-f47a54cf8873",
   "metadata": {},
   "source": [
    "The t statistic to test whether the means are different can be calculated as follows: \\\n",
    "![image.png](attachment:666a7849-21b2-410c-aa5f-5b85b78951af.png)"
   ]
  },
  {
   "cell_type": "markdown",
   "id": "8b8b6c28-a449-4d09-9186-ed2d13bd0372",
   "metadata": {},
   "source": [
    "Find the standard error of the difference?"
   ]
  },
  {
   "cell_type": "code",
   "execution_count": 202,
   "id": "fc720103-f291-4c75-a21a-3757de749ec4",
   "metadata": {},
   "outputs": [],
   "source": [
    "#StandErrorDiff=s_pooled*(np.sqrt(1/len(Nonsmokers)+1/len(Smokers)))\n",
    "#print(\"The standard error of the difference is: \"+str(StandErrorDiff))"
   ]
  },
  {
   "cell_type": "code",
   "execution_count": 203,
   "id": "c50ccc04-6f91-49e7-a05b-34bfd2054234",
   "metadata": {},
   "outputs": [
    {
     "name": "stdout",
     "output_type": "stream",
     "text": [
      "The standard error of the difference is: 2366.3596652883343\n"
     ]
    }
   ],
   "source": []
  },
  {
   "cell_type": "markdown",
   "id": "42ba7ec1-c268-45ae-9732-7747c1db0560",
   "metadata": {},
   "source": [
    "Find the difference in means that you are looking for?"
   ]
  },
  {
   "cell_type": "code",
   "execution_count": 204,
   "id": "535b1f99-17a8-41ca-a31c-c2f818a30ca0",
   "metadata": {},
   "outputs": [],
   "source": [
    "# print(\"The difference in means is:\" + str(np.mean(Nonsmokers)-np.mean(Smokers)))"
   ]
  },
  {
   "cell_type": "code",
   "execution_count": 205,
   "id": "55040bb7-2bdf-4ef5-94af-f0d0eca4366e",
   "metadata": {},
   "outputs": [
    {
     "name": "stdout",
     "output_type": "stream",
     "text": [
      "The difference in means is:-5708.848484848488\n"
     ]
    }
   ],
   "source": []
  },
  {
   "cell_type": "markdown",
   "id": "2baeb1c3-3129-4ed7-8cef-e01498ce4dd5",
   "metadata": {},
   "source": [
    "Calculate the t test statistic\n"
   ]
  },
  {
   "cell_type": "code",
   "execution_count": null,
   "id": "dcc5b7ab-3b23-4e3e-ab66-1c1fae2ed093",
   "metadata": {},
   "outputs": [],
   "source": []
  },
  {
   "cell_type": "markdown",
   "id": "dc73f8fe-07b1-495b-ae70-2592ef02d37b",
   "metadata": {},
   "source": [
    "# - Compare the test statistic with a critical value from a statistics table (for a critical value method) or find the p-value from the test statistic "
   ]
  },
  {
   "cell_type": "markdown",
   "id": "24bc16cc-e805-4548-90c7-a2fc6c036f2b",
   "metadata": {},
   "source": [
    "To find the critical t value using a t table, find the t-value at dof=?? and at 1-alpha/2 =  \n",
    "\n",
    "Go to the t-table and find this critical value."
   ]
  },
  {
   "cell_type": "code",
   "execution_count": 206,
   "id": "a154a7ba-56cf-4443-bbe1-ace214e84c99",
   "metadata": {},
   "outputs": [],
   "source": [
    "# check this critical value using python\n",
    "#Critical_t=stats.t.ppf(0.975,18)\n",
    "#print(Critical_t)"
   ]
  },
  {
   "cell_type": "code",
   "execution_count": 207,
   "id": "f35f7af1-4ed2-4621-886d-64a151f5f819",
   "metadata": {},
   "outputs": [
    {
     "name": "stdout",
     "output_type": "stream",
     "text": [
      "2.10092204024096\n"
     ]
    }
   ],
   "source": []
  },
  {
   "cell_type": "markdown",
   "id": "aaa24356-cd2a-4165-8e5c-677f6f26f019",
   "metadata": {},
   "source": [
    "What is the p-value found from our test statistic?"
   ]
  },
  {
   "cell_type": "markdown",
   "id": "f10599ac-e4d7-47f4-b3a5-c330977be058",
   "metadata": {},
   "source": [
    "To find the p-value, we can work backwards from a t-table at the t test statistic (absolute value) that we calculated from the data.\n",
    "\n",
    "Find the t-value using dof=18 of 2.4125 on the t-table and find the area under the curve.  This would be betweeen p= 0.025 and p=0.01 (closer to 0.01).  Since this is a two-sided test, we need to double this to p-value = 0.02 to 0.05. The exact p-value is "
   ]
  },
  {
   "cell_type": "code",
   "execution_count": 208,
   "id": "04870e67-ab63-4dbd-ba4e-7950f217f9c3",
   "metadata": {},
   "outputs": [],
   "source": [
    "#stats.t.cdf(-2.4125,18)"
   ]
  },
  {
   "cell_type": "code",
   "execution_count": 209,
   "id": "a1c3a87e-f1dd-41d4-8295-ed28ddcf55c5",
   "metadata": {},
   "outputs": [
    {
     "data": {
      "text/plain": [
       "0.01336578935158508"
      ]
     },
     "execution_count": 209,
     "metadata": {},
     "output_type": "execute_result"
    }
   ],
   "source": [
    "stats.t.cdf(-2.4125,18)"
   ]
  },
  {
   "cell_type": "code",
   "execution_count": 210,
   "id": "01bd5002-f6dc-448f-9eea-c9373d516ff7",
   "metadata": {},
   "outputs": [],
   "source": [
    "#2*(stats.t.cdf(-2.4125,18))"
   ]
  },
  {
   "cell_type": "code",
   "execution_count": 211,
   "id": "3331db65-cb76-441f-8d81-e0e57ded6346",
   "metadata": {},
   "outputs": [
    {
     "data": {
      "text/plain": [
       "0.02673157870317016"
      ]
     },
     "execution_count": 211,
     "metadata": {},
     "output_type": "execute_result"
    }
   ],
   "source": [
    "2*(stats.t.cdf(-2.4125,18))"
   ]
  },
  {
   "cell_type": "markdown",
   "id": "d4e8957b-0985-42fd-a086-01d5effa6b2b",
   "metadata": {},
   "source": [
    "# - Make a conclusion based on the statistics test.  The choice is to reject the null hypithesis of not."
   ]
  },
  {
   "cell_type": "markdown",
   "id": "e35c8d78-8c0e-4e85-a8cf-a1e932992c95",
   "metadata": {
    "tags": []
   },
   "source": [
    "What is our conclusion based on the critical value method?\n"
   ]
  },
  {
   "cell_type": "markdown",
   "id": "028a440a-f4f0-4d49-b7bb-e913087570e6",
   "metadata": {},
   "source": [
    "If the absolute value of our test statistic is greater than the critical t, then we know that the difference in means is statistically significant at alpha = 0.05.  "
   ]
  },
  {
   "cell_type": "code",
   "execution_count": null,
   "id": "37228a08-08f7-40f0-ba83-8a3c6fc2ad91",
   "metadata": {},
   "outputs": [],
   "source": []
  },
  {
   "cell_type": "markdown",
   "id": "fdc30edd-0c72-4634-903e-315e00f2a017",
   "metadata": {},
   "source": [
    "What is our conclusion based on the p-value method?"
   ]
  },
  {
   "cell_type": "markdown",
   "id": "fb57579e-5324-40d3-a69f-a4ea73fae9c2",
   "metadata": {},
   "source": [
    "The p-value=0.027 is less than p=0.05 (our alpha level), so we are confident to reject the null hypothesis (null hypothesis = that there is no true difference in the means of our samples or that the difference means of the samples = 0).  We therefor accept the alternative hypotheiss and state that there is a significant different in the means.  "
   ]
  },
  {
   "cell_type": "markdown",
   "id": "f23553f5-93ff-4ac2-a4b7-aa9016ad7f81",
   "metadata": {},
   "source": [
    "# 95% Confidence Interval of the Difference in Means"
   ]
  },
  {
   "attachments": {
    "2f504480-8f83-4065-8af0-4366414de0ea.png": {
     "image/png": "[encoded data removed]"
    }
   },
   "cell_type": "markdown",
   "id": "9cb2fc61-946f-4a9b-9fdb-c33e036e66cf",
   "metadata": {},
   "source": [
    "equation for 95% CI: ![image.png](attachment:2f504480-8f83-4065-8af0-4366414de0ea.png)"
   ]
  },
  {
   "cell_type": "code",
   "execution_count": 212,
   "id": "6f95a011-7eca-4766-b4e5-5d3e58ce005d",
   "metadata": {},
   "outputs": [
    {
     "name": "stdout",
     "output_type": "stream",
     "text": [
      "-10680.38566078997\n",
      "-737.3113089070048\n"
     ]
    }
   ],
   "source": [
    "LB=(np.mean(Nonsmokers)-np.mean(Smokers)) - Critical_t*s_pooled* (np.sqrt(1/11 + 1/9))\n",
    "UB=(np.mean(Nonsmokers)-np.mean(Smokers)) + Critical_t*s_pooled* (np.sqrt(1/11 + 1/9))\n",
    "print(LB)\n",
    "print(UB)"
   ]
  },
  {
   "cell_type": "markdown",
   "id": "5b2bf040-8774-473b-8201-328fd60f36c0",
   "metadata": {},
   "source": [
    "Interpretation:  The 95%CI of difference in means is = (-10680.386 to-737.31).  The confidence interval for meanA-meanB (the difference in sample means) does not cross 0 and has a negative range of values.  If the CI crossed 0 then no difference would be within the plausible values of the true diffenece in means and it would be a non-significnat finding.  Our results show that mean A is smaller than mean B, and that the difference in means is statistically significant at the 95% confidence level, with p=0.027.  "
   ]
  },
  {
   "cell_type": "markdown",
   "id": "6be1761b-5fab-42a3-843f-9fa90bbf9d6f",
   "metadata": {},
   "source": [
    "Note:  It is of note that if 2 separate CIs, each from one sample, do overlap, then you could still have a significant t-test stating that the differnece in the means is significantly different (rare but possible), but if the CIs of the samples do not overlap then the difference in means will be significant.  In general, you want to test the difference in means between the samples.  "
   ]
  },
  {
   "cell_type": "code",
   "execution_count": null,
   "id": "efb3f90b-0218-4652-aa0b-1d109a0b7a0c",
   "metadata": {},
   "outputs": [],
   "source": []
  },
  {
   "cell_type": "markdown",
   "id": "b0f0fbf3-a1f8-4e0d-8d05-0590a97576ca",
   "metadata": {},
   "source": [
    "# Using python to check"
   ]
  },
  {
   "cell_type": "markdown",
   "id": "44baff4e-ebc1-4797-ba93-c0b34655541d",
   "metadata": {},
   "source": [
    "Now let's run the statistical test using the student's t-test for independent samples. We will look at using the Python library SciPy (that we imported as stats) and statsmodels (that we imported as sm).  We will run the hypothesis test and look at the 95% CI of the difference in means between the samples.  "
   ]
  },
  {
   "cell_type": "code",
   "execution_count": 213,
   "id": "6a8e7482-516a-4089-aaa3-e3ee08cf69b9",
   "metadata": {},
   "outputs": [],
   "source": [
    "# stats.ttest_ind(SampleA(=Nonsmokers),SampleB(=Smokers),equal_var=True)"
   ]
  },
  {
   "cell_type": "code",
   "execution_count": 214,
   "id": "dbe73411-3e71-4d47-be9f-d58bf475d528",
   "metadata": {},
   "outputs": [
    {
     "data": {
      "text/plain": [
       "Ttest_indResult(statistic=-2.41250244778529, pvalue=0.02673144417952557)"
      ]
     },
     "execution_count": 214,
     "metadata": {},
     "output_type": "execute_result"
    }
   ],
   "source": [
    "stats.ttest_ind(Nonsmokers,Smokers,equal_var=True)"
   ]
  },
  {
   "cell_type": "code",
   "execution_count": 215,
   "id": "722cff8b-add7-4731-a4fd-6e93d2a16025",
   "metadata": {},
   "outputs": [],
   "source": [
    "# sm.stats.ttest_ind(Nonsmokers,Smokers,usevar='pooled')"
   ]
  },
  {
   "cell_type": "code",
   "execution_count": 216,
   "id": "79f2c5d5-29b5-4199-9c3b-d5f4732ca93b",
   "metadata": {},
   "outputs": [
    {
     "data": {
      "text/plain": [
       "(-2.41250244778529, 0.02673144417952557, 18.0)"
      ]
     },
     "execution_count": 216,
     "metadata": {},
     "output_type": "execute_result"
    }
   ],
   "source": [
    "sm.stats.ttest_ind(Nonsmokers,Smokers,usevar='pooled')"
   ]
  },
  {
   "cell_type": "code",
   "execution_count": 217,
   "id": "17d61050-3998-4e44-90a9-0697ae7c49ec",
   "metadata": {},
   "outputs": [],
   "source": [
    "# cm=sm.stats.CompareMeans(sm.stats.DescrStatsW(Nonsmokers),sm.stats.DescrStatsW(Smokers))\n",
    "# print(cm.tconfint_diff(usevar='pooled'))"
   ]
  },
  {
   "cell_type": "code",
   "execution_count": 218,
   "id": "9596cec9-dddb-45a7-bba9-5e0b8403e5ac",
   "metadata": {},
   "outputs": [
    {
     "name": "stdout",
     "output_type": "stream",
     "text": [
      "(-10680.385660789972, -737.3113089070039)\n"
     ]
    }
   ],
   "source": [
    "cm=sm.stats.CompareMeans(sm.stats.DescrStatsW(Nonsmokers),sm.stats.DescrStatsW(Smokers))\n",
    "print(cm.tconfint_diff(alpha=0.05,usevar='pooled',alternative='two-sided'))"
   ]
  },
  {
   "cell_type": "code",
   "execution_count": null,
   "id": "6e7e3293-abd0-41ce-a2ae-12b535fdd37c",
   "metadata": {},
   "outputs": [],
   "source": []
  }
 ],
 "metadata": {
  "kernelspec": {
   "display_name": "Python 3 (ipykernel)",
   "language": "python",
   "name": "python3"
  },
  "language_info": {
   "codemirror_mode": {
    "name": "ipython",
    "version": 3
   },
   "file_extension": ".py",
   "mimetype": "text/x-python",
   "name": "python",
   "nbconvert_exporter": "python",
   "pygments_lexer": "ipython3",
   "version": "3.9.13"
  }
 },
 "nbformat": 4,
 "nbformat_minor": 5
}
