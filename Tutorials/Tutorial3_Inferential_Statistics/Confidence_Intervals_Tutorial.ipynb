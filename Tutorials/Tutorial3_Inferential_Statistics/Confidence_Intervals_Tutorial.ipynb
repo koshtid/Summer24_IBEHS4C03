{
 "cells": [
  {
   "cell_type": "code",
   "execution_count": 2,
   "id": "600c580c-8a65-41ef-a483-202445f70648",
   "metadata": {},
   "outputs": [
    {
     "name": "stdin",
     "output_type": "stream",
     "text": [
      "Once deleted, variables cannot be recovered. Proceed (y/[n])?  y\n"
     ]
    }
   ],
   "source": [
    "%reset\n",
    "import numpy as np\n",
    "import pandas as pd\n",
    "import matplotlib.pyplot as plt\n",
    "import seaborn as sns\n",
    "from scipy.stats import norm\n",
    "import statsmodels.api as sm\n",
    "# import statsmodels.graphics.gofplots as sm\n",
    "import scipy\n",
    "from scipy import stats"
   ]
  },
  {
   "cell_type": "markdown",
   "id": "4b65dd33-9055-4fbb-b94b-eafe97efd989",
   "metadata": {},
   "source": [
    "# Confidence Intervals"
   ]
  },
  {
   "cell_type": "markdown",
   "id": "answering-excitement",
   "metadata": {},
   "source": [
    "## Standard errors are used to compute Confidence Intervals\n",
    "\n",
    "SEM= $\\sigma$ / $\\sqrt{n}$.  You use the standard error of the mean in the computation of the confidence interval of the mean.\n",
    "\n",
    "**The confidence interval** The confidence interval for the true mean is: \n",
    "\n",
    "$\\bar{x} - \\frac{c_n*\\sigma}{\\sqrt(n)} <= \\mu <=  \\bar{x} - \\frac{c_n*\\sigma}{\\sqrt(n)}$.\n",
    "\n",
    "- where $\\bar{x}$ is the sample mean \n",
    "- where $c_n$ is the critical value of z using the standard normal probability distribution at a certain confidence level \n",
    "- where $\\sigma$ is the known population standard deviation \n",
    "- where n is the sample size \n",
    "- where $\\sigma$/$\\sqrt{n}$ is the SEM\n",
    "\n",
    "This is true when the distribution is normal.  For large sample sizes from other population distributions, the confidnece interval is approximately corrected by the Central Limit Theorem (the CLT causes the sampling distribution of the samples means from any distritbution to be normally approximated, at a sufficiently large sample size)."
   ]
  },
  {
   "cell_type": "markdown",
   "id": "368bf35a-fbb1-4bf6-abb7-f9cd12b90dba",
   "metadata": {},
   "source": [
    "# Confidence Interval for Mean of One Sample and Known Population Standard Deviation\n",
    "Let's estimate the mean boiling temperature of a special liquid, in degrees Celsius.   We will imagine a situation where we do not know the mean of the population but we do know the standard deviation of the population, $\\sigma$=1.2.  We select a sample of sample size=n and find the sample mean =  $\\bar{x}$.  "
   ]
  },
  {
   "cell_type": "code",
   "execution_count": 4,
   "id": "77ee3dfe-cea9-446e-8159-62ae5530b28d",
   "metadata": {},
   "outputs": [
    {
     "data": {
      "text/plain": [
       "array([102.5, 101.7, 103.1, 100.9, 100.5, 102.2])"
      ]
     },
     "execution_count": 4,
     "metadata": {},
     "output_type": "execute_result"
    }
   ],
   "source": [
    "# n = 6 samples\n",
    "data_BP=np.array([102.5,101.7,103.1,100.9,100.5,102.2])\n",
    "data_BP\n",
    "# find the sample mean"
   ]
  },
  {
   "cell_type": "code",
   "execution_count": null,
   "id": "44ba1e01-f8f5-4a06-8425-003091130a3d",
   "metadata": {},
   "outputs": [],
   "source": [
    "# find the best guess for the population standard deviation\n"
   ]
  },
  {
   "cell_type": "code",
   "execution_count": 5,
   "id": "fd966961-e7fd-4641-afe3-f3794a2850c9",
   "metadata": {},
   "outputs": [
    {
     "ename": "NameError",
     "evalue": "name 'mean_BP' is not defined",
     "output_type": "error",
     "traceback": [
      "\u001b[1;31m---------------------------------------------------------------------------\u001b[0m",
      "\u001b[1;31mNameError\u001b[0m                                 Traceback (most recent call last)",
      "Input \u001b[1;32mIn [5]\u001b[0m, in \u001b[0;36m<cell line: 3>\u001b[1;34m()\u001b[0m\n\u001b[0;32m      1\u001b[0m \u001b[38;5;66;03m# let's first look at the distribution of the data\u001b[39;00m\n\u001b[0;32m      2\u001b[0m \u001b[38;5;66;03m# Using a qq plot\u001b[39;00m\n\u001b[1;32m----> 3\u001b[0m sm\u001b[38;5;241m.\u001b[39mqqplot(data_BP,line\u001b[38;5;241m=\u001b[39m\u001b[38;5;124m'\u001b[39m\u001b[38;5;124m45\u001b[39m\u001b[38;5;124m'\u001b[39m,loc\u001b[38;5;241m=\u001b[39m\u001b[43mmean_BP\u001b[49m,scale\u001b[38;5;241m=\u001b[39m\u001b[38;5;241m1.2\u001b[39m)\n\u001b[0;32m      4\u001b[0m plt\u001b[38;5;241m.\u001b[39mshow()\n",
      "\u001b[1;31mNameError\u001b[0m: name 'mean_BP' is not defined"
     ]
    }
   ],
   "source": [
    "# let's first look at the distribution of the data\n",
    "# Using a qq plot\n",
    "sm.qqplot(data_BP,line='45',loc=?,scale=?)\n",
    "plt.show()"
   ]
  },
  {
   "cell_type": "markdown",
   "id": "27ce44c6-4603-4d50-a540-ef2d34800ae7",
   "metadata": {},
   "source": [
    "If the population distribution is normal or the sample size is sufficiently large, then can use the critical z value; or if we know the population standard deviation\n",
    "\n",
    "What is the mean of the sampling distribution of the mean, which estimates the population mean?\n",
    "\n",
    "What is the standard error of the mean which estimates the standard deviation of the sampling distribution of the mean? SEM=  $\\sigma$ / ${\\sqrt(n)}$."
   ]
  },
  {
   "cell_type": "code",
   "execution_count": 6,
   "id": "61ee7e1c-d5b1-4607-92fc-a0241ee0a347",
   "metadata": {},
   "outputs": [],
   "source": [
    "# standard deviation = ?\n",
    "# what is the SEM?"
   ]
  },
  {
   "cell_type": "markdown",
   "id": "eadcc992-7177-456d-9ff3-a04ea8308399",
   "metadata": {},
   "source": [
    "Select your confidence level and find the critical values of z for your alpha level. \n",
    "\n",
    "For a confidence interval of confidence level of C, the alpha level is 1-C and the area in each tail (for a two-tailed confidence level) is equal to (1-C)/2."
   ]
  },
  {
   "cell_type": "code",
   "execution_count": 8,
   "id": "daf8476a-0e1b-4f8a-983c-4b8e16ffc035",
   "metadata": {},
   "outputs": [
    {
     "ename": "SyntaxError",
     "evalue": "invalid syntax (2916420044.py, line 1)",
     "output_type": "error",
     "traceback": [
      "\u001b[1;36m  Input \u001b[1;32mIn [8]\u001b[1;36m\u001b[0m\n\u001b[1;33m    print(norm.ppf(?))\u001b[0m\n\u001b[1;37m                   ^\u001b[0m\n\u001b[1;31mSyntaxError\u001b[0m\u001b[1;31m:\u001b[0m invalid syntax\n"
     ]
    }
   ],
   "source": [
    "print(norm.ppf(?))\n",
    "print(norm.ppf(?))"
   ]
  },
  {
   "cell_type": "code",
   "execution_count": 9,
   "id": "10386651-f6e5-4cf2-a5ee-4e139635d517",
   "metadata": {},
   "outputs": [
    {
     "ename": "SyntaxError",
     "evalue": "invalid syntax (57535846.py, line 6)",
     "output_type": "error",
     "traceback": [
      "\u001b[1;36m  Input \u001b[1;32mIn [9]\u001b[1;36m\u001b[0m\n\u001b[1;33m    ax=plt.fill_between(x_A,normal_A, where=(x_A <-?),color='r',alpha=.9)\u001b[0m\n\u001b[1;37m                                                   ^\u001b[0m\n\u001b[1;31mSyntaxError\u001b[0m\u001b[1;31m:\u001b[0m invalid syntax\n"
     ]
    }
   ],
   "source": [
    "# lets look at these critical values\n",
    "\n",
    "x_A = np.arange(-4,4,.01)\n",
    "normal_A=norm.pdf(x_A,loc=0,scale=1)\n",
    "ax=sns.lineplot(x=x_A,y=normal_A)\n",
    "ax=plt.fill_between(x_A,normal_A, where=(x_A <-?),color='r',alpha=.9)\n",
    "ax=plt.fill_between(x_A,normal_A, where=(x_A >?),color='r',alpha=.9)\n",
    "plt.xlabel(\"upper and lower tail for probability=0.025\")\n",
    "plt.title(\"Normal Distribution with Mean=0, SD=1\")"
   ]
  },
  {
   "cell_type": "markdown",
   "id": "15bce9c5-1008-4ab7-ae56-2835f5cd0203",
   "metadata": {},
   "source": [
    "The critical value from the standard normal distribution is the z value realizing the probability of observing a value at least as extreme as positive z, or the upper critical value.  For p=0.025, the upper critical z value such that P(Z>$/z_c$)=0.025 = 1.96."
   ]
  },
  {
   "cell_type": "code",
   "execution_count": 10,
   "id": "d1d33549-7c3b-4549-b6e8-2a7e438ef1b1",
   "metadata": {},
   "outputs": [
    {
     "ename": "SyntaxError",
     "evalue": "invalid syntax (1027445455.py, line 3)",
     "output_type": "error",
     "traceback": [
      "\u001b[1;36m  Input \u001b[1;32mIn [10]\u001b[1;36m\u001b[0m\n\u001b[1;33m    print(\"Lower bound = \" + str(mean_BP - ? * ?/np.sqrt(?)))\u001b[0m\n\u001b[1;37m                                           ^\u001b[0m\n\u001b[1;31mSyntaxError\u001b[0m\u001b[1;31m:\u001b[0m invalid syntax\n"
     ]
    }
   ],
   "source": [
    "# Calculate the 95% CI calculation\n",
    "# lower bound\n",
    "print(\"Lower bound = \" + str(mean_BP - ? * ?/np.sqrt(?)))\n",
    "# upper bound\n",
    "print(\"Upper bound = \" + str(mean_BP + ? * ?/np.sqrt(?)))"
   ]
  },
  {
   "cell_type": "code",
   "execution_count": 11,
   "id": "7af35fa5-d618-4188-91b1-0528908f9d28",
   "metadata": {},
   "outputs": [
    {
     "ename": "SyntaxError",
     "evalue": "invalid syntax (3462429309.py, line 4)",
     "output_type": "error",
     "traceback": [
      "\u001b[1;36m  Input \u001b[1;32mIn [11]\u001b[1;36m\u001b[0m\n\u001b[1;33m    CI_BPz=sm.stats.weightstats._zconfint_generic(?,?/np.sqrt(?),?,alternative='two-sided')\u001b[0m\n\u001b[1;37m                                                  ^\u001b[0m\n\u001b[1;31mSyntaxError\u001b[0m\u001b[1;31m:\u001b[0m invalid syntax\n"
     ]
    }
   ],
   "source": [
    "# check with python conmputing\n",
    "import statsmodels as sm\n",
    "# statsmodels.stats.weightstats._zconfint_generic(mean,std_mean(standard error),alpha,alternative)\n",
    "CI_BPz=sm.stats.weightstats._zconfint_generic(?,?/np.sqrt(?),?,alternative='two-sided')\n",
    "print (\"The 95% CI is = \" + str(CI_BPz))"
   ]
  },
  {
   "cell_type": "markdown",
   "id": "51706b2d-65f1-4b3b-bcbe-86834d874945",
   "metadata": {},
   "source": [
    "# Confidence Interval for Mean of One Sample and Unknown Population Standard Deviation\n",
    "Let's estimate the mean boiling temperature of a special liquid, in degrees Celsius. We now do not know the population mean or standard deviation, and so will estimate the from the sample."
   ]
  },
  {
   "cell_type": "markdown",
   "id": "moderate-pilot",
   "metadata": {},
   "source": [
    "We will calculate the 95% confidence intervals for the true mean using our sampled data. In cases where we want to estimate the true population mean and are estimating the standard deviation using the sample standard deviation we have to use the t-distribution to calculate our confidence intervals.\n",
    "\n",
    "The confidence interval for the true mean for unknown standard deviation: \\\n",
    "$\\bar{x} - \\frac{c_t*s}{\\sqrt(n)} <= \\mu <=  \\bar{x} - \\frac{c_t*s}{\\sqrt(n)}$.\n",
    "\n",
    "where $\\bar{x}$ is the sample mean \\\n",
    "where $c_t$ is the critical value of t using the t probability distribution at a certain confidence level \\\n",
    "where s is the sample standrd deviation \\\n",
    "where n is the sample size \n",
    "\n",
    "This is true when the distribution is normal.  For large sample sizes from other population distributions, the confidnece interval is approximately corrected by the Central Limit Theorem (the CLT causes the sampling dstribution of the samples means from any dsirtbution to be normally approximated, at a sufficiently large sample size).\n",
    "\n",
    "The t-distribution is described by the degrees of freedom. For a sample of size n, the t distribution will have n-1 degrees of freedom.  As sample size increases and the dof increase, the t distribution becomes approximately normal."
   ]
  },
  {
   "cell_type": "markdown",
   "id": "17103ade-2521-47be-b83d-9091a993eefb",
   "metadata": {},
   "source": [
    "# Boiling point example\n",
    "Let's estimate the mean boiling temperature of a special liquid, in degrees Celsius.  We do not know the mean of the population and we do not know the standard deviation of the population, $\\sigma$=unknown.  We select a sample of sample size=n and find the sample mean =  $\\bar{x}$ and the sample standard devation = s."
   ]
  },
  {
   "cell_type": "code",
   "execution_count": 12,
   "id": "29ceb97c-b680-4827-9be6-85ee62052ba9",
   "metadata": {},
   "outputs": [
    {
     "ename": "NameError",
     "evalue": "name 'mean_BP' is not defined",
     "output_type": "error",
     "traceback": [
      "\u001b[1;31m---------------------------------------------------------------------------\u001b[0m",
      "\u001b[1;31mNameError\u001b[0m                                 Traceback (most recent call last)",
      "Input \u001b[1;32mIn [12]\u001b[0m, in \u001b[0;36m<cell line: 4>\u001b[1;34m()\u001b[0m\n\u001b[0;32m      2\u001b[0m data_BP\u001b[38;5;241m=\u001b[39mnp\u001b[38;5;241m.\u001b[39marray([\u001b[38;5;241m102.5\u001b[39m,\u001b[38;5;241m101.7\u001b[39m,\u001b[38;5;241m103.1\u001b[39m,\u001b[38;5;241m100.9\u001b[39m,\u001b[38;5;241m100.5\u001b[39m,\u001b[38;5;241m102.2\u001b[39m])\n\u001b[0;32m      3\u001b[0m \u001b[38;5;66;03m#Find sample mean\u001b[39;00m\n\u001b[1;32m----> 4\u001b[0m \u001b[38;5;28mprint\u001b[39m(\u001b[38;5;124m\"\u001b[39m\u001b[38;5;124mSample mean = \u001b[39m\u001b[38;5;124m\"\u001b[39m \u001b[38;5;241m+\u001b[39m \u001b[38;5;28mstr\u001b[39m(\u001b[43mmean_BP\u001b[49m))\n\u001b[0;32m      5\u001b[0m \u001b[38;5;66;03m#find sample standard deviation\u001b[39;00m\n\u001b[0;32m      6\u001b[0m \u001b[38;5;28mprint\u001b[39m(\u001b[38;5;124m\"\u001b[39m\u001b[38;5;124mSample std = \u001b[39m\u001b[38;5;124m\"\u001b[39m \u001b[38;5;241m+\u001b[39m \u001b[38;5;28mstr\u001b[39m(std_BP))\n",
      "\u001b[1;31mNameError\u001b[0m: name 'mean_BP' is not defined"
     ]
    }
   ],
   "source": [
    "# n = 6 samples\n",
    "data_BP=np.array([102.5,101.7,103.1,100.9,100.5,102.2])\n",
    "#Find sample mean\n",
    "print(\"Sample mean = \" + str(mean_BP))\n",
    "#find sample standard deviation\n",
    "print(\"Sample std = \" + str(std_BP))\n",
    "#find sample SEM\n",
    "print(\"SEM = \" + str(std_BP/np.sqrt(6)))"
   ]
  },
  {
   "cell_type": "markdown",
   "id": "cba18e70-1858-4dfb-be92-8b7e7a0273f4",
   "metadata": {},
   "source": [
    "Let's first calculate the $c_t$ values. The degrees of freedom is = n-1 for the t distribution.  You can find this on the t-table or this can be done using the [scipy.stats t library](https://docs.scipy.org/doc/scipy/reference/generated/scipy.stats.t.html)."
   ]
  },
  {
   "cell_type": "code",
   "execution_count": 13,
   "id": "a0e6581c-331a-49d2-a486-28a7205be5f2",
   "metadata": {},
   "outputs": [
    {
     "ename": "SyntaxError",
     "evalue": "invalid syntax (1664208565.py, line 2)",
     "output_type": "error",
     "traceback": [
      "\u001b[1;36m  Input \u001b[1;32mIn [13]\u001b[1;36m\u001b[0m\n\u001b[1;33m    ct = t.ppf(?,df=?)\u001b[0m\n\u001b[1;37m               ^\u001b[0m\n\u001b[1;31mSyntaxError\u001b[0m\u001b[1;31m:\u001b[0m invalid syntax\n"
     ]
    }
   ],
   "source": [
    "from scipy.stats import t\n",
    "ct = t.ppf(?,df=?)\n",
    "print(\"Critical value of t = \" + str(ct))"
   ]
  },
  {
   "cell_type": "code",
   "execution_count": 14,
   "id": "8fc00013-8b6a-4a4b-b093-bb2f924e849a",
   "metadata": {},
   "outputs": [
    {
     "ename": "SyntaxError",
     "evalue": "invalid syntax (3437874173.py, line 6)",
     "output_type": "error",
     "traceback": [
      "\u001b[1;36m  Input \u001b[1;32mIn [14]\u001b[1;36m\u001b[0m\n\u001b[1;33m    ax=plt.fill_between(x_B,t_B, where=(x_B <?),color='r',alpha=.9)\u001b[0m\n\u001b[1;37m                                             ^\u001b[0m\n\u001b[1;31mSyntaxError\u001b[0m\u001b[1;31m:\u001b[0m invalid syntax\n"
     ]
    }
   ],
   "source": [
    "# Let's see these critical t values\n",
    "\n",
    "x_B = np.arange(-4,4,.01)\n",
    "t_B=t.pdf(x_B,5)\n",
    "ax=sns.lineplot(x=x_B,y=t_B)\n",
    "ax=plt.fill_between(x_B,t_B, where=(x_B <?),color='r',alpha=.9)\n",
    "ax=plt.fill_between(x_B,t_B, where=(x_B >?),color='r',alpha=.9)\n",
    "plt.xlabel(\"upper and lower tail for probability=0.025\")\n",
    "plt.title(\"t Distribution with dof=5\")"
   ]
  },
  {
   "cell_type": "markdown",
   "id": "5978f1a2-d600-441e-b269-c70c984f68ae",
   "metadata": {},
   "source": [
    "# Find the 95% CI of the mean"
   ]
  },
  {
   "cell_type": "code",
   "execution_count": 15,
   "id": "3ac9bf80-b2a2-4741-9f8d-48b559178c5e",
   "metadata": {},
   "outputs": [
    {
     "ename": "SyntaxError",
     "evalue": "invalid syntax (2924009856.py, line 1)",
     "output_type": "error",
     "traceback": [
      "\u001b[1;36m  Input \u001b[1;32mIn [15]\u001b[1;36m\u001b[0m\n\u001b[1;33m    LB = ?-ct*?/np.sqrt(?)\u001b[0m\n\u001b[1;37m         ^\u001b[0m\n\u001b[1;31mSyntaxError\u001b[0m\u001b[1;31m:\u001b[0m invalid syntax\n"
     ]
    }
   ],
   "source": [
    "LB = ?-ct*?/np.sqrt(?)\n",
    "UB = ?+ct*?/np.sqrt(?)\n",
    "print(str(LB) + \" <= true mean= <= \" +str(UB))"
   ]
  },
  {
   "cell_type": "code",
   "execution_count": 16,
   "id": "e300f62d-d35d-4b39-838d-4787ed959cfa",
   "metadata": {},
   "outputs": [
    {
     "ename": "SyntaxError",
     "evalue": "invalid syntax (674352205.py, line 3)",
     "output_type": "error",
     "traceback": [
      "\u001b[1;36m  Input \u001b[1;32mIn [16]\u001b[1;36m\u001b[0m\n\u001b[1;33m    CI_t=sm.stats.weightstats._tconfint_generic(?,?/np.sqrt(?),?,?,alternative='two-sided')\u001b[0m\n\u001b[1;37m                                                ^\u001b[0m\n\u001b[1;31mSyntaxError\u001b[0m\u001b[1;31m:\u001b[0m invalid syntax\n"
     ]
    }
   ],
   "source": [
    "# check with python computing\n",
    "# statsmodels.stats.weightstats._tconfint_generic(mean,std_mean(standard error),dof,alpha,alternative)\n",
    "CI_t=sm.stats.weightstats._tconfint_generic(?,?/np.sqrt(?),?,?,alternative='two-sided')\n",
    "print(\"95% CI = \" + str(CI_t))"
   ]
  },
  {
   "cell_type": "markdown",
   "id": "tutorial-prevention",
   "metadata": {},
   "source": [
    "This 95% confidence interval we generated using our sample provides us with an estimated range of of values which we are confident contain the true mean of boiling point.  We are confident (at the 95% confidence level) that of all 95% confidence levels computed with this data, 95% of them would contain the true mean boing point.  \n",
    "\n",
    "The confidence level puts represents the long-run proportion of corresponsing CIs that contain the true population mean. \n",
    "\n",
    "Since we are calculating a 95% confidence interval, if we were to repeat this process 20 times and calculate the confidence intervals for all of those times, we would expect 19 of the confidence interval ranges to contain the true mean.  Or 0.05 * 20=1 on average would be intervals not covering the true mean.\n",
    "\n",
    "If we were to repeat this process 100 times...."
   ]
  },
  {
   "cell_type": "code",
   "execution_count": null,
   "id": "a59d1967-20a6-476c-9f80-50c99071a9ef",
   "metadata": {},
   "outputs": [],
   "source": []
  },
  {
   "cell_type": "code",
   "execution_count": null,
   "id": "f02cc628-bdbc-46d6-b08e-c4416783db00",
   "metadata": {},
   "outputs": [],
   "source": []
  },
  {
   "cell_type": "markdown",
   "id": "dfee6725-8637-4dac-b6d2-9bd9e2e68d50",
   "metadata": {},
   "source": [
    "# One sample t-test\n",
    "\n",
    "Let's find the probability that the BP is different than a value of 104.  This is a one-sample t-test. "
   ]
  },
  {
   "cell_type": "code",
   "execution_count": null,
   "id": "b1f30e6b-5e58-4dd3-8281-0cb8b51d73b3",
   "metadata": {},
   "outputs": [],
   "source": []
  },
  {
   "cell_type": "code",
   "execution_count": null,
   "id": "bedd5cb7-4e8c-45b2-9c27-81bf5c5bd1bf",
   "metadata": {},
   "outputs": [],
   "source": []
  }
 ],
 "metadata": {
  "kernelspec": {
   "display_name": "Python 3 (ipykernel)",
   "language": "python",
   "name": "python3"
  },
  "language_info": {
   "codemirror_mode": {
    "name": "ipython",
    "version": 3
   },
   "file_extension": ".py",
   "mimetype": "text/x-python",
   "name": "python",
   "nbconvert_exporter": "python",
   "pygments_lexer": "ipython3",
   "version": "3.9.13"
  }
 },
 "nbformat": 4,
 "nbformat_minor": 5
}
