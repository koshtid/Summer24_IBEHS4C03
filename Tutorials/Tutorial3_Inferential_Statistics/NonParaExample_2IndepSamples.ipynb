{
 "cells": [
  {
   "cell_type": "code",
   "execution_count": 1,
   "id": "b983a835-38ef-44ea-998c-58cb98aa7a70",
   "metadata": {},
   "outputs": [
    {
     "name": "stdin",
     "output_type": "stream",
     "text": [
      "Once deleted, variables cannot be recovered. Proceed (y/[n])?  y\n"
     ]
    }
   ],
   "source": [
    "%reset\n",
    "import numpy as np\n",
    "import pandas as pd\n",
    "import matplotlib.pyplot as plt\n",
    "import seaborn as sns\n",
    "import scipy\n",
    "from scipy import stats\n",
    "from scipy.stats import norm\n",
    "import statsmodels.api as sm"
   ]
  },
  {
   "cell_type": "markdown",
   "id": "372a1eaa-8d02-443b-9b4f-f4d9d963e46d",
   "metadata": {},
   "source": [
    "# Non-parametric independent samples test"
   ]
  },
  {
   "cell_type": "markdown",
   "id": "4714ed48-f345-4e56-bef2-f20059e3dd29",
   "metadata": {},
   "source": [
    "A clinical trial is run to assess the effectiveness of a new anti-retroviral therapy for patients with HIV. Patients are randomized to receive a standard anti-retroviral therapy (usual care) or the new anti-retroviral therapy and are monitored for 3 months. The primary outcome is viral load which represents the number of HIV copies per milliliter of blood. A total of 30 participants are randomized and the data are shown below.\n",
    "\n",
    "Standard Therapy Viral Load = ST   \n",
    "New Therapy Viral Load = NT"
   ]
  },
  {
   "cell_type": "code",
   "execution_count": 45,
   "id": "ee2e4bfc-35a0-456a-8c06-2895c3ca5b99",
   "metadata": {},
   "outputs": [
    {
     "data": {
      "text/html": [
       "<div>\n",
       "<style scoped>\n",
       "    .dataframe tbody tr th:only-of-type {\n",
       "        vertical-align: middle;\n",
       "    }\n",
       "\n",
       "    .dataframe tbody tr th {\n",
       "        vertical-align: top;\n",
       "    }\n",
       "\n",
       "    .dataframe thead th {\n",
       "        text-align: right;\n",
       "    }\n",
       "</style>\n",
       "<table border=\"1\" class=\"dataframe\">\n",
       "  <thead>\n",
       "    <tr style=\"text-align: right;\">\n",
       "      <th></th>\n",
       "      <th>ST</th>\n",
       "      <th>NT</th>\n",
       "    </tr>\n",
       "  </thead>\n",
       "  <tbody>\n",
       "    <tr>\n",
       "      <th>0</th>\n",
       "      <td>7500</td>\n",
       "      <td>400</td>\n",
       "    </tr>\n",
       "    <tr>\n",
       "      <th>1</th>\n",
       "      <td>8000</td>\n",
       "      <td>250</td>\n",
       "    </tr>\n",
       "    <tr>\n",
       "      <th>2</th>\n",
       "      <td>2000</td>\n",
       "      <td>800</td>\n",
       "    </tr>\n",
       "    <tr>\n",
       "      <th>3</th>\n",
       "      <td>550</td>\n",
       "      <td>1400</td>\n",
       "    </tr>\n",
       "    <tr>\n",
       "      <th>4</th>\n",
       "      <td>1250</td>\n",
       "      <td>8000</td>\n",
       "    </tr>\n",
       "    <tr>\n",
       "      <th>5</th>\n",
       "      <td>1000</td>\n",
       "      <td>7400</td>\n",
       "    </tr>\n",
       "    <tr>\n",
       "      <th>6</th>\n",
       "      <td>2250</td>\n",
       "      <td>1020</td>\n",
       "    </tr>\n",
       "    <tr>\n",
       "      <th>7</th>\n",
       "      <td>6800</td>\n",
       "      <td>6000</td>\n",
       "    </tr>\n",
       "    <tr>\n",
       "      <th>8</th>\n",
       "      <td>3400</td>\n",
       "      <td>920</td>\n",
       "    </tr>\n",
       "    <tr>\n",
       "      <th>9</th>\n",
       "      <td>6300</td>\n",
       "      <td>1420</td>\n",
       "    </tr>\n",
       "    <tr>\n",
       "      <th>10</th>\n",
       "      <td>9100</td>\n",
       "      <td>2700</td>\n",
       "    </tr>\n",
       "    <tr>\n",
       "      <th>11</th>\n",
       "      <td>970</td>\n",
       "      <td>4200</td>\n",
       "    </tr>\n",
       "    <tr>\n",
       "      <th>12</th>\n",
       "      <td>1040</td>\n",
       "      <td>5200</td>\n",
       "    </tr>\n",
       "    <tr>\n",
       "      <th>13</th>\n",
       "      <td>670</td>\n",
       "      <td>4100</td>\n",
       "    </tr>\n",
       "    <tr>\n",
       "      <th>14</th>\n",
       "      <td>400</td>\n",
       "      <td>1</td>\n",
       "    </tr>\n",
       "  </tbody>\n",
       "</table>\n",
       "</div>"
      ],
      "text/plain": [
       "      ST    NT\n",
       "0   7500   400\n",
       "1   8000   250\n",
       "2   2000   800\n",
       "3    550  1400\n",
       "4   1250  8000\n",
       "5   1000  7400\n",
       "6   2250  1020\n",
       "7   6800  6000\n",
       "8   3400   920\n",
       "9   6300  1420\n",
       "10  9100  2700\n",
       "11   970  4200\n",
       "12  1040  5200\n",
       "13   670  4100\n",
       "14   400     1"
      ]
     },
     "execution_count": 45,
     "metadata": {},
     "output_type": "execute_result"
    }
   ],
   "source": [
    "ST=pd.Series([7500,8000,2000,550,1250,1000,2250,6800,3400,6300,9100,970,1040,670,400],name=\"ST\")\n",
    "NT=pd.Series([400,250,800,1400,8000,7400,1020,6000,920,1420,2700,4200,5200,4100,1],name=\"NT\")\n",
    "HIVDF = pd.DataFrame(ST)\n",
    "HIVDF[\"NT\"]=NT\n",
    "HIVDF"
   ]
  },
  {
   "cell_type": "markdown",
   "id": "58adac5d-6a3c-4fff-94e4-b3fd9037a1d8",
   "metadata": {},
   "source": [
    "Let's look at the data"
   ]
  },
  {
   "cell_type": "code",
   "execution_count": 46,
   "id": "f46ecf87-ad76-46f5-94b0-2e19725d1873",
   "metadata": {},
   "outputs": [
    {
     "data": {
      "text/plain": [
       "<AxesSubplot:>"
      ]
     },
     "execution_count": 46,
     "metadata": {},
     "output_type": "execute_result"
    },
    {
     "data": {
      "image/png": "[encoded data removed]",
      "text/plain": [
       "<Figure size 432x288 with 1 Axes>"
      ]
     },
     "metadata": {
      "needs_background": "light"
     },
     "output_type": "display_data"
    }
   ],
   "source": [
    "# explore the data\n",
    "sns.boxplot(data=HIVDF,showmeans=True)\n",
    "sns.swarmplot(data=HIVDF)"
   ]
  },
  {
   "cell_type": "markdown",
   "id": "399f9634-ff30-4f5d-8041-af53b6732798",
   "metadata": {},
   "source": [
    "It looks like the mean and median of ST is higher than NT, but that they are fairly equivalent.  We will run a statistical test to see if these groups are different.  Which test?  They are independent groups, so we will run a 2-sample independent test.  Are they normally distributed samples?  If they are then you could think of a Student's t-test for independent samples. If they are not then you need to think of a nonparamateric test that does not rely on the normality of the samples.  Are the samples normally distributed?  They don't look like it based on the boxplots:  the distributions both appear to be right skewed.\n",
    "We can look at qq plots or run a Shapiro-Wilks test to further decide on the normality of the distributions. "
   ]
  },
  {
   "cell_type": "code",
   "execution_count": 47,
   "id": "a11d702b-3f4c-4da6-a7da-646989babc2c",
   "metadata": {},
   "outputs": [
    {
     "data": {
      "text/plain": [
       "ShapiroResult(statistic=0.8186454176902771, pvalue=0.006443269085139036)"
      ]
     },
     "execution_count": 47,
     "metadata": {},
     "output_type": "execute_result"
    }
   ],
   "source": [
    "stats.shapiro(ST)"
   ]
  },
  {
   "cell_type": "code",
   "execution_count": 48,
   "id": "a6384174-c765-494e-b396-4995794035f6",
   "metadata": {},
   "outputs": [
    {
     "data": {
      "text/plain": [
       "ShapiroResult(statistic=0.8781939148902893, pvalue=0.04459455981850624)"
      ]
     },
     "execution_count": 48,
     "metadata": {},
     "output_type": "execute_result"
    }
   ],
   "source": [
    "stats.shapiro(NT)"
   ]
  },
  {
   "cell_type": "code",
   "execution_count": 49,
   "id": "5c1bc810-7110-4738-8b9d-bae86e211ff2",
   "metadata": {},
   "outputs": [
    {
     "data": {
      "image/png": "[encoded data removed]",
      "text/plain": [
       "<Figure size 720x288 with 2 Axes>"
      ]
     },
     "metadata": {
      "needs_background": "light"
     },
     "output_type": "display_data"
    }
   ],
   "source": [
    "ST.sort_values()\n",
    "NT.sort_values()\n",
    "fig2,ax2=plt.subplots(nrows=1,ncols=2,figsize=(10,4))\n",
    "sm.qqplot(ST,line='45',loc=np.mean(ST),scale=np.std(ST,ddof=1),ax=ax2[0])\n",
    "sm.qqplot(NT,line='45',loc=np.mean(NT),scale=np.std(NT,ddof=1),ax=ax2[1])\n",
    "plt.show()"
   ]
  },
  {
   "cell_type": "markdown",
   "id": "1384305a-b10c-4d7b-ac41-c5c3bf3107af",
   "metadata": {},
   "source": [
    "From the looks of the qq plots (the deviation from the data points to the diagonal line) and the results of the normality Shapiro-Wilks tests (p-value <0.05 therfore rejecting the null hypothesis that the the data is normal), we decide that the data are not normal, and therfore want to use a Nonparametric test.\n",
    "\n",
    "Set up hypothesis and determine significance level:\n",
    "\n",
    "H$_{0}$ = The two population distributions are equal  \n",
    "H$_{1}$ = The two population distributions are not equal\n",
    "\n",
    "alpha = 0.05\n",
    "\n",
    "Then run the appropriate test:  The Wilcoxon Rank Sum Test = Mann-Whitney U test"
   ]
  },
  {
   "cell_type": "code",
   "execution_count": 62,
   "id": "8cdaa667-6c85-4d2e-932f-e9fff2798a8b",
   "metadata": {},
   "outputs": [
    {
     "data": {
      "text/plain": [
       "MannwhitneyuResult(statistic=100.0, pvalue=0.6040458254801915)"
      ]
     },
     "execution_count": 62,
     "metadata": {},
     "output_type": "execute_result"
    }
   ],
   "source": [
    "stats.mannwhitneyu(NT,ST,use_continuity=False,method='auto')"
   ]
  },
  {
   "cell_type": "markdown",
   "id": "d12ba59a-c99c-4579-b355-8a67a316e3b4",
   "metadata": {},
   "source": [
    "To do this by hand:"
   ]
  },
  {
   "cell_type": "markdown",
   "id": "7dc52263-720e-495c-8b38-76eab6491d97",
   "metadata": {},
   "source": [
    "Set up the hypothesis:  \\\n",
    "H0:  the distributions of the populations from which the samples were drawn are equal.  In general, we can state that this is showing a difference in the medians of the samples. \\\n",
    "HA: the distributions are not equal.\n",
    "\n",
    "alpha=0.05"
   ]
  },
  {
   "cell_type": "markdown",
   "id": "6ebe5cfd-889b-48ab-ae40-7e4a91acec05",
   "metadata": {},
   "source": [
    "First, sort then rank all of the sample together.  For ties, assign a rank equal to the midpoint of the unadjusted rankings."
   ]
  },
  {
   "cell_type": "code",
   "execution_count": 53,
   "id": "67962058-fc0c-498a-a72a-67c060d00e83",
   "metadata": {},
   "outputs": [
    {
     "data": {
      "text/html": [
       "<div>\n",
       "<style scoped>\n",
       "    .dataframe tbody tr th:only-of-type {\n",
       "        vertical-align: middle;\n",
       "    }\n",
       "\n",
       "    .dataframe tbody tr th {\n",
       "        vertical-align: top;\n",
       "    }\n",
       "\n",
       "    .dataframe thead th {\n",
       "        text-align: right;\n",
       "    }\n",
       "</style>\n",
       "<table border=\"1\" class=\"dataframe\">\n",
       "  <thead>\n",
       "    <tr style=\"text-align: right;\">\n",
       "      <th></th>\n",
       "      <th>0</th>\n",
       "      <th>1</th>\n",
       "      <th>2</th>\n",
       "      <th>3</th>\n",
       "      <th>4</th>\n",
       "      <th>5</th>\n",
       "      <th>6</th>\n",
       "      <th>7</th>\n",
       "      <th>8</th>\n",
       "      <th>9</th>\n",
       "      <th>10</th>\n",
       "      <th>11</th>\n",
       "      <th>12</th>\n",
       "      <th>13</th>\n",
       "      <th>14</th>\n",
       "    </tr>\n",
       "  </thead>\n",
       "  <tbody>\n",
       "    <tr>\n",
       "      <th>0</th>\n",
       "      <td>400</td>\n",
       "      <td>550</td>\n",
       "      <td>670</td>\n",
       "      <td>970</td>\n",
       "      <td>1000</td>\n",
       "      <td>1040</td>\n",
       "      <td>1250</td>\n",
       "      <td>2000</td>\n",
       "      <td>2250</td>\n",
       "      <td>3400</td>\n",
       "      <td>6300</td>\n",
       "      <td>6800</td>\n",
       "      <td>7500</td>\n",
       "      <td>8000</td>\n",
       "      <td>9100</td>\n",
       "    </tr>\n",
       "    <tr>\n",
       "      <th>1</th>\n",
       "      <td>1</td>\n",
       "      <td>250</td>\n",
       "      <td>400</td>\n",
       "      <td>800</td>\n",
       "      <td>920</td>\n",
       "      <td>1020</td>\n",
       "      <td>1400</td>\n",
       "      <td>1420</td>\n",
       "      <td>2700</td>\n",
       "      <td>4100</td>\n",
       "      <td>4200</td>\n",
       "      <td>5200</td>\n",
       "      <td>6000</td>\n",
       "      <td>7400</td>\n",
       "      <td>8000</td>\n",
       "    </tr>\n",
       "  </tbody>\n",
       "</table>\n",
       "</div>"
      ],
      "text/plain": [
       "    0    1    2    3     4     5     6     7     8     9     10    11    12  \\\n",
       "0  400  550  670  970  1000  1040  1250  2000  2250  3400  6300  6800  7500   \n",
       "1    1  250  400  800   920  1020  1400  1420  2700  4100  4200  5200  6000   \n",
       "\n",
       "     13    14  \n",
       "0  8000  9100  \n",
       "1  7400  8000  "
      ]
     },
     "execution_count": 53,
     "metadata": {},
     "output_type": "execute_result"
    }
   ],
   "source": [
    "Rankssorted=pd.DataFrame([[400,550,670,970,1000,1040,1250,2000,2250,3400,6300,6800,7500,8000,9100],[1,250,400,800,920,1020,1400,1420,2700,4100,4200,5200,6000,7400,8000]])\n",
    "Rankssorted"
   ]
  },
  {
   "cell_type": "code",
   "execution_count": 63,
   "id": "25b168e3-5cb8-4f08-a601-62ef6cafbc74",
   "metadata": {},
   "outputs": [
    {
     "data": {
      "text/html": [
       "<div>\n",
       "<style scoped>\n",
       "    .dataframe tbody tr th:only-of-type {\n",
       "        vertical-align: middle;\n",
       "    }\n",
       "\n",
       "    .dataframe tbody tr th {\n",
       "        vertical-align: top;\n",
       "    }\n",
       "\n",
       "    .dataframe thead th {\n",
       "        text-align: right;\n",
       "    }\n",
       "</style>\n",
       "<table border=\"1\" class=\"dataframe\">\n",
       "  <thead>\n",
       "    <tr style=\"text-align: right;\">\n",
       "      <th></th>\n",
       "      <th>0</th>\n",
       "      <th>1</th>\n",
       "      <th>2</th>\n",
       "      <th>3</th>\n",
       "      <th>4</th>\n",
       "      <th>5</th>\n",
       "      <th>6</th>\n",
       "      <th>7</th>\n",
       "      <th>8</th>\n",
       "      <th>9</th>\n",
       "      <th>...</th>\n",
       "      <th>18</th>\n",
       "      <th>19</th>\n",
       "      <th>20</th>\n",
       "      <th>21</th>\n",
       "      <th>22</th>\n",
       "      <th>23</th>\n",
       "      <th>24</th>\n",
       "      <th>25</th>\n",
       "      <th>26</th>\n",
       "      <th>27</th>\n",
       "    </tr>\n",
       "  </thead>\n",
       "  <tbody>\n",
       "    <tr>\n",
       "      <th>0</th>\n",
       "      <td>0</td>\n",
       "      <td>0</td>\n",
       "      <td>3.5</td>\n",
       "      <td>5</td>\n",
       "      <td>6</td>\n",
       "      <td>0</td>\n",
       "      <td>0</td>\n",
       "      <td>9</td>\n",
       "      <td>10</td>\n",
       "      <td>0</td>\n",
       "      <td>...</td>\n",
       "      <td>0</td>\n",
       "      <td>0</td>\n",
       "      <td>0</td>\n",
       "      <td>0</td>\n",
       "      <td>24</td>\n",
       "      <td>25</td>\n",
       "      <td>0</td>\n",
       "      <td>27</td>\n",
       "      <td>28.5</td>\n",
       "      <td>30</td>\n",
       "    </tr>\n",
       "    <tr>\n",
       "      <th>1</th>\n",
       "      <td>1</td>\n",
       "      <td>2</td>\n",
       "      <td>3.5</td>\n",
       "      <td>0</td>\n",
       "      <td>0</td>\n",
       "      <td>7</td>\n",
       "      <td>8</td>\n",
       "      <td>0</td>\n",
       "      <td>0</td>\n",
       "      <td>11</td>\n",
       "      <td>...</td>\n",
       "      <td>20</td>\n",
       "      <td>21</td>\n",
       "      <td>22</td>\n",
       "      <td>23</td>\n",
       "      <td>0</td>\n",
       "      <td>0</td>\n",
       "      <td>26</td>\n",
       "      <td>0</td>\n",
       "      <td>28.5</td>\n",
       "      <td>0</td>\n",
       "    </tr>\n",
       "  </tbody>\n",
       "</table>\n",
       "<p>2 rows × 28 columns</p>\n",
       "</div>"
      ],
      "text/plain": [
       "   0   1    2   3   4   5   6   7   8   9   ...  18  19  20  21  22  23  24  \\\n",
       "0   0   0  3.5   5   6   0   0   9  10   0  ...   0   0   0   0  24  25   0   \n",
       "1   1   2  3.5   0   0   7   8   0   0  11  ...  20  21  22  23   0   0  26   \n",
       "\n",
       "   25    26  27  \n",
       "0  27  28.5  30  \n",
       "1   0  28.5   0  \n",
       "\n",
       "[2 rows x 28 columns]"
      ]
     },
     "execution_count": 63,
     "metadata": {},
     "output_type": "execute_result"
    }
   ],
   "source": [
    "Ranksranked=pd.DataFrame([[0,0,3.5,5,6,0,0,9,10,0,12,13,0,0,16,17,0,19,0,0,0,0,24,25,0,27,28.5,30],[1,2,3.5,0,0,7,8,0,0,11,0,0,14,15,0,0,18,0,20,21,22,23,0,0,26,0,28.5,0]])\n",
    "Ranksranked"
   ]
  },
  {
   "cell_type": "markdown",
   "id": "549c9b9f-c094-4d46-a760-5c3a353aa487",
   "metadata": {},
   "source": [
    "sum the ranks:  ST = 245; NT=220"
   ]
  },
  {
   "cell_type": "markdown",
   "id": "d5e99c88-a39b-4745-a95b-647118c1c387",
   "metadata": {},
   "source": [
    "Calculate the test statistic U: \\\n",
    "U1 = n1n2 +0.5n1(n1 +1)−R1 \\\n",
    "U2= n1n2 +0.5n2 (n2 +1)− R2"
   ]
  },
  {
   "cell_type": "code",
   "execution_count": 64,
   "id": "a2431746-136f-492f-b3fd-c68567bc57e3",
   "metadata": {},
   "outputs": [
    {
     "name": "stdout",
     "output_type": "stream",
     "text": [
      "100.0\n",
      "125.0\n"
     ]
    }
   ],
   "source": [
    "U1=15*15+0.5*15*(16)-245\n",
    "U2=15*15+0.5*15*(16)-220\n",
    "print(U1)\n",
    "print(U2)"
   ]
  },
  {
   "cell_type": "markdown",
   "id": "af897807-2734-4e56-8c04-6b022cd18923",
   "metadata": {},
   "source": [
    "Use the smaller U value to compare with the critical U value at n1=15 and n2=15 at two-sided significance level=0.05.  Look this up on the critical U table:  Critical U=64. \\\n",
    "\n",
    "Decision rule is that we reject the null hypothesis if U<= 64.\n",
    "\n",
    "We fail to reject the null hypothesis because 100 is not less than or equal to 64. To be significant, the calculated test statistic U has to be equal to or less than the critical value.  We have shown that the populations of the viral loads are not statistically different.  "
   ]
  },
  {
   "cell_type": "code",
   "execution_count": null,
   "id": "9596cec9-dddb-45a7-bba9-5e0b8403e5ac",
   "metadata": {},
   "outputs": [],
   "source": []
  },
  {
   "cell_type": "code",
   "execution_count": null,
   "id": "72224ebd-0b8d-4c53-a0f6-a1e8c6647415",
   "metadata": {},
   "outputs": [],
   "source": []
  }
 ],
 "metadata": {
  "kernelspec": {
   "display_name": "Python 3 (ipykernel)",
   "language": "python",
   "name": "python3"
  },
  "language_info": {
   "codemirror_mode": {
    "name": "ipython",
    "version": 3
   },
   "file_extension": ".py",
   "mimetype": "text/x-python",
   "name": "python",
   "nbconvert_exporter": "python",
   "pygments_lexer": "ipython3",
   "version": "3.9.12"
  }
 },
 "nbformat": 4,
 "nbformat_minor": 5
}
