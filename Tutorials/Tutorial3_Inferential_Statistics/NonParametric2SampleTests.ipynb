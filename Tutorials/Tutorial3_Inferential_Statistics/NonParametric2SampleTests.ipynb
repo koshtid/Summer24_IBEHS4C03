{
 "cells": [
  {
   "cell_type": "code",
   "execution_count": 2,
   "id": "b983a835-38ef-44ea-998c-58cb98aa7a70",
   "metadata": {},
   "outputs": [
    {
     "name": "stdin",
     "output_type": "stream",
     "text": [
      "Once deleted, variables cannot be recovered. Proceed (y/[n])?  y\n"
     ]
    }
   ],
   "source": [
    "%reset\n",
    "import numpy as np\n",
    "import pandas as pd\n",
    "import matplotlib.pyplot as plt\n",
    "import seaborn as sns\n",
    "import scipy\n",
    "from scipy import stats\n",
    "from scipy.stats import norm\n",
    "import statsmodels.api as sm"
   ]
  },
  {
   "cell_type": "markdown",
   "id": "372a1eaa-8d02-443b-9b4f-f4d9d963e46d",
   "metadata": {},
   "source": [
    "# Non-parametric independent samples test"
   ]
  },
  {
   "cell_type": "markdown",
   "id": "4714ed48-f345-4e56-bef2-f20059e3dd29",
   "metadata": {},
   "source": [
    "The effectiveness of advertising for two products (Brand X and Brand Y) was compared. Market research at a local shopping centre was carried out, with the participants being shown an advertizment for two brands of coffee, which they then rated on the overall likelihood of them buying the product (out of 10, with 10 being \"definitely going to buy the product\"). Half of the participants gave ratings for one of the products, the other half gave ratings for the other product. The data are a follows:"
   ]
  },
  {
   "cell_type": "code",
   "execution_count": 3,
   "id": "ee2e4bfc-35a0-456a-8c06-2895c3ca5b99",
   "metadata": {},
   "outputs": [],
   "source": [
    "BrandX=pd.Series([8,7,6,2,5,8,7,3])\n",
    "BrandY=pd.Series([9,9,7,8,10,8,6])"
   ]
  },
  {
   "cell_type": "markdown",
   "id": "58adac5d-6a3c-4fff-94e4-b3fd9037a1d8",
   "metadata": {},
   "source": [
    "This data is ordinal and we are unceratin about the use of a parametric test of mean, so decide to use a Mann Whitney U test to test if the distribution are the same in the population.\n",
    "\n",
    "Is there statistical evidence of a difference in ratings between the Brands?  "
   ]
  },
  {
   "cell_type": "code",
   "execution_count": 4,
   "id": "f46ecf87-ad76-46f5-94b0-2e19725d1873",
   "metadata": {},
   "outputs": [
    {
     "ename": "TypeError",
     "evalue": "object of type 'NoneType' has no len()",
     "output_type": "error",
     "traceback": [
      "\u001b[1;31m---------------------------------------------------------------------------\u001b[0m",
      "\u001b[1;31mTypeError\u001b[0m                                 Traceback (most recent call last)",
      "\u001b[1;32m~\\AppData\\Local\\Temp\\ipykernel_58080\\3548094136.py\u001b[0m in \u001b[0;36m<module>\u001b[1;34m\u001b[0m\n\u001b[0;32m      1\u001b[0m \u001b[1;31m# explore the data\u001b[0m\u001b[1;33m\u001b[0m\u001b[1;33m\u001b[0m\u001b[0m\n\u001b[0;32m      2\u001b[0m \u001b[0msns\u001b[0m\u001b[1;33m.\u001b[0m\u001b[0mboxplot\u001b[0m\u001b[1;33m(\u001b[0m\u001b[0mdata\u001b[0m\u001b[1;33m=\u001b[0m\u001b[1;33m[\u001b[0m\u001b[0mBrandX\u001b[0m\u001b[1;33m,\u001b[0m\u001b[0mBrandY\u001b[0m\u001b[1;33m]\u001b[0m\u001b[1;33m,\u001b[0m\u001b[0mshowmeans\u001b[0m\u001b[1;33m=\u001b[0m\u001b[1;32mTrue\u001b[0m\u001b[1;33m)\u001b[0m\u001b[1;33m\u001b[0m\u001b[1;33m\u001b[0m\u001b[0m\n\u001b[1;32m----> 3\u001b[1;33m \u001b[0msns\u001b[0m\u001b[1;33m.\u001b[0m\u001b[0mswarmplot\u001b[0m\u001b[1;33m(\u001b[0m\u001b[0mdata\u001b[0m\u001b[1;33m=\u001b[0m\u001b[1;33m[\u001b[0m\u001b[0mBrandX\u001b[0m\u001b[1;33m,\u001b[0m\u001b[0mBrandY\u001b[0m\u001b[1;33m]\u001b[0m\u001b[1;33m)\u001b[0m\u001b[1;33m\u001b[0m\u001b[1;33m\u001b[0m\u001b[0m\n\u001b[0m",
      "\u001b[1;32m~\\anaconda3\\lib\\site-packages\\seaborn\\categorical.py\u001b[0m in \u001b[0;36mswarmplot\u001b[1;34m(data, x, y, hue, order, hue_order, dodge, orient, color, palette, size, edgecolor, linewidth, hue_norm, native_scale, formatter, legend, warn_thresh, ax, **kwargs)\u001b[0m\n\u001b[0;32m   2660\u001b[0m     ))\n\u001b[0;32m   2661\u001b[0m \u001b[1;33m\u001b[0m\u001b[0m\n\u001b[1;32m-> 2662\u001b[1;33m     p.plot_swarms(\n\u001b[0m\u001b[0;32m   2663\u001b[0m         \u001b[0mdodge\u001b[0m\u001b[1;33m=\u001b[0m\u001b[0mdodge\u001b[0m\u001b[1;33m,\u001b[0m\u001b[1;33m\u001b[0m\u001b[1;33m\u001b[0m\u001b[0m\n\u001b[0;32m   2664\u001b[0m         \u001b[0mcolor\u001b[0m\u001b[1;33m=\u001b[0m\u001b[0mcolor\u001b[0m\u001b[1;33m,\u001b[0m\u001b[1;33m\u001b[0m\u001b[1;33m\u001b[0m\u001b[0m\n",
      "\u001b[1;32m~\\anaconda3\\lib\\site-packages\\seaborn\\categorical.py\u001b[0m in \u001b[0;36mplot_swarms\u001b[1;34m(self, dodge, color, edgecolor, warn_thresh, plot_kws)\u001b[0m\n\u001b[0;32m    329\u001b[0m \u001b[1;33m\u001b[0m\u001b[0m\n\u001b[0;32m    330\u001b[0m         \u001b[0mwidth\u001b[0m \u001b[1;33m=\u001b[0m \u001b[1;36m.8\u001b[0m \u001b[1;33m*\u001b[0m \u001b[0mself\u001b[0m\u001b[1;33m.\u001b[0m\u001b[0m_native_width\u001b[0m\u001b[1;33m\u001b[0m\u001b[1;33m\u001b[0m\u001b[0m\n\u001b[1;32m--> 331\u001b[1;33m         \u001b[0moffsets\u001b[0m \u001b[1;33m=\u001b[0m \u001b[0mself\u001b[0m\u001b[1;33m.\u001b[0m\u001b[0m_nested_offsets\u001b[0m\u001b[1;33m(\u001b[0m\u001b[0mwidth\u001b[0m\u001b[1;33m,\u001b[0m \u001b[0mdodge\u001b[0m\u001b[1;33m)\u001b[0m\u001b[1;33m\u001b[0m\u001b[1;33m\u001b[0m\u001b[0m\n\u001b[0m\u001b[0;32m    332\u001b[0m \u001b[1;33m\u001b[0m\u001b[0m\n\u001b[0;32m    333\u001b[0m         \u001b[0miter_vars\u001b[0m \u001b[1;33m=\u001b[0m \u001b[1;33m[\u001b[0m\u001b[0mself\u001b[0m\u001b[1;33m.\u001b[0m\u001b[0mcat_axis\u001b[0m\u001b[1;33m]\u001b[0m\u001b[1;33m\u001b[0m\u001b[1;33m\u001b[0m\u001b[0m\n",
      "\u001b[1;32m~\\anaconda3\\lib\\site-packages\\seaborn\\categorical.py\u001b[0m in \u001b[0;36m_nested_offsets\u001b[1;34m(self, width, dodge)\u001b[0m\n\u001b[0;32m    238\u001b[0m         \u001b[0moffsets\u001b[0m \u001b[1;33m=\u001b[0m \u001b[1;32mNone\u001b[0m\u001b[1;33m\u001b[0m\u001b[1;33m\u001b[0m\u001b[0m\n\u001b[0;32m    239\u001b[0m         \u001b[1;32mif\u001b[0m \u001b[1;34m\"hue\"\u001b[0m \u001b[1;32min\u001b[0m \u001b[0mself\u001b[0m\u001b[1;33m.\u001b[0m\u001b[0mvariables\u001b[0m\u001b[1;33m:\u001b[0m\u001b[1;33m\u001b[0m\u001b[1;33m\u001b[0m\u001b[0m\n\u001b[1;32m--> 240\u001b[1;33m             \u001b[0mn_levels\u001b[0m \u001b[1;33m=\u001b[0m \u001b[0mlen\u001b[0m\u001b[1;33m(\u001b[0m\u001b[0mself\u001b[0m\u001b[1;33m.\u001b[0m\u001b[0m_hue_map\u001b[0m\u001b[1;33m.\u001b[0m\u001b[0mlevels\u001b[0m\u001b[1;33m)\u001b[0m\u001b[1;33m\u001b[0m\u001b[1;33m\u001b[0m\u001b[0m\n\u001b[0m\u001b[0;32m    241\u001b[0m             \u001b[1;32mif\u001b[0m \u001b[0mdodge\u001b[0m\u001b[1;33m:\u001b[0m\u001b[1;33m\u001b[0m\u001b[1;33m\u001b[0m\u001b[0m\n\u001b[0;32m    242\u001b[0m                 \u001b[0meach_width\u001b[0m \u001b[1;33m=\u001b[0m \u001b[0mwidth\u001b[0m \u001b[1;33m/\u001b[0m \u001b[0mn_levels\u001b[0m\u001b[1;33m\u001b[0m\u001b[1;33m\u001b[0m\u001b[0m\n",
      "\u001b[1;31mTypeError\u001b[0m: object of type 'NoneType' has no len()"
     ]
    },
    {
     "data": {
      "image/png": "[encoded data removed]",
      "text/plain": [
       "<Figure size 640x480 with 1 Axes>"
      ]
     },
     "metadata": {},
     "output_type": "display_data"
    }
   ],
   "source": [
    "# explore the data\n",
    "sns.boxplot(data=[BrandX,BrandY],showmeans=True)\n",
    "sns.swarmplot(data=[BrandX,BrandY])"
   ]
  },
  {
   "cell_type": "code",
   "execution_count": null,
   "id": "8cdaa667-6c85-4d2e-932f-e9fff2798a8b",
   "metadata": {},
   "outputs": [],
   "source": [
    "stats.mannwhitneyu(BrandX,BrandY,use_continuity=False,method='auto')"
   ]
  },
  {
   "cell_type": "markdown",
   "id": "7dc52263-720e-495c-8b38-76eab6491d97",
   "metadata": {},
   "source": [
    "Set up the hypothesis:  \\\n",
    "H0:  the distributions of the populatoins from which the samples were drawn are equal.  In general, we can state that this is showing a difference in the medians of the smaples. \\\n",
    "HA: the distributions are not equal.\n",
    "\n",
    "alpha=0.05"
   ]
  },
  {
   "cell_type": "markdown",
   "id": "6ebe5cfd-889b-48ab-ae40-7e4a91acec05",
   "metadata": {},
   "source": [
    "First, sort then rank all of the sample together.  For ties, assign a rank equal to the midpoint of the unadjusted rankings."
   ]
  },
  {
   "cell_type": "code",
   "execution_count": 5,
   "id": "67962058-fc0c-498a-a72a-67c060d00e83",
   "metadata": {},
   "outputs": [
    {
     "data": {
      "text/html": [
       "<div>\n",
       "<style scoped>\n",
       "    .dataframe tbody tr th:only-of-type {\n",
       "        vertical-align: middle;\n",
       "    }\n",
       "\n",
       "    .dataframe tbody tr th {\n",
       "        vertical-align: top;\n",
       "    }\n",
       "\n",
       "    .dataframe thead th {\n",
       "        text-align: right;\n",
       "    }\n",
       "</style>\n",
       "<table border=\"1\" class=\"dataframe\">\n",
       "  <thead>\n",
       "    <tr style=\"text-align: right;\">\n",
       "      <th></th>\n",
       "      <th>0</th>\n",
       "      <th>1</th>\n",
       "      <th>2</th>\n",
       "      <th>3</th>\n",
       "      <th>4</th>\n",
       "      <th>5</th>\n",
       "      <th>6</th>\n",
       "      <th>7</th>\n",
       "    </tr>\n",
       "  </thead>\n",
       "  <tbody>\n",
       "    <tr>\n",
       "      <th>0</th>\n",
       "      <td>2</td>\n",
       "      <td>3</td>\n",
       "      <td>5</td>\n",
       "      <td>6</td>\n",
       "      <td>7</td>\n",
       "      <td>7</td>\n",
       "      <td>8</td>\n",
       "      <td>8.0</td>\n",
       "    </tr>\n",
       "    <tr>\n",
       "      <th>1</th>\n",
       "      <td>6</td>\n",
       "      <td>7</td>\n",
       "      <td>8</td>\n",
       "      <td>8</td>\n",
       "      <td>9</td>\n",
       "      <td>9</td>\n",
       "      <td>10</td>\n",
       "      <td>NaN</td>\n",
       "    </tr>\n",
       "  </tbody>\n",
       "</table>\n",
       "</div>"
      ],
      "text/plain": [
       "   0  1  2  3  4  5   6    7\n",
       "0  2  3  5  6  7  7   8  8.0\n",
       "1  6  7  8  8  9  9  10  NaN"
      ]
     },
     "execution_count": 5,
     "metadata": {},
     "output_type": "execute_result"
    }
   ],
   "source": [
    "Ranks=pd.DataFrame([[8,7,6,2,5,8,7,3],[9,9,7,8,10,9,6]])\n",
    "Rankssorted=pd.DataFrame([[2,3,5,6,7,7,8,8],[6,7,8,8,9,9,10]])\n",
    "Rankssorted"
   ]
  },
  {
   "cell_type": "code",
   "execution_count": 6,
   "id": "25b168e3-5cb8-4f08-a601-62ef6cafbc74",
   "metadata": {},
   "outputs": [
    {
     "data": {
      "text/html": [
       "<div>\n",
       "<style scoped>\n",
       "    .dataframe tbody tr th:only-of-type {\n",
       "        vertical-align: middle;\n",
       "    }\n",
       "\n",
       "    .dataframe tbody tr th {\n",
       "        vertical-align: top;\n",
       "    }\n",
       "\n",
       "    .dataframe thead th {\n",
       "        text-align: right;\n",
       "    }\n",
       "</style>\n",
       "<table border=\"1\" class=\"dataframe\">\n",
       "  <thead>\n",
       "    <tr style=\"text-align: right;\">\n",
       "      <th></th>\n",
       "      <th>0</th>\n",
       "      <th>1</th>\n",
       "      <th>2</th>\n",
       "      <th>3</th>\n",
       "      <th>4</th>\n",
       "      <th>5</th>\n",
       "      <th>6</th>\n",
       "      <th>7</th>\n",
       "    </tr>\n",
       "  </thead>\n",
       "  <tbody>\n",
       "    <tr>\n",
       "      <th>0</th>\n",
       "      <td>1.0</td>\n",
       "      <td>2</td>\n",
       "      <td>3.0</td>\n",
       "      <td>4.5</td>\n",
       "      <td>7.0</td>\n",
       "      <td>7.0</td>\n",
       "      <td>10.5</td>\n",
       "      <td>10.5</td>\n",
       "    </tr>\n",
       "    <tr>\n",
       "      <th>1</th>\n",
       "      <td>4.5</td>\n",
       "      <td>7</td>\n",
       "      <td>10.5</td>\n",
       "      <td>10.5</td>\n",
       "      <td>13.5</td>\n",
       "      <td>13.5</td>\n",
       "      <td>15.0</td>\n",
       "      <td>NaN</td>\n",
       "    </tr>\n",
       "  </tbody>\n",
       "</table>\n",
       "</div>"
      ],
      "text/plain": [
       "     0  1     2     3     4     5     6     7\n",
       "0  1.0  2   3.0   4.5   7.0   7.0  10.5  10.5\n",
       "1  4.5  7  10.5  10.5  13.5  13.5  15.0   NaN"
      ]
     },
     "execution_count": 6,
     "metadata": {},
     "output_type": "execute_result"
    }
   ],
   "source": [
    "Ranksranked=pd.DataFrame([[1,2,3,4.5,7,7,10.5,10.5],[4.5,7,10.5,10.5,13.5,13.5,15]])\n",
    "Ranksranked"
   ]
  },
  {
   "cell_type": "markdown",
   "id": "549c9b9f-c094-4d46-a760-5c3a353aa487",
   "metadata": {},
   "source": [
    "sum the ranks:  BrandX = 45.5; BrandY=74.5"
   ]
  },
  {
   "cell_type": "markdown",
   "id": "d5e99c88-a39b-4745-a95b-647118c1c387",
   "metadata": {},
   "source": [
    "Calculate the test statistic U: \\\n",
    "U1 = n1n2 +0.5n1(n1 +1)−R1 \\\n",
    "U2= n1n2 +0.5n2 (n2 +1)− R2"
   ]
  },
  {
   "cell_type": "code",
   "execution_count": 7,
   "id": "a2431746-136f-492f-b3fd-c68567bc57e3",
   "metadata": {},
   "outputs": [
    {
     "name": "stdout",
     "output_type": "stream",
     "text": [
      "46.5\n",
      "9.5\n"
     ]
    }
   ],
   "source": [
    "U1=8*7+0.5*8*(9)-45.5\n",
    "U2=8*7+0.5*7*(8)-74.5\n",
    "print(U1)\n",
    "print(U2)"
   ]
  },
  {
   "cell_type": "markdown",
   "id": "af897807-2734-4e56-8c04-6b022cd18923",
   "metadata": {},
   "source": [
    "Use the smaller U value to compare with the critical U value at n1=8 and n2=7 at two-sided significance level=0.05.  Critical U=10. \\\n",
    "We reject the null hypothesis because 9.5<=10. To be significant, the test statistic U has to be equal to or less than the critical value.  We have shown that the populations of scores are not equal between the groups. "
   ]
  },
  {
   "cell_type": "markdown",
   "id": "8f150658-4a55-488d-9972-0205b38c3bca",
   "metadata": {},
   "source": [
    "# Non-parametric tests of paired samples:  Signed Rank Test \n",
    "\n",
    "H0:  The difference between pairs follows a symmetric distribution about 0; have the same distribution; medians are the same \\\n",
    "HA:  The differene between pairs does not follow a symetric distribution around 0\n",
    "\n",
    "We fail to reject the null hypothesis and stats that there is not enough evidnece to state that there is a differnce in the dsitributions.  "
   ]
  },
  {
   "cell_type": "code",
   "execution_count": 8,
   "id": "0cada8b6-8467-4086-bae1-2141a34f63f5",
   "metadata": {},
   "outputs": [
    {
     "data": {
      "text/plain": [
       "WilcoxonResult(statistic=4.0, pvalue=0.0546875)"
      ]
     },
     "execution_count": 8,
     "metadata": {},
     "output_type": "execute_result"
    }
   ],
   "source": [
    "BeforeTx=pd.Series([85,70,40,65,80,75,55,20])\n",
    "AfterTx=pd.Series([75,50,50,40,20,65,40,25])\n",
    "\n",
    "stats.wilcoxon(BeforeTx,AfterTx,alternative='two-sided')"
   ]
  },
  {
   "cell_type": "markdown",
   "id": "7edd5d1e-dff3-4db7-878f-e40bae259d06",
   "metadata": {},
   "source": [
    "Order the paired differences, ignoring the sign of the difference \\\n",
    "Rank the paired differences and give them their sign \\\n",
    "Sum the signed ranks, and show the absolute value \\\n",
    "Smaller of these signed ranks is your test statitsic \\\n",
    "Lookup the T value in a Wicoxon signed rank table adn compare with test statistic \\\n",
    "If the test statistic is less than the T value, then reject the null hypothesis. "
   ]
  },
  {
   "cell_type": "code",
   "execution_count": 9,
   "id": "cacc5429-99df-4735-9d5e-98f0a7d17f55",
   "metadata": {},
   "outputs": [
    {
     "data": {
      "text/plain": [
       "0    10\n",
       "1    20\n",
       "2   -10\n",
       "3    25\n",
       "4    60\n",
       "5    10\n",
       "6    15\n",
       "7    -5\n",
       "dtype: int64"
      ]
     },
     "execution_count": 9,
     "metadata": {},
     "output_type": "execute_result"
    }
   ],
   "source": [
    "Diff_Tx=(BeforeTx-AfterTx)\n",
    "Diff_Tx"
   ]
  },
  {
   "cell_type": "code",
   "execution_count": 10,
   "id": "11099ae4-30c7-4bcf-a0a0-ae5a103db2e9",
   "metadata": {},
   "outputs": [
    {
     "data": {
      "image/png": "[encoded data removed]",
      "text/plain": [
       "<Figure size 640x480 with 1 Axes>"
      ]
     },
     "metadata": {},
     "output_type": "display_data"
    }
   ],
   "source": [
    "Diff_Tx.sort_values()\n",
    "sm.qqplot(Diff_Tx,line='45',loc=np.mean(Diff_Tx),scale=np.std(Diff_Tx,ddof=1))\n",
    "plt.show()"
   ]
  },
  {
   "cell_type": "code",
   "execution_count": 11,
   "id": "2faa3b1b-2409-4201-91b1-4f17c9254bb8",
   "metadata": {},
   "outputs": [
    {
     "data": {
      "text/plain": [
       "ShapiroResult(statistic=0.90093994140625, pvalue=0.29463252425193787)"
      ]
     },
     "execution_count": 11,
     "metadata": {},
     "output_type": "execute_result"
    }
   ],
   "source": [
    "stats.shapiro(Diff_Tx)"
   ]
  },
  {
   "cell_type": "code",
   "execution_count": 12,
   "id": "b9dce871-0b91-4a20-8a8a-e14fd22231d4",
   "metadata": {},
   "outputs": [],
   "source": [
    "Ordered_Diff=(-5,-10,10,10,15,20,25,60)\n",
    "Ranked_Diff_with_Signs=(-1,-3,3,3,5,6,7,8)\n",
    "Sum_Ranks_Neg= 4\n",
    "Sum_Rnaks_Pos=32"
   ]
  },
  {
   "cell_type": "markdown",
   "id": "58934d59-4082-4bba-a577-2382df4c564c",
   "metadata": {},
   "source": [
    "Signed_ranks=4 \\\n",
    "The T value in the table is 3 at dof=8 and alpha = 0.05.  Since 4 is not less than 3, we cannot reject the null hypotheiss and state that the distributions have not been shown to be significantly different.  "
   ]
  },
  {
   "cell_type": "code",
   "execution_count": 13,
   "id": "0882f27b-3971-4ba5-bf8a-05c3871804ca",
   "metadata": {},
   "outputs": [
    {
     "data": {
      "text/plain": [
       "Ttest_1sampResult(statistic=2.059964309956102, pvalue=0.07836922393445278)"
      ]
     },
     "execution_count": 13,
     "metadata": {},
     "output_type": "execute_result"
    }
   ],
   "source": [
    "# if you accepted that the differences were normally distributed\n",
    "scipy.stats.ttest_1samp(Ordered_Diff,0,alternative='two-sided')"
   ]
  },
  {
   "cell_type": "code",
   "execution_count": null,
   "id": "9596cec9-dddb-45a7-bba9-5e0b8403e5ac",
   "metadata": {},
   "outputs": [],
   "source": []
  },
  {
   "cell_type": "code",
   "execution_count": null,
   "id": "72224ebd-0b8d-4c53-a0f6-a1e8c6647415",
   "metadata": {},
   "outputs": [],
   "source": []
  },
  {
   "cell_type": "code",
   "execution_count": null,
   "id": "2cbeab4c-574b-4461-83a2-a562d2eed457",
   "metadata": {},
   "outputs": [],
   "source": []
  },
  {
   "cell_type": "code",
   "execution_count": null,
   "id": "8e6140b5-2388-4e04-9727-9edce55b4022",
   "metadata": {},
   "outputs": [],
   "source": []
  }
 ],
 "metadata": {
  "kernelspec": {
   "display_name": "Python 3 (ipykernel)",
   "language": "python",
   "name": "python3"
  },
  "language_info": {
   "codemirror_mode": {
    "name": "ipython",
    "version": 3
   },
   "file_extension": ".py",
   "mimetype": "text/x-python",
   "name": "python",
   "nbconvert_exporter": "python",
   "pygments_lexer": "ipython3",
   "version": "3.9.13"
  }
 },
 "nbformat": 4,
 "nbformat_minor": 5
}
