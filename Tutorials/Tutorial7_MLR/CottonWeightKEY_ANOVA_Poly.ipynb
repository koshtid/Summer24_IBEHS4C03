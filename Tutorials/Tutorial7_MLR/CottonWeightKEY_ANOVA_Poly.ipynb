{
 "cells": [
  {
   "cell_type": "code",
   "execution_count": 89,
   "id": "b983a835-38ef-44ea-998c-58cb98aa7a70",
   "metadata": {},
   "outputs": [
    {
     "name": "stdin",
     "output_type": "stream",
     "text": [
      "Once deleted, variables cannot be recovered. Proceed (y/[n])?  y\n"
     ]
    }
   ],
   "source": [
    "%reset\n",
    "import numpy as np\n",
    "import pandas as pd\n",
    "import matplotlib.pyplot as plt\n",
    "import seaborn as sns\n",
    "import scipy\n",
    "from scipy import stats\n",
    "import statsmodels.api as sm"
   ]
  },
  {
   "cell_type": "markdown",
   "id": "8cc73d4a-5a27-4b2a-befd-80795d21319d",
   "metadata": {},
   "source": [
    "Example:   This is an investigation into the formulation of synthetic fibers that are used to make cloth. The response is tensile strength, the strength of the fiber. The experimenter wants to determine the best level of the cotton in terms of percent, to achieve the highest tensile strength of the fiber. Therefore, we have a single quantitative factor, the percent of cotton combined with synthetic fabric fibers.\n",
    "\n",
    "The five treatment levels of percent cotton are evenly spaced from 15% to 35%. We have five replicates, five runs on each of the five cotton weight percentages."
   ]
  },
  {
   "cell_type": "code",
   "execution_count": 95,
   "id": "a6e4d5d0-a294-4f1d-a5ec-f9cface83c6b",
   "metadata": {},
   "outputs": [
    {
     "name": "stdout",
     "output_type": "stream",
     "text": [
      "    Cotton_Weight_%  Observations\n",
      "0              15.0           7.0\n",
      "1              20.0          12.0\n",
      "2              25.0          14.0\n",
      "3              30.0          19.0\n",
      "4              35.0           7.0\n",
      "5              15.0           7.0\n",
      "6              20.0          17.0\n",
      "7              25.0          19.0\n",
      "8              30.0          25.0\n",
      "9              35.0          10.0\n",
      "10             15.0          15.0\n",
      "11             20.0          12.0\n",
      "12             25.0          19.0\n",
      "13             30.0          22.0\n",
      "14             35.0          11.0\n",
      "15             15.0          11.0\n",
      "16             20.0          18.0\n",
      "17             25.0          18.0\n",
      "18             30.0          19.0\n",
      "19             35.0          15.0\n",
      "20             15.0           9.0\n",
      "21             20.0          18.0\n",
      "22             25.0          18.0\n",
      "23             30.0          23.0\n",
      "24             35.0          11.0\n"
     ]
    }
   ],
   "source": [
    "cotton = pd.read_csv('cotton_weight.csv')\n",
    "print(cotton)"
   ]
  },
  {
   "cell_type": "code",
   "execution_count": 96,
   "id": "85a2ca99-7320-4523-a085-e5e00a9ea809",
   "metadata": {},
   "outputs": [],
   "source": [
    "cotton[\"Cotton_Weight_%\"]=cotton[\"Cotton_Weight_%\"].astype(\"category\")"
   ]
  },
  {
   "cell_type": "code",
   "execution_count": 98,
   "id": "51a73864-cd73-42e3-b11a-cbf529bbf11c",
   "metadata": {},
   "outputs": [
    {
     "data": {
      "text/plain": [
       "Text(33.722222222222214, 0.5, 'Strength')"
      ]
     },
     "execution_count": 98,
     "metadata": {},
     "output_type": "execute_result"
    },
    {
     "data": {
      "image/png": "[encoded data removed]",
      "text/plain": [
       "<Figure size 640x480 with 1 Axes>"
      ]
     },
     "metadata": {},
     "output_type": "display_data"
    }
   ],
   "source": [
    "# Plot the data to visualize\n",
    "ax=sns.boxplot(x=cotton[\"Cotton_Weight_%\"], y= cotton[\"Observations\"], data=cotton,showmeans=True,palette=\"Greys\")\n",
    "ax=sns.swarmplot(x=cotton[\"Cotton_Weight_%\"], y= cotton[\"Observations\"], data=cotton)\n",
    "plt.xlabel(\"Cotton Weight %\")\n",
    "plt.ylabel(\"Strength\")"
   ]
  },
  {
   "cell_type": "markdown",
   "id": "79211413-10ad-401c-a818-49a49bd13e9e",
   "metadata": {},
   "source": [
    "What assumptions do you have to review?"
   ]
  },
  {
   "cell_type": "code",
   "execution_count": 99,
   "id": "86ff66dd-8562-4856-bd12-19bd756607f6",
   "metadata": {},
   "outputs": [
    {
     "data": {
      "text/html": [
       "<div>\n",
       "<style scoped>\n",
       "    .dataframe tbody tr th:only-of-type {\n",
       "        vertical-align: middle;\n",
       "    }\n",
       "\n",
       "    .dataframe tbody tr th {\n",
       "        vertical-align: top;\n",
       "    }\n",
       "\n",
       "    .dataframe thead th {\n",
       "        text-align: right;\n",
       "    }\n",
       "</style>\n",
       "<table border=\"1\" class=\"dataframe\">\n",
       "  <thead>\n",
       "    <tr style=\"text-align: right;\">\n",
       "      <th></th>\n",
       "      <th>Observations</th>\n",
       "    </tr>\n",
       "  </thead>\n",
       "  <tbody>\n",
       "    <tr>\n",
       "      <th>count</th>\n",
       "      <td>25.000000</td>\n",
       "    </tr>\n",
       "    <tr>\n",
       "      <th>mean</th>\n",
       "      <td>15.040000</td>\n",
       "    </tr>\n",
       "    <tr>\n",
       "      <th>std</th>\n",
       "      <td>5.151699</td>\n",
       "    </tr>\n",
       "    <tr>\n",
       "      <th>min</th>\n",
       "      <td>7.000000</td>\n",
       "    </tr>\n",
       "    <tr>\n",
       "      <th>25%</th>\n",
       "      <td>11.000000</td>\n",
       "    </tr>\n",
       "    <tr>\n",
       "      <th>50%</th>\n",
       "      <td>15.000000</td>\n",
       "    </tr>\n",
       "    <tr>\n",
       "      <th>75%</th>\n",
       "      <td>19.000000</td>\n",
       "    </tr>\n",
       "    <tr>\n",
       "      <th>max</th>\n",
       "      <td>25.000000</td>\n",
       "    </tr>\n",
       "  </tbody>\n",
       "</table>\n",
       "</div>"
      ],
      "text/plain": [
       "       Observations\n",
       "count     25.000000\n",
       "mean      15.040000\n",
       "std        5.151699\n",
       "min        7.000000\n",
       "25%       11.000000\n",
       "50%       15.000000\n",
       "75%       19.000000\n",
       "max       25.000000"
      ]
     },
     "execution_count": 99,
     "metadata": {},
     "output_type": "execute_result"
    }
   ],
   "source": [
    "cotton.describe()"
   ]
  },
  {
   "cell_type": "markdown",
   "id": "68fd9f54-66fa-44e5-9513-1a09afc122c9",
   "metadata": {},
   "source": [
    "The ANOVA table decomposes the variance into the following component sum of squares:\n",
    "\n",
    "- Total sum of squares. The degrees of freedom for this entry is the number of observations minus one.\n",
    "\n",
    "- Sum of squares for the factor. The degrees of freedom for this entry is the number of levels minus one. The mean square is the sum of squares divided by the number of degrees of freedom.\n",
    "\n",
    "- Residual sum of squares. The degrees of freedom is the total degrees of freedom minus the factor degrees of freedom. The mean square is the sum of squares divided by the number of degrees of freedom.\n",
    "\n",
    "The sums of squares summarize how much of the variance in the data (total sum of squares) is accounted for by the factor effect (batch sum of squares) and how much is random error (residual sum of squares). Ideally, we would like most of the variance to be explained by the factor effect.\n",
    "\n",
    "The ANOVA table provides a formal F test for the factor effect. For our example, we are testing the following hypothesis.\n",
    "\n",
    "      H0: All individual batch means are equal.\n",
    "      Ha: At least one batch mean is not equal to the others."
   ]
  },
  {
   "cell_type": "code",
   "execution_count": 100,
   "id": "36a1273c-ad4a-42f7-897c-487dbc16d130",
   "metadata": {},
   "outputs": [
    {
     "name": "stdout",
     "output_type": "stream",
     "text": [
      "   15%  20%  25%  30%  35%\n",
      "0    7   12   14   19    7\n",
      "1    7   17   18   25   10\n",
      "2   15   12   18   22   11\n",
      "3   11   18   19   19   15\n",
      "4    9   18   19   23   11\n"
     ]
    }
   ],
   "source": [
    "cottonG = pd.read_csv('CottonGrouped.csv')\n",
    "print(cottonG)"
   ]
  },
  {
   "cell_type": "code",
   "execution_count": 101,
   "id": "31f98ded-190f-46ea-98ac-00c2cb1c91fb",
   "metadata": {},
   "outputs": [
    {
     "data": {
      "text/plain": [
       "F_onewayResult(statistic=14.756823821339955, pvalue=9.127937124058432e-06)"
      ]
     },
     "execution_count": 101,
     "metadata": {},
     "output_type": "execute_result"
    }
   ],
   "source": [
    "stats.f_oneway(cottonG[\"15%\"],cottonG[\"20%\"],cottonG[\"25%\"],cottonG[\"30%\"],cottonG[\"35%\"])"
   ]
  },
  {
   "cell_type": "code",
   "execution_count": 102,
   "id": "5a61bae5-a52a-44f5-829f-c6467880a0b5",
   "metadata": {},
   "outputs": [
    {
     "data": {
      "text/plain": [
       "636.96"
      ]
     },
     "execution_count": 102,
     "metadata": {},
     "output_type": "execute_result"
    }
   ],
   "source": [
    "TotalSS= np.sum((cotton[\"Observations\"]-cotton[\"Observations\"].mean())**2)\n",
    "TotalSS"
   ]
  },
  {
   "cell_type": "code",
   "execution_count": 103,
   "id": "53619318-8473-4d77-a30c-5a948d820eeb",
   "metadata": {},
   "outputs": [
    {
     "data": {
      "text/plain": [
       "15%     9.8\n",
       "20%    15.4\n",
       "25%    17.6\n",
       "30%    21.6\n",
       "35%    10.8\n",
       "dtype: float64"
      ]
     },
     "execution_count": 103,
     "metadata": {},
     "output_type": "execute_result"
    }
   ],
   "source": [
    "cottonGMean=cottonG.mean()\n",
    "cottonGMean"
   ]
  },
  {
   "cell_type": "code",
   "execution_count": 104,
   "id": "9095d56b-ab3b-45d2-a199-47f229d7be65",
   "metadata": {},
   "outputs": [
    {
     "data": {
      "text/html": [
       "<div>\n",
       "<style scoped>\n",
       "    .dataframe tbody tr th:only-of-type {\n",
       "        vertical-align: middle;\n",
       "    }\n",
       "\n",
       "    .dataframe tbody tr th {\n",
       "        vertical-align: top;\n",
       "    }\n",
       "\n",
       "    .dataframe thead th {\n",
       "        text-align: right;\n",
       "    }\n",
       "</style>\n",
       "<table border=\"1\" class=\"dataframe\">\n",
       "  <thead>\n",
       "    <tr style=\"text-align: right;\">\n",
       "      <th></th>\n",
       "      <th>15%</th>\n",
       "      <th>20%</th>\n",
       "      <th>25%</th>\n",
       "      <th>30%</th>\n",
       "      <th>35%</th>\n",
       "    </tr>\n",
       "  </thead>\n",
       "  <tbody>\n",
       "    <tr>\n",
       "      <th>count</th>\n",
       "      <td>5.00000</td>\n",
       "      <td>5.000000</td>\n",
       "      <td>5.000000</td>\n",
       "      <td>5.000000</td>\n",
       "      <td>5.000000</td>\n",
       "    </tr>\n",
       "    <tr>\n",
       "      <th>mean</th>\n",
       "      <td>9.80000</td>\n",
       "      <td>15.400000</td>\n",
       "      <td>17.600000</td>\n",
       "      <td>21.600000</td>\n",
       "      <td>10.800000</td>\n",
       "    </tr>\n",
       "    <tr>\n",
       "      <th>std</th>\n",
       "      <td>3.34664</td>\n",
       "      <td>3.130495</td>\n",
       "      <td>2.073644</td>\n",
       "      <td>2.607681</td>\n",
       "      <td>2.863564</td>\n",
       "    </tr>\n",
       "    <tr>\n",
       "      <th>min</th>\n",
       "      <td>7.00000</td>\n",
       "      <td>12.000000</td>\n",
       "      <td>14.000000</td>\n",
       "      <td>19.000000</td>\n",
       "      <td>7.000000</td>\n",
       "    </tr>\n",
       "    <tr>\n",
       "      <th>25%</th>\n",
       "      <td>7.00000</td>\n",
       "      <td>12.000000</td>\n",
       "      <td>18.000000</td>\n",
       "      <td>19.000000</td>\n",
       "      <td>10.000000</td>\n",
       "    </tr>\n",
       "    <tr>\n",
       "      <th>50%</th>\n",
       "      <td>9.00000</td>\n",
       "      <td>17.000000</td>\n",
       "      <td>18.000000</td>\n",
       "      <td>22.000000</td>\n",
       "      <td>11.000000</td>\n",
       "    </tr>\n",
       "    <tr>\n",
       "      <th>75%</th>\n",
       "      <td>11.00000</td>\n",
       "      <td>18.000000</td>\n",
       "      <td>19.000000</td>\n",
       "      <td>23.000000</td>\n",
       "      <td>11.000000</td>\n",
       "    </tr>\n",
       "    <tr>\n",
       "      <th>max</th>\n",
       "      <td>15.00000</td>\n",
       "      <td>18.000000</td>\n",
       "      <td>19.000000</td>\n",
       "      <td>25.000000</td>\n",
       "      <td>15.000000</td>\n",
       "    </tr>\n",
       "  </tbody>\n",
       "</table>\n",
       "</div>"
      ],
      "text/plain": [
       "            15%        20%        25%        30%        35%\n",
       "count   5.00000   5.000000   5.000000   5.000000   5.000000\n",
       "mean    9.80000  15.400000  17.600000  21.600000  10.800000\n",
       "std     3.34664   3.130495   2.073644   2.607681   2.863564\n",
       "min     7.00000  12.000000  14.000000  19.000000   7.000000\n",
       "25%     7.00000  12.000000  18.000000  19.000000  10.000000\n",
       "50%     9.00000  17.000000  18.000000  22.000000  11.000000\n",
       "75%    11.00000  18.000000  19.000000  23.000000  11.000000\n",
       "max    15.00000  18.000000  19.000000  25.000000  15.000000"
      ]
     },
     "execution_count": 104,
     "metadata": {},
     "output_type": "execute_result"
    }
   ],
   "source": [
    "cottonG.describe()"
   ]
  },
  {
   "cell_type": "code",
   "execution_count": 105,
   "id": "0e846fd9-0986-458c-afd8-908973e84b6a",
   "metadata": {},
   "outputs": [
    {
     "data": {
      "text/plain": [
       "15%    11.2\n",
       "20%     9.8\n",
       "25%     4.3\n",
       "30%     6.8\n",
       "35%     8.2\n",
       "dtype: float64"
      ]
     },
     "execution_count": 105,
     "metadata": {},
     "output_type": "execute_result"
    }
   ],
   "source": [
    "cottonG.var()"
   ]
  },
  {
   "cell_type": "code",
   "execution_count": 106,
   "id": "c179ad58-4a1c-4eec-b23d-dc8b0aa43a52",
   "metadata": {},
   "outputs": [
    {
     "data": {
      "text/plain": [
       "15.04"
      ]
     },
     "execution_count": 106,
     "metadata": {},
     "output_type": "execute_result"
    }
   ],
   "source": [
    "cotton[\"Observations\"].mean()"
   ]
  },
  {
   "cell_type": "code",
   "execution_count": 107,
   "id": "5c72e2fb-4bfa-402c-8ab2-a966102ce5b0",
   "metadata": {},
   "outputs": [
    {
     "data": {
      "text/plain": [
       "15%    27.4576\n",
       "20%     0.1296\n",
       "25%     6.5536\n",
       "30%    43.0336\n",
       "35%    17.9776\n",
       "dtype: float64"
      ]
     },
     "execution_count": 107,
     "metadata": {},
     "output_type": "execute_result"
    }
   ],
   "source": [
    "(cottonGMean-(cotton[\"Observations\"].mean()))**2"
   ]
  },
  {
   "cell_type": "code",
   "execution_count": 108,
   "id": "d9073fd2-3b02-45dc-b75a-76ac9381e823",
   "metadata": {},
   "outputs": [
    {
     "data": {
      "text/plain": [
       "475.7600000000001"
      ]
     },
     "execution_count": 108,
     "metadata": {},
     "output_type": "execute_result"
    }
   ],
   "source": [
    "BetweenSS=np.sum( (cottonGMean-(cotton[\"Observations\"].mean())) **2)*5\n",
    "BetweenSS"
   ]
  },
  {
   "cell_type": "code",
   "execution_count": 109,
   "id": "ee76d02f-3aea-4a68-8fb7-61c1aa1ce18f",
   "metadata": {},
   "outputs": [
    {
     "data": {
      "text/plain": [
       "118.94000000000003"
      ]
     },
     "execution_count": 109,
     "metadata": {},
     "output_type": "execute_result"
    }
   ],
   "source": [
    "MSBetween=BetweenSS/4\n",
    "MSBetween"
   ]
  },
  {
   "cell_type": "code",
   "execution_count": 110,
   "id": "41d13eab-a2bc-42d8-b264-13b3e7a4e608",
   "metadata": {},
   "outputs": [
    {
     "data": {
      "text/plain": [
       "161.2"
      ]
     },
     "execution_count": 110,
     "metadata": {},
     "output_type": "execute_result"
    }
   ],
   "source": [
    "WithinSS_1=np.sum((cottonG[\"15%\"]-np.mean(cottonG[\"15%\"]))**2)\n",
    "WithinSS_2=np.sum((cottonG[\"20%\"]-np.mean(cottonG[\"20%\"]))**2)\n",
    "WithinSS_3=np.sum((cottonG[\"25%\"]-np.mean(cottonG[\"25%\"]))**2)\n",
    "WithinSS_4=np.sum((cottonG[\"30%\"]-np.mean(cottonG[\"30%\"]))**2)\n",
    "WithinSS_5=np.sum((cottonG[\"35%\"]-np.mean(cottonG[\"35%\"]))**2)\n",
    "WithinSS=(WithinSS_1+WithinSS_2+WithinSS_3+WithinSS_4+WithinSS_5)\n",
    "WithinSS"
   ]
  },
  {
   "cell_type": "code",
   "execution_count": 111,
   "id": "02e4d633-5155-44ad-a62e-2785c011f9ab",
   "metadata": {},
   "outputs": [
    {
     "data": {
      "text/plain": [
       "8.059999999999999"
      ]
     },
     "execution_count": 111,
     "metadata": {},
     "output_type": "execute_result"
    }
   ],
   "source": [
    "MSWithin=WithinSS/20\n",
    "MSWithin"
   ]
  },
  {
   "cell_type": "code",
   "execution_count": 112,
   "id": "0731f32f-7d2e-4701-8eab-3dd181d3a0b0",
   "metadata": {},
   "outputs": [
    {
     "data": {
      "text/plain": [
       "14.756823821339957"
      ]
     },
     "execution_count": 112,
     "metadata": {},
     "output_type": "execute_result"
    }
   ],
   "source": [
    "F_statistic=MSBetween/MSWithin\n",
    "F_statistic"
   ]
  },
  {
   "cell_type": "markdown",
   "id": "8629cbbd-9b64-498a-aa24-22f38184dadf",
   "metadata": {},
   "source": [
    "The F statistic is the batch mean square divided by the residual mean square. \n",
    "\n",
    "This statistic follows an F distribution with (k-1) and (N-k) degrees of freedom. For our example, the critical F value (upper tail) for α = 0.05, (k-1) = 4, and (N-k) = 20 is XXXXXX. \n",
    "\n",
    "Since the F statistic, XXXXXX, is greater than the critical value, we conclude that there is a significant batch effect at the 0.05 level of significance.\n",
    "\n",
    "Or find the exact p-value associated with the test statistic  \n",
    ":  cdf(x, dfn, dfd, loc=0, scale=1)"
   ]
  },
  {
   "cell_type": "code",
   "execution_count": 113,
   "id": "4cdd88c4-ae93-4251-a880-df64a0c35c19",
   "metadata": {},
   "outputs": [],
   "source": [
    "from scipy.stats import f"
   ]
  },
  {
   "cell_type": "code",
   "execution_count": 114,
   "id": "0dc3b564-4ff6-46a8-9eba-0042b72b99f3",
   "metadata": {},
   "outputs": [
    {
     "data": {
      "text/plain": [
       "2.8660814020156584"
      ]
     },
     "execution_count": 114,
     "metadata": {},
     "output_type": "execute_result"
    }
   ],
   "source": [
    "f.ppf(0.95,4,20)"
   ]
  },
  {
   "cell_type": "code",
   "execution_count": 115,
   "id": "467d08f6-7ad1-4bcb-83e3-30a8ef6272c7",
   "metadata": {},
   "outputs": [
    {
     "data": {
      "text/plain": [
       "9.127937124042695e-06"
      ]
     },
     "execution_count": 115,
     "metadata": {},
     "output_type": "execute_result"
    }
   ],
   "source": [
    "1-f.cdf(F_statistic,4,20)"
   ]
  },
  {
   "cell_type": "markdown",
   "id": "95e04103-ccb8-4740-8c55-f344d1b67c2b",
   "metadata": {},
   "source": [
    "check your model assumptions"
   ]
  },
  {
   "cell_type": "code",
   "execution_count": 116,
   "id": "1a4cfc2d-083f-4308-8fe9-c86b960ff1c0",
   "metadata": {},
   "outputs": [
    {
     "data": {
      "text/plain": [
       "LeveneResult(statistic=0.317948717948718, pvalue=0.8625858807756616)"
      ]
     },
     "execution_count": 116,
     "metadata": {},
     "output_type": "execute_result"
    }
   ],
   "source": [
    "scipy.stats.levene(cottonG[\"15%\"],cottonG[\"20%\"],cottonG[\"25%\"],cottonG[\"30%\"],cottonG[\"35%\"])"
   ]
  },
  {
   "cell_type": "code",
   "execution_count": 117,
   "id": "a00b5844-4eb5-4f1d-9879-a878fe06d2ca",
   "metadata": {},
   "outputs": [
    {
     "data": {
      "image/png": "[encoded data removed]",
      "text/plain": [
       "<Figure size 1000x400 with 6 Axes>"
      ]
     },
     "metadata": {},
     "output_type": "display_data"
    }
   ],
   "source": [
    "cottonG[\"15%\"].sort_values()\n",
    "cottonG[\"20%\"].sort_values()\n",
    "cottonG[\"25%\"].sort_values()\n",
    "cottonG[\"25%\"].sort_values()\n",
    "cottonG[\"30%\"].sort_values()\n",
    "fig2,ax2=plt.subplots(nrows=3,ncols=2,figsize=(10,4))\n",
    "sm.qqplot(cottonG[\"15%\"],line='45',loc=np.mean(cottonG[\"15%\"]),scale=np.std(cottonG[\"15%\"],ddof=1),ax=ax2[0,0])\n",
    "sm.qqplot(cottonG[\"20%\"],line='45',loc=np.mean(cottonG[\"20%\"]),scale=np.std(cottonG[\"20%\"],ddof=1),ax=ax2[0,1])\n",
    "sm.qqplot(cottonG[\"25%\"],line='45',loc=np.mean(cottonG[\"25%\"]),scale=np.std(cottonG[\"25%\"],ddof=1),ax=ax2[1,0])\n",
    "sm.qqplot(cottonG[\"30%\"],line='45',loc=np.mean(cottonG[\"30%\"]),scale=np.std(cottonG[\"30%\"],ddof=1),ax=ax2[1,1])\n",
    "sm.qqplot(cottonG[\"35%\"],line='45',loc=np.mean(cottonG[\"35%\"]),scale=np.std(cottonG[\"35%\"],ddof=1),ax=ax2[2,0])\n",
    "plt.show()"
   ]
  },
  {
   "cell_type": "markdown",
   "id": "2018e252-e9a9-4f26-b3bc-302b7feb92bb",
   "metadata": {},
   "source": [
    "Once we have determined that there is a significant batch effect, we might be interested in comparing individual batch means. The batch means and the standard errors of the batch means provide some information about the individual batches. However, we may want to employ multiple comparison methods for a more formal analysis."
   ]
  },
  {
   "cell_type": "markdown",
   "id": "fb5921bc-e50b-4781-b1e4-21393e33a59d",
   "metadata": {},
   "source": [
    "n choose k:  XXXXXXX pairwise comparisons"
   ]
  },
  {
   "cell_type": "markdown",
   "id": "9871414a-7f06-4e00-85ef-61c99095d710",
   "metadata": {},
   "source": [
    "Tukeys test (Honest Significant Difference) is a single-step multiple comparison procedure and statistical test. It can be used to find means that are significantly different from each other.\n",
    "\n",
    "It compares all possible pairs of means, and is based on a studentized range distribution (q :this distribution is similar to the distribution of t from the t-test)."
   ]
  },
  {
   "cell_type": "code",
   "execution_count": 118,
   "id": "0f54137f-eace-433b-b516-bca4fe1f25ce",
   "metadata": {},
   "outputs": [],
   "source": [
    "from statsmodels.stats.multicomp import pairwise_tukeyhsd"
   ]
  },
  {
   "cell_type": "code",
   "execution_count": 121,
   "id": "eb360901-e739-474a-ab4d-c056b32e1ce6",
   "metadata": {},
   "outputs": [
    {
     "name": "stdout",
     "output_type": "stream",
     "text": [
      "Multiple Comparison of Means - Tukey HSD, FWER=0.05\n",
      "===================================================\n",
      "group1 group2 meandiff p-adj   lower  upper  reject\n",
      "---------------------------------------------------\n",
      "  15.0   20.0      5.6 0.0385   0.227 10.973   True\n",
      "  15.0   25.0      7.8 0.0026   2.427 13.173   True\n",
      "  15.0   30.0     11.8    0.0   6.427 17.173   True\n",
      "  15.0   35.0      1.0 0.9798  -4.373  6.373  False\n",
      "  20.0   25.0      2.2 0.7372  -3.173  7.573  False\n",
      "  20.0   30.0      6.2 0.0189   0.827 11.573   True\n",
      "  20.0   35.0     -4.6 0.1163  -9.973  0.773  False\n",
      "  25.0   30.0      4.0 0.2101  -1.373  9.373  False\n",
      "  25.0   35.0     -6.8 0.0091 -12.173 -1.427   True\n",
      "  30.0   35.0    -10.8 0.0001 -16.173 -5.427   True\n",
      "---------------------------------------------------\n"
     ]
    }
   ],
   "source": [
    "mult_comp=pairwise_tukeyhsd(endog=cotton[\"Observations\"], groups=cotton['Cotton_Weight_%'], alpha=0.05)\n",
    "print(mult_comp)"
   ]
  },
  {
   "cell_type": "code",
   "execution_count": 122,
   "id": "6d70b193-3fb2-4757-ba46-edb844feb015",
   "metadata": {},
   "outputs": [
    {
     "data": {
      "text/html": [
       "<table class=\"simpletable\">\n",
       "<caption>Test Multiple Comparison ttest_ind \n",
       "FWER=0.05 method=bonf\n",
       "alphacSidak=0.01, alphacBonf=0.005</caption>\n",
       "<tr>\n",
       "  <th>group1</th> <th>group2</th>  <th>stat</th>    <th>pval</th>  <th>pval_corr</th> <th>reject</th>\n",
       "</tr>\n",
       "<tr>\n",
       "   <td>15.0</td>   <td>20.0</td>  <td>-2.7325</td> <td>0.0257</td>  <td>0.2575</td>    <td>False</td>\n",
       "</tr>\n",
       "<tr>\n",
       "   <td>15.0</td>   <td>25.0</td>  <td>-4.4301</td> <td>0.0022</td>   <td>0.022</td>    <td>True</td> \n",
       "</tr>\n",
       "<tr>\n",
       "   <td>15.0</td>   <td>30.0</td>  <td>-6.2191</td> <td>0.0003</td>  <td>0.0025</td>    <td>True</td> \n",
       "</tr>\n",
       "<tr>\n",
       "   <td>15.0</td>   <td>35.0</td>  <td>-0.5077</td> <td>0.6254</td>    <td>1.0</td>     <td>False</td>\n",
       "</tr>\n",
       "<tr>\n",
       "   <td>20.0</td>   <td>25.0</td>  <td>-1.3101</td> <td>0.2265</td>    <td>1.0</td>     <td>False</td>\n",
       "</tr>\n",
       "<tr>\n",
       "   <td>20.0</td>   <td>30.0</td>  <td>-3.4027</td> <td>0.0093</td>  <td>0.0932</td>    <td>False</td>\n",
       "</tr>\n",
       "<tr>\n",
       "   <td>20.0</td>   <td>35.0</td>  <td>2.4244</td>  <td>0.0416</td>  <td>0.4156</td>    <td>False</td>\n",
       "</tr>\n",
       "<tr>\n",
       "   <td>25.0</td>   <td>30.0</td>  <td>-2.6846</td> <td>0.0277</td>  <td>0.2773</td>    <td>False</td>\n",
       "</tr>\n",
       "<tr>\n",
       "   <td>25.0</td>   <td>35.0</td>  <td>4.3007</td>  <td>0.0026</td>  <td>0.0261</td>    <td>True</td> \n",
       "</tr>\n",
       "<tr>\n",
       "   <td>30.0</td>   <td>35.0</td>  <td>6.2354</td>  <td>0.0002</td>  <td>0.0025</td>    <td>True</td> \n",
       "</tr>\n",
       "</table>"
      ],
      "text/plain": [
       "<class 'statsmodels.iolib.table.SimpleTable'>"
      ]
     },
     "execution_count": 122,
     "metadata": {},
     "output_type": "execute_result"
    }
   ],
   "source": [
    "import statsmodels.stats.multicomp as mc\n",
    "comp = mc.MultiComparison(cotton[\"Observations\"], cotton['Cotton_Weight_%'])\n",
    "tbl, a1, a2 = comp.allpairtest(stats.ttest_ind, method= \"bonf\")\n",
    "tbl"
   ]
  },
  {
   "cell_type": "code",
   "execution_count": 123,
   "id": "f1d7f398-2778-4ac9-bac3-5e4b79085ac2",
   "metadata": {},
   "outputs": [
    {
     "data": {
      "text/plain": [
       "Ttest_indResult(statistic=-2.7325202042558927, pvalue=0.025745261219509916)"
      ]
     },
     "execution_count": 123,
     "metadata": {},
     "output_type": "execute_result"
    }
   ],
   "source": [
    "stats.ttest_ind(cottonG[\"15%\"],cottonG[\"20%\"])"
   ]
  },
  {
   "cell_type": "code",
   "execution_count": null,
   "id": "ea644b0a-8608-4e90-9f05-2d2bd839713a",
   "metadata": {},
   "outputs": [],
   "source": []
  },
  {
   "cell_type": "markdown",
   "id": "da63d36a-8e52-4602-9b07-d201b667c97f",
   "metadata": {},
   "source": [
    "# General linear model\n",
    "\n",
    "The general linear model (GLM) is the conventional linear regression model for a continuous response variable given continuous and/or categorical predictors. It includes simple linear regression, multiple linear regression, as well as ANOVA. "
   ]
  },
  {
   "cell_type": "code",
   "execution_count": 124,
   "id": "70c7a77e-8af3-4315-81cd-081563bd67df",
   "metadata": {},
   "outputs": [],
   "source": [
    "from statsmodels.formula.api import ols\n",
    "import statsmodels.api as sm"
   ]
  },
  {
   "cell_type": "code",
   "execution_count": 133,
   "id": "6e069ca7-9d80-4a97-9835-8fe5f949d49d",
   "metadata": {},
   "outputs": [
    {
     "name": "stdout",
     "output_type": "stream",
     "text": [
      "    Cotton_Weight  Observations\n",
      "0            15.0           7.0\n",
      "1            20.0          12.0\n",
      "2            25.0          14.0\n",
      "3            30.0          19.0\n",
      "4            35.0           7.0\n",
      "5            15.0           7.0\n",
      "6            20.0          17.0\n",
      "7            25.0          19.0\n",
      "8            30.0          25.0\n",
      "9            35.0          10.0\n",
      "10           15.0          15.0\n",
      "11           20.0          12.0\n",
      "12           25.0          19.0\n",
      "13           30.0          22.0\n",
      "14           35.0          11.0\n",
      "15           15.0          11.0\n",
      "16           20.0          18.0\n",
      "17           25.0          18.0\n",
      "18           30.0          19.0\n",
      "19           35.0          15.0\n",
      "20           15.0           9.0\n",
      "21           20.0          18.0\n",
      "22           25.0          18.0\n",
      "23           30.0          23.0\n",
      "24           35.0          11.0\n"
     ]
    }
   ],
   "source": [
    "cottonN = pd.read_csv('cotton_weightN.csv')\n",
    "print(cottonN)"
   ]
  },
  {
   "cell_type": "code",
   "execution_count": 137,
   "id": "548c9f74-043f-43e3-b9d3-7fbbe9ea74fd",
   "metadata": {},
   "outputs": [
    {
     "name": "stdout",
     "output_type": "stream",
     "text": [
      "                 Results: Ordinary least squares\n",
      "=================================================================\n",
      "Model:              OLS              Adj. R-squared:     0.012   \n",
      "Dependent Variable: Observations     AIC:                154.5371\n",
      "Date:               2023-03-23 08:46 BIC:                156.9748\n",
      "No. Observations:   25               Log-Likelihood:     -75.269 \n",
      "Df Model:           1                F-statistic:        1.282   \n",
      "Df Residuals:       23               Prob (F-statistic): 0.269   \n",
      "R-squared:          0.053            Scale:              26.232  \n",
      "------------------------------------------------------------------\n",
      "                Coef.   Std.Err.    t     P>|t|    [0.025   0.975]\n",
      "------------------------------------------------------------------\n",
      "Intercept      10.9400    3.7637  2.9067  0.0079   3.1542  18.7258\n",
      "Cotton_Weight   0.1640    0.1449  1.1321  0.2693  -0.1357   0.4637\n",
      "-----------------------------------------------------------------\n",
      "Omnibus:               2.066        Durbin-Watson:          1.939\n",
      "Prob(Omnibus):         0.356        Jarque-Bera (JB):       1.176\n",
      "Skew:                  -0.166       Prob(JB):               0.556\n",
      "Kurtosis:              1.991        Condition No.:          96   \n",
      "=================================================================\n",
      "\n"
     ]
    }
   ],
   "source": [
    "#fit the simple linear regression model\n",
    "model=ols('Observations~Cotton_Weight',data=cottonN)\n",
    "results=model.fit()\n",
    "print(results.summary2())"
   ]
  },
  {
   "cell_type": "code",
   "execution_count": 153,
   "id": "06e0b68d-064c-4717-82bd-84ff708cf2b2",
   "metadata": {},
   "outputs": [
    {
     "name": "stdout",
     "output_type": "stream",
     "text": [
      "                 df  sum_sq    mean_sq         F    PR(>F)\n",
      "Cotton_Weight   1.0   33.62  33.620000  1.281632  0.269261\n",
      "Residual       23.0  603.34  26.232174       NaN       NaN\n"
     ]
    }
   ],
   "source": [
    "from statsmodels.stats.anova import anova_lm\n",
    "anova_results = anova_lm(results)\n",
    "print(anova_results)"
   ]
  },
  {
   "cell_type": "code",
   "execution_count": 158,
   "id": "4f1ce08c-ecfe-4ee3-ae44-5ba4573741ef",
   "metadata": {},
   "outputs": [
    {
     "name": "stdout",
     "output_type": "stream",
     "text": [
      "                                 Results: Ordinary least squares\n",
      "==================================================================================================\n",
      "Model:                         OLS                         Adj. R-squared:                0.650   \n",
      "Dependent Variable:            Observations                AIC:                           130.3187\n",
      "Date:                          2023-03-23 09:01            BIC:                           135.1942\n",
      "No. Observations:              25                          Log-Likelihood:                -61.159 \n",
      "Df Model:                      3                           F-statistic:                   15.85   \n",
      "Df Residuals:                  21                          Prob (F-statistic):            1.30e-05\n",
      "R-squared:                     0.694                       Scale:                         9.2927  \n",
      "--------------------------------------------------------------------------------------------------\n",
      "                                                  Coef.  Std.Err.    t    P>|t|   [0.025   0.975] \n",
      "--------------------------------------------------------------------------------------------------\n",
      "Intercept                                        62.6114  39.7574  1.5748 0.1302 -20.0687 145.2915\n",
      "Cotton_Weight                                    -9.0114   5.1966 -1.7341 0.0976 -19.8184   1.7955\n",
      "I(Cotton_Weight * Cotton_Weight)                  0.4814   0.2160  2.2284 0.0369   0.0321   0.9307\n",
      "I(Cotton_Weight * Cotton_Weight * Cotton_Weight) -0.0076   0.0029 -2.6444 0.0152  -0.0136  -0.0016\n",
      "--------------------------------------------------------------------------------------------------\n",
      "Omnibus:                         1.200                  Durbin-Watson:                     2.086  \n",
      "Prob(Omnibus):                   0.549                  Jarque-Bera (JB):                  0.942  \n",
      "Skew:                            0.200                  Prob(JB):                          0.624  \n",
      "Kurtosis:                        2.137                  Condition No.:                     1580941\n",
      "==================================================================================================\n",
      "* The condition number is large (2e+06). This might indicate             strong multicollinearity\n",
      "or other numerical problems.\n"
     ]
    }
   ],
   "source": [
    "model2=ols('Observations~Cotton_Weight+I(Cotton_Weight*Cotton_Weight)+I(Cotton_Weight*Cotton_Weight*Cotton_Weight)',data=cottonN)\n",
    "results2=model2.fit()\n",
    "print(results2.summary2())"
   ]
  },
  {
   "cell_type": "code",
   "execution_count": 160,
   "id": "30082e82-8028-455e-89f9-6c861dc74b73",
   "metadata": {},
   "outputs": [
    {
     "data": {
      "text/html": [
       "<div>\n",
       "<style scoped>\n",
       "    .dataframe tbody tr th:only-of-type {\n",
       "        vertical-align: middle;\n",
       "    }\n",
       "\n",
       "    .dataframe tbody tr th {\n",
       "        vertical-align: top;\n",
       "    }\n",
       "\n",
       "    .dataframe thead th {\n",
       "        text-align: right;\n",
       "    }\n",
       "</style>\n",
       "<table border=\"1\" class=\"dataframe\">\n",
       "  <thead>\n",
       "    <tr style=\"text-align: right;\">\n",
       "      <th></th>\n",
       "      <th>df</th>\n",
       "      <th>sum_sq</th>\n",
       "      <th>mean_sq</th>\n",
       "      <th>F</th>\n",
       "      <th>PR(&gt;F)</th>\n",
       "    </tr>\n",
       "  </thead>\n",
       "  <tbody>\n",
       "    <tr>\n",
       "      <th>Cotton_Weight</th>\n",
       "      <td>1.0</td>\n",
       "      <td>33.620000</td>\n",
       "      <td>33.620000</td>\n",
       "      <td>3.617912</td>\n",
       "      <td>0.070966</td>\n",
       "    </tr>\n",
       "    <tr>\n",
       "      <th>I(Cotton_Weight * Cotton_Weight)</th>\n",
       "      <td>1.0</td>\n",
       "      <td>343.214286</td>\n",
       "      <td>343.214286</td>\n",
       "      <td>36.933939</td>\n",
       "      <td>0.000005</td>\n",
       "    </tr>\n",
       "    <tr>\n",
       "      <th>I(Cotton_Weight * Cotton_Weight * Cotton_Weight)</th>\n",
       "      <td>1.0</td>\n",
       "      <td>64.980000</td>\n",
       "      <td>64.980000</td>\n",
       "      <td>6.992621</td>\n",
       "      <td>0.015164</td>\n",
       "    </tr>\n",
       "    <tr>\n",
       "      <th>Residual</th>\n",
       "      <td>21.0</td>\n",
       "      <td>195.145714</td>\n",
       "      <td>9.292653</td>\n",
       "      <td>NaN</td>\n",
       "      <td>NaN</td>\n",
       "    </tr>\n",
       "  </tbody>\n",
       "</table>\n",
       "</div>"
      ],
      "text/plain": [
       "                                                    df      sum_sq  \\\n",
       "Cotton_Weight                                      1.0   33.620000   \n",
       "I(Cotton_Weight * Cotton_Weight)                   1.0  343.214286   \n",
       "I(Cotton_Weight * Cotton_Weight * Cotton_Weight)   1.0   64.980000   \n",
       "Residual                                          21.0  195.145714   \n",
       "\n",
       "                                                     mean_sq          F  \\\n",
       "Cotton_Weight                                      33.620000   3.617912   \n",
       "I(Cotton_Weight * Cotton_Weight)                  343.214286  36.933939   \n",
       "I(Cotton_Weight * Cotton_Weight * Cotton_Weight)   64.980000   6.992621   \n",
       "Residual                                            9.292653        NaN   \n",
       "\n",
       "                                                    PR(>F)  \n",
       "Cotton_Weight                                     0.070966  \n",
       "I(Cotton_Weight * Cotton_Weight)                  0.000005  \n",
       "I(Cotton_Weight * Cotton_Weight * Cotton_Weight)  0.015164  \n",
       "Residual                                               NaN  "
      ]
     },
     "execution_count": 160,
     "metadata": {},
     "output_type": "execute_result"
    }
   ],
   "source": [
    "from statsmodels.stats.anova import anova_lm\n",
    "anova_results2 = anova_lm(results2)\n",
    "anova_results2"
   ]
  },
  {
   "cell_type": "code",
   "execution_count": 175,
   "id": "b1a89a7c-c864-440f-a862-c688d947a591",
   "metadata": {},
   "outputs": [
    {
     "data": {
      "text/plain": [
       "<AxesSubplot:xlabel='Cotton_Weight', ylabel='Observations'>"
      ]
     },
     "execution_count": 175,
     "metadata": {},
     "output_type": "execute_result"
    },
    {
     "data": {
      "image/png": "[encoded data removed]",
      "text/plain": [
       "<Figure size 480x480 with 1 Axes>"
      ]
     },
     "metadata": {},
     "output_type": "display_data"
    }
   ],
   "source": [
    "fig=plt.figure(figsize=plt.figaspect(1)*1)\n",
    "ax=fig.add_subplot(111)\n",
    "sns.lineplot(x=cottonN[\"Cotton_Weight\"],y=results2.fittedvalues.values,color=\"orange\")\n",
    "sns.regplot(x=cottonN[\"Cotton_Weight\"],y=cottonN[\"Observations\"],order=1,data=cottonN,color=\"blue\",ci=None)\n",
    "sns.regplot(x=cottonN[\"Cotton_Weight\"],y=cottonN[\"Observations\"],order=2,data=cottonN,color=\"red\",ci=None)\n",
    "sns.regplot(x=cottonN[\"Cotton_Weight\"],y=cottonN[\"Observations\"],order=3,data=cottonN,color=\"green\",ci=None)"
   ]
  },
  {
   "cell_type": "markdown",
   "id": "dff795b5-8d67-45ee-9b84-423061260fcb",
   "metadata": {},
   "source": [
    "Check assumptions"
   ]
  },
  {
   "cell_type": "code",
   "execution_count": 173,
   "id": "54c8e9b9-9cbc-4895-a48e-cb83583a5d72",
   "metadata": {},
   "outputs": [
    {
     "data": {
      "image/png": "[encoded data removed]",
      "text/plain": [
       "<Figure size 640x480 with 6 Axes>"
      ]
     },
     "metadata": {},
     "output_type": "display_data"
    }
   ],
   "source": [
    "figure2, axis2 = plt.subplots(nrows=2, ncols=3)\n",
    "sns.scatterplot(x=cottonN[\"Cotton_Weight\"],y=cottonN[\"Observations\"],data=cottonN,ax=axis2[0,0])\n",
    "sns.scatterplot(x=cottonN[\"Cotton_Weight\"],y=results2.resid,data=cottonN,ax=axis2[0,1])\n",
    "sns.scatterplot(x=results2.predict(),y=results2.resid,data=cottonN,ax=axis2[0,2])\n",
    "sns.lineplot(x=np.arange(0,25,1),y=results2.resid,data=cottonN,ax=axis2[1,0])\n",
    "sns.histplot(x=results2.resid, stat='count',kde=True,ax=axis2[1,1])\n",
    "sm.qqplot(results2.resid,line='s',ax=axis2[1,2])\n",
    "plt.show()"
   ]
  },
  {
   "cell_type": "code",
   "execution_count": null,
   "id": "45dbb105-7cd4-4423-9073-e59b4c8aea79",
   "metadata": {},
   "outputs": [],
   "source": []
  },
  {
   "cell_type": "code",
   "execution_count": null,
   "id": "41b5c2a9-59c6-451a-a2b7-fac8bd352a3b",
   "metadata": {},
   "outputs": [],
   "source": []
  }
 ],
 "metadata": {
  "kernelspec": {
   "display_name": "Python 3 (ipykernel)",
   "language": "python",
   "name": "python3"
  },
  "language_info": {
   "codemirror_mode": {
    "name": "ipython",
    "version": 3
   },
   "file_extension": ".py",
   "mimetype": "text/x-python",
   "name": "python",
   "nbconvert_exporter": "python",
   "pygments_lexer": "ipython3",
   "version": "3.9.13"
  }
 },
 "nbformat": 4,
 "nbformat_minor": 5
}
