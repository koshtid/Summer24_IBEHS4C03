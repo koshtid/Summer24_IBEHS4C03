{
 "cells": [
  {
   "cell_type": "code",
   "execution_count": 13,
   "id": "b983a835-38ef-44ea-998c-58cb98aa7a70",
   "metadata": {},
   "outputs": [
    {
     "name": "stdin",
     "output_type": "stream",
     "text": [
      "Once deleted, variables cannot be recovered. Proceed (y/[n])?  y\n"
     ]
    }
   ],
   "source": [
    "%reset\n",
    "import numpy as np\n",
    "import pandas as pd\n",
    "import matplotlib.pyplot as plt\n",
    "import seaborn as sns\n",
    "import scipy\n",
    "from scipy import stats\n",
    "import statsmodels.api as sm"
   ]
  },
  {
   "cell_type": "markdown",
   "id": "8cc73d4a-5a27-4b2a-befd-80795d21319d",
   "metadata": {},
   "source": [
    "Example:   This is an investigation into the formulation of synthetic fibers that are used to make cloth. The response is tensile strength, the strength of the fiber. The experimenter wants to determine the best level of the cotton in terms of percent, to achieve the highest tensile strength of the fiber. Therefore, we have a single quantitative factor, the percent of cotton combined with synthetic fabric fibers.\n",
    "\n",
    "The five treatment levels of percent cotton are evenly spaced from 15% to 35%. We have five replicates, five runs on each of the five cotton weight percentages."
   ]
  },
  {
   "cell_type": "code",
   "execution_count": 14,
   "id": "a6e4d5d0-a294-4f1d-a5ec-f9cface83c6b",
   "metadata": {},
   "outputs": [
    {
     "name": "stdout",
     "output_type": "stream",
     "text": [
      "    Cotton_Weight_%  Observations\n",
      "0              15.0           7.0\n",
      "1              20.0          12.0\n",
      "2              25.0          14.0\n",
      "3              30.0          19.0\n",
      "4              35.0           7.0\n",
      "5              15.0           7.0\n",
      "6              20.0          17.0\n",
      "7              25.0          19.0\n",
      "8              30.0          25.0\n",
      "9              35.0          10.0\n",
      "10             15.0          15.0\n",
      "11             20.0          12.0\n",
      "12             25.0          19.0\n",
      "13             30.0          22.0\n",
      "14             35.0          11.0\n",
      "15             15.0          11.0\n",
      "16             20.0          18.0\n",
      "17             25.0          18.0\n",
      "18             30.0          19.0\n",
      "19             35.0          15.0\n",
      "20             15.0           9.0\n",
      "21             20.0          18.0\n",
      "22             25.0          18.0\n",
      "23             30.0          23.0\n",
      "24             35.0          11.0\n"
     ]
    }
   ],
   "source": [
    "cotton = pd.read_csv('cotton_weight.csv')\n",
    "print(cotton)"
   ]
  },
  {
   "cell_type": "code",
   "execution_count": 15,
   "id": "85a2ca99-7320-4523-a085-e5e00a9ea809",
   "metadata": {},
   "outputs": [],
   "source": [
    "cotton[\"Cotton_Weight_%\"]=cotton[\"Cotton_Weight_%\"].astype(\"category\")"
   ]
  },
  {
   "cell_type": "markdown",
   "id": "b3036043-aa22-4b3e-a6f8-9a27c5b30f0d",
   "metadata": {},
   "source": [
    "**read in the dataset**\n",
    "\n",
    "putting a # allows you to annotate with notes; having the # tells python to not read this line as code"
   ]
  },
  {
   "cell_type": "code",
   "execution_count": 16,
   "id": "51a73864-cd73-42e3-b11a-cbf529bbf11c",
   "metadata": {},
   "outputs": [],
   "source": [
    "# Plot the data to visualize\n",
    "#ax=sns.boxplot(x=cotton[\"Cotton_Weight_%\"], y= cotton[\"Observations\"], data=cotton,showmeans=True,palette=\"Greys\")\n",
    "#ax=sns.swarmplot(x=cotton[\"Cotton_Weight_%\"], y= cotton[\"Observations\"], data=cotton)\n",
    "#plt.xlabel(\"Cotton Weight %\")\n",
    "#plt.ylabel(\"Strength\")"
   ]
  },
  {
   "cell_type": "markdown",
   "id": "79211413-10ad-401c-a818-49a49bd13e9e",
   "metadata": {},
   "source": [
    "What assumptions do you have to review?"
   ]
  },
  {
   "cell_type": "code",
   "execution_count": 17,
   "id": "86ff66dd-8562-4856-bd12-19bd756607f6",
   "metadata": {},
   "outputs": [
    {
     "data": {
      "text/html": [
       "<div>\n",
       "<style scoped>\n",
       "    .dataframe tbody tr th:only-of-type {\n",
       "        vertical-align: middle;\n",
       "    }\n",
       "\n",
       "    .dataframe tbody tr th {\n",
       "        vertical-align: top;\n",
       "    }\n",
       "\n",
       "    .dataframe thead th {\n",
       "        text-align: right;\n",
       "    }\n",
       "</style>\n",
       "<table border=\"1\" class=\"dataframe\">\n",
       "  <thead>\n",
       "    <tr style=\"text-align: right;\">\n",
       "      <th></th>\n",
       "      <th>Observations</th>\n",
       "    </tr>\n",
       "  </thead>\n",
       "  <tbody>\n",
       "    <tr>\n",
       "      <th>count</th>\n",
       "      <td>25.000000</td>\n",
       "    </tr>\n",
       "    <tr>\n",
       "      <th>mean</th>\n",
       "      <td>15.040000</td>\n",
       "    </tr>\n",
       "    <tr>\n",
       "      <th>std</th>\n",
       "      <td>5.151699</td>\n",
       "    </tr>\n",
       "    <tr>\n",
       "      <th>min</th>\n",
       "      <td>7.000000</td>\n",
       "    </tr>\n",
       "    <tr>\n",
       "      <th>25%</th>\n",
       "      <td>11.000000</td>\n",
       "    </tr>\n",
       "    <tr>\n",
       "      <th>50%</th>\n",
       "      <td>15.000000</td>\n",
       "    </tr>\n",
       "    <tr>\n",
       "      <th>75%</th>\n",
       "      <td>19.000000</td>\n",
       "    </tr>\n",
       "    <tr>\n",
       "      <th>max</th>\n",
       "      <td>25.000000</td>\n",
       "    </tr>\n",
       "  </tbody>\n",
       "</table>\n",
       "</div>"
      ],
      "text/plain": [
       "       Observations\n",
       "count     25.000000\n",
       "mean      15.040000\n",
       "std        5.151699\n",
       "min        7.000000\n",
       "25%       11.000000\n",
       "50%       15.000000\n",
       "75%       19.000000\n",
       "max       25.000000"
      ]
     },
     "execution_count": 17,
     "metadata": {},
     "output_type": "execute_result"
    }
   ],
   "source": [
    "cotton.describe()"
   ]
  },
  {
   "cell_type": "markdown",
   "id": "68fd9f54-66fa-44e5-9513-1a09afc122c9",
   "metadata": {},
   "source": [
    "The ANOVA table decomposes the variance into the following component sum of squares:\n",
    "\n",
    "- Total sum of squares. The degrees of freedom for this entry is the number of observations minus one.\n",
    "\n",
    "- Sum of squares for the factor. The degrees of freedom for this entry is the number of levels minus one. The mean square is the sum of squares divided by the number of degrees of freedom.\n",
    "\n",
    "- Residual sum of squares. The degrees of freedom is the total degrees of freedom minus the factor degrees of freedom. The mean square is the sum of squares divided by the number of degrees of freedom.\n",
    "\n",
    "The sums of squares summarize how much of the variance in the data (total sum of squares) is accounted for by the factor effect (batch sum of squares) and how much is random error (residual sum of squares). Ideally, we would like most of the variance to be explained by the factor effect.\n",
    "\n",
    "The ANOVA table provides a formal F test for the factor effect. For our example, we are testing the following hypothesis.\n",
    "\n",
    "      H0: All individual batch means are equal.\n",
    "      Ha: At least one batch mean is not equal to the others."
   ]
  },
  {
   "cell_type": "markdown",
   "id": "7fbfd604-1d2e-4324-9084-8873c50ca49f",
   "metadata": {},
   "source": [
    "**read in the dataset**\n",
    "\n",
    "putting a # allows you to annotate with notes; having the # tells python to not read this line as code"
   ]
  },
  {
   "cell_type": "code",
   "execution_count": 18,
   "id": "36a1273c-ad4a-42f7-897c-487dbc16d130",
   "metadata": {},
   "outputs": [],
   "source": [
    "#cottonG = pd.read_csv('CottonGrouped.csv')\n",
    "#print(cottonG)"
   ]
  },
  {
   "cell_type": "code",
   "execution_count": 19,
   "id": "31f98ded-190f-46ea-98ac-00c2cb1c91fb",
   "metadata": {},
   "outputs": [
    {
     "ename": "NameError",
     "evalue": "name 'cottonG' is not defined",
     "output_type": "error",
     "traceback": [
      "\u001b[1;31m---------------------------------------------------------------------------\u001b[0m",
      "\u001b[1;31mNameError\u001b[0m                                 Traceback (most recent call last)",
      "\u001b[1;32m~\\AppData\\Local\\Temp\\ipykernel_13968\\50858105.py\u001b[0m in \u001b[0;36m<module>\u001b[1;34m\u001b[0m\n\u001b[1;32m----> 1\u001b[1;33m \u001b[0mstats\u001b[0m\u001b[1;33m.\u001b[0m\u001b[0mf_oneway\u001b[0m\u001b[1;33m(\u001b[0m\u001b[0mcottonG\u001b[0m\u001b[1;33m[\u001b[0m\u001b[1;34m\"15%\"\u001b[0m\u001b[1;33m]\u001b[0m\u001b[1;33m,\u001b[0m\u001b[0mcottonG\u001b[0m\u001b[1;33m[\u001b[0m\u001b[1;34m\"20%\"\u001b[0m\u001b[1;33m]\u001b[0m\u001b[1;33m,\u001b[0m\u001b[0mcottonG\u001b[0m\u001b[1;33m[\u001b[0m\u001b[1;34m\"25%\"\u001b[0m\u001b[1;33m]\u001b[0m\u001b[1;33m,\u001b[0m\u001b[0mcottonG\u001b[0m\u001b[1;33m[\u001b[0m\u001b[1;34m\"30%\"\u001b[0m\u001b[1;33m]\u001b[0m\u001b[1;33m,\u001b[0m\u001b[0mcottonG\u001b[0m\u001b[1;33m[\u001b[0m\u001b[1;34m\"35%\"\u001b[0m\u001b[1;33m]\u001b[0m\u001b[1;33m)\u001b[0m\u001b[1;33m\u001b[0m\u001b[1;33m\u001b[0m\u001b[0m\n\u001b[0m",
      "\u001b[1;31mNameError\u001b[0m: name 'cottonG' is not defined"
     ]
    }
   ],
   "source": [
    "stats.f_oneway(cottonG[\"15%\"],cottonG[\"20%\"],cottonG[\"25%\"],cottonG[\"30%\"],cottonG[\"35%\"])"
   ]
  },
  {
   "cell_type": "code",
   "execution_count": 20,
   "id": "5a61bae5-a52a-44f5-829f-c6467880a0b5",
   "metadata": {},
   "outputs": [
    {
     "data": {
      "text/plain": [
       "636.96"
      ]
     },
     "execution_count": 20,
     "metadata": {},
     "output_type": "execute_result"
    }
   ],
   "source": [
    "TotalSS= np.sum((cotton[\"Observations\"]-cotton[\"Observations\"].mean())**2)\n",
    "TotalSS"
   ]
  },
  {
   "cell_type": "code",
   "execution_count": 21,
   "id": "53619318-8473-4d77-a30c-5a948d820eeb",
   "metadata": {},
   "outputs": [
    {
     "ename": "NameError",
     "evalue": "name 'cottonG' is not defined",
     "output_type": "error",
     "traceback": [
      "\u001b[1;31m---------------------------------------------------------------------------\u001b[0m",
      "\u001b[1;31mNameError\u001b[0m                                 Traceback (most recent call last)",
      "\u001b[1;32m~\\AppData\\Local\\Temp\\ipykernel_13968\\956447568.py\u001b[0m in \u001b[0;36m<module>\u001b[1;34m\u001b[0m\n\u001b[1;32m----> 1\u001b[1;33m \u001b[0mcottonGMean\u001b[0m\u001b[1;33m=\u001b[0m\u001b[0mcottonG\u001b[0m\u001b[1;33m.\u001b[0m\u001b[0mmean\u001b[0m\u001b[1;33m(\u001b[0m\u001b[1;33m)\u001b[0m\u001b[1;33m\u001b[0m\u001b[1;33m\u001b[0m\u001b[0m\n\u001b[0m\u001b[0;32m      2\u001b[0m \u001b[0mcottonGMean\u001b[0m\u001b[1;33m\u001b[0m\u001b[1;33m\u001b[0m\u001b[0m\n",
      "\u001b[1;31mNameError\u001b[0m: name 'cottonG' is not defined"
     ]
    }
   ],
   "source": [
    "cottonGMean=cottonG.mean()\n",
    "cottonGMean"
   ]
  },
  {
   "cell_type": "code",
   "execution_count": 22,
   "id": "9095d56b-ab3b-45d2-a199-47f229d7be65",
   "metadata": {},
   "outputs": [
    {
     "ename": "NameError",
     "evalue": "name 'cottonG' is not defined",
     "output_type": "error",
     "traceback": [
      "\u001b[1;31m---------------------------------------------------------------------------\u001b[0m",
      "\u001b[1;31mNameError\u001b[0m                                 Traceback (most recent call last)",
      "\u001b[1;32m~\\AppData\\Local\\Temp\\ipykernel_13968\\3295742125.py\u001b[0m in \u001b[0;36m<module>\u001b[1;34m\u001b[0m\n\u001b[1;32m----> 1\u001b[1;33m \u001b[0mcottonG\u001b[0m\u001b[1;33m.\u001b[0m\u001b[0mdescribe\u001b[0m\u001b[1;33m(\u001b[0m\u001b[1;33m)\u001b[0m\u001b[1;33m\u001b[0m\u001b[1;33m\u001b[0m\u001b[0m\n\u001b[0m",
      "\u001b[1;31mNameError\u001b[0m: name 'cottonG' is not defined"
     ]
    }
   ],
   "source": [
    "cottonG.describe()"
   ]
  },
  {
   "cell_type": "code",
   "execution_count": 23,
   "id": "0e846fd9-0986-458c-afd8-908973e84b6a",
   "metadata": {},
   "outputs": [
    {
     "ename": "NameError",
     "evalue": "name 'cottonG' is not defined",
     "output_type": "error",
     "traceback": [
      "\u001b[1;31m---------------------------------------------------------------------------\u001b[0m",
      "\u001b[1;31mNameError\u001b[0m                                 Traceback (most recent call last)",
      "\u001b[1;32m~\\AppData\\Local\\Temp\\ipykernel_13968\\1185079673.py\u001b[0m in \u001b[0;36m<module>\u001b[1;34m\u001b[0m\n\u001b[1;32m----> 1\u001b[1;33m \u001b[0mcottonG\u001b[0m\u001b[1;33m.\u001b[0m\u001b[0mvar\u001b[0m\u001b[1;33m(\u001b[0m\u001b[1;33m)\u001b[0m\u001b[1;33m\u001b[0m\u001b[1;33m\u001b[0m\u001b[0m\n\u001b[0m",
      "\u001b[1;31mNameError\u001b[0m: name 'cottonG' is not defined"
     ]
    }
   ],
   "source": [
    "cottonG.var()"
   ]
  },
  {
   "cell_type": "code",
   "execution_count": 24,
   "id": "c179ad58-4a1c-4eec-b23d-dc8b0aa43a52",
   "metadata": {},
   "outputs": [
    {
     "data": {
      "text/plain": [
       "15.04"
      ]
     },
     "execution_count": 24,
     "metadata": {},
     "output_type": "execute_result"
    }
   ],
   "source": [
    "cotton[\"Observations\"].mean()"
   ]
  },
  {
   "cell_type": "code",
   "execution_count": 25,
   "id": "5c72e2fb-4bfa-402c-8ab2-a966102ce5b0",
   "metadata": {},
   "outputs": [
    {
     "ename": "NameError",
     "evalue": "name 'cottonGMean' is not defined",
     "output_type": "error",
     "traceback": [
      "\u001b[1;31m---------------------------------------------------------------------------\u001b[0m",
      "\u001b[1;31mNameError\u001b[0m                                 Traceback (most recent call last)",
      "\u001b[1;32m~\\AppData\\Local\\Temp\\ipykernel_13968\\3098789315.py\u001b[0m in \u001b[0;36m<module>\u001b[1;34m\u001b[0m\n\u001b[1;32m----> 1\u001b[1;33m \u001b[1;33m(\u001b[0m\u001b[0mcottonGMean\u001b[0m\u001b[1;33m-\u001b[0m\u001b[1;33m(\u001b[0m\u001b[0mcotton\u001b[0m\u001b[1;33m[\u001b[0m\u001b[1;34m\"Observations\"\u001b[0m\u001b[1;33m]\u001b[0m\u001b[1;33m.\u001b[0m\u001b[0mmean\u001b[0m\u001b[1;33m(\u001b[0m\u001b[1;33m)\u001b[0m\u001b[1;33m)\u001b[0m\u001b[1;33m)\u001b[0m\u001b[1;33m**\u001b[0m\u001b[1;36m2\u001b[0m\u001b[1;33m\u001b[0m\u001b[1;33m\u001b[0m\u001b[0m\n\u001b[0m",
      "\u001b[1;31mNameError\u001b[0m: name 'cottonGMean' is not defined"
     ]
    }
   ],
   "source": [
    "(cottonGMean-(cotton[\"Observations\"].mean()))**2"
   ]
  },
  {
   "cell_type": "code",
   "execution_count": 26,
   "id": "d9073fd2-3b02-45dc-b75a-76ac9381e823",
   "metadata": {},
   "outputs": [
    {
     "ename": "NameError",
     "evalue": "name 'cottonGMean' is not defined",
     "output_type": "error",
     "traceback": [
      "\u001b[1;31m---------------------------------------------------------------------------\u001b[0m",
      "\u001b[1;31mNameError\u001b[0m                                 Traceback (most recent call last)",
      "\u001b[1;32m~\\AppData\\Local\\Temp\\ipykernel_13968\\213364146.py\u001b[0m in \u001b[0;36m<module>\u001b[1;34m\u001b[0m\n\u001b[1;32m----> 1\u001b[1;33m \u001b[0mBetweenSS\u001b[0m\u001b[1;33m=\u001b[0m\u001b[0mnp\u001b[0m\u001b[1;33m.\u001b[0m\u001b[0msum\u001b[0m\u001b[1;33m(\u001b[0m \u001b[1;33m(\u001b[0m\u001b[0mcottonGMean\u001b[0m\u001b[1;33m-\u001b[0m\u001b[1;33m(\u001b[0m\u001b[0mcotton\u001b[0m\u001b[1;33m[\u001b[0m\u001b[1;34m\"Observations\"\u001b[0m\u001b[1;33m]\u001b[0m\u001b[1;33m.\u001b[0m\u001b[0mmean\u001b[0m\u001b[1;33m(\u001b[0m\u001b[1;33m)\u001b[0m\u001b[1;33m)\u001b[0m\u001b[1;33m)\u001b[0m \u001b[1;33m**\u001b[0m\u001b[1;36m2\u001b[0m\u001b[1;33m)\u001b[0m\u001b[1;33m*\u001b[0m\u001b[1;36m5\u001b[0m\u001b[1;33m\u001b[0m\u001b[1;33m\u001b[0m\u001b[0m\n\u001b[0m\u001b[0;32m      2\u001b[0m \u001b[0mBetweenSS\u001b[0m\u001b[1;33m\u001b[0m\u001b[1;33m\u001b[0m\u001b[0m\n",
      "\u001b[1;31mNameError\u001b[0m: name 'cottonGMean' is not defined"
     ]
    }
   ],
   "source": [
    "BetweenSS=np.sum( (cottonGMean-(cotton[\"Observations\"].mean())) **2)*5\n",
    "BetweenSS"
   ]
  },
  {
   "cell_type": "code",
   "execution_count": 27,
   "id": "ee76d02f-3aea-4a68-8fb7-61c1aa1ce18f",
   "metadata": {},
   "outputs": [
    {
     "ename": "NameError",
     "evalue": "name 'BetweenSS' is not defined",
     "output_type": "error",
     "traceback": [
      "\u001b[1;31m---------------------------------------------------------------------------\u001b[0m",
      "\u001b[1;31mNameError\u001b[0m                                 Traceback (most recent call last)",
      "\u001b[1;32m~\\AppData\\Local\\Temp\\ipykernel_13968\\1827073680.py\u001b[0m in \u001b[0;36m<module>\u001b[1;34m\u001b[0m\n\u001b[1;32m----> 1\u001b[1;33m \u001b[0mMSBetween\u001b[0m\u001b[1;33m=\u001b[0m\u001b[0mBetweenSS\u001b[0m\u001b[1;33m/\u001b[0m\u001b[1;36m4\u001b[0m\u001b[1;33m\u001b[0m\u001b[1;33m\u001b[0m\u001b[0m\n\u001b[0m\u001b[0;32m      2\u001b[0m \u001b[0mMSBetween\u001b[0m\u001b[1;33m\u001b[0m\u001b[1;33m\u001b[0m\u001b[0m\n",
      "\u001b[1;31mNameError\u001b[0m: name 'BetweenSS' is not defined"
     ]
    }
   ],
   "source": [
    "MSBetween=BetweenSS/4\n",
    "MSBetween"
   ]
  },
  {
   "cell_type": "code",
   "execution_count": 28,
   "id": "41d13eab-a2bc-42d8-b264-13b3e7a4e608",
   "metadata": {},
   "outputs": [
    {
     "ename": "NameError",
     "evalue": "name 'cottonG' is not defined",
     "output_type": "error",
     "traceback": [
      "\u001b[1;31m---------------------------------------------------------------------------\u001b[0m",
      "\u001b[1;31mNameError\u001b[0m                                 Traceback (most recent call last)",
      "\u001b[1;32m~\\AppData\\Local\\Temp\\ipykernel_13968\\1502735209.py\u001b[0m in \u001b[0;36m<module>\u001b[1;34m\u001b[0m\n\u001b[1;32m----> 1\u001b[1;33m \u001b[0mWithinSS_1\u001b[0m\u001b[1;33m=\u001b[0m\u001b[0mnp\u001b[0m\u001b[1;33m.\u001b[0m\u001b[0msum\u001b[0m\u001b[1;33m(\u001b[0m\u001b[1;33m(\u001b[0m\u001b[0mcottonG\u001b[0m\u001b[1;33m[\u001b[0m\u001b[1;34m\"15%\"\u001b[0m\u001b[1;33m]\u001b[0m\u001b[1;33m-\u001b[0m\u001b[0mnp\u001b[0m\u001b[1;33m.\u001b[0m\u001b[0mmean\u001b[0m\u001b[1;33m(\u001b[0m\u001b[0mcottonG\u001b[0m\u001b[1;33m[\u001b[0m\u001b[1;34m\"15%\"\u001b[0m\u001b[1;33m]\u001b[0m\u001b[1;33m)\u001b[0m\u001b[1;33m)\u001b[0m\u001b[1;33m**\u001b[0m\u001b[1;36m2\u001b[0m\u001b[1;33m)\u001b[0m\u001b[1;33m\u001b[0m\u001b[1;33m\u001b[0m\u001b[0m\n\u001b[0m\u001b[0;32m      2\u001b[0m \u001b[0mWithinSS_2\u001b[0m\u001b[1;33m=\u001b[0m\u001b[0mnp\u001b[0m\u001b[1;33m.\u001b[0m\u001b[0msum\u001b[0m\u001b[1;33m(\u001b[0m\u001b[1;33m(\u001b[0m\u001b[0mcottonG\u001b[0m\u001b[1;33m[\u001b[0m\u001b[1;34m\"20%\"\u001b[0m\u001b[1;33m]\u001b[0m\u001b[1;33m-\u001b[0m\u001b[0mnp\u001b[0m\u001b[1;33m.\u001b[0m\u001b[0mmean\u001b[0m\u001b[1;33m(\u001b[0m\u001b[0mcottonG\u001b[0m\u001b[1;33m[\u001b[0m\u001b[1;34m\"20%\"\u001b[0m\u001b[1;33m]\u001b[0m\u001b[1;33m)\u001b[0m\u001b[1;33m)\u001b[0m\u001b[1;33m**\u001b[0m\u001b[1;36m2\u001b[0m\u001b[1;33m)\u001b[0m\u001b[1;33m\u001b[0m\u001b[1;33m\u001b[0m\u001b[0m\n\u001b[0;32m      3\u001b[0m \u001b[0mWithinSS_3\u001b[0m\u001b[1;33m=\u001b[0m\u001b[0mnp\u001b[0m\u001b[1;33m.\u001b[0m\u001b[0msum\u001b[0m\u001b[1;33m(\u001b[0m\u001b[1;33m(\u001b[0m\u001b[0mcottonG\u001b[0m\u001b[1;33m[\u001b[0m\u001b[1;34m\"25%\"\u001b[0m\u001b[1;33m]\u001b[0m\u001b[1;33m-\u001b[0m\u001b[0mnp\u001b[0m\u001b[1;33m.\u001b[0m\u001b[0mmean\u001b[0m\u001b[1;33m(\u001b[0m\u001b[0mcottonG\u001b[0m\u001b[1;33m[\u001b[0m\u001b[1;34m\"25%\"\u001b[0m\u001b[1;33m]\u001b[0m\u001b[1;33m)\u001b[0m\u001b[1;33m)\u001b[0m\u001b[1;33m**\u001b[0m\u001b[1;36m2\u001b[0m\u001b[1;33m)\u001b[0m\u001b[1;33m\u001b[0m\u001b[1;33m\u001b[0m\u001b[0m\n\u001b[0;32m      4\u001b[0m \u001b[0mWithinSS_4\u001b[0m\u001b[1;33m=\u001b[0m\u001b[0mnp\u001b[0m\u001b[1;33m.\u001b[0m\u001b[0msum\u001b[0m\u001b[1;33m(\u001b[0m\u001b[1;33m(\u001b[0m\u001b[0mcottonG\u001b[0m\u001b[1;33m[\u001b[0m\u001b[1;34m\"30%\"\u001b[0m\u001b[1;33m]\u001b[0m\u001b[1;33m-\u001b[0m\u001b[0mnp\u001b[0m\u001b[1;33m.\u001b[0m\u001b[0mmean\u001b[0m\u001b[1;33m(\u001b[0m\u001b[0mcottonG\u001b[0m\u001b[1;33m[\u001b[0m\u001b[1;34m\"30%\"\u001b[0m\u001b[1;33m]\u001b[0m\u001b[1;33m)\u001b[0m\u001b[1;33m)\u001b[0m\u001b[1;33m**\u001b[0m\u001b[1;36m2\u001b[0m\u001b[1;33m)\u001b[0m\u001b[1;33m\u001b[0m\u001b[1;33m\u001b[0m\u001b[0m\n\u001b[0;32m      5\u001b[0m \u001b[0mWithinSS_5\u001b[0m\u001b[1;33m=\u001b[0m\u001b[0mnp\u001b[0m\u001b[1;33m.\u001b[0m\u001b[0msum\u001b[0m\u001b[1;33m(\u001b[0m\u001b[1;33m(\u001b[0m\u001b[0mcottonG\u001b[0m\u001b[1;33m[\u001b[0m\u001b[1;34m\"35%\"\u001b[0m\u001b[1;33m]\u001b[0m\u001b[1;33m-\u001b[0m\u001b[0mnp\u001b[0m\u001b[1;33m.\u001b[0m\u001b[0mmean\u001b[0m\u001b[1;33m(\u001b[0m\u001b[0mcottonG\u001b[0m\u001b[1;33m[\u001b[0m\u001b[1;34m\"35%\"\u001b[0m\u001b[1;33m]\u001b[0m\u001b[1;33m)\u001b[0m\u001b[1;33m)\u001b[0m\u001b[1;33m**\u001b[0m\u001b[1;36m2\u001b[0m\u001b[1;33m)\u001b[0m\u001b[1;33m\u001b[0m\u001b[1;33m\u001b[0m\u001b[0m\n",
      "\u001b[1;31mNameError\u001b[0m: name 'cottonG' is not defined"
     ]
    }
   ],
   "source": [
    "WithinSS_1=np.sum((cottonG[\"15%\"]-np.mean(cottonG[\"15%\"]))**2)\n",
    "WithinSS_2=np.sum((cottonG[\"20%\"]-np.mean(cottonG[\"20%\"]))**2)\n",
    "WithinSS_3=np.sum((cottonG[\"25%\"]-np.mean(cottonG[\"25%\"]))**2)\n",
    "WithinSS_4=np.sum((cottonG[\"30%\"]-np.mean(cottonG[\"30%\"]))**2)\n",
    "WithinSS_5=np.sum((cottonG[\"35%\"]-np.mean(cottonG[\"35%\"]))**2)\n",
    "WithinSS=(WithinSS_1+WithinSS_2+WithinSS_3+WithinSS_4+WithinSS_5)\n",
    "WithinSS"
   ]
  },
  {
   "cell_type": "code",
   "execution_count": 29,
   "id": "02e4d633-5155-44ad-a62e-2785c011f9ab",
   "metadata": {},
   "outputs": [
    {
     "ename": "NameError",
     "evalue": "name 'WithinSS' is not defined",
     "output_type": "error",
     "traceback": [
      "\u001b[1;31m---------------------------------------------------------------------------\u001b[0m",
      "\u001b[1;31mNameError\u001b[0m                                 Traceback (most recent call last)",
      "\u001b[1;32m~\\AppData\\Local\\Temp\\ipykernel_13968\\688673482.py\u001b[0m in \u001b[0;36m<module>\u001b[1;34m\u001b[0m\n\u001b[1;32m----> 1\u001b[1;33m \u001b[0mMSWithin\u001b[0m\u001b[1;33m=\u001b[0m\u001b[0mWithinSS\u001b[0m\u001b[1;33m/\u001b[0m\u001b[1;36m20\u001b[0m\u001b[1;33m\u001b[0m\u001b[1;33m\u001b[0m\u001b[0m\n\u001b[0m\u001b[0;32m      2\u001b[0m \u001b[0mMSWithin\u001b[0m\u001b[1;33m\u001b[0m\u001b[1;33m\u001b[0m\u001b[0m\n",
      "\u001b[1;31mNameError\u001b[0m: name 'WithinSS' is not defined"
     ]
    }
   ],
   "source": [
    "MSWithin=WithinSS/20\n",
    "MSWithin"
   ]
  },
  {
   "cell_type": "code",
   "execution_count": 30,
   "id": "0731f32f-7d2e-4701-8eab-3dd181d3a0b0",
   "metadata": {},
   "outputs": [
    {
     "ename": "NameError",
     "evalue": "name 'MSBetween' is not defined",
     "output_type": "error",
     "traceback": [
      "\u001b[1;31m---------------------------------------------------------------------------\u001b[0m",
      "\u001b[1;31mNameError\u001b[0m                                 Traceback (most recent call last)",
      "\u001b[1;32m~\\AppData\\Local\\Temp\\ipykernel_13968\\3891663070.py\u001b[0m in \u001b[0;36m<module>\u001b[1;34m\u001b[0m\n\u001b[1;32m----> 1\u001b[1;33m \u001b[0mF_statistic\u001b[0m\u001b[1;33m=\u001b[0m\u001b[0mMSBetween\u001b[0m\u001b[1;33m/\u001b[0m\u001b[0mMSWithin\u001b[0m\u001b[1;33m\u001b[0m\u001b[1;33m\u001b[0m\u001b[0m\n\u001b[0m\u001b[0;32m      2\u001b[0m \u001b[0mF_statistic\u001b[0m\u001b[1;33m\u001b[0m\u001b[1;33m\u001b[0m\u001b[0m\n",
      "\u001b[1;31mNameError\u001b[0m: name 'MSBetween' is not defined"
     ]
    }
   ],
   "source": [
    "F_statistic=MSBetween/MSWithin\n",
    "F_statistic"
   ]
  },
  {
   "cell_type": "markdown",
   "id": "8629cbbd-9b64-498a-aa24-22f38184dadf",
   "metadata": {},
   "source": [
    "The F statistic is the batch mean square divided by the residual mean square. \n",
    "\n",
    "This statistic follows an F distribution with (k-1) and (N-k) degrees of freedom. For our example, the critical F value (upper tail) for α = 0.05, (k-1) = 4, and (N-k) = 20 is XXXXXX. \n",
    "\n",
    "Since the F statistic, XXXXXX, is greater than the critical value, we conclude that there is a significant batch effect at the 0.05 level of significance.\n",
    "\n",
    "Or find the exact p-value associated with the test statistic  \n",
    ":  cdf(x, dfn, dfd, loc=0, scale=1)"
   ]
  },
  {
   "cell_type": "code",
   "execution_count": 31,
   "id": "4cdd88c4-ae93-4251-a880-df64a0c35c19",
   "metadata": {},
   "outputs": [],
   "source": [
    "from scipy.stats import f"
   ]
  },
  {
   "cell_type": "code",
   "execution_count": 32,
   "id": "0dc3b564-4ff6-46a8-9eba-0042b72b99f3",
   "metadata": {},
   "outputs": [
    {
     "data": {
      "text/plain": [
       "2.8660814020156584"
      ]
     },
     "execution_count": 32,
     "metadata": {},
     "output_type": "execute_result"
    }
   ],
   "source": [
    "f.ppf(0.95,4,20)"
   ]
  },
  {
   "cell_type": "code",
   "execution_count": 33,
   "id": "467d08f6-7ad1-4bcb-83e3-30a8ef6272c7",
   "metadata": {},
   "outputs": [
    {
     "ename": "NameError",
     "evalue": "name 'F_statistic' is not defined",
     "output_type": "error",
     "traceback": [
      "\u001b[1;31m---------------------------------------------------------------------------\u001b[0m",
      "\u001b[1;31mNameError\u001b[0m                                 Traceback (most recent call last)",
      "\u001b[1;32m~\\AppData\\Local\\Temp\\ipykernel_13968\\1535558750.py\u001b[0m in \u001b[0;36m<module>\u001b[1;34m\u001b[0m\n\u001b[1;32m----> 1\u001b[1;33m \u001b[1;36m1\u001b[0m\u001b[1;33m-\u001b[0m\u001b[0mf\u001b[0m\u001b[1;33m.\u001b[0m\u001b[0mcdf\u001b[0m\u001b[1;33m(\u001b[0m\u001b[0mF_statistic\u001b[0m\u001b[1;33m,\u001b[0m\u001b[1;36m4\u001b[0m\u001b[1;33m,\u001b[0m\u001b[1;36m20\u001b[0m\u001b[1;33m)\u001b[0m\u001b[1;33m\u001b[0m\u001b[1;33m\u001b[0m\u001b[0m\n\u001b[0m",
      "\u001b[1;31mNameError\u001b[0m: name 'F_statistic' is not defined"
     ]
    }
   ],
   "source": [
    "1-f.cdf(F_statistic,4,20)"
   ]
  },
  {
   "cell_type": "markdown",
   "id": "95e04103-ccb8-4740-8c55-f344d1b67c2b",
   "metadata": {},
   "source": [
    "check your model assumptions"
   ]
  },
  {
   "cell_type": "code",
   "execution_count": 34,
   "id": "1a4cfc2d-083f-4308-8fe9-c86b960ff1c0",
   "metadata": {},
   "outputs": [
    {
     "ename": "NameError",
     "evalue": "name 'cottonG' is not defined",
     "output_type": "error",
     "traceback": [
      "\u001b[1;31m---------------------------------------------------------------------------\u001b[0m",
      "\u001b[1;31mNameError\u001b[0m                                 Traceback (most recent call last)",
      "\u001b[1;32m~\\AppData\\Local\\Temp\\ipykernel_13968\\1815944132.py\u001b[0m in \u001b[0;36m<module>\u001b[1;34m\u001b[0m\n\u001b[1;32m----> 1\u001b[1;33m \u001b[0mscipy\u001b[0m\u001b[1;33m.\u001b[0m\u001b[0mstats\u001b[0m\u001b[1;33m.\u001b[0m\u001b[0mlevene\u001b[0m\u001b[1;33m(\u001b[0m\u001b[0mcottonG\u001b[0m\u001b[1;33m[\u001b[0m\u001b[1;34m\"15%\"\u001b[0m\u001b[1;33m]\u001b[0m\u001b[1;33m,\u001b[0m\u001b[0mcottonG\u001b[0m\u001b[1;33m[\u001b[0m\u001b[1;34m\"20%\"\u001b[0m\u001b[1;33m]\u001b[0m\u001b[1;33m,\u001b[0m\u001b[0mcottonG\u001b[0m\u001b[1;33m[\u001b[0m\u001b[1;34m\"25%\"\u001b[0m\u001b[1;33m]\u001b[0m\u001b[1;33m,\u001b[0m\u001b[0mcottonG\u001b[0m\u001b[1;33m[\u001b[0m\u001b[1;34m\"30%\"\u001b[0m\u001b[1;33m]\u001b[0m\u001b[1;33m,\u001b[0m\u001b[0mcottonG\u001b[0m\u001b[1;33m[\u001b[0m\u001b[1;34m\"35%\"\u001b[0m\u001b[1;33m]\u001b[0m\u001b[1;33m)\u001b[0m\u001b[1;33m\u001b[0m\u001b[1;33m\u001b[0m\u001b[0m\n\u001b[0m",
      "\u001b[1;31mNameError\u001b[0m: name 'cottonG' is not defined"
     ]
    }
   ],
   "source": [
    "scipy.stats.levene(cottonG[\"15%\"],cottonG[\"20%\"],cottonG[\"25%\"],cottonG[\"30%\"],cottonG[\"35%\"])"
   ]
  },
  {
   "cell_type": "code",
   "execution_count": 35,
   "id": "a00b5844-4eb5-4f1d-9879-a878fe06d2ca",
   "metadata": {},
   "outputs": [
    {
     "ename": "NameError",
     "evalue": "name 'cottonG' is not defined",
     "output_type": "error",
     "traceback": [
      "\u001b[1;31m---------------------------------------------------------------------------\u001b[0m",
      "\u001b[1;31mNameError\u001b[0m                                 Traceback (most recent call last)",
      "\u001b[1;32m~\\AppData\\Local\\Temp\\ipykernel_13968\\156109097.py\u001b[0m in \u001b[0;36m<module>\u001b[1;34m\u001b[0m\n\u001b[1;32m----> 1\u001b[1;33m \u001b[0mcottonG\u001b[0m\u001b[1;33m[\u001b[0m\u001b[1;34m\"15%\"\u001b[0m\u001b[1;33m]\u001b[0m\u001b[1;33m.\u001b[0m\u001b[0msort_values\u001b[0m\u001b[1;33m(\u001b[0m\u001b[1;33m)\u001b[0m\u001b[1;33m\u001b[0m\u001b[1;33m\u001b[0m\u001b[0m\n\u001b[0m\u001b[0;32m      2\u001b[0m \u001b[0mcottonG\u001b[0m\u001b[1;33m[\u001b[0m\u001b[1;34m\"20%\"\u001b[0m\u001b[1;33m]\u001b[0m\u001b[1;33m.\u001b[0m\u001b[0msort_values\u001b[0m\u001b[1;33m(\u001b[0m\u001b[1;33m)\u001b[0m\u001b[1;33m\u001b[0m\u001b[1;33m\u001b[0m\u001b[0m\n\u001b[0;32m      3\u001b[0m \u001b[0mcottonG\u001b[0m\u001b[1;33m[\u001b[0m\u001b[1;34m\"25%\"\u001b[0m\u001b[1;33m]\u001b[0m\u001b[1;33m.\u001b[0m\u001b[0msort_values\u001b[0m\u001b[1;33m(\u001b[0m\u001b[1;33m)\u001b[0m\u001b[1;33m\u001b[0m\u001b[1;33m\u001b[0m\u001b[0m\n\u001b[0;32m      4\u001b[0m \u001b[0mcottonG\u001b[0m\u001b[1;33m[\u001b[0m\u001b[1;34m\"25%\"\u001b[0m\u001b[1;33m]\u001b[0m\u001b[1;33m.\u001b[0m\u001b[0msort_values\u001b[0m\u001b[1;33m(\u001b[0m\u001b[1;33m)\u001b[0m\u001b[1;33m\u001b[0m\u001b[1;33m\u001b[0m\u001b[0m\n\u001b[0;32m      5\u001b[0m \u001b[0mcottonG\u001b[0m\u001b[1;33m[\u001b[0m\u001b[1;34m\"30%\"\u001b[0m\u001b[1;33m]\u001b[0m\u001b[1;33m.\u001b[0m\u001b[0msort_values\u001b[0m\u001b[1;33m(\u001b[0m\u001b[1;33m)\u001b[0m\u001b[1;33m\u001b[0m\u001b[1;33m\u001b[0m\u001b[0m\n",
      "\u001b[1;31mNameError\u001b[0m: name 'cottonG' is not defined"
     ]
    }
   ],
   "source": [
    "cottonG[\"15%\"].sort_values()\n",
    "cottonG[\"20%\"].sort_values()\n",
    "cottonG[\"25%\"].sort_values()\n",
    "cottonG[\"25%\"].sort_values()\n",
    "cottonG[\"30%\"].sort_values()\n",
    "fig2,ax2=plt.subplots(nrows=3,ncols=2,figsize=(10,4))\n",
    "sm.qqplot(cottonG[\"15%\"],line='45',loc=np.mean(cottonG[\"15%\"]),scale=np.std(cottonG[\"15%\"],ddof=1),ax=ax2[0,0])\n",
    "sm.qqplot(cottonG[\"20%\"],line='45',loc=np.mean(cottonG[\"20%\"]),scale=np.std(cottonG[\"20%\"],ddof=1),ax=ax2[0,1])\n",
    "sm.qqplot(cottonG[\"25%\"],line='45',loc=np.mean(cottonG[\"25%\"]),scale=np.std(cottonG[\"25%\"],ddof=1),ax=ax2[1,0])\n",
    "sm.qqplot(cottonG[\"30%\"],line='45',loc=np.mean(cottonG[\"30%\"]),scale=np.std(cottonG[\"30%\"],ddof=1),ax=ax2[1,1])\n",
    "sm.qqplot(cottonG[\"35%\"],line='45',loc=np.mean(cottonG[\"35%\"]),scale=np.std(cottonG[\"35%\"],ddof=1),ax=ax2[2,0])\n",
    "plt.show()"
   ]
  },
  {
   "cell_type": "markdown",
   "id": "2018e252-e9a9-4f26-b3bc-302b7feb92bb",
   "metadata": {},
   "source": [
    "Once we have determined that there is a significant batch effect, we might be interested in comparing individual batch means. The batch means and the standard errors of the batch means provide some information about the individual batches. However, we may want to employ multiple comparison methods for a more formal analysis."
   ]
  },
  {
   "cell_type": "markdown",
   "id": "fb5921bc-e50b-4781-b1e4-21393e33a59d",
   "metadata": {},
   "source": [
    "n choose k:  XXXXXXX pairwise comparisons"
   ]
  },
  {
   "cell_type": "markdown",
   "id": "9871414a-7f06-4e00-85ef-61c99095d710",
   "metadata": {},
   "source": [
    "Tukeys test (Honest Significant Difference) is a single-step multiple comparison procedure and statistical test. It can be used to find means that are significantly different from each other.\n",
    "\n",
    "It compares all possible pairs of means, and is based on a studentized range distribution (q :this distribution is similar to the distribution of t from the t-test)."
   ]
  },
  {
   "cell_type": "code",
   "execution_count": 36,
   "id": "0f54137f-eace-433b-b516-bca4fe1f25ce",
   "metadata": {},
   "outputs": [],
   "source": [
    "from statsmodels.stats.multicomp import pairwise_tukeyhsd"
   ]
  },
  {
   "cell_type": "code",
   "execution_count": 37,
   "id": "eb360901-e739-474a-ab4d-c056b32e1ce6",
   "metadata": {},
   "outputs": [
    {
     "name": "stdout",
     "output_type": "stream",
     "text": [
      "Multiple Comparison of Means - Tukey HSD, FWER=0.05\n",
      "===================================================\n",
      "group1 group2 meandiff p-adj   lower  upper  reject\n",
      "---------------------------------------------------\n",
      "  15.0   20.0      5.6 0.0385   0.227 10.973   True\n",
      "  15.0   25.0      7.8 0.0026   2.427 13.173   True\n",
      "  15.0   30.0     11.8    0.0   6.427 17.173   True\n",
      "  15.0   35.0      1.0 0.9798  -4.373  6.373  False\n",
      "  20.0   25.0      2.2 0.7372  -3.173  7.573  False\n",
      "  20.0   30.0      6.2 0.0189   0.827 11.573   True\n",
      "  20.0   35.0     -4.6 0.1163  -9.973  0.773  False\n",
      "  25.0   30.0      4.0 0.2101  -1.373  9.373  False\n",
      "  25.0   35.0     -6.8 0.0091 -12.173 -1.427   True\n",
      "  30.0   35.0    -10.8 0.0001 -16.173 -5.427   True\n",
      "---------------------------------------------------\n"
     ]
    }
   ],
   "source": [
    "mult_comp=pairwise_tukeyhsd(endog=cotton[\"Observations\"], groups=cotton['Cotton_Weight_%'], alpha=0.05)\n",
    "print(mult_comp)"
   ]
  },
  {
   "cell_type": "code",
   "execution_count": 38,
   "id": "6d70b193-3fb2-4757-ba46-edb844feb015",
   "metadata": {},
   "outputs": [
    {
     "data": {
      "text/html": [
       "<table class=\"simpletable\">\n",
       "<caption>Test Multiple Comparison ttest_ind \n",
       "FWER=0.05 method=bonf\n",
       "alphacSidak=0.01, alphacBonf=0.005</caption>\n",
       "<tr>\n",
       "  <th>group1</th> <th>group2</th>  <th>stat</th>    <th>pval</th>  <th>pval_corr</th> <th>reject</th>\n",
       "</tr>\n",
       "<tr>\n",
       "   <td>15.0</td>   <td>20.0</td>  <td>-2.7325</td> <td>0.0257</td>  <td>0.2575</td>    <td>False</td>\n",
       "</tr>\n",
       "<tr>\n",
       "   <td>15.0</td>   <td>25.0</td>  <td>-4.4301</td> <td>0.0022</td>   <td>0.022</td>    <td>True</td> \n",
       "</tr>\n",
       "<tr>\n",
       "   <td>15.0</td>   <td>30.0</td>  <td>-6.2191</td> <td>0.0003</td>  <td>0.0025</td>    <td>True</td> \n",
       "</tr>\n",
       "<tr>\n",
       "   <td>15.0</td>   <td>35.0</td>  <td>-0.5077</td> <td>0.6254</td>    <td>1.0</td>     <td>False</td>\n",
       "</tr>\n",
       "<tr>\n",
       "   <td>20.0</td>   <td>25.0</td>  <td>-1.3101</td> <td>0.2265</td>    <td>1.0</td>     <td>False</td>\n",
       "</tr>\n",
       "<tr>\n",
       "   <td>20.0</td>   <td>30.0</td>  <td>-3.4027</td> <td>0.0093</td>  <td>0.0932</td>    <td>False</td>\n",
       "</tr>\n",
       "<tr>\n",
       "   <td>20.0</td>   <td>35.0</td>  <td>2.4244</td>  <td>0.0416</td>  <td>0.4156</td>    <td>False</td>\n",
       "</tr>\n",
       "<tr>\n",
       "   <td>25.0</td>   <td>30.0</td>  <td>-2.6846</td> <td>0.0277</td>  <td>0.2773</td>    <td>False</td>\n",
       "</tr>\n",
       "<tr>\n",
       "   <td>25.0</td>   <td>35.0</td>  <td>4.3007</td>  <td>0.0026</td>  <td>0.0261</td>    <td>True</td> \n",
       "</tr>\n",
       "<tr>\n",
       "   <td>30.0</td>   <td>35.0</td>  <td>6.2354</td>  <td>0.0002</td>  <td>0.0025</td>    <td>True</td> \n",
       "</tr>\n",
       "</table>"
      ],
      "text/plain": [
       "<class 'statsmodels.iolib.table.SimpleTable'>"
      ]
     },
     "execution_count": 38,
     "metadata": {},
     "output_type": "execute_result"
    }
   ],
   "source": [
    "import statsmodels.stats.multicomp as mc\n",
    "comp = mc.MultiComparison(cotton[\"Observations\"], cotton['Cotton_Weight_%'])\n",
    "tbl, a1, a2 = comp.allpairtest(stats.ttest_ind, method= \"bonf\")\n",
    "tbl"
   ]
  },
  {
   "cell_type": "code",
   "execution_count": 39,
   "id": "f1d7f398-2778-4ac9-bac3-5e4b79085ac2",
   "metadata": {},
   "outputs": [
    {
     "ename": "NameError",
     "evalue": "name 'cottonG' is not defined",
     "output_type": "error",
     "traceback": [
      "\u001b[1;31m---------------------------------------------------------------------------\u001b[0m",
      "\u001b[1;31mNameError\u001b[0m                                 Traceback (most recent call last)",
      "\u001b[1;32m~\\AppData\\Local\\Temp\\ipykernel_13968\\1846810610.py\u001b[0m in \u001b[0;36m<module>\u001b[1;34m\u001b[0m\n\u001b[1;32m----> 1\u001b[1;33m \u001b[0mstats\u001b[0m\u001b[1;33m.\u001b[0m\u001b[0mttest_ind\u001b[0m\u001b[1;33m(\u001b[0m\u001b[0mcottonG\u001b[0m\u001b[1;33m[\u001b[0m\u001b[1;34m\"15%\"\u001b[0m\u001b[1;33m]\u001b[0m\u001b[1;33m,\u001b[0m\u001b[0mcottonG\u001b[0m\u001b[1;33m[\u001b[0m\u001b[1;34m\"20%\"\u001b[0m\u001b[1;33m]\u001b[0m\u001b[1;33m)\u001b[0m\u001b[1;33m\u001b[0m\u001b[1;33m\u001b[0m\u001b[0m\n\u001b[0m",
      "\u001b[1;31mNameError\u001b[0m: name 'cottonG' is not defined"
     ]
    }
   ],
   "source": [
    "stats.ttest_ind(cottonG[\"15%\"],cottonG[\"20%\"])"
   ]
  },
  {
   "cell_type": "code",
   "execution_count": null,
   "id": "ea644b0a-8608-4e90-9f05-2d2bd839713a",
   "metadata": {},
   "outputs": [],
   "source": []
  },
  {
   "cell_type": "markdown",
   "id": "da63d36a-8e52-4602-9b07-d201b667c97f",
   "metadata": {},
   "source": [
    "# General linear model\n",
    "\n",
    "The general linear model (GLM) is the conventional linear regression model for a continuous response variable given continuous and/or categorical predictors. It includes simple linear regression, multiple linear regression, as well as ANOVA. "
   ]
  },
  {
   "cell_type": "code",
   "execution_count": 41,
   "id": "70c7a77e-8af3-4315-81cd-081563bd67df",
   "metadata": {},
   "outputs": [],
   "source": [
    "from statsmodels.formula.api import ols\n",
    "import statsmodels.api as sm"
   ]
  },
  {
   "cell_type": "markdown",
   "id": "3baa9e64-e6c3-4322-b36c-5b61972bbee2",
   "metadata": {},
   "source": [
    "**read in the dataset**\n",
    "\n",
    "putting a # allows you to annotate with notes; having the # tells python to not read this line as code"
   ]
  },
  {
   "cell_type": "code",
   "execution_count": 42,
   "id": "6e069ca7-9d80-4a97-9835-8fe5f949d49d",
   "metadata": {},
   "outputs": [],
   "source": [
    "#cottonN = pd.read_csv('cotton_weightN.csv')\n",
    "#print(cottonN)"
   ]
  },
  {
   "cell_type": "code",
   "execution_count": 43,
   "id": "548c9f74-043f-43e3-b9d3-7fbbe9ea74fd",
   "metadata": {},
   "outputs": [
    {
     "ename": "NameError",
     "evalue": "name 'cottonN' is not defined",
     "output_type": "error",
     "traceback": [
      "\u001b[1;31m---------------------------------------------------------------------------\u001b[0m",
      "\u001b[1;31mNameError\u001b[0m                                 Traceback (most recent call last)",
      "\u001b[1;32m~\\AppData\\Local\\Temp\\ipykernel_13968\\1703585067.py\u001b[0m in \u001b[0;36m<module>\u001b[1;34m\u001b[0m\n\u001b[0;32m      1\u001b[0m \u001b[1;31m#fit the simple linear regression model\u001b[0m\u001b[1;33m\u001b[0m\u001b[1;33m\u001b[0m\u001b[0m\n\u001b[1;32m----> 2\u001b[1;33m \u001b[0mmodel\u001b[0m\u001b[1;33m=\u001b[0m\u001b[0mols\u001b[0m\u001b[1;33m(\u001b[0m\u001b[1;34m'Observations~Cotton_Weight'\u001b[0m\u001b[1;33m,\u001b[0m\u001b[0mdata\u001b[0m\u001b[1;33m=\u001b[0m\u001b[0mcottonN\u001b[0m\u001b[1;33m)\u001b[0m\u001b[1;33m\u001b[0m\u001b[1;33m\u001b[0m\u001b[0m\n\u001b[0m\u001b[0;32m      3\u001b[0m \u001b[0mresults\u001b[0m\u001b[1;33m=\u001b[0m\u001b[0mmodel\u001b[0m\u001b[1;33m.\u001b[0m\u001b[0mfit\u001b[0m\u001b[1;33m(\u001b[0m\u001b[1;33m)\u001b[0m\u001b[1;33m\u001b[0m\u001b[1;33m\u001b[0m\u001b[0m\n\u001b[0;32m      4\u001b[0m \u001b[0mprint\u001b[0m\u001b[1;33m(\u001b[0m\u001b[0mresults\u001b[0m\u001b[1;33m.\u001b[0m\u001b[0msummary2\u001b[0m\u001b[1;33m(\u001b[0m\u001b[1;33m)\u001b[0m\u001b[1;33m)\u001b[0m\u001b[1;33m\u001b[0m\u001b[1;33m\u001b[0m\u001b[0m\n",
      "\u001b[1;31mNameError\u001b[0m: name 'cottonN' is not defined"
     ]
    }
   ],
   "source": [
    "#fit the simple linear regression model\n",
    "model=ols('Observations~Cotton_Weight',data=cottonN)\n",
    "results=model.fit()\n",
    "print(results.summary2())"
   ]
  },
  {
   "cell_type": "code",
   "execution_count": 44,
   "id": "06e0b68d-064c-4717-82bd-84ff708cf2b2",
   "metadata": {},
   "outputs": [
    {
     "ename": "NameError",
     "evalue": "name 'results' is not defined",
     "output_type": "error",
     "traceback": [
      "\u001b[1;31m---------------------------------------------------------------------------\u001b[0m",
      "\u001b[1;31mNameError\u001b[0m                                 Traceback (most recent call last)",
      "\u001b[1;32m~\\AppData\\Local\\Temp\\ipykernel_13968\\669652950.py\u001b[0m in \u001b[0;36m<module>\u001b[1;34m\u001b[0m\n\u001b[0;32m      1\u001b[0m \u001b[1;32mfrom\u001b[0m \u001b[0mstatsmodels\u001b[0m\u001b[1;33m.\u001b[0m\u001b[0mstats\u001b[0m\u001b[1;33m.\u001b[0m\u001b[0manova\u001b[0m \u001b[1;32mimport\u001b[0m \u001b[0manova_lm\u001b[0m\u001b[1;33m\u001b[0m\u001b[1;33m\u001b[0m\u001b[0m\n\u001b[1;32m----> 2\u001b[1;33m \u001b[0manova_results\u001b[0m \u001b[1;33m=\u001b[0m \u001b[0manova_lm\u001b[0m\u001b[1;33m(\u001b[0m\u001b[0mresults\u001b[0m\u001b[1;33m)\u001b[0m\u001b[1;33m\u001b[0m\u001b[1;33m\u001b[0m\u001b[0m\n\u001b[0m\u001b[0;32m      3\u001b[0m \u001b[0mprint\u001b[0m\u001b[1;33m(\u001b[0m\u001b[0manova_results\u001b[0m\u001b[1;33m)\u001b[0m\u001b[1;33m\u001b[0m\u001b[1;33m\u001b[0m\u001b[0m\n",
      "\u001b[1;31mNameError\u001b[0m: name 'results' is not defined"
     ]
    }
   ],
   "source": [
    "from statsmodels.stats.anova import anova_lm\n",
    "anova_results = anova_lm(results)\n",
    "print(anova_results)"
   ]
  },
  {
   "cell_type": "code",
   "execution_count": 45,
   "id": "4f1ce08c-ecfe-4ee3-ae44-5ba4573741ef",
   "metadata": {},
   "outputs": [
    {
     "ename": "NameError",
     "evalue": "name 'cottonN' is not defined",
     "output_type": "error",
     "traceback": [
      "\u001b[1;31m---------------------------------------------------------------------------\u001b[0m",
      "\u001b[1;31mNameError\u001b[0m                                 Traceback (most recent call last)",
      "\u001b[1;32m~\\AppData\\Local\\Temp\\ipykernel_13968\\2381014362.py\u001b[0m in \u001b[0;36m<module>\u001b[1;34m\u001b[0m\n\u001b[1;32m----> 1\u001b[1;33m \u001b[0mmodel2\u001b[0m\u001b[1;33m=\u001b[0m\u001b[0mols\u001b[0m\u001b[1;33m(\u001b[0m\u001b[1;34m'Observations~Cotton_Weight+I(Cotton_Weight*Cotton_Weight)+I(Cotton_Weight*Cotton_Weight*Cotton_Weight)'\u001b[0m\u001b[1;33m,\u001b[0m\u001b[0mdata\u001b[0m\u001b[1;33m=\u001b[0m\u001b[0mcottonN\u001b[0m\u001b[1;33m)\u001b[0m\u001b[1;33m\u001b[0m\u001b[1;33m\u001b[0m\u001b[0m\n\u001b[0m\u001b[0;32m      2\u001b[0m \u001b[0mresults2\u001b[0m\u001b[1;33m=\u001b[0m\u001b[0mmodel2\u001b[0m\u001b[1;33m.\u001b[0m\u001b[0mfit\u001b[0m\u001b[1;33m(\u001b[0m\u001b[1;33m)\u001b[0m\u001b[1;33m\u001b[0m\u001b[1;33m\u001b[0m\u001b[0m\n\u001b[0;32m      3\u001b[0m \u001b[0mprint\u001b[0m\u001b[1;33m(\u001b[0m\u001b[0mresults2\u001b[0m\u001b[1;33m.\u001b[0m\u001b[0msummary2\u001b[0m\u001b[1;33m(\u001b[0m\u001b[1;33m)\u001b[0m\u001b[1;33m)\u001b[0m\u001b[1;33m\u001b[0m\u001b[1;33m\u001b[0m\u001b[0m\n",
      "\u001b[1;31mNameError\u001b[0m: name 'cottonN' is not defined"
     ]
    }
   ],
   "source": [
    "model2=ols('Observations~Cotton_Weight+I(Cotton_Weight*Cotton_Weight)+I(Cotton_Weight*Cotton_Weight*Cotton_Weight)',data=cottonN)\n",
    "results2=model2.fit()\n",
    "print(results2.summary2())"
   ]
  },
  {
   "cell_type": "code",
   "execution_count": 46,
   "id": "30082e82-8028-455e-89f9-6c861dc74b73",
   "metadata": {},
   "outputs": [
    {
     "ename": "NameError",
     "evalue": "name 'results2' is not defined",
     "output_type": "error",
     "traceback": [
      "\u001b[1;31m---------------------------------------------------------------------------\u001b[0m",
      "\u001b[1;31mNameError\u001b[0m                                 Traceback (most recent call last)",
      "\u001b[1;32m~\\AppData\\Local\\Temp\\ipykernel_13968\\228579985.py\u001b[0m in \u001b[0;36m<module>\u001b[1;34m\u001b[0m\n\u001b[0;32m      1\u001b[0m \u001b[1;32mfrom\u001b[0m \u001b[0mstatsmodels\u001b[0m\u001b[1;33m.\u001b[0m\u001b[0mstats\u001b[0m\u001b[1;33m.\u001b[0m\u001b[0manova\u001b[0m \u001b[1;32mimport\u001b[0m \u001b[0manova_lm\u001b[0m\u001b[1;33m\u001b[0m\u001b[1;33m\u001b[0m\u001b[0m\n\u001b[1;32m----> 2\u001b[1;33m \u001b[0manova_results2\u001b[0m \u001b[1;33m=\u001b[0m \u001b[0manova_lm\u001b[0m\u001b[1;33m(\u001b[0m\u001b[0mresults2\u001b[0m\u001b[1;33m)\u001b[0m\u001b[1;33m\u001b[0m\u001b[1;33m\u001b[0m\u001b[0m\n\u001b[0m\u001b[0;32m      3\u001b[0m \u001b[0manova_results2\u001b[0m\u001b[1;33m\u001b[0m\u001b[1;33m\u001b[0m\u001b[0m\n",
      "\u001b[1;31mNameError\u001b[0m: name 'results2' is not defined"
     ]
    }
   ],
   "source": [
    "from statsmodels.stats.anova import anova_lm\n",
    "anova_results2 = anova_lm(results2)\n",
    "anova_results2"
   ]
  },
  {
   "cell_type": "markdown",
   "id": "8c6bc3ee-ddf0-4646-afc9-114b7cf4ede6",
   "metadata": {},
   "source": [
    "**fill in the XXXXX marks**"
   ]
  },
  {
   "cell_type": "code",
   "execution_count": 51,
   "id": "b1a89a7c-c864-440f-a862-c688d947a591",
   "metadata": {},
   "outputs": [
    {
     "ename": "NameError",
     "evalue": "name 'cottonN' is not defined",
     "output_type": "error",
     "traceback": [
      "\u001b[1;31m---------------------------------------------------------------------------\u001b[0m",
      "\u001b[1;31mNameError\u001b[0m                                 Traceback (most recent call last)",
      "\u001b[1;32m~\\AppData\\Local\\Temp\\ipykernel_13968\\2060550331.py\u001b[0m in \u001b[0;36m<module>\u001b[1;34m\u001b[0m\n\u001b[0;32m      2\u001b[0m \u001b[0mfig\u001b[0m\u001b[1;33m=\u001b[0m\u001b[0mplt\u001b[0m\u001b[1;33m.\u001b[0m\u001b[0mfigure\u001b[0m\u001b[1;33m(\u001b[0m\u001b[0mfigsize\u001b[0m\u001b[1;33m=\u001b[0m\u001b[0mplt\u001b[0m\u001b[1;33m.\u001b[0m\u001b[0mfigaspect\u001b[0m\u001b[1;33m(\u001b[0m\u001b[1;36m1\u001b[0m\u001b[1;33m)\u001b[0m\u001b[1;33m*\u001b[0m\u001b[1;36m1\u001b[0m\u001b[1;33m)\u001b[0m\u001b[1;33m\u001b[0m\u001b[1;33m\u001b[0m\u001b[0m\n\u001b[0;32m      3\u001b[0m \u001b[0max\u001b[0m\u001b[1;33m=\u001b[0m\u001b[0mfig\u001b[0m\u001b[1;33m.\u001b[0m\u001b[0madd_subplot\u001b[0m\u001b[1;33m(\u001b[0m\u001b[1;36m111\u001b[0m\u001b[1;33m)\u001b[0m\u001b[1;33m\u001b[0m\u001b[1;33m\u001b[0m\u001b[0m\n\u001b[1;32m----> 4\u001b[1;33m \u001b[0msns\u001b[0m\u001b[1;33m.\u001b[0m\u001b[0mlineplot\u001b[0m\u001b[1;33m(\u001b[0m\u001b[0mx\u001b[0m\u001b[1;33m=\u001b[0m\u001b[0mcottonN\u001b[0m\u001b[1;33m[\u001b[0m\u001b[1;34m\"Cotton_Weight\"\u001b[0m\u001b[1;33m]\u001b[0m\u001b[1;33m,\u001b[0m\u001b[0my\u001b[0m\u001b[1;33m=\u001b[0m\u001b[0mresults1\u001b[0m\u001b[1;33m.\u001b[0m\u001b[0mfittedvalues\u001b[0m\u001b[1;33m.\u001b[0m\u001b[0mvalues\u001b[0m\u001b[1;33m,\u001b[0m\u001b[0mcolor\u001b[0m\u001b[1;33m=\u001b[0m\u001b[1;34m\"orange\"\u001b[0m\u001b[1;33m)\u001b[0m\u001b[1;33m\u001b[0m\u001b[1;33m\u001b[0m\u001b[0m\n\u001b[0m\u001b[0;32m      5\u001b[0m \u001b[0msns\u001b[0m\u001b[1;33m.\u001b[0m\u001b[0mregplot\u001b[0m\u001b[1;33m(\u001b[0m\u001b[0mx\u001b[0m\u001b[1;33m=\u001b[0m\u001b[0mcottonN\u001b[0m\u001b[1;33m[\u001b[0m\u001b[1;34m\"Cotton_Weight\"\u001b[0m\u001b[1;33m]\u001b[0m\u001b[1;33m,\u001b[0m\u001b[0my\u001b[0m\u001b[1;33m=\u001b[0m\u001b[0mcottonN\u001b[0m\u001b[1;33m[\u001b[0m\u001b[1;34m\"Observations\"\u001b[0m\u001b[1;33m]\u001b[0m\u001b[1;33m,\u001b[0m\u001b[0morder\u001b[0m\u001b[1;33m=\u001b[0m\u001b[0mXXXXXX\u001b[0m\u001b[1;33m,\u001b[0m\u001b[0mdata\u001b[0m\u001b[1;33m=\u001b[0m\u001b[0mcottonN\u001b[0m\u001b[1;33m,\u001b[0m\u001b[0mcolor\u001b[0m\u001b[1;33m=\u001b[0m\u001b[1;34m\"blue\"\u001b[0m\u001b[1;33m,\u001b[0m\u001b[0mci\u001b[0m\u001b[1;33m=\u001b[0m\u001b[1;32mNone\u001b[0m\u001b[1;33m)\u001b[0m\u001b[1;33m\u001b[0m\u001b[1;33m\u001b[0m\u001b[0m\n\u001b[0;32m      6\u001b[0m \u001b[0msns\u001b[0m\u001b[1;33m.\u001b[0m\u001b[0mregplot\u001b[0m\u001b[1;33m(\u001b[0m\u001b[0mx\u001b[0m\u001b[1;33m=\u001b[0m\u001b[0mcottonN\u001b[0m\u001b[1;33m[\u001b[0m\u001b[1;34m\"Cotton_Weight\"\u001b[0m\u001b[1;33m]\u001b[0m\u001b[1;33m,\u001b[0m\u001b[0my\u001b[0m\u001b[1;33m=\u001b[0m\u001b[0mcottonN\u001b[0m\u001b[1;33m[\u001b[0m\u001b[1;34m\"Observations\"\u001b[0m\u001b[1;33m]\u001b[0m\u001b[1;33m,\u001b[0m\u001b[0morder\u001b[0m\u001b[1;33m=\u001b[0m\u001b[0mXXXXXX\u001b[0m\u001b[1;33m,\u001b[0m\u001b[0mdata\u001b[0m\u001b[1;33m=\u001b[0m\u001b[0mcottonN\u001b[0m\u001b[1;33m,\u001b[0m\u001b[0mcolor\u001b[0m\u001b[1;33m=\u001b[0m\u001b[1;34m\"red\"\u001b[0m\u001b[1;33m,\u001b[0m\u001b[0mci\u001b[0m\u001b[1;33m=\u001b[0m\u001b[1;32mNone\u001b[0m\u001b[1;33m)\u001b[0m\u001b[1;33m\u001b[0m\u001b[1;33m\u001b[0m\u001b[0m\n",
      "\u001b[1;31mNameError\u001b[0m: name 'cottonN' is not defined"
     ]
    },
    {
     "data": {
      "image/png": "[encoded data removed]",
      "text/plain": [
       "<Figure size 480x480 with 1 Axes>"
      ]
     },
     "metadata": {},
     "output_type": "display_data"
    }
   ],
   "source": [
    "# ** fill in the XXXXX marks **\n",
    "fig=plt.figure(figsize=plt.figaspect(1)*1)\n",
    "ax=fig.add_subplot(111)\n",
    "sns.lineplot(x=cottonN[\"Cotton_Weight\"],y=results1.fittedvalues.values,color=\"orange\")\n",
    "sns.regplot(x=cottonN[\"Cotton_Weight\"],y=cottonN[\"Observations\"],order=XXXXXX,data=cottonN,color=\"blue\",ci=None)\n",
    "sns.regplot(x=cottonN[\"Cotton_Weight\"],y=cottonN[\"Observations\"],order=XXXXXX,data=cottonN,color=\"red\",ci=None)\n",
    "sns.regplot(x=cottonN[\"Cotton_Weight\"],y=cottonN[\"Observations\"],order=XXXXXX,data=cottonN,color=\"green\",ci=None)"
   ]
  },
  {
   "cell_type": "markdown",
   "id": "dff795b5-8d67-45ee-9b84-423061260fcb",
   "metadata": {},
   "source": [
    "Check assumptions"
   ]
  },
  {
   "cell_type": "code",
   "execution_count": 48,
   "id": "54c8e9b9-9cbc-4895-a48e-cb83583a5d72",
   "metadata": {},
   "outputs": [
    {
     "ename": "NameError",
     "evalue": "name 'cottonN' is not defined",
     "output_type": "error",
     "traceback": [
      "\u001b[1;31m---------------------------------------------------------------------------\u001b[0m",
      "\u001b[1;31mNameError\u001b[0m                                 Traceback (most recent call last)",
      "\u001b[1;32m~\\AppData\\Local\\Temp\\ipykernel_13968\\4258462809.py\u001b[0m in \u001b[0;36m<module>\u001b[1;34m\u001b[0m\n\u001b[0;32m      1\u001b[0m \u001b[0mfigure2\u001b[0m\u001b[1;33m,\u001b[0m \u001b[0maxis2\u001b[0m \u001b[1;33m=\u001b[0m \u001b[0mplt\u001b[0m\u001b[1;33m.\u001b[0m\u001b[0msubplots\u001b[0m\u001b[1;33m(\u001b[0m\u001b[0mnrows\u001b[0m\u001b[1;33m=\u001b[0m\u001b[1;36m2\u001b[0m\u001b[1;33m,\u001b[0m \u001b[0mncols\u001b[0m\u001b[1;33m=\u001b[0m\u001b[1;36m3\u001b[0m\u001b[1;33m)\u001b[0m\u001b[1;33m\u001b[0m\u001b[1;33m\u001b[0m\u001b[0m\n\u001b[1;32m----> 2\u001b[1;33m \u001b[0msns\u001b[0m\u001b[1;33m.\u001b[0m\u001b[0mscatterplot\u001b[0m\u001b[1;33m(\u001b[0m\u001b[0mx\u001b[0m\u001b[1;33m=\u001b[0m\u001b[0mcottonN\u001b[0m\u001b[1;33m[\u001b[0m\u001b[1;34m\"Cotton_Weight\"\u001b[0m\u001b[1;33m]\u001b[0m\u001b[1;33m,\u001b[0m\u001b[0my\u001b[0m\u001b[1;33m=\u001b[0m\u001b[0mcottonN\u001b[0m\u001b[1;33m[\u001b[0m\u001b[1;34m\"Observations\"\u001b[0m\u001b[1;33m]\u001b[0m\u001b[1;33m,\u001b[0m\u001b[0mdata\u001b[0m\u001b[1;33m=\u001b[0m\u001b[0mcottonN\u001b[0m\u001b[1;33m,\u001b[0m\u001b[0max\u001b[0m\u001b[1;33m=\u001b[0m\u001b[0maxis2\u001b[0m\u001b[1;33m[\u001b[0m\u001b[1;36m0\u001b[0m\u001b[1;33m,\u001b[0m\u001b[1;36m0\u001b[0m\u001b[1;33m]\u001b[0m\u001b[1;33m)\u001b[0m\u001b[1;33m\u001b[0m\u001b[1;33m\u001b[0m\u001b[0m\n\u001b[0m\u001b[0;32m      3\u001b[0m \u001b[0msns\u001b[0m\u001b[1;33m.\u001b[0m\u001b[0mscatterplot\u001b[0m\u001b[1;33m(\u001b[0m\u001b[0mx\u001b[0m\u001b[1;33m=\u001b[0m\u001b[0mcottonN\u001b[0m\u001b[1;33m[\u001b[0m\u001b[1;34m\"Cotton_Weight\"\u001b[0m\u001b[1;33m]\u001b[0m\u001b[1;33m,\u001b[0m\u001b[0my\u001b[0m\u001b[1;33m=\u001b[0m\u001b[0mresults2\u001b[0m\u001b[1;33m.\u001b[0m\u001b[0mresid\u001b[0m\u001b[1;33m,\u001b[0m\u001b[0mdata\u001b[0m\u001b[1;33m=\u001b[0m\u001b[0mcottonN\u001b[0m\u001b[1;33m,\u001b[0m\u001b[0max\u001b[0m\u001b[1;33m=\u001b[0m\u001b[0maxis2\u001b[0m\u001b[1;33m[\u001b[0m\u001b[1;36m0\u001b[0m\u001b[1;33m,\u001b[0m\u001b[1;36m1\u001b[0m\u001b[1;33m]\u001b[0m\u001b[1;33m)\u001b[0m\u001b[1;33m\u001b[0m\u001b[1;33m\u001b[0m\u001b[0m\n\u001b[0;32m      4\u001b[0m \u001b[0msns\u001b[0m\u001b[1;33m.\u001b[0m\u001b[0mscatterplot\u001b[0m\u001b[1;33m(\u001b[0m\u001b[0mx\u001b[0m\u001b[1;33m=\u001b[0m\u001b[0mresults2\u001b[0m\u001b[1;33m.\u001b[0m\u001b[0mpredict\u001b[0m\u001b[1;33m(\u001b[0m\u001b[1;33m)\u001b[0m\u001b[1;33m,\u001b[0m\u001b[0my\u001b[0m\u001b[1;33m=\u001b[0m\u001b[0mresults2\u001b[0m\u001b[1;33m.\u001b[0m\u001b[0mresid\u001b[0m\u001b[1;33m,\u001b[0m\u001b[0mdata\u001b[0m\u001b[1;33m=\u001b[0m\u001b[0mcottonN\u001b[0m\u001b[1;33m,\u001b[0m\u001b[0max\u001b[0m\u001b[1;33m=\u001b[0m\u001b[0maxis2\u001b[0m\u001b[1;33m[\u001b[0m\u001b[1;36m0\u001b[0m\u001b[1;33m,\u001b[0m\u001b[1;36m2\u001b[0m\u001b[1;33m]\u001b[0m\u001b[1;33m)\u001b[0m\u001b[1;33m\u001b[0m\u001b[1;33m\u001b[0m\u001b[0m\n\u001b[0;32m      5\u001b[0m \u001b[0msns\u001b[0m\u001b[1;33m.\u001b[0m\u001b[0mlineplot\u001b[0m\u001b[1;33m(\u001b[0m\u001b[0mx\u001b[0m\u001b[1;33m=\u001b[0m\u001b[0mnp\u001b[0m\u001b[1;33m.\u001b[0m\u001b[0marange\u001b[0m\u001b[1;33m(\u001b[0m\u001b[1;36m0\u001b[0m\u001b[1;33m,\u001b[0m\u001b[1;36m25\u001b[0m\u001b[1;33m,\u001b[0m\u001b[1;36m1\u001b[0m\u001b[1;33m)\u001b[0m\u001b[1;33m,\u001b[0m\u001b[0my\u001b[0m\u001b[1;33m=\u001b[0m\u001b[0mresults2\u001b[0m\u001b[1;33m.\u001b[0m\u001b[0mresid\u001b[0m\u001b[1;33m,\u001b[0m\u001b[0mdata\u001b[0m\u001b[1;33m=\u001b[0m\u001b[0mcottonN\u001b[0m\u001b[1;33m,\u001b[0m\u001b[0max\u001b[0m\u001b[1;33m=\u001b[0m\u001b[0maxis2\u001b[0m\u001b[1;33m[\u001b[0m\u001b[1;36m1\u001b[0m\u001b[1;33m,\u001b[0m\u001b[1;36m0\u001b[0m\u001b[1;33m]\u001b[0m\u001b[1;33m)\u001b[0m\u001b[1;33m\u001b[0m\u001b[1;33m\u001b[0m\u001b[0m\n",
      "\u001b[1;31mNameError\u001b[0m: name 'cottonN' is not defined"
     ]
    },
    {
     "data": {
      "image/png": "[encoded data removed]",
      "text/plain": [
       "<Figure size 640x480 with 6 Axes>"
      ]
     },
     "metadata": {},
     "output_type": "display_data"
    }
   ],
   "source": [
    "figure2, axis2 = plt.subplots(nrows=2, ncols=3)\n",
    "sns.scatterplot(x=cottonN[\"Cotton_Weight\"],y=cottonN[\"Observations\"],data=cottonN,ax=axis2[0,0])\n",
    "sns.scatterplot(x=cottonN[\"Cotton_Weight\"],y=results2.resid,data=cottonN,ax=axis2[0,1])\n",
    "sns.scatterplot(x=results2.predict(),y=results2.resid,data=cottonN,ax=axis2[0,2])\n",
    "sns.lineplot(x=np.arange(0,25,1),y=results2.resid,data=cottonN,ax=axis2[1,0])\n",
    "sns.histplot(x=results2.resid, stat='count',kde=True,ax=axis2[1,1])\n",
    "sm.qqplot(results2.resid,line='s',ax=axis2[1,2])\n",
    "plt.show()"
   ]
  },
  {
   "cell_type": "code",
   "execution_count": null,
   "id": "45dbb105-7cd4-4423-9073-e59b4c8aea79",
   "metadata": {},
   "outputs": [],
   "source": []
  },
  {
   "cell_type": "code",
   "execution_count": null,
   "id": "41b5c2a9-59c6-451a-a2b7-fac8bd352a3b",
   "metadata": {},
   "outputs": [],
   "source": []
  }
 ],
 "metadata": {
  "kernelspec": {
   "display_name": "Python 3 (ipykernel)",
   "language": "python",
   "name": "python3"
  },
  "language_info": {
   "codemirror_mode": {
    "name": "ipython",
    "version": 3
   },
   "file_extension": ".py",
   "mimetype": "text/x-python",
   "name": "python",
   "nbconvert_exporter": "python",
   "pygments_lexer": "ipython3",
   "version": "3.9.13"
  }
 },
 "nbformat": 4,
 "nbformat_minor": 5
}
