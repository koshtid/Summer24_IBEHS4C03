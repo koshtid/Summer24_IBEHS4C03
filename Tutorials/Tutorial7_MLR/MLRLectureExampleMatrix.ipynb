{
 "cells": [
  {
   "cell_type": "markdown",
   "id": "wicked-jesus",
   "metadata": {},
   "source": [
    "# Multiple Linear Regression Ordinary Least Squares Methodologies with Python"
   ]
  },
  {
   "cell_type": "code",
   "execution_count": 1,
   "id": "increasing-health",
   "metadata": {},
   "outputs": [
    {
     "name": "stdin",
     "output_type": "stream",
     "text": [
      "Once deleted, variables cannot be recovered. Proceed (y/[n])?  y\n"
     ]
    }
   ],
   "source": [
    "%reset\n",
    "import pandas as pd\n",
    "import numpy as np"
   ]
  },
  {
   "cell_type": "markdown",
   "id": "60da7a48-b6cb-4994-8f97-c6bbd739a49f",
   "metadata": {},
   "source": [
    "# Matrix Math"
   ]
  },
  {
   "cell_type": "code",
   "execution_count": 29,
   "id": "a9cf2d0f-d543-4ed1-84d4-b47bb62e65be",
   "metadata": {},
   "outputs": [],
   "source": [
    "X1 = (1,3,4,7,9,9)\n",
    "X2 = (9,9,6,3,1,2)\n",
    "Y = (3,5,6,8,7,10)"
   ]
  },
  {
   "cell_type": "code",
   "execution_count": 30,
   "id": "5a617b46-32b4-41f5-a716-be4c76e9553d",
   "metadata": {},
   "outputs": [],
   "source": [
    "# Can either mean center the values or use the raw values\n",
    "X1mean=np.mean(X1)\n",
    "X2mean=np.mean(X2)\n",
    "Ymean=np.mean(Y)"
   ]
  },
  {
   "cell_type": "code",
   "execution_count": 31,
   "id": "96f662d4-fa0a-4502-a545-b20e345f7524",
   "metadata": {},
   "outputs": [],
   "source": [
    "X1 = (1-X1mean,3-X1mean,4-X1mean,7-X1mean,9-X1mean,9-X1mean)\n",
    "X2 = (9-X2mean,9-X2mean,6-X2mean,3-X2mean,1-X2mean,2-X2mean)\n",
    "Y = (3-Ymean,5-Ymean,6-Ymean,8-Ymean,7-Ymean,10-Ymean)"
   ]
  },
  {
   "cell_type": "code",
   "execution_count": 32,
   "id": "25abf92d-0880-4eb5-b7f5-6a0627cc330f",
   "metadata": {},
   "outputs": [
    {
     "data": {
      "text/plain": [
       "array([-4.5, -2.5, -1.5,  1.5,  3.5,  3.5])"
      ]
     },
     "execution_count": 32,
     "metadata": {},
     "output_type": "execute_result"
    }
   ],
   "source": [
    "X1=np.asarray(X1)\n",
    "X1"
   ]
  },
  {
   "cell_type": "code",
   "execution_count": 33,
   "id": "da545005-3a6a-4bbb-8aff-dd154fd4a4c1",
   "metadata": {},
   "outputs": [
    {
     "data": {
      "text/plain": [
       "12.4"
      ]
     },
     "execution_count": 33,
     "metadata": {},
     "output_type": "execute_result"
    }
   ],
   "source": [
    "np.var(X2,ddof=1)"
   ]
  },
  {
   "cell_type": "code",
   "execution_count": 34,
   "id": "5076ff40-7e5d-4541-90df-4c4470bb8bb0",
   "metadata": {},
   "outputs": [
    {
     "data": {
      "text/plain": [
       "array([[ 11.1, -11.4],\n",
       "       [-11.4,  12.4]])"
      ]
     },
     "execution_count": 34,
     "metadata": {},
     "output_type": "execute_result"
    }
   ],
   "source": [
    "np.cov(X1,X2)"
   ]
  },
  {
   "cell_type": "code",
   "execution_count": 35,
   "id": "8b6aaa86-bbfe-4e1f-8203-9a8e92813c76",
   "metadata": {},
   "outputs": [
    {
     "data": {
      "text/plain": [
       "array([[11.1,  7.3],\n",
       "       [ 7.3,  5.9]])"
      ]
     },
     "execution_count": 35,
     "metadata": {},
     "output_type": "execute_result"
    }
   ],
   "source": [
    "np.cov(X1,Y)"
   ]
  },
  {
   "cell_type": "code",
   "execution_count": 36,
   "id": "4da89be9-12bf-43e1-92f2-7971a36a1dab",
   "metadata": {},
   "outputs": [
    {
     "data": {
      "text/plain": [
       "array([[12.4, -7.2],\n",
       "       [-7.2,  5.9]])"
      ]
     },
     "execution_count": 36,
     "metadata": {},
     "output_type": "execute_result"
    }
   ],
   "source": [
    "np.cov(X2,Y)"
   ]
  },
  {
   "cell_type": "code",
   "execution_count": 11,
   "id": "c2795ad0-e39b-4302-8a3b-b4a9b303e1cc",
   "metadata": {},
   "outputs": [
    {
     "data": {
      "text/plain": [
       "array([ 4.,  4.,  1., -2., -4., -3.])"
      ]
     },
     "execution_count": 11,
     "metadata": {},
     "output_type": "execute_result"
    }
   ],
   "source": [
    "X2 = np.asarray(X2)\n",
    "X2"
   ]
  },
  {
   "cell_type": "code",
   "execution_count": 12,
   "id": "366c96e4-ba49-4734-97fe-0c5c46d14cb0",
   "metadata": {},
   "outputs": [
    {
     "data": {
      "text/plain": [
       "array([-3.5, -1.5, -0.5,  1.5,  0.5,  3.5])"
      ]
     },
     "execution_count": 12,
     "metadata": {},
     "output_type": "execute_result"
    }
   ],
   "source": [
    "Y=np.asarray(Y)\n",
    "Y"
   ]
  },
  {
   "cell_type": "code",
   "execution_count": 13,
   "id": "355c4396-d30e-44f2-b0c1-d73af41daac1",
   "metadata": {},
   "outputs": [
    {
     "data": {
      "text/plain": [
       "(6,)"
      ]
     },
     "execution_count": 13,
     "metadata": {},
     "output_type": "execute_result"
    }
   ],
   "source": [
    "X1.shape"
   ]
  },
  {
   "cell_type": "code",
   "execution_count": 14,
   "id": "58384384-967f-4b89-873e-54734008c5ac",
   "metadata": {},
   "outputs": [
    {
     "data": {
      "text/plain": [
       "array([[1.],\n",
       "       [1.],\n",
       "       [1.],\n",
       "       [1.],\n",
       "       [1.],\n",
       "       [1.]])"
      ]
     },
     "execution_count": 14,
     "metadata": {},
     "output_type": "execute_result"
    }
   ],
   "source": [
    "X_bias=np.ones((6,1)) # m is the number of records in the dataset\n",
    "X_bias"
   ]
  },
  {
   "cell_type": "code",
   "execution_count": 15,
   "id": "ab6b3e96-92d3-45dd-81f4-4dfcd83fe464",
   "metadata": {},
   "outputs": [],
   "source": [
    "X1=np.reshape(X1,(6,1))\n",
    "X2=np.reshape(X2,(6,1))\n",
    "Y=np.reshape(Y,(6,1))"
   ]
  },
  {
   "cell_type": "code",
   "execution_count": 16,
   "id": "294d9ff8-ce8c-49d3-9d01-cf2c0f9d427e",
   "metadata": {},
   "outputs": [
    {
     "data": {
      "text/plain": [
       "array([[-4.5],\n",
       "       [-2.5],\n",
       "       [-1.5],\n",
       "       [ 1.5],\n",
       "       [ 3.5],\n",
       "       [ 3.5]])"
      ]
     },
     "execution_count": 16,
     "metadata": {},
     "output_type": "execute_result"
    }
   ],
   "source": [
    "X1"
   ]
  },
  {
   "cell_type": "code",
   "execution_count": 17,
   "id": "837dc0ac-a1be-436f-895b-1565ae4e2698",
   "metadata": {},
   "outputs": [
    {
     "data": {
      "text/plain": [
       "array([[-3.5],\n",
       "       [-1.5],\n",
       "       [-0.5],\n",
       "       [ 1.5],\n",
       "       [ 0.5],\n",
       "       [ 3.5]])"
      ]
     },
     "execution_count": 17,
     "metadata": {},
     "output_type": "execute_result"
    }
   ],
   "source": [
    "Y"
   ]
  },
  {
   "cell_type": "code",
   "execution_count": 18,
   "id": "9a55acb8-99f5-4543-ad0e-2805d23a2940",
   "metadata": {},
   "outputs": [
    {
     "data": {
      "text/plain": [
       "array([[ 1. , -4.5,  4. ],\n",
       "       [ 1. , -2.5,  4. ],\n",
       "       [ 1. , -1.5,  1. ],\n",
       "       [ 1. ,  1.5, -2. ],\n",
       "       [ 1. ,  3.5, -4. ],\n",
       "       [ 1. ,  3.5, -3. ]])"
      ]
     },
     "execution_count": 18,
     "metadata": {},
     "output_type": "execute_result"
    }
   ],
   "source": [
    "newX=np.append(X_bias,X1,axis=1)\n",
    "newX=np.append(newX,X2,axis=1)\n",
    "newX"
   ]
  },
  {
   "cell_type": "code",
   "execution_count": 19,
   "id": "fb93f065-d1bb-4e0b-b2f7-05405fe7b2c4",
   "metadata": {},
   "outputs": [
    {
     "data": {
      "text/plain": [
       "(6, 3)"
      ]
     },
     "execution_count": 19,
     "metadata": {},
     "output_type": "execute_result"
    }
   ],
   "source": [
    "newX.shape"
   ]
  },
  {
   "cell_type": "code",
   "execution_count": 20,
   "id": "93bcbf7d-3088-4c30-918c-8bd6745acd6b",
   "metadata": {},
   "outputs": [
    {
     "data": {
      "text/plain": [
       "array([[ 1. ,  1. ,  1. ,  1. ,  1. ,  1. ],\n",
       "       [-4.5, -2.5, -1.5,  1.5,  3.5,  3.5],\n",
       "       [ 4. ,  4. ,  1. , -2. , -4. , -3. ]])"
      ]
     },
     "execution_count": 20,
     "metadata": {},
     "output_type": "execute_result"
    }
   ],
   "source": [
    "X_transpose=np.transpose(newX)\n",
    "X_transpose"
   ]
  },
  {
   "cell_type": "code",
   "execution_count": 21,
   "id": "3ab5b36c-ad0f-4fdd-80ea-0781d51e17df",
   "metadata": {},
   "outputs": [
    {
     "data": {
      "text/plain": [
       "(3, 6)"
      ]
     },
     "execution_count": 21,
     "metadata": {},
     "output_type": "execute_result"
    }
   ],
   "source": [
    "X_transpose.shape"
   ]
  },
  {
   "cell_type": "code",
   "execution_count": 22,
   "id": "828a7f0d-a5f7-425e-962e-bb5e666c0c30",
   "metadata": {},
   "outputs": [
    {
     "data": {
      "text/plain": [
       "array([[  6. ,   0. ,   0. ],\n",
       "       [  0. ,  55.5, -57. ],\n",
       "       [  0. , -57. ,  62. ]])"
      ]
     },
     "execution_count": 22,
     "metadata": {},
     "output_type": "execute_result"
    }
   ],
   "source": [
    "XtX=((X_transpose.dot(newX)))\n",
    "XtX"
   ]
  },
  {
   "cell_type": "code",
   "execution_count": 23,
   "id": "71e7f3d3-7ccb-465e-bd1b-cdc0249aa5a6",
   "metadata": {},
   "outputs": [
    {
     "data": {
      "text/plain": [
       "array([[ 0.16666667,  0.        ,  0.        ],\n",
       "       [-0.        ,  0.32291667,  0.296875  ],\n",
       "       [ 0.        ,  0.296875  ,  0.2890625 ]])"
      ]
     },
     "execution_count": 23,
     "metadata": {},
     "output_type": "execute_result"
    }
   ],
   "source": [
    "XtX_Inverse=np.linalg.inv(XtX)\n",
    "XtX_Inverse"
   ]
  },
  {
   "cell_type": "code",
   "execution_count": 24,
   "id": "453784af-df0a-4bee-8c0d-84c48a3409c4",
   "metadata": {},
   "outputs": [
    {
     "data": {
      "text/plain": [
       "array([[-3.5],\n",
       "       [-1.5],\n",
       "       [-0.5],\n",
       "       [ 1.5],\n",
       "       [ 0.5],\n",
       "       [ 3.5]])"
      ]
     },
     "execution_count": 24,
     "metadata": {},
     "output_type": "execute_result"
    }
   ],
   "source": [
    "Y"
   ]
  },
  {
   "cell_type": "code",
   "execution_count": 25,
   "id": "f58024e0-5b47-41ce-b6de-6d5c873bb98a",
   "metadata": {},
   "outputs": [
    {
     "data": {
      "text/plain": [
       "array([[ 1. ,  1. ,  1. ,  1. ,  1. ,  1. ],\n",
       "       [-4.5, -2.5, -1.5,  1.5,  3.5,  3.5],\n",
       "       [ 4. ,  4. ,  1. , -2. , -4. , -3. ]])"
      ]
     },
     "execution_count": 25,
     "metadata": {},
     "output_type": "execute_result"
    }
   ],
   "source": [
    "X_transpose"
   ]
  },
  {
   "cell_type": "code",
   "execution_count": 26,
   "id": "444df004-8b45-4ba3-bace-003d570c8b48",
   "metadata": {},
   "outputs": [
    {
     "data": {
      "text/plain": [
       "array([[  0. ],\n",
       "       [ 36.5],\n",
       "       [-36. ]])"
      ]
     },
     "execution_count": 26,
     "metadata": {},
     "output_type": "execute_result"
    }
   ],
   "source": [
    "XtY=((X_transpose.dot(Y)))\n",
    "XtY"
   ]
  },
  {
   "cell_type": "code",
   "execution_count": 27,
   "id": "b1d793d5-ff8a-454b-8454-d8f9e8e1b3ee",
   "metadata": {},
   "outputs": [
    {
     "data": {
      "text/plain": [
       "array([[0.        ],\n",
       "       [1.09895833],\n",
       "       [0.4296875 ]])"
      ]
     },
     "execution_count": 27,
     "metadata": {},
     "output_type": "execute_result"
    }
   ],
   "source": [
    "XtX_Inverse.dot(XtY)"
   ]
  },
  {
   "cell_type": "code",
   "execution_count": null,
   "id": "32b1523e-df9f-4314-8ab1-25041c755da0",
   "metadata": {},
   "outputs": [],
   "source": []
  },
  {
   "cell_type": "code",
   "execution_count": null,
   "id": "5bfa9dca-d36a-457d-8851-0cb993b07670",
   "metadata": {},
   "outputs": [],
   "source": []
  },
  {
   "cell_type": "code",
   "execution_count": 44,
   "id": "58811716-6dba-4d2d-9106-653759ae2717",
   "metadata": {},
   "outputs": [],
   "source": [
    "X1 = (1,3,4,7,9,9)\n",
    "X2 = (9,9,6,3,1,2)\n",
    "Y = (3,5,6,8,7,10)"
   ]
  },
  {
   "cell_type": "code",
   "execution_count": 38,
   "id": "e7143276-4246-4f76-8c47-28adf940c409",
   "metadata": {},
   "outputs": [],
   "source": [
    "# Can either mean center the values or use the raw values\n",
    "X1mean=np.mean(X1)\n",
    "X2mean=np.mean(X2)\n",
    "Ymean=np.mean(Y)"
   ]
  },
  {
   "cell_type": "code",
   "execution_count": 39,
   "id": "abd2a7b1-c84b-47d5-95ad-21767b2dd8f3",
   "metadata": {},
   "outputs": [],
   "source": [
    "X1 = (1-X1mean,3-X1mean,4-X1mean,7-X1mean,9-X1mean,9-X1mean)\n",
    "X2 = (9-X2mean,9-X2mean,6-X2mean,3-X2mean,1-X2mean,2-X2mean)\n",
    "Y = (3-Ymean,5-Ymean,6-Ymean,8-Ymean,7-Ymean,10-Ymean)"
   ]
  },
  {
   "cell_type": "code",
   "execution_count": 45,
   "id": "065f3419-69a6-40f8-b153-f40b0571a1fd",
   "metadata": {},
   "outputs": [],
   "source": [
    "X1=np.asarray(X1)\n",
    "X2=np.asarray(X2)\n",
    "Y=np.asarray(Y)"
   ]
  },
  {
   "cell_type": "code",
   "execution_count": 46,
   "id": "cf1f5b7b-cc87-41b7-9217-733a0c7521cf",
   "metadata": {},
   "outputs": [],
   "source": [
    "X1=np.reshape(X1,(6,1))\n",
    "X2=np.reshape(X2,(6,1))\n",
    "Y=np.reshape(Y,(6,1))"
   ]
  },
  {
   "cell_type": "code",
   "execution_count": 47,
   "id": "118c0b22-f4e7-4f69-be08-6919b2cded02",
   "metadata": {},
   "outputs": [
    {
     "data": {
      "text/html": [
       "<div>\n",
       "<style scoped>\n",
       "    .dataframe tbody tr th:only-of-type {\n",
       "        vertical-align: middle;\n",
       "    }\n",
       "\n",
       "    .dataframe tbody tr th {\n",
       "        vertical-align: top;\n",
       "    }\n",
       "\n",
       "    .dataframe thead th {\n",
       "        text-align: right;\n",
       "    }\n",
       "</style>\n",
       "<table border=\"1\" class=\"dataframe\">\n",
       "  <thead>\n",
       "    <tr style=\"text-align: right;\">\n",
       "      <th></th>\n",
       "      <th>X1</th>\n",
       "      <th>X2</th>\n",
       "      <th>Y</th>\n",
       "    </tr>\n",
       "  </thead>\n",
       "  <tbody>\n",
       "    <tr>\n",
       "      <th>0</th>\n",
       "      <td>1</td>\n",
       "      <td>9</td>\n",
       "      <td>3</td>\n",
       "    </tr>\n",
       "    <tr>\n",
       "      <th>1</th>\n",
       "      <td>3</td>\n",
       "      <td>9</td>\n",
       "      <td>5</td>\n",
       "    </tr>\n",
       "    <tr>\n",
       "      <th>2</th>\n",
       "      <td>4</td>\n",
       "      <td>6</td>\n",
       "      <td>6</td>\n",
       "    </tr>\n",
       "    <tr>\n",
       "      <th>3</th>\n",
       "      <td>7</td>\n",
       "      <td>3</td>\n",
       "      <td>8</td>\n",
       "    </tr>\n",
       "    <tr>\n",
       "      <th>4</th>\n",
       "      <td>9</td>\n",
       "      <td>1</td>\n",
       "      <td>7</td>\n",
       "    </tr>\n",
       "    <tr>\n",
       "      <th>5</th>\n",
       "      <td>9</td>\n",
       "      <td>2</td>\n",
       "      <td>10</td>\n",
       "    </tr>\n",
       "  </tbody>\n",
       "</table>\n",
       "</div>"
      ],
      "text/plain": [
       "   X1  X2   Y\n",
       "0   1   9   3\n",
       "1   3   9   5\n",
       "2   4   6   6\n",
       "3   7   3   8\n",
       "4   9   1   7\n",
       "5   9   2  10"
      ]
     },
     "execution_count": 47,
     "metadata": {},
     "output_type": "execute_result"
    }
   ],
   "source": [
    "df=np.append(X1,X2,axis=1)\n",
    "df=np.append(df,Y,axis=1)\n",
    "df=pd.DataFrame(df,columns=[\"X1\",\"X2\",\"Y\"])\n",
    "df"
   ]
  },
  {
   "cell_type": "code",
   "execution_count": 48,
   "id": "10943788-1afb-4af0-8fc1-089919bafbab",
   "metadata": {},
   "outputs": [
    {
     "name": "stdout",
     "output_type": "stream",
     "text": [
      "                Results: Ordinary least squares\n",
      "================================================================\n",
      "Model:              OLS              Adj. R-squared:     0.726  \n",
      "Dependent Variable: Y                AIC:                21.7589\n",
      "Date:               2022-11-08 11:20 BIC:                21.1342\n",
      "No. Observations:   6                Log-Likelihood:     -7.8795\n",
      "Df Model:           2                F-statistic:        7.611  \n",
      "Df Residuals:       3                Prob (F-statistic): 0.0668 \n",
      "R-squared:          0.835            Scale:              1.6189 \n",
      "-----------------------------------------------------------------\n",
      "             Coef.   Std.Err.     t     P>|t|    [0.025    0.975]\n",
      "-----------------------------------------------------------------\n",
      "Intercept   -1.6927    7.3632  -0.2299  0.8330  -25.1258  21.7404\n",
      "X1           1.0990    0.7230   1.5199  0.2259   -1.2021   3.4000\n",
      "X2           0.4297    0.6841   0.6281  0.5745   -1.7474   2.6067\n",
      "----------------------------------------------------------------\n",
      "Omnibus:              nan          Durbin-Watson:          2.786\n",
      "Prob(Omnibus):        nan          Jarque-Bera (JB):       0.619\n",
      "Skew:                 -0.656       Prob(JB):               0.734\n",
      "Kurtosis:             2.133        Condition No.:          108  \n",
      "================================================================\n",
      "\n"
     ]
    },
    {
     "name": "stderr",
     "output_type": "stream",
     "text": [
      "C:\\Users\\carol\\anaconda3\\lib\\site-packages\\statsmodels\\stats\\stattools.py:74: ValueWarning: omni_normtest is not valid with less than 8 observations; 6 samples were given.\n",
      "  warn(\"omni_normtest is not valid with less than 8 observations; %i \"\n"
     ]
    }
   ],
   "source": [
    "from statsmodels.formula.api import ols\n",
    "\n",
    "model1=ols('Y~X1+X2',data=df)\n",
    "results1=model1.fit()\n",
    "print(results1.summary2())"
   ]
  },
  {
   "cell_type": "code",
   "execution_count": null,
   "id": "7763fbcd-0dd7-4f53-93ba-385e2bc32194",
   "metadata": {},
   "outputs": [],
   "source": []
  }
 ],
 "metadata": {
  "kernelspec": {
   "display_name": "Python 3 (ipykernel)",
   "language": "python",
   "name": "python3"
  },
  "language_info": {
   "codemirror_mode": {
    "name": "ipython",
    "version": 3
   },
   "file_extension": ".py",
   "mimetype": "text/x-python",
   "name": "python",
   "nbconvert_exporter": "python",
   "pygments_lexer": "ipython3",
   "version": "3.9.13"
  }
 },
 "nbformat": 4,
 "nbformat_minor": 5
}
