{
 "cells": [
  {
   "cell_type": "markdown",
   "id": "wicked-jesus",
   "metadata": {},
   "source": [
    "# Simple Linear Regression Ordinary Least Squares Methodologies with Python"
   ]
  },
  {
   "cell_type": "code",
   "execution_count": 2,
   "id": "increasing-health",
   "metadata": {},
   "outputs": [
    {
     "name": "stdin",
     "output_type": "stream",
     "text": [
      "Once deleted, variables cannot be recovered. Proceed (y/[n])?  y\n"
     ]
    }
   ],
   "source": [
    "%reset\n",
    "import pandas as pd\n",
    "import numpy as np"
   ]
  },
  {
   "cell_type": "markdown",
   "id": "60da7a48-b6cb-4994-8f97-c6bbd739a49f",
   "metadata": {},
   "source": [
    "# Matrix Math"
   ]
  },
  {
   "cell_type": "code",
   "execution_count": 29,
   "id": "984c2fbe-31d3-466c-9cb5-c16c7c229a0f",
   "metadata": {},
   "outputs": [],
   "source": [
    "X=(4,4.5,5,5.5,6,6.5,7)\n",
    "Y = (33,42,45,51,53,61,62)\n",
    "meanY=np.mean(Y)\n",
    "Ymc=(Y-meanY)\n",
    "Xmc=(X-np.mean(X))"
   ]
  },
  {
   "cell_type": "code",
   "execution_count": 30,
   "id": "5a617b46-32b4-41f5-a716-be4c76e9553d",
   "metadata": {},
   "outputs": [],
   "source": [
    "# Can either mean center the values or use the raw values\n",
    "#X = (-1.5,-1,-.5,0,.5,1,1.5)\n",
    "#Y = (-16.6,-7.6,-4.6,1.4,3.4,11.4,12.4)"
   ]
  },
  {
   "cell_type": "code",
   "execution_count": 31,
   "id": "23a8e058-5bd2-4db6-9d5f-c9d2b9569885",
   "metadata": {},
   "outputs": [
    {
     "data": {
      "text/plain": [
       "108.61904761904763"
      ]
     },
     "execution_count": 31,
     "metadata": {},
     "output_type": "execute_result"
    }
   ],
   "source": [
    "np.var(Ymc,ddof=1)"
   ]
  },
  {
   "cell_type": "code",
   "execution_count": 32,
   "id": "9f6f0974-82d0-4dc4-bb66-97b46be2322e",
   "metadata": {},
   "outputs": [
    {
     "data": {
      "text/plain": [
       "array([[0.        , 0.        ],\n",
       "       [0.        , 1.16666667]])"
      ]
     },
     "execution_count": 32,
     "metadata": {},
     "output_type": "execute_result"
    }
   ],
   "source": [
    "X_biasA=np.ones((1,7))\n",
    "X_biasA\n",
    "np.cov(X_biasA,Xmc)"
   ]
  },
  {
   "cell_type": "code",
   "execution_count": 33,
   "id": "94b86cc1-e940-48a9-8075-8ba14d5241a7",
   "metadata": {},
   "outputs": [
    {
     "data": {
      "text/plain": [
       "array([[  1.16666667,  11.08333333],\n",
       "       [ 11.08333333, 108.61904762]])"
      ]
     },
     "execution_count": 33,
     "metadata": {},
     "output_type": "execute_result"
    }
   ],
   "source": [
    "np.cov(Xmc,Ymc)"
   ]
  },
  {
   "cell_type": "code",
   "execution_count": 34,
   "id": "25abf92d-0880-4eb5-b7f5-6a0627cc330f",
   "metadata": {},
   "outputs": [
    {
     "data": {
      "text/plain": [
       "array([-1.5, -1. , -0.5,  0. ,  0.5,  1. ,  1.5])"
      ]
     },
     "execution_count": 34,
     "metadata": {},
     "output_type": "execute_result"
    }
   ],
   "source": [
    "Xmc=np.asarray(Xmc)\n",
    "Xmc"
   ]
  },
  {
   "cell_type": "code",
   "execution_count": 35,
   "id": "f6183efb-d4ee-4bb6-a9fe-c6dc8c965475",
   "metadata": {},
   "outputs": [
    {
     "data": {
      "text/plain": [
       "1.4210854715202004e-14"
      ]
     },
     "execution_count": 35,
     "metadata": {},
     "output_type": "execute_result"
    }
   ],
   "source": [
    "sum(Ymc)"
   ]
  },
  {
   "cell_type": "code",
   "execution_count": 36,
   "id": "366c96e4-ba49-4734-97fe-0c5c46d14cb0",
   "metadata": {},
   "outputs": [],
   "source": [
    "Ymc=np.asarray(Ymc)"
   ]
  },
  {
   "cell_type": "code",
   "execution_count": 37,
   "id": "355c4396-d30e-44f2-b0c1-d73af41daac1",
   "metadata": {},
   "outputs": [
    {
     "data": {
      "text/plain": [
       "(7,)"
      ]
     },
     "execution_count": 37,
     "metadata": {},
     "output_type": "execute_result"
    }
   ],
   "source": [
    "Xmc.shape"
   ]
  },
  {
   "cell_type": "code",
   "execution_count": 38,
   "id": "58384384-967f-4b89-873e-54734008c5ac",
   "metadata": {},
   "outputs": [
    {
     "data": {
      "text/plain": [
       "array([[1.],\n",
       "       [1.],\n",
       "       [1.],\n",
       "       [1.],\n",
       "       [1.],\n",
       "       [1.],\n",
       "       [1.]])"
      ]
     },
     "execution_count": 38,
     "metadata": {},
     "output_type": "execute_result"
    }
   ],
   "source": [
    "X_bias=np.ones((7,1)) # m is the number of records in the dataset\n",
    "X_bias"
   ]
  },
  {
   "cell_type": "code",
   "execution_count": 39,
   "id": "ab6b3e96-92d3-45dd-81f4-4dfcd83fe464",
   "metadata": {},
   "outputs": [],
   "source": [
    "Xmc=np.reshape(Xmc,(7,1))\n",
    "Ymc=np.reshape(Ymc,(7,1))"
   ]
  },
  {
   "cell_type": "code",
   "execution_count": 40,
   "id": "294d9ff8-ce8c-49d3-9d01-cf2c0f9d427e",
   "metadata": {},
   "outputs": [
    {
     "data": {
      "text/plain": [
       "array([[-1.5],\n",
       "       [-1. ],\n",
       "       [-0.5],\n",
       "       [ 0. ],\n",
       "       [ 0.5],\n",
       "       [ 1. ],\n",
       "       [ 1.5]])"
      ]
     },
     "execution_count": 40,
     "metadata": {},
     "output_type": "execute_result"
    }
   ],
   "source": [
    "Xmc"
   ]
  },
  {
   "cell_type": "code",
   "execution_count": 41,
   "id": "f17f584d-659b-49d5-a87f-4750c44f5c20",
   "metadata": {},
   "outputs": [
    {
     "data": {
      "text/plain": [
       "array([[-1.5, -1. , -0.5,  0. ,  0.5,  1. ,  1.5]])"
      ]
     },
     "execution_count": 41,
     "metadata": {},
     "output_type": "execute_result"
    }
   ],
   "source": [
    "np.transpose(Xmc)"
   ]
  },
  {
   "cell_type": "code",
   "execution_count": 42,
   "id": "0fee05df-9ec1-44c6-be80-78d9b4cf2cac",
   "metadata": {},
   "outputs": [
    {
     "data": {
      "text/plain": [
       "array([[7.]])"
      ]
     },
     "execution_count": 42,
     "metadata": {},
     "output_type": "execute_result"
    }
   ],
   "source": [
    "XtXA=((np.transpose(Xmc).dot(Xmc)))\n",
    "XtXA"
   ]
  },
  {
   "cell_type": "markdown",
   "id": "445b7975-f716-4ac8-a466-25c2134b36f2",
   "metadata": {},
   "source": [
    "the sum of the squares (the deviations from the mean)"
   ]
  },
  {
   "cell_type": "code",
   "execution_count": 44,
   "id": "837dc0ac-a1be-436f-895b-1565ae4e2698",
   "metadata": {},
   "outputs": [
    {
     "data": {
      "text/plain": [
       "array([[-16.57142857],\n",
       "       [ -7.57142857],\n",
       "       [ -4.57142857],\n",
       "       [  1.42857143],\n",
       "       [  3.42857143],\n",
       "       [ 11.42857143],\n",
       "       [ 12.42857143]])"
      ]
     },
     "execution_count": 44,
     "metadata": {},
     "output_type": "execute_result"
    }
   ],
   "source": [
    "Ymc"
   ]
  },
  {
   "cell_type": "code",
   "execution_count": 46,
   "id": "9a55acb8-99f5-4543-ad0e-2805d23a2940",
   "metadata": {},
   "outputs": [
    {
     "data": {
      "text/plain": [
       "array([[ 1. , -1.5],\n",
       "       [ 1. , -1. ],\n",
       "       [ 1. , -0.5],\n",
       "       [ 1. ,  0. ],\n",
       "       [ 1. ,  0.5],\n",
       "       [ 1. ,  1. ],\n",
       "       [ 1. ,  1.5]])"
      ]
     },
     "execution_count": 46,
     "metadata": {},
     "output_type": "execute_result"
    }
   ],
   "source": [
    "newX=np.append(X_bias,Xmc,axis=1)\n",
    "newX"
   ]
  },
  {
   "cell_type": "code",
   "execution_count": 47,
   "id": "fb93f065-d1bb-4e0b-b2f7-05405fe7b2c4",
   "metadata": {},
   "outputs": [
    {
     "data": {
      "text/plain": [
       "(7, 2)"
      ]
     },
     "execution_count": 47,
     "metadata": {},
     "output_type": "execute_result"
    }
   ],
   "source": [
    "newX.shape"
   ]
  },
  {
   "cell_type": "code",
   "execution_count": 48,
   "id": "93bcbf7d-3088-4c30-918c-8bd6745acd6b",
   "metadata": {},
   "outputs": [
    {
     "data": {
      "text/plain": [
       "array([[ 1. ,  1. ,  1. ,  1. ,  1. ,  1. ,  1. ],\n",
       "       [-1.5, -1. , -0.5,  0. ,  0.5,  1. ,  1.5]])"
      ]
     },
     "execution_count": 48,
     "metadata": {},
     "output_type": "execute_result"
    }
   ],
   "source": [
    "X_transpose=np.transpose(newX)\n",
    "X_transpose"
   ]
  },
  {
   "cell_type": "code",
   "execution_count": 49,
   "id": "3ab5b36c-ad0f-4fdd-80ea-0781d51e17df",
   "metadata": {},
   "outputs": [
    {
     "data": {
      "text/plain": [
       "(2, 7)"
      ]
     },
     "execution_count": 49,
     "metadata": {},
     "output_type": "execute_result"
    }
   ],
   "source": [
    "X_transpose.shape"
   ]
  },
  {
   "cell_type": "code",
   "execution_count": 58,
   "id": "828a7f0d-a5f7-425e-962e-bb5e666c0c30",
   "metadata": {},
   "outputs": [
    {
     "data": {
      "text/plain": [
       "array([[7., 0.],\n",
       "       [0., 7.]])"
      ]
     },
     "execution_count": 58,
     "metadata": {},
     "output_type": "execute_result"
    }
   ],
   "source": [
    "XtX=((X_transpose.dot(newX)))\n",
    "XtX"
   ]
  },
  {
   "cell_type": "code",
   "execution_count": 59,
   "id": "71e7f3d3-7ccb-465e-bd1b-cdc0249aa5a6",
   "metadata": {},
   "outputs": [
    {
     "data": {
      "text/plain": [
       "array([[0.14285714, 0.        ],\n",
       "       [0.        , 0.14285714]])"
      ]
     },
     "execution_count": 59,
     "metadata": {},
     "output_type": "execute_result"
    }
   ],
   "source": [
    "XtX_Inverse=np.linalg.inv(XtX)\n",
    "XtX_Inverse"
   ]
  },
  {
   "cell_type": "code",
   "execution_count": 60,
   "id": "444df004-8b45-4ba3-bace-003d570c8b48",
   "metadata": {},
   "outputs": [
    {
     "data": {
      "text/plain": [
       "array([[1.42108547e-14],\n",
       "       [6.65000000e+01]])"
      ]
     },
     "execution_count": 60,
     "metadata": {},
     "output_type": "execute_result"
    }
   ],
   "source": [
    "XtYmc=((X_transpose.dot(Ymc)))\n",
    "XtYmc"
   ]
  },
  {
   "cell_type": "code",
   "execution_count": 62,
   "id": "b1d793d5-ff8a-454b-8454-d8f9e8e1b3ee",
   "metadata": {},
   "outputs": [
    {
     "data": {
      "text/plain": [
       "array([[2.0301221e-15],\n",
       "       [9.5000000e+00]])"
      ]
     },
     "execution_count": 62,
     "metadata": {},
     "output_type": "execute_result"
    }
   ],
   "source": [
    "XtX_Inverse.dot(XtYmc)"
   ]
  },
  {
   "cell_type": "markdown",
   "id": "cd89fd99-3a72-48ea-8afd-5a742a6f6437",
   "metadata": {},
   "source": [
    "To recover the y-intercept use the formula y_mean = a + b1 * x_mean "
   ]
  },
  {
   "cell_type": "code",
   "execution_count": 76,
   "id": "fc2f81e6-bee4-4023-96d3-019d3909a5ff",
   "metadata": {},
   "outputs": [
    {
     "data": {
      "text/plain": [
       "-2.6785714285714306"
      ]
     },
     "execution_count": 76,
     "metadata": {},
     "output_type": "execute_result"
    }
   ],
   "source": [
    "y_intercept=np.mean(Y) - 9.5 * np.mean(X)\n",
    "y_intercept"
   ]
  },
  {
   "cell_type": "code",
   "execution_count": null,
   "id": "3a1479f6-a0a0-43fe-9573-543187916ae7",
   "metadata": {},
   "outputs": [],
   "source": []
  },
  {
   "cell_type": "code",
   "execution_count": null,
   "id": "def481bf-dda2-4ab9-94e0-6d26879a1e51",
   "metadata": {},
   "outputs": [],
   "source": []
  },
  {
   "cell_type": "code",
   "execution_count": null,
   "id": "f71414f8-3fff-4ecf-aa64-4a55a3548cb3",
   "metadata": {},
   "outputs": [],
   "source": []
  },
  {
   "cell_type": "markdown",
   "id": "94a68ff6-9729-4631-ba16-5f7d4e41a3a7",
   "metadata": {},
   "source": [
    "can check with python"
   ]
  },
  {
   "cell_type": "code",
   "execution_count": 69,
   "id": "eb73aa7a-b4ae-4151-822f-ab6c037a1369",
   "metadata": {},
   "outputs": [],
   "source": [
    "XA = (4,4.5,5,5.5,6,6.5,7)\n",
    "YA = (33,42,45,51,53,61,62)"
   ]
  },
  {
   "cell_type": "code",
   "execution_count": 70,
   "id": "065f3419-69a6-40f8-b153-f40b0571a1fd",
   "metadata": {},
   "outputs": [],
   "source": [
    "XA=np.asarray(XA)\n",
    "YA=np.asarray(YA)"
   ]
  },
  {
   "cell_type": "code",
   "execution_count": 71,
   "id": "304b501f-d604-4dbb-bdb0-aa8b2b1b9e10",
   "metadata": {},
   "outputs": [],
   "source": [
    "XA=np.reshape(XA,(7,1))\n",
    "YA=np.reshape(YA,(7,1))"
   ]
  },
  {
   "cell_type": "code",
   "execution_count": 73,
   "id": "37e685e4-b139-4a48-b033-37d2a6f2aa76",
   "metadata": {},
   "outputs": [
    {
     "data": {
      "text/html": [
       "<div>\n",
       "<style scoped>\n",
       "    .dataframe tbody tr th:only-of-type {\n",
       "        vertical-align: middle;\n",
       "    }\n",
       "\n",
       "    .dataframe tbody tr th {\n",
       "        vertical-align: top;\n",
       "    }\n",
       "\n",
       "    .dataframe thead th {\n",
       "        text-align: right;\n",
       "    }\n",
       "</style>\n",
       "<table border=\"1\" class=\"dataframe\">\n",
       "  <thead>\n",
       "    <tr style=\"text-align: right;\">\n",
       "      <th></th>\n",
       "      <th>XA</th>\n",
       "      <th>YA</th>\n",
       "    </tr>\n",
       "  </thead>\n",
       "  <tbody>\n",
       "    <tr>\n",
       "      <th>0</th>\n",
       "      <td>4.0</td>\n",
       "      <td>33.0</td>\n",
       "    </tr>\n",
       "    <tr>\n",
       "      <th>1</th>\n",
       "      <td>4.5</td>\n",
       "      <td>42.0</td>\n",
       "    </tr>\n",
       "    <tr>\n",
       "      <th>2</th>\n",
       "      <td>5.0</td>\n",
       "      <td>45.0</td>\n",
       "    </tr>\n",
       "    <tr>\n",
       "      <th>3</th>\n",
       "      <td>5.5</td>\n",
       "      <td>51.0</td>\n",
       "    </tr>\n",
       "    <tr>\n",
       "      <th>4</th>\n",
       "      <td>6.0</td>\n",
       "      <td>53.0</td>\n",
       "    </tr>\n",
       "    <tr>\n",
       "      <th>5</th>\n",
       "      <td>6.5</td>\n",
       "      <td>61.0</td>\n",
       "    </tr>\n",
       "    <tr>\n",
       "      <th>6</th>\n",
       "      <td>7.0</td>\n",
       "      <td>62.0</td>\n",
       "    </tr>\n",
       "  </tbody>\n",
       "</table>\n",
       "</div>"
      ],
      "text/plain": [
       "    XA    YA\n",
       "0  4.0  33.0\n",
       "1  4.5  42.0\n",
       "2  5.0  45.0\n",
       "3  5.5  51.0\n",
       "4  6.0  53.0\n",
       "5  6.5  61.0\n",
       "6  7.0  62.0"
      ]
     },
     "execution_count": 73,
     "metadata": {},
     "output_type": "execute_result"
    }
   ],
   "source": [
    "df=np.append(XA,YA,axis=1)\n",
    "df=pd.DataFrame(df,columns=[\"XA\",\"YA\"])\n",
    "df"
   ]
  },
  {
   "cell_type": "code",
   "execution_count": 74,
   "id": "297b40fd-f36c-4a4e-86ef-1faf2172e2f5",
   "metadata": {},
   "outputs": [
    {
     "name": "stdout",
     "output_type": "stream",
     "text": [
      "                 Results: Ordinary least squares\n",
      "=================================================================\n",
      "Model:              OLS              Adj. R-squared:     0.963   \n",
      "Dependent Variable: YA               AIC:                31.2014 \n",
      "Date:               2022-11-09 14:58 BIC:                31.0932 \n",
      "No. Observations:   7                Log-Likelihood:     -13.601 \n",
      "Df Model:           1                F-statistic:        158.2   \n",
      "Df Residuals:       5                Prob (F-statistic): 5.64e-05\n",
      "R-squared:          0.969            Scale:              3.9929  \n",
      "------------------------------------------------------------------\n",
      "              Coef.   Std.Err.     t     P>|t|    [0.025    0.975]\n",
      "------------------------------------------------------------------\n",
      "Intercept    -2.6786    4.2220  -0.6344  0.5537  -13.5316   8.1744\n",
      "XA            9.5000    0.7553  12.5786  0.0001    7.5586  11.4414\n",
      "-----------------------------------------------------------------\n",
      "Omnibus:               nan          Durbin-Watson:          2.749\n",
      "Prob(Omnibus):         nan          Jarque-Bera (JB):       0.840\n",
      "Skew:                  -0.107       Prob(JB):               0.657\n",
      "Kurtosis:              1.316        Condition No.:          32   \n",
      "=================================================================\n",
      "\n"
     ]
    },
    {
     "name": "stderr",
     "output_type": "stream",
     "text": [
      "C:\\Users\\carol\\anaconda3\\lib\\site-packages\\statsmodels\\stats\\stattools.py:74: ValueWarning: omni_normtest is not valid with less than 8 observations; 7 samples were given.\n",
      "  warn(\"omni_normtest is not valid with less than 8 observations; %i \"\n"
     ]
    }
   ],
   "source": [
    "from statsmodels.formula.api import ols\n",
    "\n",
    "model1=ols('YA~XA',data=df)\n",
    "results1=model1.fit()\n",
    "print(results1.summary2())"
   ]
  },
  {
   "cell_type": "code",
   "execution_count": null,
   "id": "b5624a12-85cd-43fa-952d-eaae6de8b3bf",
   "metadata": {},
   "outputs": [],
   "source": []
  }
 ],
 "metadata": {
  "kernelspec": {
   "display_name": "Python 3 (ipykernel)",
   "language": "python",
   "name": "python3"
  },
  "language_info": {
   "codemirror_mode": {
    "name": "ipython",
    "version": 3
   },
   "file_extension": ".py",
   "mimetype": "text/x-python",
   "name": "python",
   "nbconvert_exporter": "python",
   "pygments_lexer": "ipython3",
   "version": "3.9.13"
  }
 },
 "nbformat": 4,
 "nbformat_minor": 5
}
