{
 "cells": [
  {
   "cell_type": "code",
   "execution_count": 20,
   "id": "b983a835-38ef-44ea-998c-58cb98aa7a70",
   "metadata": {},
   "outputs": [
    {
     "name": "stdin",
     "output_type": "stream",
     "text": [
      "Once deleted, variables cannot be recovered. Proceed (y/[n])?  y\n"
     ]
    }
   ],
   "source": [
    "%reset\n",
    "import numpy as np\n",
    "import pandas as pd\n",
    "import matplotlib.pyplot as plt\n",
    "import seaborn as sns\n",
    "import scipy\n",
    "from scipy import stats\n",
    "import statsmodels.api as sm"
   ]
  },
  {
   "cell_type": "markdown",
   "id": "8cc73d4a-5a27-4b2a-befd-80795d21319d",
   "metadata": {},
   "source": [
    "Example:  A manufacturer of paper used for making grocery bags is interested in improving the tensile strength of the product. Product engineering thinks that tensile strength is a function of the hardwood concentration in the pulp and that the range of hardwood concentrations of practical interest is between 5 and 20%. A team of engineers responsible for the study decides to investigate four levels of hardwood concentration: 5, 10, 15, and 20%. They decide to make up six test specimens at each concentration level, using a pilot plant. All 24 specimens are tested on a laboratory tensile tester, in random order. "
   ]
  },
  {
   "cell_type": "code",
   "execution_count": 21,
   "id": "49c689c9-d855-4da7-afe4-55b350c519bb",
   "metadata": {},
   "outputs": [],
   "source": [
    "Five=pd.Series([7,8,15,11,9,10],name=\"5\")\n",
    "Ten=pd.Series([12,17,13,18,19,15],name=\"10\")\n",
    "Fifteen=pd.Series([14,18,19,17,16,18],name=\"15\")\n",
    "Twenty=pd.Series([19,25,22,23,18,20],name=\"20\")"
   ]
  },
  {
   "cell_type": "code",
   "execution_count": 22,
   "id": "c8a083c6-f11e-4fa9-9fc6-3219a08c3c7b",
   "metadata": {},
   "outputs": [
    {
     "data": {
      "text/html": [
       "<div>\n",
       "<style scoped>\n",
       "    .dataframe tbody tr th:only-of-type {\n",
       "        vertical-align: middle;\n",
       "    }\n",
       "\n",
       "    .dataframe tbody tr th {\n",
       "        vertical-align: top;\n",
       "    }\n",
       "\n",
       "    .dataframe thead th {\n",
       "        text-align: right;\n",
       "    }\n",
       "</style>\n",
       "<table border=\"1\" class=\"dataframe\">\n",
       "  <thead>\n",
       "    <tr style=\"text-align: right;\">\n",
       "      <th></th>\n",
       "      <th>5</th>\n",
       "      <th>10</th>\n",
       "      <th>15</th>\n",
       "      <th>20</th>\n",
       "    </tr>\n",
       "  </thead>\n",
       "  <tbody>\n",
       "    <tr>\n",
       "      <th>0</th>\n",
       "      <td>7</td>\n",
       "      <td>12</td>\n",
       "      <td>14</td>\n",
       "      <td>19</td>\n",
       "    </tr>\n",
       "    <tr>\n",
       "      <th>1</th>\n",
       "      <td>8</td>\n",
       "      <td>17</td>\n",
       "      <td>18</td>\n",
       "      <td>25</td>\n",
       "    </tr>\n",
       "    <tr>\n",
       "      <th>2</th>\n",
       "      <td>15</td>\n",
       "      <td>13</td>\n",
       "      <td>19</td>\n",
       "      <td>22</td>\n",
       "    </tr>\n",
       "    <tr>\n",
       "      <th>3</th>\n",
       "      <td>11</td>\n",
       "      <td>18</td>\n",
       "      <td>17</td>\n",
       "      <td>23</td>\n",
       "    </tr>\n",
       "    <tr>\n",
       "      <th>4</th>\n",
       "      <td>9</td>\n",
       "      <td>19</td>\n",
       "      <td>16</td>\n",
       "      <td>18</td>\n",
       "    </tr>\n",
       "    <tr>\n",
       "      <th>5</th>\n",
       "      <td>10</td>\n",
       "      <td>15</td>\n",
       "      <td>18</td>\n",
       "      <td>20</td>\n",
       "    </tr>\n",
       "  </tbody>\n",
       "</table>\n",
       "</div>"
      ],
      "text/plain": [
       "    5  10  15  20\n",
       "0   7  12  14  19\n",
       "1   8  17  18  25\n",
       "2  15  13  19  22\n",
       "3  11  18  17  23\n",
       "4   9  19  16  18\n",
       "5  10  15  18  20"
      ]
     },
     "execution_count": 22,
     "metadata": {},
     "output_type": "execute_result"
    }
   ],
   "source": [
    "# create a pandas dataframe of the name of df; axis=1 is for columns\n",
    "df=pd.concat([Five,Ten,Fifteen,Twenty],axis='columns')\n",
    "df"
   ]
  },
  {
   "cell_type": "code",
   "execution_count": 23,
   "id": "8e2691cd-e027-40c8-bf73-2774890e1f12",
   "metadata": {},
   "outputs": [
    {
     "data": {
      "text/html": [
       "<div>\n",
       "<style scoped>\n",
       "    .dataframe tbody tr th:only-of-type {\n",
       "        vertical-align: middle;\n",
       "    }\n",
       "\n",
       "    .dataframe tbody tr th {\n",
       "        vertical-align: top;\n",
       "    }\n",
       "\n",
       "    .dataframe thead th {\n",
       "        text-align: right;\n",
       "    }\n",
       "</style>\n",
       "<table border=\"1\" class=\"dataframe\">\n",
       "  <thead>\n",
       "    <tr style=\"text-align: right;\">\n",
       "      <th></th>\n",
       "      <th>5</th>\n",
       "      <th>10</th>\n",
       "      <th>15</th>\n",
       "      <th>20</th>\n",
       "    </tr>\n",
       "  </thead>\n",
       "  <tbody>\n",
       "    <tr>\n",
       "      <th>count</th>\n",
       "      <td>6.000000</td>\n",
       "      <td>6.000000</td>\n",
       "      <td>6.000000</td>\n",
       "      <td>6.000000</td>\n",
       "    </tr>\n",
       "    <tr>\n",
       "      <th>mean</th>\n",
       "      <td>10.000000</td>\n",
       "      <td>15.666667</td>\n",
       "      <td>17.000000</td>\n",
       "      <td>21.166667</td>\n",
       "    </tr>\n",
       "    <tr>\n",
       "      <th>std</th>\n",
       "      <td>2.828427</td>\n",
       "      <td>2.804758</td>\n",
       "      <td>1.788854</td>\n",
       "      <td>2.639444</td>\n",
       "    </tr>\n",
       "    <tr>\n",
       "      <th>min</th>\n",
       "      <td>7.000000</td>\n",
       "      <td>12.000000</td>\n",
       "      <td>14.000000</td>\n",
       "      <td>18.000000</td>\n",
       "    </tr>\n",
       "    <tr>\n",
       "      <th>25%</th>\n",
       "      <td>8.250000</td>\n",
       "      <td>13.500000</td>\n",
       "      <td>16.250000</td>\n",
       "      <td>19.250000</td>\n",
       "    </tr>\n",
       "    <tr>\n",
       "      <th>50%</th>\n",
       "      <td>9.500000</td>\n",
       "      <td>16.000000</td>\n",
       "      <td>17.500000</td>\n",
       "      <td>21.000000</td>\n",
       "    </tr>\n",
       "    <tr>\n",
       "      <th>75%</th>\n",
       "      <td>10.750000</td>\n",
       "      <td>17.750000</td>\n",
       "      <td>18.000000</td>\n",
       "      <td>22.750000</td>\n",
       "    </tr>\n",
       "    <tr>\n",
       "      <th>max</th>\n",
       "      <td>15.000000</td>\n",
       "      <td>19.000000</td>\n",
       "      <td>19.000000</td>\n",
       "      <td>25.000000</td>\n",
       "    </tr>\n",
       "  </tbody>\n",
       "</table>\n",
       "</div>"
      ],
      "text/plain": [
       "               5         10         15         20\n",
       "count   6.000000   6.000000   6.000000   6.000000\n",
       "mean   10.000000  15.666667  17.000000  21.166667\n",
       "std     2.828427   2.804758   1.788854   2.639444\n",
       "min     7.000000  12.000000  14.000000  18.000000\n",
       "25%     8.250000  13.500000  16.250000  19.250000\n",
       "50%     9.500000  16.000000  17.500000  21.000000\n",
       "75%    10.750000  17.750000  18.000000  22.750000\n",
       "max    15.000000  19.000000  19.000000  25.000000"
      ]
     },
     "execution_count": 23,
     "metadata": {},
     "output_type": "execute_result"
    }
   ],
   "source": [
    "# summarize the  data and describe\n",
    "df.describe()"
   ]
  },
  {
   "cell_type": "code",
   "execution_count": 24,
   "id": "51a73864-cd73-42e3-b11a-cbf529bbf11c",
   "metadata": {},
   "outputs": [
    {
     "data": {
      "text/plain": [
       "Text(33.722222222222214, 0.5, 'strength')"
      ]
     },
     "execution_count": 24,
     "metadata": {},
     "output_type": "execute_result"
    },
    {
     "data": {
      "image/png": "[encoded data removed]",
      "text/plain": [
       "<Figure size 640x480 with 1 Axes>"
      ]
     },
     "metadata": {},
     "output_type": "display_data"
    }
   ],
   "source": [
    "# Plot the data to visualize\n",
    "ax=sns.boxplot(data=df,showmeans=True,palette=\"Greys\")\n",
    "ax=sns.swarmplot(data=df)\n",
    "plt.xlabel(\"concentration %\")\n",
    "plt.ylabel(\"strength\")"
   ]
  },
  {
   "cell_type": "code",
   "execution_count": 25,
   "id": "e9d6331d-48dc-4c7d-bb27-e167609be1c0",
   "metadata": {},
   "outputs": [
    {
     "data": {
      "text/plain": [
       "Text(0.5, 9.444444444444438, 'strength')"
      ]
     },
     "execution_count": 25,
     "metadata": {},
     "output_type": "execute_result"
    },
    {
     "data": {
      "image/png": "[encoded data removed]",
      "text/plain": [
       "<Figure size 567.75x500 with 1 Axes>"
      ]
     },
     "metadata": {},
     "output_type": "display_data"
    }
   ],
   "source": [
    "# take a look at the distributions as well\n",
    "sns.displot(df,palette=\"Greys\",bins=15,kde=True,stat=\"count\")\n",
    "plt.xlabel(\"strength\")"
   ]
  },
  {
   "cell_type": "code",
   "execution_count": 26,
   "id": "1abb1b92-e0f6-4f77-ac8f-7f43c3e81939",
   "metadata": {},
   "outputs": [],
   "source": [
    "# review the assumptions for ANOVA"
   ]
  },
  {
   "cell_type": "code",
   "execution_count": 27,
   "id": "3384a886-9192-4987-b1d2-745e85dee0a2",
   "metadata": {},
   "outputs": [
    {
     "data": {
      "text/plain": [
       "LeveneResult(statistic=0.5988455988455988, pvalue=0.6231941028644978)"
      ]
     },
     "execution_count": 27,
     "metadata": {},
     "output_type": "execute_result"
    }
   ],
   "source": [
    "scipy.stats.levene(df[\"5\"],df[\"10\"],df[\"15\"],df[\"20\"])"
   ]
  },
  {
   "cell_type": "code",
   "execution_count": 28,
   "id": "5fd152dd-9be3-463b-87bf-f209a7330ac9",
   "metadata": {},
   "outputs": [
    {
     "data": {
      "image/png": "[encoded data removed]",
      "text/plain": [
       "<Figure size 1000x400 with 4 Axes>"
      ]
     },
     "metadata": {},
     "output_type": "display_data"
    }
   ],
   "source": [
    "df[\"5\"].sort_values()\n",
    "df[\"10\"].sort_values()\n",
    "df[\"15\"].sort_values()\n",
    "df[\"20\"].sort_values()\n",
    "fig2,ax2=plt.subplots(nrows=2,ncols=2,figsize=(10,4))\n",
    "sm.qqplot(df[\"5\"],line='45',loc=np.mean(df[\"5\"]),scale=np.std(df[\"5\"],ddof=1),ax=ax2[0,0])\n",
    "sm.qqplot(df[\"10\"],line='45',loc=np.mean(df[\"10\"]),scale=np.std(df[\"10\"],ddof=1),ax=ax2[0,1])\n",
    "sm.qqplot(df[\"15\"],line='45',loc=np.mean(df[\"15\"]),scale=np.std(df[\"15\"],ddof=1),ax=ax2[1,0])\n",
    "sm.qqplot(df[\"20\"],line='45',loc=np.mean(df[\"20\"]),scale=np.std(df[\"20\"],ddof=1),ax=ax2[1,1])\n",
    "plt.show()"
   ]
  },
  {
   "cell_type": "markdown",
   "id": "174c5be4-e17e-4d09-a70c-89db8a9792a4",
   "metadata": {},
   "source": [
    "# Calculate the test statistic"
   ]
  },
  {
   "cell_type": "code",
   "execution_count": 29,
   "id": "90ec90e6-c769-41ca-838b-20a8da7f7f33",
   "metadata": {},
   "outputs": [],
   "source": [
    "Strengths=pd.Series([7,8,15,11,9,10,12,17,13,18,19,15,14,18,19,17,16,18,19,25,22,23,18,20],name=\"strengths\")\n",
    "Groups=pd.Series([5,5,5,5,5,5,10,10,10,10,10,10,15,15,15,15,15,15,20,20,20,20,20,20],name=\"groups\")\n",
    "Groups=Groups.astype(\"category\")"
   ]
  },
  {
   "cell_type": "code",
   "execution_count": 30,
   "id": "0381b79b-c40c-47ae-a552-8c2e848c2bce",
   "metadata": {},
   "outputs": [
    {
     "data": {
      "text/plain": [
       "5     10.000000\n",
       "10    15.666667\n",
       "15    17.000000\n",
       "20    21.166667\n",
       "dtype: float64"
      ]
     },
     "execution_count": 30,
     "metadata": {},
     "output_type": "execute_result"
    }
   ],
   "source": [
    "group_means=df.mean()\n",
    "group_means"
   ]
  },
  {
   "cell_type": "code",
   "execution_count": 31,
   "id": "34b5e04f-948f-4f31-acfa-b0f90a1f3b6f",
   "metadata": {},
   "outputs": [
    {
     "data": {
      "text/plain": [
       "15.958333333333332"
      ]
     },
     "execution_count": 31,
     "metadata": {},
     "output_type": "execute_result"
    }
   ],
   "source": [
    "grand_mean=group_means.mean()\n",
    "grand_mean"
   ]
  },
  {
   "cell_type": "code",
   "execution_count": 32,
   "id": "f350f26b-9ae8-4c98-b07c-2f9f0e8cc7e7",
   "metadata": {},
   "outputs": [
    {
     "data": {
      "text/plain": [
       "512.9583333333334"
      ]
     },
     "execution_count": 32,
     "metadata": {},
     "output_type": "execute_result"
    }
   ],
   "source": [
    "TotalSS=np.sum((Strengths-grand_mean)**2)\n",
    "TotalSS"
   ]
  },
  {
   "cell_type": "code",
   "execution_count": 33,
   "id": "debccd6e-5f1e-47e9-bbf5-5bf44322c057",
   "metadata": {},
   "outputs": [
    {
     "data": {
      "text/plain": [
       "382.79166666666674"
      ]
     },
     "execution_count": 33,
     "metadata": {},
     "output_type": "execute_result"
    }
   ],
   "source": [
    "BetweenSS=np.sum(6*(group_means-grand_mean)**2)\n",
    "BetweenSS"
   ]
  },
  {
   "cell_type": "code",
   "execution_count": 34,
   "id": "fece0632-a39e-4445-b83c-6bf78b095a16",
   "metadata": {},
   "outputs": [],
   "source": [
    "WithinSS_1=np.sum((df[\"5\"]-df[\"5\"].mean())**2)\n",
    "WithinSS_2=np.sum((df[\"10\"]-df[\"10\"].mean())**2)\n",
    "WithinSS_3=np.sum((df[\"15\"]-df[\"15\"].mean())**2)\n",
    "WithinSS_4=np.sum((df[\"20\"]-df[\"20\"].mean())**2)"
   ]
  },
  {
   "cell_type": "code",
   "execution_count": 35,
   "id": "e524e084-6702-4b58-a30f-a05dcab2936d",
   "metadata": {},
   "outputs": [
    {
     "data": {
      "text/plain": [
       "130.16666666666666"
      ]
     },
     "execution_count": 35,
     "metadata": {},
     "output_type": "execute_result"
    }
   ],
   "source": [
    "WithinSS=WithinSS_1+WithinSS_2+WithinSS_3+WithinSS_4\n",
    "WithinSS"
   ]
  },
  {
   "cell_type": "code",
   "execution_count": 36,
   "id": "95383563-8fbe-4752-9203-023f4e66530e",
   "metadata": {},
   "outputs": [
    {
     "data": {
      "text/plain": [
       "6.508333333333333"
      ]
     },
     "execution_count": 36,
     "metadata": {},
     "output_type": "execute_result"
    }
   ],
   "source": [
    "MSE= WithinSS/20\n",
    "MSE"
   ]
  },
  {
   "cell_type": "code",
   "execution_count": 37,
   "id": "8081e70a-9efa-4b6f-a475-6e00720add5a",
   "metadata": {},
   "outputs": [
    {
     "data": {
      "text/plain": [
       "127.59722222222224"
      ]
     },
     "execution_count": 37,
     "metadata": {},
     "output_type": "execute_result"
    }
   ],
   "source": [
    "MST=BetweenSS/3\n",
    "MST"
   ]
  },
  {
   "cell_type": "code",
   "execution_count": 38,
   "id": "aa8c5dca-f86d-4093-a718-7d63c50c1793",
   "metadata": {},
   "outputs": [
    {
     "data": {
      "text/plain": [
       "19.605206999573202"
      ]
     },
     "execution_count": 38,
     "metadata": {},
     "output_type": "execute_result"
    }
   ],
   "source": [
    "F_statistic=MST/MSE\n",
    "F_statistic"
   ]
  },
  {
   "cell_type": "markdown",
   "id": "9f321daf-e902-414d-adbe-9a910193d7c1",
   "metadata": {},
   "source": [
    "# Compare with F distribution for critical value comparison and p-value"
   ]
  },
  {
   "cell_type": "code",
   "execution_count": 39,
   "id": "ba86b154-c900-45d4-8852-1a03e927c7e6",
   "metadata": {},
   "outputs": [],
   "source": [
    "from scipy.stats import f"
   ]
  },
  {
   "cell_type": "code",
   "execution_count": 40,
   "id": "31bb4d7f-685f-4a9b-a2bc-5831041ee332",
   "metadata": {},
   "outputs": [
    {
     "data": {
      "text/plain": [
       "3.09839121214078"
      ]
     },
     "execution_count": 40,
     "metadata": {},
     "output_type": "execute_result"
    }
   ],
   "source": [
    "f.ppf(0.95,3,20)"
   ]
  },
  {
   "cell_type": "code",
   "execution_count": 41,
   "id": "ed9bffe7-b1bc-45eb-90ff-3c0efd95c27b",
   "metadata": {},
   "outputs": [
    {
     "data": {
      "text/plain": [
       "3.5925782584378396e-06"
      ]
     },
     "execution_count": 41,
     "metadata": {},
     "output_type": "execute_result"
    }
   ],
   "source": [
    "1-f.cdf(F_statistic,3,20)"
   ]
  },
  {
   "cell_type": "markdown",
   "id": "3cde40b4-d39f-4860-89dd-2024a63ad9d0",
   "metadata": {},
   "source": [
    "# Confirm with python "
   ]
  },
  {
   "cell_type": "code",
   "execution_count": 42,
   "id": "72224ebd-0b8d-4c53-a0f6-a1e8c6647415",
   "metadata": {},
   "outputs": [
    {
     "data": {
      "text/plain": [
       "F_onewayResult(statistic=19.605206999573184, pvalue=3.5925782584743027e-06)"
      ]
     },
     "execution_count": 42,
     "metadata": {},
     "output_type": "execute_result"
    }
   ],
   "source": [
    "stats.f_oneway(df[\"5\"],df[\"10\"],df[\"15\"],df[\"20\"])"
   ]
  },
  {
   "cell_type": "markdown",
   "id": "3e0d7c79-e310-48ae-8b37-d7032b657d0c",
   "metadata": {},
   "source": [
    "# Post-hoc testig\n",
    "\n",
    "The populations here are diameter readings while under the 10 different batches. What we do not know at this point is whether the 10 means are all different or which of the means is different from the others, and by how much.\n",
    "\n",
    "There are several techniques we might use to further analyze the differences. A couple are:\n",
    "\n",
    "- constructing confidence intervals around the difference of two means,\n",
    "- multiple comparisons of combinations of factor levels tested simultaneously.\n",
    "\n",
    "How many pairwise comparisons?  "
   ]
  },
  {
   "cell_type": "markdown",
   "id": "b003a01f-8897-45a1-8fff-2e40ade0cbcf",
   "metadata": {},
   "source": [
    "Create 95% CI around the difference of 2 means using a pooled SEM:  this is the residual standard error / sqrt(n) = sqrt(MSE/n)"
   ]
  },
  {
   "cell_type": "code",
   "execution_count": 43,
   "id": "59ed48fb-1775-4238-93c5-8837f5526240",
   "metadata": {},
   "outputs": [
    {
     "data": {
      "text/plain": [
       "1.041499986664533"
      ]
     },
     "execution_count": 43,
     "metadata": {},
     "output_type": "execute_result"
    }
   ],
   "source": [
    "np.sqrt(MSE/6)"
   ]
  },
  {
   "cell_type": "code",
   "execution_count": 44,
   "id": "9c86f7ea-6cd1-438a-9bb9-991b306adac3",
   "metadata": {},
   "outputs": [],
   "source": [
    "LB5=(np.mean(Five) - 1.96*1.04)\n",
    "UB5=(np.mean(Five) + 1.96*1.04)\n",
    "LB10=(np.mean(Ten) - 1.96*1.04)\n",
    "UB10=(np.mean(Ten) + 1.96*1.04)\n",
    "LB15=(np.mean(Fifteen) - 1.96*1.04)\n",
    "UB15=(np.mean(Fifteen) + 1.96*1.04)\n",
    "LB20=(np.mean(Twenty) - 1.96*1.04)\n",
    "UB20=(np.mean(Twenty) + 1.96*1.04)"
   ]
  },
  {
   "cell_type": "code",
   "execution_count": 45,
   "id": "331f6514-36ab-42c9-92b6-b015ebe366d4",
   "metadata": {},
   "outputs": [
    {
     "data": {
      "image/png": "[encoded data removed]",
      "text/plain": [
       "<Figure size 640x480 with 1 Axes>"
      ]
     },
     "metadata": {},
     "output_type": "display_data"
    }
   ],
   "source": [
    "xvalues5=[LB5,UB5]\n",
    "yvalues5=[1,1]\n",
    "xvalues10=[LB10,UB10]\n",
    "yvalues10=[2,2]\n",
    "xvalues15=[LB15,UB15]\n",
    "yvalues15=[3,3]\n",
    "xvalues20=[LB20,UB20]\n",
    "yvalues20=[4,4]\n",
    "plt.plot(xvalues5, yvalues5,\":\",color=\"grey\",marker=\"o\");\n",
    "plt.plot(xvalues10, yvalues10,\":\",color=\"grey\",marker=\"o\");\n",
    "plt.plot(xvalues15, yvalues15,\":\",color=\"grey\",marker=\"o\");\n",
    "plt.plot(xvalues20, yvalues20,\":\",color=\"grey\",marker=\"o\");"
   ]
  },
  {
   "cell_type": "code",
   "execution_count": 46,
   "id": "173ca418-eff1-47ad-9024-03181c7a4a25",
   "metadata": {},
   "outputs": [
    {
     "data": {
      "text/html": [
       "<div>\n",
       "<style scoped>\n",
       "    .dataframe tbody tr th:only-of-type {\n",
       "        vertical-align: middle;\n",
       "    }\n",
       "\n",
       "    .dataframe tbody tr th {\n",
       "        vertical-align: top;\n",
       "    }\n",
       "\n",
       "    .dataframe thead th {\n",
       "        text-align: right;\n",
       "    }\n",
       "</style>\n",
       "<table border=\"1\" class=\"dataframe\">\n",
       "  <thead>\n",
       "    <tr style=\"text-align: right;\">\n",
       "      <th></th>\n",
       "      <th>strengths</th>\n",
       "      <th>groups</th>\n",
       "    </tr>\n",
       "  </thead>\n",
       "  <tbody>\n",
       "    <tr>\n",
       "      <th>0</th>\n",
       "      <td>7</td>\n",
       "      <td>5</td>\n",
       "    </tr>\n",
       "    <tr>\n",
       "      <th>1</th>\n",
       "      <td>8</td>\n",
       "      <td>5</td>\n",
       "    </tr>\n",
       "    <tr>\n",
       "      <th>2</th>\n",
       "      <td>15</td>\n",
       "      <td>5</td>\n",
       "    </tr>\n",
       "    <tr>\n",
       "      <th>3</th>\n",
       "      <td>11</td>\n",
       "      <td>5</td>\n",
       "    </tr>\n",
       "    <tr>\n",
       "      <th>4</th>\n",
       "      <td>9</td>\n",
       "      <td>5</td>\n",
       "    </tr>\n",
       "    <tr>\n",
       "      <th>5</th>\n",
       "      <td>10</td>\n",
       "      <td>5</td>\n",
       "    </tr>\n",
       "    <tr>\n",
       "      <th>6</th>\n",
       "      <td>12</td>\n",
       "      <td>10</td>\n",
       "    </tr>\n",
       "    <tr>\n",
       "      <th>7</th>\n",
       "      <td>17</td>\n",
       "      <td>10</td>\n",
       "    </tr>\n",
       "    <tr>\n",
       "      <th>8</th>\n",
       "      <td>13</td>\n",
       "      <td>10</td>\n",
       "    </tr>\n",
       "    <tr>\n",
       "      <th>9</th>\n",
       "      <td>18</td>\n",
       "      <td>10</td>\n",
       "    </tr>\n",
       "    <tr>\n",
       "      <th>10</th>\n",
       "      <td>19</td>\n",
       "      <td>10</td>\n",
       "    </tr>\n",
       "    <tr>\n",
       "      <th>11</th>\n",
       "      <td>15</td>\n",
       "      <td>10</td>\n",
       "    </tr>\n",
       "    <tr>\n",
       "      <th>12</th>\n",
       "      <td>14</td>\n",
       "      <td>15</td>\n",
       "    </tr>\n",
       "    <tr>\n",
       "      <th>13</th>\n",
       "      <td>18</td>\n",
       "      <td>15</td>\n",
       "    </tr>\n",
       "    <tr>\n",
       "      <th>14</th>\n",
       "      <td>19</td>\n",
       "      <td>15</td>\n",
       "    </tr>\n",
       "    <tr>\n",
       "      <th>15</th>\n",
       "      <td>17</td>\n",
       "      <td>15</td>\n",
       "    </tr>\n",
       "    <tr>\n",
       "      <th>16</th>\n",
       "      <td>16</td>\n",
       "      <td>15</td>\n",
       "    </tr>\n",
       "    <tr>\n",
       "      <th>17</th>\n",
       "      <td>18</td>\n",
       "      <td>15</td>\n",
       "    </tr>\n",
       "    <tr>\n",
       "      <th>18</th>\n",
       "      <td>19</td>\n",
       "      <td>20</td>\n",
       "    </tr>\n",
       "    <tr>\n",
       "      <th>19</th>\n",
       "      <td>25</td>\n",
       "      <td>20</td>\n",
       "    </tr>\n",
       "    <tr>\n",
       "      <th>20</th>\n",
       "      <td>22</td>\n",
       "      <td>20</td>\n",
       "    </tr>\n",
       "    <tr>\n",
       "      <th>21</th>\n",
       "      <td>23</td>\n",
       "      <td>20</td>\n",
       "    </tr>\n",
       "    <tr>\n",
       "      <th>22</th>\n",
       "      <td>18</td>\n",
       "      <td>20</td>\n",
       "    </tr>\n",
       "    <tr>\n",
       "      <th>23</th>\n",
       "      <td>20</td>\n",
       "      <td>20</td>\n",
       "    </tr>\n",
       "  </tbody>\n",
       "</table>\n",
       "</div>"
      ],
      "text/plain": [
       "    strengths groups\n",
       "0           7      5\n",
       "1           8      5\n",
       "2          15      5\n",
       "3          11      5\n",
       "4           9      5\n",
       "5          10      5\n",
       "6          12     10\n",
       "7          17     10\n",
       "8          13     10\n",
       "9          18     10\n",
       "10         19     10\n",
       "11         15     10\n",
       "12         14     15\n",
       "13         18     15\n",
       "14         19     15\n",
       "15         17     15\n",
       "16         16     15\n",
       "17         18     15\n",
       "18         19     20\n",
       "19         25     20\n",
       "20         22     20\n",
       "21         23     20\n",
       "22         18     20\n",
       "23         20     20"
      ]
     },
     "execution_count": 46,
     "metadata": {},
     "output_type": "execute_result"
    }
   ],
   "source": [
    "dfA=pd.concat([Strengths,Groups],axis='columns')\n",
    "dfA"
   ]
  },
  {
   "cell_type": "code",
   "execution_count": 47,
   "id": "3949f4ce-2ecb-4366-8722-35458287af51",
   "metadata": {},
   "outputs": [
    {
     "data": {
      "text/html": [
       "<table class=\"simpletable\">\n",
       "<caption>Test Multiple Comparison ttest_ind \n",
       "FWER=0.05 method=bonf\n",
       "alphacSidak=0.01, alphacBonf=0.008</caption>\n",
       "<tr>\n",
       "  <th>group1</th> <th>group2</th>  <th>stat</th>    <th>pval</th>  <th>pval_corr</th> <th>reject</th>\n",
       "</tr>\n",
       "<tr>\n",
       "     <td>5</td>     <td>10</td>   <td>-3.4847</td> <td>0.0059</td>  <td>0.0353</td>    <td>True</td> \n",
       "</tr>\n",
       "<tr>\n",
       "     <td>5</td>     <td>15</td>   <td>-5.1235</td> <td>0.0004</td>  <td>0.0027</td>    <td>True</td> \n",
       "</tr>\n",
       "<tr>\n",
       "     <td>5</td>     <td>20</td>   <td>-7.0703</td>   <td>0.0</td>   <td>0.0002</td>    <td>True</td> \n",
       "</tr>\n",
       "<tr>\n",
       "    <td>10</td>     <td>15</td>   <td>-0.9818</td> <td>0.3494</td>    <td>1.0</td>     <td>False</td>\n",
       "</tr>\n",
       "<tr>\n",
       "    <td>10</td>     <td>20</td>   <td>-3.498</td>  <td>0.0057</td>  <td>0.0345</td>    <td>True</td> \n",
       "</tr>\n",
       "<tr>\n",
       "    <td>15</td>     <td>20</td>   <td>-3.2009</td> <td>0.0095</td>  <td>0.0569</td>    <td>False</td>\n",
       "</tr>\n",
       "</table>"
      ],
      "text/plain": [
       "<class 'statsmodels.iolib.table.SimpleTable'>"
      ]
     },
     "execution_count": 47,
     "metadata": {},
     "output_type": "execute_result"
    }
   ],
   "source": [
    "import statsmodels.stats.multicomp as mc\n",
    "\n",
    "comp = mc.MultiComparison(dfA['strengths'], dfA['groups'])\n",
    "tbl, a1, a2 = comp.allpairtest(stats.ttest_ind, method= \"bonf\")\n",
    "\n",
    "tbl"
   ]
  },
  {
   "cell_type": "code",
   "execution_count": 48,
   "id": "dc3b5276-b2fb-4b12-8e71-e649ff43b248",
   "metadata": {},
   "outputs": [
    {
     "data": {
      "text/plain": [
       "Ttest_indResult(statistic=-3.484660262185848, pvalue=0.0058752293265014795)"
      ]
     },
     "execution_count": 48,
     "metadata": {},
     "output_type": "execute_result"
    }
   ],
   "source": [
    "stats.ttest_ind(df[\"5\"],df[\"10\"])"
   ]
  },
  {
   "cell_type": "markdown",
   "id": "27337b97-e535-4cf4-888e-a4c5872a95aa",
   "metadata": {},
   "source": [
    "Try a HSD Tukeys Test"
   ]
  },
  {
   "cell_type": "code",
   "execution_count": 49,
   "id": "c5186ecc-b063-4d15-be27-2cb7d7aed7df",
   "metadata": {},
   "outputs": [],
   "source": [
    "from statsmodels.stats.multicomp import pairwise_tukeyhsd"
   ]
  },
  {
   "cell_type": "code",
   "execution_count": 50,
   "id": "5d986f8a-fc96-428d-aafa-322fa5ddd95e",
   "metadata": {},
   "outputs": [
    {
     "name": "stdout",
     "output_type": "stream",
     "text": [
      "Multiple Comparison of Means - Tukey HSD, FWER=0.05 \n",
      "====================================================\n",
      "group1 group2 meandiff p-adj   lower   upper  reject\n",
      "----------------------------------------------------\n",
      "     5     10   5.6667 0.0051  1.5441  9.7892   True\n",
      "     5     15      7.0 0.0007  2.8774 11.1226   True\n",
      "     5     20  11.1667    0.0  7.0441 15.2892   True\n",
      "    10     15   1.3333 0.8022 -2.7892  5.4559  False\n",
      "    10     20      5.5 0.0066  1.3774  9.6226   True\n",
      "    15     20   4.1667  0.047  0.0441  8.2892   True\n",
      "----------------------------------------------------\n"
     ]
    }
   ],
   "source": [
    "mult_comp=pairwise_tukeyhsd(endog=dfA['strengths'], groups=dfA['groups'], alpha=0.05)\n",
    "print(mult_comp)"
   ]
  },
  {
   "cell_type": "markdown",
   "id": "6933e8ce-cd33-44fc-83ee-fe5ccc2dc568",
   "metadata": {},
   "source": [
    "# General linear model\n",
    "\n",
    "The general linear model (GLM) is the conventional linear regression model for a continuous response variable given continuous and/or categorical predictors. It includes simple linear regression, multiple linear regression, as well as ANOVA. \n",
    "\n",
    "For simple linear regression with categorical concentration% predicting tensile strength and dummy coding of the category:"
   ]
  },
  {
   "cell_type": "code",
   "execution_count": 51,
   "id": "3831e6bd-9527-4268-9a40-133cc91195c5",
   "metadata": {
    "tags": []
   },
   "outputs": [
    {
     "data": {
      "text/plain": [
       "<matplotlib.lines.Line2D at 0x21cafd41eb0>"
      ]
     },
     "execution_count": 51,
     "metadata": {},
     "output_type": "execute_result"
    },
    {
     "data": {
      "image/png": "[encoded data removed]",
      "text/plain": [
       "<Figure size 500x500 with 1 Axes>"
      ]
     },
     "metadata": {},
     "output_type": "display_data"
    }
   ],
   "source": [
    "sns.catplot(x=\"groups\",y=\"strengths\",data=dfA)\n",
    "plt.axhline(y=15.96,color=\"red\")\n",
    "plt.axhline(y=10, linestyle='--',color=\"red\") \n",
    "plt.axhline(y=15.67, linestyle='--',color=\"red\") \n",
    "plt.axhline(y=17, linestyle='--',color=\"red\") \n",
    "plt.axhline(y=21.17, linestyle='--',color=\"red\") "
   ]
  },
  {
   "cell_type": "code",
   "execution_count": 52,
   "id": "e4edcd9d-695c-4b10-9af0-a37bb4498e4f",
   "metadata": {},
   "outputs": [],
   "source": [
    "from statsmodels.formula.api import ols\n",
    "import statsmodels.api as sm"
   ]
  },
  {
   "cell_type": "code",
   "execution_count": 53,
   "id": "871befad-e821-471a-89c0-243a8a1ad1f0",
   "metadata": {},
   "outputs": [
    {
     "data": {
      "text/html": [
       "<table class=\"simpletable\">\n",
       "<tr>\n",
       "        <td>Model:</td>               <td>OLS</td>         <td>Adj. R-squared:</td>     <td>0.708</td> \n",
       "</tr>\n",
       "<tr>\n",
       "  <td>Dependent Variable:</td>     <td>strengths</td>           <td>AIC:</td>         <td>116.6873</td>\n",
       "</tr>\n",
       "<tr>\n",
       "         <td>Date:</td>        <td>2023-02-16 08:21</td>        <td>BIC:</td>         <td>121.3995</td>\n",
       "</tr>\n",
       "<tr>\n",
       "   <td>No. Observations:</td>         <td>24</td>          <td>Log-Likelihood:</td>    <td>-54.344</td>\n",
       "</tr>\n",
       "<tr>\n",
       "       <td>Df Model:</td>              <td>3</td>           <td>F-statistic:</td>       <td>19.61</td> \n",
       "</tr>\n",
       "<tr>\n",
       "     <td>Df Residuals:</td>           <td>20</td>        <td>Prob (F-statistic):</td> <td>3.59e-06</td>\n",
       "</tr>\n",
       "<tr>\n",
       "      <td>R-squared:</td>            <td>0.746</td>            <td>Scale:</td>         <td>6.5083</td> \n",
       "</tr>\n",
       "</table>\n",
       "<table class=\"simpletable\">\n",
       "<tr>\n",
       "        <td></td>        <th>Coef.</th>  <th>Std.Err.</th>    <th>t</th>    <th>P>|t|</th> <th>[0.025</th> <th>0.975]</th> \n",
       "</tr>\n",
       "<tr>\n",
       "  <th>Intercept</th>    <td>10.0000</td>  <td>1.0415</td>  <td>9.6015</td> <td>0.0000</td> <td>7.8275</td> <td>12.1725</td>\n",
       "</tr>\n",
       "<tr>\n",
       "  <th>groups[T.10]</th> <td>5.6667</td>   <td>1.4729</td>  <td>3.8473</td> <td>0.0010</td> <td>2.5942</td> <td>8.7391</td> \n",
       "</tr>\n",
       "<tr>\n",
       "  <th>groups[T.15]</th> <td>7.0000</td>   <td>1.4729</td>  <td>4.7525</td> <td>0.0001</td> <td>3.9276</td> <td>10.0724</td>\n",
       "</tr>\n",
       "<tr>\n",
       "  <th>groups[T.20]</th> <td>11.1667</td>  <td>1.4729</td>  <td>7.5814</td> <td>0.0000</td> <td>8.0942</td> <td>14.2391</td>\n",
       "</tr>\n",
       "</table>\n",
       "<table class=\"simpletable\">\n",
       "<tr>\n",
       "     <td>Omnibus:</td>    <td>0.929</td>  <td>Durbin-Watson:</td>   <td>2.181</td>\n",
       "</tr>\n",
       "<tr>\n",
       "  <td>Prob(Omnibus):</td> <td>0.628</td> <td>Jarque-Bera (JB):</td> <td>0.861</td>\n",
       "</tr>\n",
       "<tr>\n",
       "       <td>Skew:</td>     <td>0.248</td>     <td>Prob(JB):</td>     <td>0.650</td>\n",
       "</tr>\n",
       "<tr>\n",
       "     <td>Kurtosis:</td>   <td>2.215</td>  <td>Condition No.:</td>     <td>5</td>  \n",
       "</tr>\n",
       "</table>"
      ],
      "text/plain": [
       "<class 'statsmodels.iolib.summary2.Summary'>\n",
       "\"\"\"\n",
       "                 Results: Ordinary least squares\n",
       "=================================================================\n",
       "Model:              OLS              Adj. R-squared:     0.708   \n",
       "Dependent Variable: strengths        AIC:                116.6873\n",
       "Date:               2023-02-16 08:21 BIC:                121.3995\n",
       "No. Observations:   24               Log-Likelihood:     -54.344 \n",
       "Df Model:           3                F-statistic:        19.61   \n",
       "Df Residuals:       20               Prob (F-statistic): 3.59e-06\n",
       "R-squared:          0.746            Scale:              6.5083  \n",
       "------------------------------------------------------------------\n",
       "                 Coef.   Std.Err.    t     P>|t|   [0.025   0.975]\n",
       "------------------------------------------------------------------\n",
       "Intercept       10.0000    1.0415  9.6015  0.0000  7.8275  12.1725\n",
       "groups[T.10]     5.6667    1.4729  3.8473  0.0010  2.5942   8.7391\n",
       "groups[T.15]     7.0000    1.4729  4.7525  0.0001  3.9276  10.0724\n",
       "groups[T.20]    11.1667    1.4729  7.5814  0.0000  8.0942  14.2391\n",
       "-----------------------------------------------------------------\n",
       "Omnibus:              0.929        Durbin-Watson:           2.181\n",
       "Prob(Omnibus):        0.628        Jarque-Bera (JB):        0.861\n",
       "Skew:                 0.248        Prob(JB):                0.650\n",
       "Kurtosis:             2.215        Condition No.:           5    \n",
       "=================================================================\n",
       "\n",
       "\"\"\""
      ]
     },
     "execution_count": 53,
     "metadata": {},
     "output_type": "execute_result"
    }
   ],
   "source": [
    "#fit the simple linear regression model\n",
    "model=ols('strengths~groups',data=dfA)\n",
    "results=model.fit()\n",
    "results.summary2()"
   ]
  },
  {
   "cell_type": "code",
   "execution_count": 55,
   "id": "1e30c8af-b575-436c-bf48-36a051f2c674",
   "metadata": {},
   "outputs": [
    {
     "data": {
      "text/html": [
       "<div>\n",
       "<style scoped>\n",
       "    .dataframe tbody tr th:only-of-type {\n",
       "        vertical-align: middle;\n",
       "    }\n",
       "\n",
       "    .dataframe tbody tr th {\n",
       "        vertical-align: top;\n",
       "    }\n",
       "\n",
       "    .dataframe thead th {\n",
       "        text-align: right;\n",
       "    }\n",
       "</style>\n",
       "<table border=\"1\" class=\"dataframe\">\n",
       "  <thead>\n",
       "    <tr style=\"text-align: right;\">\n",
       "      <th></th>\n",
       "      <th>5</th>\n",
       "      <th>10</th>\n",
       "      <th>15</th>\n",
       "      <th>20</th>\n",
       "    </tr>\n",
       "  </thead>\n",
       "  <tbody>\n",
       "    <tr>\n",
       "      <th>count</th>\n",
       "      <td>6.000000</td>\n",
       "      <td>6.000000</td>\n",
       "      <td>6.000000</td>\n",
       "      <td>6.000000</td>\n",
       "    </tr>\n",
       "    <tr>\n",
       "      <th>mean</th>\n",
       "      <td>10.000000</td>\n",
       "      <td>15.666667</td>\n",
       "      <td>17.000000</td>\n",
       "      <td>21.166667</td>\n",
       "    </tr>\n",
       "    <tr>\n",
       "      <th>std</th>\n",
       "      <td>2.828427</td>\n",
       "      <td>2.804758</td>\n",
       "      <td>1.788854</td>\n",
       "      <td>2.639444</td>\n",
       "    </tr>\n",
       "    <tr>\n",
       "      <th>min</th>\n",
       "      <td>7.000000</td>\n",
       "      <td>12.000000</td>\n",
       "      <td>14.000000</td>\n",
       "      <td>18.000000</td>\n",
       "    </tr>\n",
       "    <tr>\n",
       "      <th>25%</th>\n",
       "      <td>8.250000</td>\n",
       "      <td>13.500000</td>\n",
       "      <td>16.250000</td>\n",
       "      <td>19.250000</td>\n",
       "    </tr>\n",
       "    <tr>\n",
       "      <th>50%</th>\n",
       "      <td>9.500000</td>\n",
       "      <td>16.000000</td>\n",
       "      <td>17.500000</td>\n",
       "      <td>21.000000</td>\n",
       "    </tr>\n",
       "    <tr>\n",
       "      <th>75%</th>\n",
       "      <td>10.750000</td>\n",
       "      <td>17.750000</td>\n",
       "      <td>18.000000</td>\n",
       "      <td>22.750000</td>\n",
       "    </tr>\n",
       "    <tr>\n",
       "      <th>max</th>\n",
       "      <td>15.000000</td>\n",
       "      <td>19.000000</td>\n",
       "      <td>19.000000</td>\n",
       "      <td>25.000000</td>\n",
       "    </tr>\n",
       "  </tbody>\n",
       "</table>\n",
       "</div>"
      ],
      "text/plain": [
       "               5         10         15         20\n",
       "count   6.000000   6.000000   6.000000   6.000000\n",
       "mean   10.000000  15.666667  17.000000  21.166667\n",
       "std     2.828427   2.804758   1.788854   2.639444\n",
       "min     7.000000  12.000000  14.000000  18.000000\n",
       "25%     8.250000  13.500000  16.250000  19.250000\n",
       "50%     9.500000  16.000000  17.500000  21.000000\n",
       "75%    10.750000  17.750000  18.000000  22.750000\n",
       "max    15.000000  19.000000  19.000000  25.000000"
      ]
     },
     "execution_count": 55,
     "metadata": {},
     "output_type": "execute_result"
    }
   ],
   "source": [
    "df.describe()"
   ]
  },
  {
   "cell_type": "code",
   "execution_count": 56,
   "id": "72f9775b-b390-48e8-a0b3-c86c2b76a467",
   "metadata": {},
   "outputs": [
    {
     "data": {
      "text/html": [
       "<div>\n",
       "<style scoped>\n",
       "    .dataframe tbody tr th:only-of-type {\n",
       "        vertical-align: middle;\n",
       "    }\n",
       "\n",
       "    .dataframe tbody tr th {\n",
       "        vertical-align: top;\n",
       "    }\n",
       "\n",
       "    .dataframe thead th {\n",
       "        text-align: right;\n",
       "    }\n",
       "</style>\n",
       "<table border=\"1\" class=\"dataframe\">\n",
       "  <thead>\n",
       "    <tr style=\"text-align: right;\">\n",
       "      <th></th>\n",
       "      <th>df</th>\n",
       "      <th>sum_sq</th>\n",
       "      <th>mean_sq</th>\n",
       "      <th>F</th>\n",
       "      <th>PR(&gt;F)</th>\n",
       "    </tr>\n",
       "  </thead>\n",
       "  <tbody>\n",
       "    <tr>\n",
       "      <th>groups</th>\n",
       "      <td>3.0</td>\n",
       "      <td>382.791667</td>\n",
       "      <td>127.597222</td>\n",
       "      <td>19.605207</td>\n",
       "      <td>0.000004</td>\n",
       "    </tr>\n",
       "    <tr>\n",
       "      <th>Residual</th>\n",
       "      <td>20.0</td>\n",
       "      <td>130.166667</td>\n",
       "      <td>6.508333</td>\n",
       "      <td>NaN</td>\n",
       "      <td>NaN</td>\n",
       "    </tr>\n",
       "  </tbody>\n",
       "</table>\n",
       "</div>"
      ],
      "text/plain": [
       "            df      sum_sq     mean_sq          F    PR(>F)\n",
       "groups     3.0  382.791667  127.597222  19.605207  0.000004\n",
       "Residual  20.0  130.166667    6.508333        NaN       NaN"
      ]
     },
     "execution_count": 56,
     "metadata": {},
     "output_type": "execute_result"
    }
   ],
   "source": [
    "from statsmodels.stats.anova import anova_lm\n",
    "anova_results = anova_lm(results)\n",
    "anova_results"
   ]
  },
  {
   "cell_type": "markdown",
   "id": "83804837-cb72-42ad-a14b-bc643cef1f0c",
   "metadata": {},
   "source": [
    "# Simple linear regression with continuous response (dependent) variable and continuous predcitor (independent) variable"
   ]
  },
  {
   "cell_type": "code",
   "execution_count": 57,
   "id": "378cd156-cbe3-41ac-b472-22e98e419b2b",
   "metadata": {},
   "outputs": [],
   "source": [
    "Strengths_Num=pd.Series([7,8,15,11,9,10,12,17,13,18,19,15,14,18,19,17,16,18,19,25,22,23,18,20],name=\"strengths\")\n",
    "Groups_Num=pd.Series([5,5,5,5,5,5,10,10,10,10,10,10,15,15,15,15,15,15,20,20,20,20,20,20],name=\"conc\")"
   ]
  },
  {
   "cell_type": "code",
   "execution_count": 58,
   "id": "da16847b-c474-44c8-ae2a-e3400c5b1788",
   "metadata": {},
   "outputs": [
    {
     "data": {
      "text/html": [
       "<div>\n",
       "<style scoped>\n",
       "    .dataframe tbody tr th:only-of-type {\n",
       "        vertical-align: middle;\n",
       "    }\n",
       "\n",
       "    .dataframe tbody tr th {\n",
       "        vertical-align: top;\n",
       "    }\n",
       "\n",
       "    .dataframe thead th {\n",
       "        text-align: right;\n",
       "    }\n",
       "</style>\n",
       "<table border=\"1\" class=\"dataframe\">\n",
       "  <thead>\n",
       "    <tr style=\"text-align: right;\">\n",
       "      <th></th>\n",
       "      <th>strengths</th>\n",
       "      <th>conc</th>\n",
       "    </tr>\n",
       "  </thead>\n",
       "  <tbody>\n",
       "    <tr>\n",
       "      <th>0</th>\n",
       "      <td>7</td>\n",
       "      <td>5</td>\n",
       "    </tr>\n",
       "    <tr>\n",
       "      <th>1</th>\n",
       "      <td>8</td>\n",
       "      <td>5</td>\n",
       "    </tr>\n",
       "    <tr>\n",
       "      <th>2</th>\n",
       "      <td>15</td>\n",
       "      <td>5</td>\n",
       "    </tr>\n",
       "    <tr>\n",
       "      <th>3</th>\n",
       "      <td>11</td>\n",
       "      <td>5</td>\n",
       "    </tr>\n",
       "    <tr>\n",
       "      <th>4</th>\n",
       "      <td>9</td>\n",
       "      <td>5</td>\n",
       "    </tr>\n",
       "    <tr>\n",
       "      <th>5</th>\n",
       "      <td>10</td>\n",
       "      <td>5</td>\n",
       "    </tr>\n",
       "    <tr>\n",
       "      <th>6</th>\n",
       "      <td>12</td>\n",
       "      <td>10</td>\n",
       "    </tr>\n",
       "    <tr>\n",
       "      <th>7</th>\n",
       "      <td>17</td>\n",
       "      <td>10</td>\n",
       "    </tr>\n",
       "    <tr>\n",
       "      <th>8</th>\n",
       "      <td>13</td>\n",
       "      <td>10</td>\n",
       "    </tr>\n",
       "    <tr>\n",
       "      <th>9</th>\n",
       "      <td>18</td>\n",
       "      <td>10</td>\n",
       "    </tr>\n",
       "    <tr>\n",
       "      <th>10</th>\n",
       "      <td>19</td>\n",
       "      <td>10</td>\n",
       "    </tr>\n",
       "    <tr>\n",
       "      <th>11</th>\n",
       "      <td>15</td>\n",
       "      <td>10</td>\n",
       "    </tr>\n",
       "    <tr>\n",
       "      <th>12</th>\n",
       "      <td>14</td>\n",
       "      <td>15</td>\n",
       "    </tr>\n",
       "    <tr>\n",
       "      <th>13</th>\n",
       "      <td>18</td>\n",
       "      <td>15</td>\n",
       "    </tr>\n",
       "    <tr>\n",
       "      <th>14</th>\n",
       "      <td>19</td>\n",
       "      <td>15</td>\n",
       "    </tr>\n",
       "    <tr>\n",
       "      <th>15</th>\n",
       "      <td>17</td>\n",
       "      <td>15</td>\n",
       "    </tr>\n",
       "    <tr>\n",
       "      <th>16</th>\n",
       "      <td>16</td>\n",
       "      <td>15</td>\n",
       "    </tr>\n",
       "    <tr>\n",
       "      <th>17</th>\n",
       "      <td>18</td>\n",
       "      <td>15</td>\n",
       "    </tr>\n",
       "    <tr>\n",
       "      <th>18</th>\n",
       "      <td>19</td>\n",
       "      <td>20</td>\n",
       "    </tr>\n",
       "    <tr>\n",
       "      <th>19</th>\n",
       "      <td>25</td>\n",
       "      <td>20</td>\n",
       "    </tr>\n",
       "    <tr>\n",
       "      <th>20</th>\n",
       "      <td>22</td>\n",
       "      <td>20</td>\n",
       "    </tr>\n",
       "    <tr>\n",
       "      <th>21</th>\n",
       "      <td>23</td>\n",
       "      <td>20</td>\n",
       "    </tr>\n",
       "    <tr>\n",
       "      <th>22</th>\n",
       "      <td>18</td>\n",
       "      <td>20</td>\n",
       "    </tr>\n",
       "    <tr>\n",
       "      <th>23</th>\n",
       "      <td>20</td>\n",
       "      <td>20</td>\n",
       "    </tr>\n",
       "  </tbody>\n",
       "</table>\n",
       "</div>"
      ],
      "text/plain": [
       "    strengths  conc\n",
       "0           7     5\n",
       "1           8     5\n",
       "2          15     5\n",
       "3          11     5\n",
       "4           9     5\n",
       "5          10     5\n",
       "6          12    10\n",
       "7          17    10\n",
       "8          13    10\n",
       "9          18    10\n",
       "10         19    10\n",
       "11         15    10\n",
       "12         14    15\n",
       "13         18    15\n",
       "14         19    15\n",
       "15         17    15\n",
       "16         16    15\n",
       "17         18    15\n",
       "18         19    20\n",
       "19         25    20\n",
       "20         22    20\n",
       "21         23    20\n",
       "22         18    20\n",
       "23         20    20"
      ]
     },
     "execution_count": 58,
     "metadata": {},
     "output_type": "execute_result"
    }
   ],
   "source": [
    "df_Num=pd.concat([Strengths_Num,Groups_Num],axis='columns')\n",
    "df_Num"
   ]
  },
  {
   "cell_type": "code",
   "execution_count": 59,
   "id": "548c9f74-043f-43e3-b9d3-7fbbe9ea74fd",
   "metadata": {},
   "outputs": [
    {
     "data": {
      "text/html": [
       "<table class=\"simpletable\">\n",
       "<tr>\n",
       "        <td>Model:</td>               <td>OLS</td>         <td>Adj. R-squared:</td>     <td>0.696</td> \n",
       "</tr>\n",
       "<tr>\n",
       "  <td>Dependent Variable:</td>     <td>strengths</td>           <td>AIC:</td>         <td>115.9224</td>\n",
       "</tr>\n",
       "<tr>\n",
       "         <td>Date:</td>        <td>2023-02-16 08:01</td>        <td>BIC:</td>         <td>118.2785</td>\n",
       "</tr>\n",
       "<tr>\n",
       "   <td>No. Observations:</td>         <td>24</td>          <td>Log-Likelihood:</td>    <td>-55.961</td>\n",
       "</tr>\n",
       "<tr>\n",
       "       <td>Df Model:</td>              <td>1</td>           <td>F-statistic:</td>       <td>53.76</td> \n",
       "</tr>\n",
       "<tr>\n",
       "     <td>Df Residuals:</td>           <td>22</td>        <td>Prob (F-statistic):</td> <td>2.43e-07</td>\n",
       "</tr>\n",
       "<tr>\n",
       "      <td>R-squared:</td>            <td>0.710</td>            <td>Scale:</td>         <td>6.7705</td> \n",
       "</tr>\n",
       "</table>\n",
       "<table class=\"simpletable\">\n",
       "<tr>\n",
       "      <td></td>       <th>Coef.</th> <th>Std.Err.</th>    <th>t</th>    <th>P>|t|</th> <th>[0.025</th> <th>0.975]</th>\n",
       "</tr>\n",
       "<tr>\n",
       "  <th>Intercept</th> <td>7.2500</td>  <td>1.3010</td>  <td>5.5726</td> <td>0.0000</td> <td>4.5519</td> <td>9.9481</td>\n",
       "</tr>\n",
       "<tr>\n",
       "  <th>conc</th>      <td>0.6967</td>  <td>0.0950</td>  <td>7.3324</td> <td>0.0000</td> <td>0.4996</td> <td>0.8937</td>\n",
       "</tr>\n",
       "</table>\n",
       "<table class=\"simpletable\">\n",
       "<tr>\n",
       "     <td>Omnibus:</td>    <td>1.760</td>  <td>Durbin-Watson:</td>   <td>1.903</td>\n",
       "</tr>\n",
       "<tr>\n",
       "  <td>Prob(Omnibus):</td> <td>0.415</td> <td>Jarque-Bera (JB):</td> <td>1.325</td>\n",
       "</tr>\n",
       "<tr>\n",
       "       <td>Skew:</td>     <td>0.368</td>     <td>Prob(JB):</td>     <td>0.515</td>\n",
       "</tr>\n",
       "<tr>\n",
       "     <td>Kurtosis:</td>   <td>2.116</td>  <td>Condition No.:</td>    <td>34</td>  \n",
       "</tr>\n",
       "</table>"
      ],
      "text/plain": [
       "<class 'statsmodels.iolib.summary2.Summary'>\n",
       "\"\"\"\n",
       "                 Results: Ordinary least squares\n",
       "=================================================================\n",
       "Model:              OLS              Adj. R-squared:     0.696   \n",
       "Dependent Variable: strengths        AIC:                115.9224\n",
       "Date:               2023-02-16 08:01 BIC:                118.2785\n",
       "No. Observations:   24               Log-Likelihood:     -55.961 \n",
       "Df Model:           1                F-statistic:        53.76   \n",
       "Df Residuals:       22               Prob (F-statistic): 2.43e-07\n",
       "R-squared:          0.710            Scale:              6.7705  \n",
       "-------------------------------------------------------------------\n",
       "              Coef.    Std.Err.     t      P>|t|    [0.025   0.975]\n",
       "-------------------------------------------------------------------\n",
       "Intercept     7.2500     1.3010   5.5726   0.0000   4.5519   9.9481\n",
       "conc          0.6967     0.0950   7.3324   0.0000   0.4996   0.8937\n",
       "-----------------------------------------------------------------\n",
       "Omnibus:              1.760        Durbin-Watson:           1.903\n",
       "Prob(Omnibus):        0.415        Jarque-Bera (JB):        1.325\n",
       "Skew:                 0.368        Prob(JB):                0.515\n",
       "Kurtosis:             2.116        Condition No.:           34   \n",
       "=================================================================\n",
       "\n",
       "\"\"\""
      ]
     },
     "execution_count": 59,
     "metadata": {},
     "output_type": "execute_result"
    }
   ],
   "source": [
    "#fit the simple linear regression model\n",
    "model=ols('strengths~conc',data=df_Num)\n",
    "results_Num=model.fit()\n",
    "results_Num.summary2()"
   ]
  },
  {
   "cell_type": "code",
   "execution_count": 60,
   "id": "06e0b68d-064c-4717-82bd-84ff708cf2b2",
   "metadata": {},
   "outputs": [
    {
     "data": {
      "text/html": [
       "<div>\n",
       "<style scoped>\n",
       "    .dataframe tbody tr th:only-of-type {\n",
       "        vertical-align: middle;\n",
       "    }\n",
       "\n",
       "    .dataframe tbody tr th {\n",
       "        vertical-align: top;\n",
       "    }\n",
       "\n",
       "    .dataframe thead th {\n",
       "        text-align: right;\n",
       "    }\n",
       "</style>\n",
       "<table border=\"1\" class=\"dataframe\">\n",
       "  <thead>\n",
       "    <tr style=\"text-align: right;\">\n",
       "      <th></th>\n",
       "      <th>df</th>\n",
       "      <th>sum_sq</th>\n",
       "      <th>mean_sq</th>\n",
       "      <th>F</th>\n",
       "      <th>PR(&gt;F)</th>\n",
       "    </tr>\n",
       "  </thead>\n",
       "  <tbody>\n",
       "    <tr>\n",
       "      <th>conc</th>\n",
       "      <td>1.0</td>\n",
       "      <td>364.008333</td>\n",
       "      <td>364.008333</td>\n",
       "      <td>53.764239</td>\n",
       "      <td>2.430449e-07</td>\n",
       "    </tr>\n",
       "    <tr>\n",
       "      <th>Residual</th>\n",
       "      <td>22.0</td>\n",
       "      <td>148.950000</td>\n",
       "      <td>6.770455</td>\n",
       "      <td>NaN</td>\n",
       "      <td>NaN</td>\n",
       "    </tr>\n",
       "  </tbody>\n",
       "</table>\n",
       "</div>"
      ],
      "text/plain": [
       "            df      sum_sq     mean_sq          F        PR(>F)\n",
       "conc       1.0  364.008333  364.008333  53.764239  2.430449e-07\n",
       "Residual  22.0  148.950000    6.770455        NaN           NaN"
      ]
     },
     "execution_count": 60,
     "metadata": {},
     "output_type": "execute_result"
    }
   ],
   "source": [
    "anova_results_Num = anova_lm(results_Num)\n",
    "anova_results_Num"
   ]
  },
  {
   "cell_type": "code",
   "execution_count": 61,
   "id": "92963e64-3fe9-46f6-b176-a9d62b744c9a",
   "metadata": {},
   "outputs": [
    {
     "data": {
      "text/plain": [
       "<seaborn.axisgrid.FacetGrid at 0x1dd70ece8e0>"
      ]
     },
     "execution_count": 61,
     "metadata": {},
     "output_type": "execute_result"
    },
    {
     "data": {
      "image/png": "[encoded data removed]",
      "text/plain": [
       "<Figure size 500x500 with 1 Axes>"
      ]
     },
     "metadata": {},
     "output_type": "display_data"
    }
   ],
   "source": [
    "sns.lmplot(x=\"conc\",y=\"strengths\",data=df_Num)"
   ]
  },
  {
   "cell_type": "code",
   "execution_count": null,
   "id": "21f0efc9-f894-40b7-88bc-6a0f112bd4f5",
   "metadata": {},
   "outputs": [],
   "source": []
  },
  {
   "cell_type": "code",
   "execution_count": null,
   "id": "45dbb105-7cd4-4423-9073-e59b4c8aea79",
   "metadata": {},
   "outputs": [],
   "source": []
  }
 ],
 "metadata": {
  "kernelspec": {
   "display_name": "Python 3 (ipykernel)",
   "language": "python",
   "name": "python3"
  },
  "language_info": {
   "codemirror_mode": {
    "name": "ipython",
    "version": 3
   },
   "file_extension": ".py",
   "mimetype": "text/x-python",
   "name": "python",
   "nbconvert_exporter": "python",
   "pygments_lexer": "ipython3",
   "version": "3.9.13"
  }
 },
 "nbformat": 4,
 "nbformat_minor": 5
}
