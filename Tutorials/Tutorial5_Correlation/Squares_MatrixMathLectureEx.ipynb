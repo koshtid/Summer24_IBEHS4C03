{
 "cells": [
  {
   "cell_type": "markdown",
   "id": "wicked-jesus",
   "metadata": {},
   "source": [
    "# Simple Linear Regression Ordinary Least Squares Methodologies with Python"
   ]
  },
  {
   "cell_type": "code",
   "execution_count": 109,
   "id": "increasing-health",
   "metadata": {},
   "outputs": [
    {
     "name": "stdin",
     "output_type": "stream",
     "text": [
      "Once deleted, variables cannot be recovered. Proceed (y/[n])?  y\n"
     ]
    }
   ],
   "source": [
    "%reset\n",
    "import pandas as pd\n",
    "import numpy as np"
   ]
  },
  {
   "cell_type": "code",
   "execution_count": null,
   "id": "301a390f-8476-4afc-9d32-856b1e7a9b0c",
   "metadata": {},
   "outputs": [],
   "source": []
  },
  {
   "cell_type": "markdown",
   "id": "60da7a48-b6cb-4994-8f97-c6bbd739a49f",
   "metadata": {},
   "source": [
    "# Matrix Math for correlation"
   ]
  },
  {
   "cell_type": "code",
   "execution_count": 110,
   "id": "a84b93e9-3ede-4918-931d-8ce56dd07996",
   "metadata": {},
   "outputs": [],
   "source": [
    "XA=np.array([16.1,18.2,19.3,20.4])\n",
    "XB=np.array([36.7,37.1,37.7,42.1])"
   ]
  },
  {
   "cell_type": "code",
   "execution_count": 111,
   "id": "ac379d66-4267-4478-82ff-c4fc3bb9650c",
   "metadata": {},
   "outputs": [
    {
     "data": {
      "text/plain": [
       "array([[3.36666667, 3.64666667],\n",
       "       [3.64666667, 6.25333333]])"
      ]
     },
     "execution_count": 111,
     "metadata": {},
     "output_type": "execute_result"
    }
   ],
   "source": [
    "np.cov(XA,XB)"
   ]
  },
  {
   "cell_type": "code",
   "execution_count": 112,
   "id": "eb4364a7-8398-4db5-afef-49f7cb37ba31",
   "metadata": {},
   "outputs": [
    {
     "data": {
      "text/plain": [
       "array([[1.        , 0.79476772],\n",
       "       [0.79476772, 1.        ]])"
      ]
     },
     "execution_count": 112,
     "metadata": {},
     "output_type": "execute_result"
    }
   ],
   "source": [
    "np.corrcoef(XA,XB)"
   ]
  },
  {
   "cell_type": "code",
   "execution_count": 113,
   "id": "c4b24351-2bae-4588-a919-586da3cee6a2",
   "metadata": {},
   "outputs": [
    {
     "data": {
      "text/plain": [
       "array([-2.4, -0.3,  0.8,  1.9])"
      ]
     },
     "execution_count": 113,
     "metadata": {},
     "output_type": "execute_result"
    }
   ],
   "source": [
    "# centering \n",
    "XAmc=XA-np.mean(XA)\n",
    "XAmc"
   ]
  },
  {
   "cell_type": "code",
   "execution_count": 114,
   "id": "2e84e6ba-ae68-4317-a000-260db8d30aa0",
   "metadata": {},
   "outputs": [
    {
     "data": {
      "text/plain": [
       "array([-1.30801036, -0.16350129,  0.43600345,  1.0355082 ])"
      ]
     },
     "execution_count": 114,
     "metadata": {},
     "output_type": "execute_result"
    }
   ],
   "source": [
    "# mean centered and scaled\n",
    "XAmcs=(XA-np.mean(XA))/np.std(XA,ddof=1)\n",
    "XAmcs"
   ]
  },
  {
   "cell_type": "code",
   "execution_count": 115,
   "id": "cb8ca9c9-1971-4fa7-af11-b9db9a2ae557",
   "metadata": {},
   "outputs": [
    {
     "data": {
      "text/plain": [
       "1.834847859269717"
      ]
     },
     "execution_count": 115,
     "metadata": {},
     "output_type": "execute_result"
    }
   ],
   "source": [
    "np.std(XA,ddof=1)"
   ]
  },
  {
   "cell_type": "code",
   "execution_count": null,
   "id": "c903cb64-36a0-4bc8-a379-a15f80e19697",
   "metadata": {},
   "outputs": [],
   "source": []
  },
  {
   "cell_type": "markdown",
   "id": "9c819694-7ccd-4afa-8f6b-6b97c1f6aa82",
   "metadata": {},
   "source": [
    "Using mean centered data"
   ]
  },
  {
   "cell_type": "code",
   "execution_count": 116,
   "id": "5a617b46-32b4-41f5-a716-be4c76e9553d",
   "metadata": {},
   "outputs": [],
   "source": [
    "X1=[-2.4,-0.3,0.8,1.9]\n",
    "X2=[-1.7,-1.3,-0.7,3.7]"
   ]
  },
  {
   "cell_type": "code",
   "execution_count": 117,
   "id": "0c83f9de-3bb2-467e-a803-4b016005b021",
   "metadata": {},
   "outputs": [
    {
     "data": {
      "text/plain": [
       "3.3666666666666667"
      ]
     },
     "execution_count": 117,
     "metadata": {},
     "output_type": "execute_result"
    }
   ],
   "source": [
    "np.var(X1,ddof=1)"
   ]
  },
  {
   "cell_type": "code",
   "execution_count": 118,
   "id": "0a4c431d-2fdd-4095-8aef-90b2cfcaa5c2",
   "metadata": {},
   "outputs": [
    {
     "data": {
      "text/plain": [
       "6.253333333333334"
      ]
     },
     "execution_count": 118,
     "metadata": {},
     "output_type": "execute_result"
    }
   ],
   "source": [
    "np.var(X2,ddof=1)"
   ]
  },
  {
   "cell_type": "code",
   "execution_count": 119,
   "id": "ba52ef25-792c-4db3-bc7a-a7dea2c3985d",
   "metadata": {},
   "outputs": [
    {
     "data": {
      "text/plain": [
       "array([[3.36666667, 3.64666667],\n",
       "       [3.64666667, 6.25333333]])"
      ]
     },
     "execution_count": 119,
     "metadata": {},
     "output_type": "execute_result"
    }
   ],
   "source": [
    "np.cov(X1,X2)"
   ]
  },
  {
   "cell_type": "code",
   "execution_count": 120,
   "id": "e785bfae-6fe2-4d42-9c00-aef2e30b2b8b",
   "metadata": {},
   "outputs": [
    {
     "data": {
      "text/plain": [
       "array([[1.        , 0.79476772],\n",
       "       [0.79476772, 1.        ]])"
      ]
     },
     "execution_count": 120,
     "metadata": {},
     "output_type": "execute_result"
    }
   ],
   "source": [
    "np.corrcoef(X1,X2)"
   ]
  },
  {
   "cell_type": "code",
   "execution_count": 121,
   "id": "25abf92d-0880-4eb5-b7f5-6a0627cc330f",
   "metadata": {},
   "outputs": [
    {
     "data": {
      "text/plain": [
       "array([-2.4, -0.3,  0.8,  1.9])"
      ]
     },
     "execution_count": 121,
     "metadata": {},
     "output_type": "execute_result"
    }
   ],
   "source": [
    "X1=np.asarray(X1)\n",
    "X1"
   ]
  },
  {
   "cell_type": "code",
   "execution_count": 122,
   "id": "f6183efb-d4ee-4bb6-a9fe-c6dc8c965475",
   "metadata": {},
   "outputs": [
    {
     "data": {
      "text/plain": [
       "2.220446049250313e-16"
      ]
     },
     "execution_count": 122,
     "metadata": {},
     "output_type": "execute_result"
    }
   ],
   "source": [
    "sum(X1)"
   ]
  },
  {
   "cell_type": "code",
   "execution_count": 123,
   "id": "366c96e4-ba49-4734-97fe-0c5c46d14cb0",
   "metadata": {},
   "outputs": [],
   "source": [
    "X2=np.asarray(X2)"
   ]
  },
  {
   "cell_type": "code",
   "execution_count": 124,
   "id": "355c4396-d30e-44f2-b0c1-d73af41daac1",
   "metadata": {},
   "outputs": [
    {
     "data": {
      "text/plain": [
       "(4,)"
      ]
     },
     "execution_count": 124,
     "metadata": {},
     "output_type": "execute_result"
    }
   ],
   "source": [
    "X2.shape"
   ]
  },
  {
   "cell_type": "code",
   "execution_count": 125,
   "id": "58384384-967f-4b89-873e-54734008c5ac",
   "metadata": {},
   "outputs": [
    {
     "data": {
      "text/html": [
       "<div>\n",
       "<style scoped>\n",
       "    .dataframe tbody tr th:only-of-type {\n",
       "        vertical-align: middle;\n",
       "    }\n",
       "\n",
       "    .dataframe tbody tr th {\n",
       "        vertical-align: top;\n",
       "    }\n",
       "\n",
       "    .dataframe thead th {\n",
       "        text-align: right;\n",
       "    }\n",
       "</style>\n",
       "<table border=\"1\" class=\"dataframe\">\n",
       "  <thead>\n",
       "    <tr style=\"text-align: right;\">\n",
       "      <th></th>\n",
       "      <th>X1</th>\n",
       "      <th>X2</th>\n",
       "    </tr>\n",
       "  </thead>\n",
       "  <tbody>\n",
       "    <tr>\n",
       "      <th>0</th>\n",
       "      <td>-2.4</td>\n",
       "      <td>-1.7</td>\n",
       "    </tr>\n",
       "    <tr>\n",
       "      <th>1</th>\n",
       "      <td>-0.3</td>\n",
       "      <td>-1.3</td>\n",
       "    </tr>\n",
       "    <tr>\n",
       "      <th>2</th>\n",
       "      <td>0.8</td>\n",
       "      <td>-0.7</td>\n",
       "    </tr>\n",
       "    <tr>\n",
       "      <th>3</th>\n",
       "      <td>1.9</td>\n",
       "      <td>3.7</td>\n",
       "    </tr>\n",
       "  </tbody>\n",
       "</table>\n",
       "</div>"
      ],
      "text/plain": [
       "    X1   X2\n",
       "0 -2.4 -1.7\n",
       "1 -0.3 -1.3\n",
       "2  0.8 -0.7\n",
       "3  1.9  3.7"
      ]
     },
     "execution_count": 125,
     "metadata": {},
     "output_type": "execute_result"
    }
   ],
   "source": [
    "X_matrix=pd.DataFrame(X1,columns=[\"X1\"])\n",
    "X_matrix[\"X2\"]=X2.tolist()\n",
    "X_matrix"
   ]
  },
  {
   "cell_type": "code",
   "execution_count": 126,
   "id": "90c73d2d-b365-4656-860d-8dff3a45bf6f",
   "metadata": {},
   "outputs": [
    {
     "data": {
      "text/html": [
       "<div>\n",
       "<style scoped>\n",
       "    .dataframe tbody tr th:only-of-type {\n",
       "        vertical-align: middle;\n",
       "    }\n",
       "\n",
       "    .dataframe tbody tr th {\n",
       "        vertical-align: top;\n",
       "    }\n",
       "\n",
       "    .dataframe thead th {\n",
       "        text-align: right;\n",
       "    }\n",
       "</style>\n",
       "<table border=\"1\" class=\"dataframe\">\n",
       "  <thead>\n",
       "    <tr style=\"text-align: right;\">\n",
       "      <th></th>\n",
       "      <th>0</th>\n",
       "      <th>1</th>\n",
       "      <th>2</th>\n",
       "      <th>3</th>\n",
       "    </tr>\n",
       "  </thead>\n",
       "  <tbody>\n",
       "    <tr>\n",
       "      <th>X1</th>\n",
       "      <td>-2.4</td>\n",
       "      <td>-0.3</td>\n",
       "      <td>0.8</td>\n",
       "      <td>1.9</td>\n",
       "    </tr>\n",
       "    <tr>\n",
       "      <th>X2</th>\n",
       "      <td>-1.7</td>\n",
       "      <td>-1.3</td>\n",
       "      <td>-0.7</td>\n",
       "      <td>3.7</td>\n",
       "    </tr>\n",
       "  </tbody>\n",
       "</table>\n",
       "</div>"
      ],
      "text/plain": [
       "      0    1    2    3\n",
       "X1 -2.4 -0.3  0.8  1.9\n",
       "X2 -1.7 -1.3 -0.7  3.7"
      ]
     },
     "execution_count": 126,
     "metadata": {},
     "output_type": "execute_result"
    }
   ],
   "source": [
    "Xt=np.transpose(X_matrix)\n",
    "Xt"
   ]
  },
  {
   "cell_type": "code",
   "execution_count": 127,
   "id": "cf8845da-5b92-4c23-bae0-21c3238f1c33",
   "metadata": {},
   "outputs": [
    {
     "data": {
      "text/plain": [
       "(4, 2)"
      ]
     },
     "execution_count": 127,
     "metadata": {},
     "output_type": "execute_result"
    }
   ],
   "source": [
    "X_matrix.shape"
   ]
  },
  {
   "cell_type": "code",
   "execution_count": 128,
   "id": "341f4e8d-9418-4222-8c6f-22c189c27b82",
   "metadata": {},
   "outputs": [
    {
     "data": {
      "text/html": [
       "<div>\n",
       "<style scoped>\n",
       "    .dataframe tbody tr th:only-of-type {\n",
       "        vertical-align: middle;\n",
       "    }\n",
       "\n",
       "    .dataframe tbody tr th {\n",
       "        vertical-align: top;\n",
       "    }\n",
       "\n",
       "    .dataframe thead th {\n",
       "        text-align: right;\n",
       "    }\n",
       "</style>\n",
       "<table border=\"1\" class=\"dataframe\">\n",
       "  <thead>\n",
       "    <tr style=\"text-align: right;\">\n",
       "      <th></th>\n",
       "      <th>X1</th>\n",
       "      <th>X2</th>\n",
       "    </tr>\n",
       "  </thead>\n",
       "  <tbody>\n",
       "    <tr>\n",
       "      <th>X1</th>\n",
       "      <td>10.10</td>\n",
       "      <td>10.94</td>\n",
       "    </tr>\n",
       "    <tr>\n",
       "      <th>X2</th>\n",
       "      <td>10.94</td>\n",
       "      <td>18.76</td>\n",
       "    </tr>\n",
       "  </tbody>\n",
       "</table>\n",
       "</div>"
      ],
      "text/plain": [
       "       X1     X2\n",
       "X1  10.10  10.94\n",
       "X2  10.94  18.76"
      ]
     },
     "execution_count": 128,
     "metadata": {},
     "output_type": "execute_result"
    }
   ],
   "source": [
    "XtX=((Xt.dot(X_matrix)))\n",
    "XtX"
   ]
  },
  {
   "cell_type": "code",
   "execution_count": null,
   "id": "2905022d-b858-426f-9649-4e9f783921cf",
   "metadata": {},
   "outputs": [],
   "source": []
  },
  {
   "cell_type": "code",
   "execution_count": null,
   "id": "625066b8-b66f-4263-802c-aee24b6d32dc",
   "metadata": {},
   "outputs": [],
   "source": []
  },
  {
   "cell_type": "code",
   "execution_count": 129,
   "id": "67e7b9db-e743-4a1a-b4dd-4fc40ecc5df5",
   "metadata": {},
   "outputs": [
    {
     "data": {
      "text/plain": [
       "<matplotlib.lines.Line2D at 0x228491683a0>"
      ]
     },
     "execution_count": 129,
     "metadata": {},
     "output_type": "execute_result"
    },
    {
     "data": {
      "image/png": "[encoded data removed]",
      "text/plain": [
       "<Figure size 640x480 with 1 Axes>"
      ]
     },
     "metadata": {},
     "output_type": "display_data"
    }
   ],
   "source": [
    "import seaborn as sns\n",
    "plotX=sns.regplot(x='X1',y='X2',data=X_matrix,ci=None)\n",
    "plotX.axvline(x=np.mean(X1),c=\"r\",linestyle=\":\")\n",
    "plotX.axhline(y=np.mean(X2),c=\"r\",linestyle=\":\")"
   ]
  },
  {
   "cell_type": "code",
   "execution_count": null,
   "id": "82d6d35a-4920-46ee-b875-97e518bd8c8e",
   "metadata": {},
   "outputs": [],
   "source": []
  },
  {
   "cell_type": "code",
   "execution_count": 130,
   "id": "770d1077-4094-4359-817c-a4879fc1b918",
   "metadata": {},
   "outputs": [],
   "source": [
    "X1=np.array([16.1,18.2,19.3,20.4])\n",
    "Y=np.array([36.7,37.1,37.7,42.1])"
   ]
  },
  {
   "cell_type": "code",
   "execution_count": 131,
   "id": "5c1aeb16-8f9e-48e8-b15c-73b975394f35",
   "metadata": {},
   "outputs": [
    {
     "data": {
      "text/plain": [
       "array([-2.4, -0.3,  0.8,  1.9])"
      ]
     },
     "execution_count": 131,
     "metadata": {},
     "output_type": "execute_result"
    }
   ],
   "source": [
    "Xdev=X1-np.mean(X1)\n",
    "Xdev"
   ]
  },
  {
   "cell_type": "code",
   "execution_count": 132,
   "id": "888f63da-0bc8-441d-8187-161e1b589025",
   "metadata": {},
   "outputs": [
    {
     "data": {
      "text/plain": [
       "18.5"
      ]
     },
     "execution_count": 132,
     "metadata": {},
     "output_type": "execute_result"
    }
   ],
   "source": [
    "np.mean(X1)"
   ]
  },
  {
   "cell_type": "code",
   "execution_count": 133,
   "id": "e5d00150-777b-4b63-be8b-daee41651239",
   "metadata": {},
   "outputs": [
    {
     "data": {
      "text/plain": [
       "array([-1.7, -1.3, -0.7,  3.7])"
      ]
     },
     "execution_count": 133,
     "metadata": {},
     "output_type": "execute_result"
    }
   ],
   "source": [
    "Ydev=Y-np.mean(Y)\n",
    "Ydev"
   ]
  },
  {
   "cell_type": "code",
   "execution_count": 134,
   "id": "389fd337-0f0e-4203-bffa-9a87a412d703",
   "metadata": {},
   "outputs": [
    {
     "data": {
      "text/plain": [
       "38.400000000000006"
      ]
     },
     "execution_count": 134,
     "metadata": {},
     "output_type": "execute_result"
    }
   ],
   "source": [
    "np.mean(Y)"
   ]
  },
  {
   "cell_type": "code",
   "execution_count": 135,
   "id": "ce790daa-92d0-4618-ae4d-2f3e1dd2140e",
   "metadata": {},
   "outputs": [
    {
     "data": {
      "text/plain": [
       "array([ 4.08,  0.39, -0.56,  7.03])"
      ]
     },
     "execution_count": 135,
     "metadata": {},
     "output_type": "execute_result"
    }
   ],
   "source": [
    "Xdev*Ydev"
   ]
  },
  {
   "cell_type": "code",
   "execution_count": 136,
   "id": "6370de05-32bb-41aa-be33-f3be9ce7b16e",
   "metadata": {},
   "outputs": [
    {
     "data": {
      "text/plain": [
       "array([5.76, 0.09, 0.64, 3.61])"
      ]
     },
     "execution_count": 136,
     "metadata": {},
     "output_type": "execute_result"
    }
   ],
   "source": [
    "np.square(Xdev)"
   ]
  },
  {
   "cell_type": "code",
   "execution_count": 137,
   "id": "8708ced0-6c95-4222-8f32-027490b4171f",
   "metadata": {},
   "outputs": [
    {
     "data": {
      "text/plain": [
       "array([ 2.89,  1.69,  0.49, 13.69])"
      ]
     },
     "execution_count": 137,
     "metadata": {},
     "output_type": "execute_result"
    }
   ],
   "source": [
    "np.square(Ydev)"
   ]
  },
  {
   "cell_type": "code",
   "execution_count": 138,
   "id": "6a600bc3-3642-498e-baf8-52e9133bdbf4",
   "metadata": {},
   "outputs": [
    {
     "data": {
      "text/plain": [
       "18.759999999999994"
      ]
     },
     "execution_count": 138,
     "metadata": {},
     "output_type": "execute_result"
    }
   ],
   "source": [
    "np.sum(np.square(Ydev))"
   ]
  },
  {
   "cell_type": "code",
   "execution_count": 139,
   "id": "127d5354-b376-4a84-b74e-f2e0f817f2cc",
   "metadata": {},
   "outputs": [
    {
     "data": {
      "text/plain": [
       "10.09999999999999"
      ]
     },
     "execution_count": 139,
     "metadata": {},
     "output_type": "execute_result"
    }
   ],
   "source": [
    "np.sum(np.square(Xdev))"
   ]
  },
  {
   "cell_type": "code",
   "execution_count": 140,
   "id": "6238ff4c-7f5b-4689-9d44-196822e9ae10",
   "metadata": {},
   "outputs": [
    {
     "data": {
      "text/plain": [
       "10.93999999999999"
      ]
     },
     "execution_count": 140,
     "metadata": {},
     "output_type": "execute_result"
    }
   ],
   "source": [
    "np.sum(Xdev*Ydev)"
   ]
  },
  {
   "cell_type": "code",
   "execution_count": 141,
   "id": "9c6cfd4a-0ea8-47df-842b-73ad3d3fb0d8",
   "metadata": {},
   "outputs": [
    {
     "data": {
      "text/plain": [
       "array([[1.        , 0.79476772],\n",
       "       [0.79476772, 1.        ]])"
      ]
     },
     "execution_count": 141,
     "metadata": {},
     "output_type": "execute_result"
    }
   ],
   "source": [
    "np.corrcoef(X1,Y)"
   ]
  },
  {
   "cell_type": "code",
   "execution_count": null,
   "id": "7c82c125-32f3-4da5-b027-b589245a292f",
   "metadata": {},
   "outputs": [],
   "source": []
  },
  {
   "cell_type": "code",
   "execution_count": 142,
   "id": "4cd047f1-035e-4440-98a7-2283da2d06c2",
   "metadata": {},
   "outputs": [
    {
     "data": {
      "text/plain": [
       "6.253333333333331"
      ]
     },
     "execution_count": 142,
     "metadata": {},
     "output_type": "execute_result"
    }
   ],
   "source": [
    "np.var(Y,ddof=1)"
   ]
  },
  {
   "cell_type": "code",
   "execution_count": 143,
   "id": "09f09181-366e-4a52-badf-1622c8c29107",
   "metadata": {},
   "outputs": [
    {
     "data": {
      "text/plain": [
       "1.0831683168316832"
      ]
     },
     "execution_count": 143,
     "metadata": {},
     "output_type": "execute_result"
    }
   ],
   "source": [
    "10.94/10.10"
   ]
  },
  {
   "cell_type": "code",
   "execution_count": 144,
   "id": "176bae3a-74b5-4df0-84a9-e2f025f4a26d",
   "metadata": {},
   "outputs": [
    {
     "data": {
      "text/html": [
       "<div>\n",
       "<style scoped>\n",
       "    .dataframe tbody tr th:only-of-type {\n",
       "        vertical-align: middle;\n",
       "    }\n",
       "\n",
       "    .dataframe tbody tr th {\n",
       "        vertical-align: top;\n",
       "    }\n",
       "\n",
       "    .dataframe thead th {\n",
       "        text-align: right;\n",
       "    }\n",
       "</style>\n",
       "<table border=\"1\" class=\"dataframe\">\n",
       "  <thead>\n",
       "    <tr style=\"text-align: right;\">\n",
       "      <th></th>\n",
       "      <th>X1</th>\n",
       "      <th>Y</th>\n",
       "    </tr>\n",
       "  </thead>\n",
       "  <tbody>\n",
       "    <tr>\n",
       "      <th>0</th>\n",
       "      <td>16.1</td>\n",
       "      <td>36.7</td>\n",
       "    </tr>\n",
       "    <tr>\n",
       "      <th>1</th>\n",
       "      <td>18.2</td>\n",
       "      <td>37.1</td>\n",
       "    </tr>\n",
       "    <tr>\n",
       "      <th>2</th>\n",
       "      <td>19.3</td>\n",
       "      <td>37.7</td>\n",
       "    </tr>\n",
       "    <tr>\n",
       "      <th>3</th>\n",
       "      <td>20.4</td>\n",
       "      <td>42.1</td>\n",
       "    </tr>\n",
       "  </tbody>\n",
       "</table>\n",
       "</div>"
      ],
      "text/plain": [
       "     X1     Y\n",
       "0  16.1  36.7\n",
       "1  18.2  37.1\n",
       "2  19.3  37.7\n",
       "3  20.4  42.1"
      ]
     },
     "execution_count": 144,
     "metadata": {},
     "output_type": "execute_result"
    }
   ],
   "source": [
    "X_df=pd.DataFrame(X1,columns=[\"X1\"])\n",
    "X_df[\"Y\"]=Y.tolist()\n",
    "X_df"
   ]
  },
  {
   "cell_type": "code",
   "execution_count": 145,
   "id": "bc0488ec-5812-4ae9-a963-5b9b7f005f7e",
   "metadata": {},
   "outputs": [
    {
     "name": "stderr",
     "output_type": "stream",
     "text": [
      "C:\\Users\\carol\\anaconda3\\lib\\site-packages\\statsmodels\\stats\\stattools.py:74: ValueWarning: omni_normtest is not valid with less than 8 observations; 4 samples were given.\n",
      "  warn(\"omni_normtest is not valid with less than 8 observations; %i \"\n"
     ]
    },
    {
     "data": {
      "text/html": [
       "<table class=\"simpletable\">\n",
       "<tr>\n",
       "        <td>Model:</td>               <td>OLS</td>         <td>Adj. R-squared:</td>    <td>0.447</td> \n",
       "</tr>\n",
       "<tr>\n",
       "  <td>Dependent Variable:</td>         <td>Y</td>               <td>AIC:</td>         <td>17.5383</td>\n",
       "</tr>\n",
       "<tr>\n",
       "         <td>Date:</td>        <td>2023-03-01 12:20</td>        <td>BIC:</td>         <td>16.3109</td>\n",
       "</tr>\n",
       "<tr>\n",
       "   <td>No. Observations:</td>          <td>4</td>          <td>Log-Likelihood:</td>   <td>-6.7691</td>\n",
       "</tr>\n",
       "<tr>\n",
       "       <td>Df Model:</td>              <td>1</td>           <td>F-statistic:</td>      <td>3.430</td> \n",
       "</tr>\n",
       "<tr>\n",
       "     <td>Df Residuals:</td>            <td>2</td>        <td>Prob (F-statistic):</td>  <td>0.205</td> \n",
       "</tr>\n",
       "<tr>\n",
       "      <td>R-squared:</td>            <td>0.632</td>            <td>Scale:</td>        <td>3.4551</td> \n",
       "</tr>\n",
       "</table>\n",
       "<table class=\"simpletable\">\n",
       "<tr>\n",
       "      <td></td>       <th>Coef.</th>  <th>Std.Err.</th>    <th>t</th>    <th>P>|t|</th>  <th>[0.025</th>  <th>0.975]</th> \n",
       "</tr>\n",
       "<tr>\n",
       "  <th>Intercept</th> <td>18.3614</td>  <td>10.8601</td> <td>1.6907</td> <td>0.2330</td> <td>-28.3660</td> <td>65.0888</td>\n",
       "</tr>\n",
       "<tr>\n",
       "  <th>X1</th>        <td>1.0832</td>   <td>0.5849</td>  <td>1.8519</td> <td>0.2052</td>  <td>-1.4334</td> <td>3.5997</td> \n",
       "</tr>\n",
       "</table>\n",
       "<table class=\"simpletable\">\n",
       "<tr>\n",
       "     <td>Omnibus:</td>     <td>nan</td>   <td>Durbin-Watson:</td>   <td>2.049</td>\n",
       "</tr>\n",
       "<tr>\n",
       "  <td>Prob(Omnibus):</td>  <td>nan</td>  <td>Jarque-Bera (JB):</td> <td>0.515</td>\n",
       "</tr>\n",
       "<tr>\n",
       "       <td>Skew:</td>     <td>0.042</td>     <td>Prob(JB):</td>     <td>0.773</td>\n",
       "</tr>\n",
       "<tr>\n",
       "     <td>Kurtosis:</td>   <td>1.244</td>  <td>Condition No.:</td>    <td>218</td> \n",
       "</tr>\n",
       "</table>"
      ],
      "text/plain": [
       "<class 'statsmodels.iolib.summary2.Summary'>\n",
       "\"\"\"\n",
       "                Results: Ordinary least squares\n",
       "================================================================\n",
       "Model:              OLS              Adj. R-squared:     0.447  \n",
       "Dependent Variable: Y                AIC:                17.5383\n",
       "Date:               2023-03-01 12:20 BIC:                16.3109\n",
       "No. Observations:   4                Log-Likelihood:     -6.7691\n",
       "Df Model:           1                F-statistic:        3.430  \n",
       "Df Residuals:       2                Prob (F-statistic): 0.205  \n",
       "R-squared:          0.632            Scale:              3.4551 \n",
       "-----------------------------------------------------------------\n",
       "              Coef.   Std.Err.    t     P>|t|    [0.025    0.975]\n",
       "-----------------------------------------------------------------\n",
       "Intercept    18.3614   10.8601  1.6907  0.2330  -28.3660  65.0888\n",
       "X1            1.0832    0.5849  1.8519  0.2052   -1.4334   3.5997\n",
       "----------------------------------------------------------------\n",
       "Omnibus:               nan         Durbin-Watson:          2.049\n",
       "Prob(Omnibus):         nan         Jarque-Bera (JB):       0.515\n",
       "Skew:                  0.042       Prob(JB):               0.773\n",
       "Kurtosis:              1.244       Condition No.:          218  \n",
       "================================================================\n",
       "\n",
       "\"\"\""
      ]
     },
     "execution_count": 145,
     "metadata": {},
     "output_type": "execute_result"
    }
   ],
   "source": [
    "from statsmodels.formula.api import ols\n",
    "\n",
    "model = ols(\"Y ~ X1\", data=X_df)\n",
    "results = model.fit()\n",
    "results.summary2()"
   ]
  },
  {
   "cell_type": "code",
   "execution_count": 146,
   "id": "e322686e-6245-4953-9cae-f6d43b8122b3",
   "metadata": {},
   "outputs": [
    {
     "name": "stderr",
     "output_type": "stream",
     "text": [
      "C:\\Users\\carol\\AppData\\Local\\Temp\\ipykernel_27608\\1943194179.py:5: MatplotlibDeprecationWarning: The 'b' parameter of grid() has been renamed 'visible' since Matplotlib 3.5; support for the old name will be dropped two minor releases later.\n",
      "  plotX.grid(b=True, which='major', color='black', linewidth=0.55)\n",
      "C:\\Users\\carol\\AppData\\Local\\Temp\\ipykernel_27608\\1943194179.py:6: MatplotlibDeprecationWarning: The 'b' parameter of grid() has been renamed 'visible' since Matplotlib 3.5; support for the old name will be dropped two minor releases later.\n",
      "  plotX.grid(b=True, which='minor', color='black', linewidth=0.55)\n"
     ]
    },
    {
     "data": {
      "image/png": "[encoded data removed]",
      "text/plain": [
       "<Figure size 640x480 with 1 Axes>"
      ]
     },
     "metadata": {},
     "output_type": "display_data"
    }
   ],
   "source": [
    "import seaborn as sns\n",
    "plotX=sns.regplot(x='X1',y='Y',data=X_df,ci=None)\n",
    "plotX.axvline(x=np.mean(X1),c=\"r\",linestyle=\":\")\n",
    "plotX.axhline(y=np.mean(Y),c=\"r\",linestyle=\":\")\n",
    "plotX.grid(b=True, which='major', color='black', linewidth=0.55)\n",
    "plotX.grid(b=True, which='minor', color='black', linewidth=0.55)"
   ]
  },
  {
   "cell_type": "code",
   "execution_count": 147,
   "id": "7f1a0e81-58d4-4d4f-92a2-e30903fa0459",
   "metadata": {},
   "outputs": [
    {
     "name": "stderr",
     "output_type": "stream",
     "text": [
      "C:\\Users\\carol\\AppData\\Local\\Temp\\ipykernel_27608\\4205979608.py:5: MatplotlibDeprecationWarning: The 'b' parameter of grid() has been renamed 'visible' since Matplotlib 3.5; support for the old name will be dropped two minor releases later.\n",
      "  plotX.grid(b=True, which='major', color='black', linewidth=0.55)\n",
      "C:\\Users\\carol\\AppData\\Local\\Temp\\ipykernel_27608\\4205979608.py:6: MatplotlibDeprecationWarning: The 'b' parameter of grid() has been renamed 'visible' since Matplotlib 3.5; support for the old name will be dropped two minor releases later.\n",
      "  plotX.grid(b=True, which='minor', color='black', linewidth=0.55)\n"
     ]
    },
    {
     "data": {
      "image/png": "[encoded data removed]",
      "text/plain": [
       "<Figure size 640x480 with 1 Axes>"
      ]
     },
     "metadata": {},
     "output_type": "display_data"
    }
   ],
   "source": [
    "import seaborn as sns\n",
    "plotX=sns.scatterplot(x='X1',y='Y',data=X_df)\n",
    "plotX.axvline(x=np.mean(X1),c=\"r\",linestyle=\":\")\n",
    "plotX.axhline(y=np.mean(Y),c=\"r\",linestyle=\":\")\n",
    "plotX.grid(b=True, which='major', color='black', linewidth=0.55)\n",
    "plotX.grid(b=True, which='minor', color='black', linewidth=0.55)"
   ]
  },
  {
   "cell_type": "code",
   "execution_count": 148,
   "id": "4d67f4aa-5ab6-42d2-9a79-84ef6f968157",
   "metadata": {},
   "outputs": [
    {
     "data": {
      "text/plain": [
       "18.36080000000001"
      ]
     },
     "execution_count": 148,
     "metadata": {},
     "output_type": "execute_result"
    }
   ],
   "source": [
    "np.mean(Y) - 1.0832 * np.mean(X1)"
   ]
  },
  {
   "cell_type": "code",
   "execution_count": 149,
   "id": "57bfeaba-cec8-4357-8de3-5f078c6d295f",
   "metadata": {},
   "outputs": [
    {
     "data": {
      "text/plain": [
       "<matplotlib.lines.Line2D at 0x228497d9550>"
      ]
     },
     "execution_count": 149,
     "metadata": {},
     "output_type": "execute_result"
    },
    {
     "data": {
      "image/png": "[encoded data removed]",
      "text/plain": [
       "<Figure size 640x480 with 1 Axes>"
      ]
     },
     "metadata": {},
     "output_type": "display_data"
    }
   ],
   "source": [
    "plotX=sns.regplot(x='X1',y='Y',data=X_df,ci=None)\n",
    "plotX.set_xlim(-5,22)\n",
    "plotX.set_ylim(15,42)\n",
    "plotX.axvline(x=np.mean(X1),c=\"r\",linestyle=\":\")\n",
    "plotX.axhline(y=np.mean(Y),c=\"r\",linestyle=\":\")"
   ]
  },
  {
   "cell_type": "code",
   "execution_count": null,
   "id": "7d255d94-5c13-47a4-81e6-8d556f7d390d",
   "metadata": {},
   "outputs": [],
   "source": []
  },
  {
   "cell_type": "code",
   "execution_count": null,
   "id": "a300bf90-dab6-475a-aa9c-0972a6ab423b",
   "metadata": {},
   "outputs": [],
   "source": []
  },
  {
   "cell_type": "markdown",
   "id": "cbe92afd-baca-4d32-acba-79700b126fd1",
   "metadata": {},
   "source": [
    "# OLS regression and matrix formulation"
   ]
  },
  {
   "cell_type": "code",
   "execution_count": 150,
   "id": "2d6557ab-2031-49ed-b141-bb96bb466052",
   "metadata": {},
   "outputs": [],
   "source": [
    "X=[-2.4,-0.3,0.8,1.9]\n",
    "Y=[-1.7,-1.3,-0.7,3.7]"
   ]
  },
  {
   "cell_type": "code",
   "execution_count": 151,
   "id": "a2402cc1-76d9-4d10-a4ad-0c821f448a49",
   "metadata": {},
   "outputs": [
    {
     "data": {
      "text/plain": [
       "array([-2.4, -0.3,  0.8,  1.9])"
      ]
     },
     "execution_count": 151,
     "metadata": {},
     "output_type": "execute_result"
    }
   ],
   "source": [
    "X=np.asarray(X)\n",
    "X"
   ]
  },
  {
   "cell_type": "code",
   "execution_count": 152,
   "id": "dcde9c78-4dfe-43fb-816c-b64b3311a93e",
   "metadata": {},
   "outputs": [
    {
     "data": {
      "text/plain": [
       "(4,)"
      ]
     },
     "execution_count": 152,
     "metadata": {},
     "output_type": "execute_result"
    }
   ],
   "source": [
    "Y=np.asarray(Y)\n",
    "X.shape"
   ]
  },
  {
   "cell_type": "code",
   "execution_count": 153,
   "id": "1692941b-23d7-49d2-97b8-354d976c918c",
   "metadata": {},
   "outputs": [
    {
     "data": {
      "text/plain": [
       "array([[1.],\n",
       "       [1.],\n",
       "       [1.],\n",
       "       [1.]])"
      ]
     },
     "execution_count": 153,
     "metadata": {},
     "output_type": "execute_result"
    }
   ],
   "source": [
    "X_bias=np.ones((4,1)) # m is the number of records in the dataset\n",
    "X_bias"
   ]
  },
  {
   "cell_type": "code",
   "execution_count": 154,
   "id": "62e4901f-70aa-4b7b-9dc0-e862aad22cba",
   "metadata": {},
   "outputs": [
    {
     "data": {
      "text/plain": [
       "array([[-2.4],\n",
       "       [-0.3],\n",
       "       [ 0.8],\n",
       "       [ 1.9]])"
      ]
     },
     "execution_count": 154,
     "metadata": {},
     "output_type": "execute_result"
    }
   ],
   "source": [
    "X=np.reshape(X,(4,1))\n",
    "Y=np.reshape(Y,(4,1))\n",
    "X"
   ]
  },
  {
   "cell_type": "code",
   "execution_count": 155,
   "id": "e82ba695-8ee0-4d6d-9945-12f3b23ed449",
   "metadata": {},
   "outputs": [
    {
     "data": {
      "text/plain": [
       "array([[ 1. , -2.4],\n",
       "       [ 1. , -0.3],\n",
       "       [ 1. ,  0.8],\n",
       "       [ 1. ,  1.9]])"
      ]
     },
     "execution_count": 155,
     "metadata": {},
     "output_type": "execute_result"
    }
   ],
   "source": [
    "newX=np.append(X_bias,X,axis=1)\n",
    "newX"
   ]
  },
  {
   "cell_type": "code",
   "execution_count": 156,
   "id": "edb36bef-5779-4046-b4b3-001e13a56172",
   "metadata": {},
   "outputs": [
    {
     "data": {
      "text/plain": [
       "array([[ 1. ,  1. ,  1. ,  1. ],\n",
       "       [-2.4, -0.3,  0.8,  1.9]])"
      ]
     },
     "execution_count": 156,
     "metadata": {},
     "output_type": "execute_result"
    }
   ],
   "source": [
    "X_transpose=np.transpose(newX)\n",
    "X_transpose"
   ]
  },
  {
   "cell_type": "code",
   "execution_count": 157,
   "id": "149ef608-a590-473c-872f-53f2f609e68e",
   "metadata": {},
   "outputs": [
    {
     "data": {
      "text/plain": [
       "(2, 4)"
      ]
     },
     "execution_count": 157,
     "metadata": {},
     "output_type": "execute_result"
    }
   ],
   "source": [
    "X_transpose.shape"
   ]
  },
  {
   "cell_type": "code",
   "execution_count": 158,
   "id": "f94f3353-2a10-4e50-b07d-fe7aa8a741c4",
   "metadata": {},
   "outputs": [
    {
     "data": {
      "text/plain": [
       "array([[4.00000000e+00, 2.22044605e-16],\n",
       "       [2.22044605e-16, 1.01000000e+01]])"
      ]
     },
     "execution_count": 158,
     "metadata": {},
     "output_type": "execute_result"
    }
   ],
   "source": [
    "XtX=((X_transpose.dot(newX)))\n",
    "XtX"
   ]
  },
  {
   "cell_type": "code",
   "execution_count": 159,
   "id": "05c622ff-e1e0-4f48-ab89-99b07ffc0fc4",
   "metadata": {},
   "outputs": [
    {
     "data": {
      "text/plain": [
       "array([[ 2.50000000e-01, -5.49615359e-18],\n",
       "       [-5.49615359e-18,  9.90099010e-02]])"
      ]
     },
     "execution_count": 159,
     "metadata": {},
     "output_type": "execute_result"
    }
   ],
   "source": [
    "XtX_Inverse=np.linalg.inv(XtX)\n",
    "XtX_Inverse"
   ]
  },
  {
   "cell_type": "code",
   "execution_count": 160,
   "id": "adf6da30-7ccb-4482-ad0b-8d68639ae94e",
   "metadata": {},
   "outputs": [
    {
     "data": {
      "text/plain": [
       "array([[ 0.  ],\n",
       "       [10.94]])"
      ]
     },
     "execution_count": 160,
     "metadata": {},
     "output_type": "execute_result"
    }
   ],
   "source": [
    "XtY=((X_transpose.dot(Y)))\n",
    "XtY"
   ]
  },
  {
   "cell_type": "code",
   "execution_count": 161,
   "id": "8d9b11b3-a949-4cd9-9c72-9547cfd656c1",
   "metadata": {},
   "outputs": [
    {
     "data": {
      "text/plain": [
       "array([[-6.01279202e-17],\n",
       "       [ 1.08316832e+00]])"
      ]
     },
     "execution_count": 161,
     "metadata": {},
     "output_type": "execute_result"
    }
   ],
   "source": [
    "XtX_Inverse.dot(XtY)"
   ]
  },
  {
   "cell_type": "code",
   "execution_count": 162,
   "id": "a68ceb97-6c35-486e-9d2f-ba954a79225f",
   "metadata": {},
   "outputs": [
    {
     "data": {
      "text/html": [
       "<div>\n",
       "<style scoped>\n",
       "    .dataframe tbody tr th:only-of-type {\n",
       "        vertical-align: middle;\n",
       "    }\n",
       "\n",
       "    .dataframe tbody tr th {\n",
       "        vertical-align: top;\n",
       "    }\n",
       "\n",
       "    .dataframe thead th {\n",
       "        text-align: right;\n",
       "    }\n",
       "</style>\n",
       "<table border=\"1\" class=\"dataframe\">\n",
       "  <thead>\n",
       "    <tr style=\"text-align: right;\">\n",
       "      <th></th>\n",
       "      <th>X1</th>\n",
       "      <th>X</th>\n",
       "      <th>Y</th>\n",
       "    </tr>\n",
       "  </thead>\n",
       "  <tbody>\n",
       "    <tr>\n",
       "      <th>0</th>\n",
       "      <td>1.0</td>\n",
       "      <td>-2.4</td>\n",
       "      <td>-1.7</td>\n",
       "    </tr>\n",
       "    <tr>\n",
       "      <th>1</th>\n",
       "      <td>1.0</td>\n",
       "      <td>-0.3</td>\n",
       "      <td>-1.3</td>\n",
       "    </tr>\n",
       "    <tr>\n",
       "      <th>2</th>\n",
       "      <td>1.0</td>\n",
       "      <td>0.8</td>\n",
       "      <td>-0.7</td>\n",
       "    </tr>\n",
       "    <tr>\n",
       "      <th>3</th>\n",
       "      <td>1.0</td>\n",
       "      <td>1.9</td>\n",
       "      <td>3.7</td>\n",
       "    </tr>\n",
       "  </tbody>\n",
       "</table>\n",
       "</div>"
      ],
      "text/plain": [
       "    X1    X    Y\n",
       "0  1.0 -2.4 -1.7\n",
       "1  1.0 -0.3 -1.3\n",
       "2  1.0  0.8 -0.7\n",
       "3  1.0  1.9  3.7"
      ]
     },
     "execution_count": 162,
     "metadata": {},
     "output_type": "execute_result"
    }
   ],
   "source": [
    "Y=pd.Series([-1.7,-1.3,-0.7,3.7])\n",
    "X_dfA=pd.DataFrame(newX,columns=[\"X1\",\"X\"])\n",
    "X_dfA[\"Y\"]=Y.tolist()\n",
    "X_dfA"
   ]
  },
  {
   "cell_type": "code",
   "execution_count": 163,
   "id": "329b0cab-abf5-4a7b-aeba-5ae68b95a186",
   "metadata": {},
   "outputs": [
    {
     "name": "stdout",
     "output_type": "stream",
     "text": [
      "                Results: Ordinary least squares\n",
      "================================================================\n",
      "Model:              OLS              Adj. R-squared:     0.447  \n",
      "Dependent Variable: Y                AIC:                17.5383\n",
      "Date:               2023-03-01 12:21 BIC:                16.3109\n",
      "No. Observations:   4                Log-Likelihood:     -6.7691\n",
      "Df Model:           1                F-statistic:        3.430  \n",
      "Df Residuals:       2                Prob (F-statistic): 0.205  \n",
      "R-squared:          0.632            Scale:              3.4551 \n",
      "------------------------------------------------------------------\n",
      "            Coef.    Std.Err.     t      P>|t|     [0.025   0.975]\n",
      "------------------------------------------------------------------\n",
      "Intercept   0.0000     0.9294   0.0000   1.0000   -3.9988   3.9988\n",
      "X           1.0832     0.5849   1.8519   0.2052   -1.4334   3.5997\n",
      "----------------------------------------------------------------\n",
      "Omnibus:               nan         Durbin-Watson:          2.049\n",
      "Prob(Omnibus):         nan         Jarque-Bera (JB):       0.515\n",
      "Skew:                  0.042       Prob(JB):               0.773\n",
      "Kurtosis:              1.244       Condition No.:          2    \n",
      "================================================================\n",
      "\n"
     ]
    },
    {
     "name": "stderr",
     "output_type": "stream",
     "text": [
      "C:\\Users\\carol\\anaconda3\\lib\\site-packages\\statsmodels\\stats\\stattools.py:74: ValueWarning: omni_normtest is not valid with less than 8 observations; 4 samples were given.\n",
      "  warn(\"omni_normtest is not valid with less than 8 observations; %i \"\n"
     ]
    }
   ],
   "source": [
    "from statsmodels.formula.api import ols\n",
    "\n",
    "model2=ols('Y~X',data=X_dfA)\n",
    "results2=model2.fit()\n",
    "print(results2.summary2())"
   ]
  },
  {
   "cell_type": "code",
   "execution_count": 164,
   "id": "a0771e96-2322-4ba6-9697-c02b7d563d43",
   "metadata": {},
   "outputs": [
    {
     "name": "stdout",
     "output_type": "stream",
     "text": [
      "           df     sum_sq    mean_sq         F    PR(>F)\n",
      "X         1.0  11.849861  11.849861  3.429703  0.205232\n",
      "Residual  2.0   6.910139   3.455069       NaN       NaN\n"
     ]
    }
   ],
   "source": [
    "from statsmodels.stats.anova import anova_lm\n",
    "anova_results2 = anova_lm(results2)\n",
    "print(anova_results2)"
   ]
  },
  {
   "cell_type": "code",
   "execution_count": null,
   "id": "76518431-89bb-4e43-b18f-d1bc4257a612",
   "metadata": {},
   "outputs": [],
   "source": []
  },
  {
   "cell_type": "code",
   "execution_count": 165,
   "id": "b8de6a51-ee1d-4627-9974-7d2c4c879d84",
   "metadata": {},
   "outputs": [
    {
     "data": {
      "text/plain": [
       "array([[-2.59968],\n",
       "       [-0.32496],\n",
       "       [ 0.86656],\n",
       "       [ 2.05808]])"
      ]
     },
     "execution_count": 165,
     "metadata": {},
     "output_type": "execute_result"
    }
   ],
   "source": [
    "#the mean square error\n",
    "y_hat=1.0832*X\n",
    "y_hat"
   ]
  },
  {
   "cell_type": "code",
   "execution_count": 166,
   "id": "9b45f9c8-f1b0-4d7a-857a-9db4ab8cae1f",
   "metadata": {},
   "outputs": [
    {
     "data": {
      "text/plain": [
       "[0.9000000000000001, -0.97, -1.5699999999999998, 1.6400000000000001]"
      ]
     },
     "execution_count": 166,
     "metadata": {},
     "output_type": "execute_result"
    }
   ],
   "source": [
    "errors=([-1.7-(-2.60),-1.3-(-0.33),-0.7-(0.87),3.7-(2.06)])\n",
    "errors"
   ]
  },
  {
   "cell_type": "code",
   "execution_count": 167,
   "id": "bd0fa831-888b-47e6-8542-d50a5fc9460b",
   "metadata": {},
   "outputs": [
    {
     "data": {
      "text/plain": [
       "0    0.899604\n",
       "1   -0.975050\n",
       "2   -1.566535\n",
       "3    1.641980\n",
       "dtype: float64"
      ]
     },
     "execution_count": 167,
     "metadata": {},
     "output_type": "execute_result"
    }
   ],
   "source": [
    "# These errors can be found using the \n",
    "# resid attribute of the results2 object\n",
    "results2.resid"
   ]
  },
  {
   "cell_type": "code",
   "execution_count": 168,
   "id": "23c28a5d-8b6a-4d24-8397-00fcdd9c8e87",
   "metadata": {},
   "outputs": [
    {
     "data": {
      "text/plain": [
       "6.9054"
      ]
     },
     "execution_count": 168,
     "metadata": {},
     "output_type": "execute_result"
    }
   ],
   "source": [
    "np.sum(np.square(errors))"
   ]
  },
  {
   "cell_type": "code",
   "execution_count": 169,
   "id": "433ef362-43e4-41d4-8d45-49ec8ba1160b",
   "metadata": {},
   "outputs": [
    {
     "data": {
      "text/plain": [
       "3.4527"
      ]
     },
     "execution_count": 169,
     "metadata": {},
     "output_type": "execute_result"
    }
   ],
   "source": [
    "# MSE is the sum of the squares of the error divided by the dof\n",
    "# dof = (n-k-1) = (sample size - number of predictors -1) \n",
    "#  = 4-1-1 = 2\n",
    "np.sum(np.square(errors)) / 2"
   ]
  },
  {
   "cell_type": "markdown",
   "id": "bcd92a61-7e15-449c-8907-337fb01faa5f",
   "metadata": {},
   "source": [
    "The standard error of the beta coefficient is equal to the square root (of the diagonal of the inverse of the XtX matrix * the square of the standard error of the regression (which is the mean squared error or the scale))."
   ]
  },
  {
   "cell_type": "code",
   "execution_count": null,
   "id": "0e22a6c4-5b64-475a-8127-a7fa904e986e",
   "metadata": {},
   "outputs": [],
   "source": []
  },
  {
   "cell_type": "code",
   "execution_count": 170,
   "id": "9d7c0b6d-f627-467c-877c-af5a0c151e29",
   "metadata": {},
   "outputs": [
    {
     "data": {
      "text/plain": [
       "0.5848545973145804"
      ]
     },
     "execution_count": 170,
     "metadata": {},
     "output_type": "execute_result"
    }
   ],
   "source": [
    "# standard error of beta: use the XtX matrix\n",
    "np.sqrt(3.4551*0.099)"
   ]
  },
  {
   "cell_type": "code",
   "execution_count": 171,
   "id": "152f4c0e-698d-4718-a124-22a38784e794",
   "metadata": {},
   "outputs": [
    {
     "data": {
      "text/plain": [
       "0.5848838422378336"
      ]
     },
     "execution_count": 171,
     "metadata": {},
     "output_type": "execute_result"
    }
   ],
   "source": [
    "#since this is SLR, we can divide by the SSx\n",
    "np.sqrt(3.4551/10.10)"
   ]
  },
  {
   "cell_type": "code",
   "execution_count": 172,
   "id": "25e741d8-d9ba-4171-9537-90f944b44d7f",
   "metadata": {},
   "outputs": [
    {
     "data": {
      "text/plain": [
       "0.09900990099009901"
      ]
     },
     "execution_count": 172,
     "metadata": {},
     "output_type": "execute_result"
    }
   ],
   "source": [
    "1/10.10"
   ]
  },
  {
   "cell_type": "markdown",
   "id": "8c1e5ea9-3c49-442f-9168-2ac0e032b1b1",
   "metadata": {},
   "source": [
    "The standard error of the regression (=standard error of the estimate =residual standard error) is the model estimate that is analogous to the standard deviation of a sample. It represents the average distance that the observed values fall from the regression line and is a measure of the precision of the model. \n",
    "\n",
    "The standard error of the regression is equal to the square root of (the sum of the squares of the residual divided by the dof of the residuals) = square root of the MSE.  \n",
    "\n",
    "To find the standard error of the beta coefficient, we find the sqrt(MSE divided by the sum of squares of the predictor x). \n",
    "\n",
    "This is the same as the standard error of the regression ( = sqrt(SSE/(n-2)) ) divided by ( (the standard deviation of the x sample multiplied by the sqrt(n-1) ) or ( = sqrt(SSx/(n-1)) * sqrt(n-1) ) ) \n",
    "\n",
    "The diagonal of the XtX matrix is the sum of squares of x, which we can divide by dof to get the sample variance of x. Square root of the sample variance is the sample std.\n",
    "\n",
    "This diagonal of the XtX matrix will provide the sum of squares for the x variables.  Since this is a simple linear regression example, we can divide by this value directly to find the SE(beta).  This is the same as multiplying by (1/SSx).\n",
    "\n",
    "In multiple linear regression, we will not be able to divide like this (you cant divide by a matrix) but you can multiple by the inverse of a matrix.  This is why we will look to matrix math to help in keeping track of the sum of squares for the x variables and have a matrix that holds the inverse of these.  "
   ]
  },
  {
   "cell_type": "code",
   "execution_count": null,
   "id": "aebc28ec-6826-4b4d-a822-2739c15179ff",
   "metadata": {},
   "outputs": [],
   "source": []
  },
  {
   "cell_type": "markdown",
   "id": "07270e05-7280-43fd-8410-9c4840552863",
   "metadata": {},
   "source": [
    "Other dataset in lecture for squares"
   ]
  },
  {
   "cell_type": "code",
   "execution_count": 173,
   "id": "f9dc475e-f1d6-48b7-a295-23dacd9ff2f7",
   "metadata": {},
   "outputs": [],
   "source": [
    "X5=np.array([19.11,17.44,21.56,19.9,20.17,19.32,20.53,18.99,20.69,23.04])\n",
    "Y5=np.array([38.68,36.03,42.64,40.77,39.30,40.31,41.43,40.54,39.73,42.40])"
   ]
  },
  {
   "cell_type": "code",
   "execution_count": 174,
   "id": "57830cbd-1bdb-47c6-88f2-1e91f55bf091",
   "metadata": {},
   "outputs": [
    {
     "data": {
      "text/plain": [
       "array([[2.36033889, 2.47050556],\n",
       "       [2.47050556, 3.72071222]])"
      ]
     },
     "execution_count": 174,
     "metadata": {},
     "output_type": "execute_result"
    }
   ],
   "source": [
    "np.cov(X5,Y5)"
   ]
  },
  {
   "cell_type": "code",
   "execution_count": null,
   "id": "e6e79401-a02f-4c06-ab0c-b64cda481ac0",
   "metadata": {},
   "outputs": [],
   "source": []
  },
  {
   "cell_type": "code",
   "execution_count": null,
   "id": "628448ab-f32a-4f53-814d-bb156bbd20eb",
   "metadata": {},
   "outputs": [],
   "source": []
  },
  {
   "cell_type": "code",
   "execution_count": null,
   "id": "77c7b85d-8a98-4597-8af3-ebaa926b735a",
   "metadata": {},
   "outputs": [],
   "source": []
  },
  {
   "cell_type": "code",
   "execution_count": null,
   "id": "6b4fc16f-ffaf-4e09-a55f-840cfda84ff0",
   "metadata": {},
   "outputs": [],
   "source": []
  }
 ],
 "metadata": {
  "kernelspec": {
   "display_name": "Python 3 (ipykernel)",
   "language": "python",
   "name": "python3"
  },
  "language_info": {
   "codemirror_mode": {
    "name": "ipython",
    "version": 3
   },
   "file_extension": ".py",
   "mimetype": "text/x-python",
   "name": "python",
   "nbconvert_exporter": "python",
   "pygments_lexer": "ipython3",
   "version": "3.9.13"
  }
 },
 "nbformat": 4,
 "nbformat_minor": 5
}
