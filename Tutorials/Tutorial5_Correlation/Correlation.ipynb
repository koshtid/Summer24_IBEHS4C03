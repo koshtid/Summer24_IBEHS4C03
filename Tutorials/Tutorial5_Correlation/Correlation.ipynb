{
 "cells": [
  {
   "cell_type": "markdown",
   "id": "wicked-jesus",
   "metadata": {},
   "source": [
    "# Correlation with Python\n",
    "\n",
    "In this notebook we will go over an example of how to perform a correlation analysis.\n",
    "\n",
    "As usual we start by importing the data."
   ]
  },
  {
   "cell_type": "code",
   "execution_count": 1,
   "id": "increasing-health",
   "metadata": {},
   "outputs": [
    {
     "name": "stdin",
     "output_type": "stream",
     "text": [
      "Once deleted, variables cannot be recovered. Proceed (y/[n])?  y\n"
     ]
    }
   ],
   "source": [
    "%reset\n",
    "import pandas as pd\n",
    "import numpy as np"
   ]
  },
  {
   "cell_type": "code",
   "execution_count": 54,
   "id": "d63347e0-69d6-4554-a002-725a2762db33",
   "metadata": {},
   "outputs": [],
   "source": [
    "X=pd.Series([2.1,2.5,3.6,4.0],name=\"Temp\")\n",
    "Y=pd.Series([8.0,10.0,12.0,14.0],name=\"Pressure\")"
   ]
  },
  {
   "cell_type": "code",
   "execution_count": 55,
   "id": "b96a5d1f-9611-4b5f-a0b3-2312fa0c75f9",
   "metadata": {},
   "outputs": [
    {
     "name": "stderr",
     "output_type": "stream",
     "text": [
      "C:\\Users\\carol\\anaconda3\\lib\\site-packages\\seaborn\\_decorators.py:36: FutureWarning: Pass the following variables as keyword args: x, y. From version 0.12, the only valid positional argument will be `data`, and passing other arguments without an explicit keyword will result in an error or misinterpretation.\n",
      "  warnings.warn(\n"
     ]
    },
    {
     "data": {
      "text/plain": [
       "Text(0.5, 0, 'Temperature')"
      ]
     },
     "execution_count": 55,
     "metadata": {},
     "output_type": "execute_result"
    },
    {
     "data": {
      "image/png": "[encoded data removed]",
      "text/plain": [
       "<Figure size 432x288 with 1 Axes>"
      ]
     },
     "metadata": {
      "needs_background": "light"
     },
     "output_type": "display_data"
    }
   ],
   "source": [
    "import seaborn as sns\n",
    "import matplotlib.pyplot as plt\n",
    "\n",
    "sns.scatterplot(X,Y)\n",
    "plt.ylabel(\"Pressure\")\n",
    "plt.xlabel(\"Temperature\")"
   ]
  },
  {
   "cell_type": "code",
   "execution_count": 56,
   "id": "f450c863-2461-4aa1-8ff0-76bd4ba1991c",
   "metadata": {},
   "outputs": [
    {
     "data": {
      "text/html": [
       "<div>\n",
       "<style scoped>\n",
       "    .dataframe tbody tr th:only-of-type {\n",
       "        vertical-align: middle;\n",
       "    }\n",
       "\n",
       "    .dataframe tbody tr th {\n",
       "        vertical-align: top;\n",
       "    }\n",
       "\n",
       "    .dataframe thead th {\n",
       "        text-align: right;\n",
       "    }\n",
       "</style>\n",
       "<table border=\"1\" class=\"dataframe\">\n",
       "  <thead>\n",
       "    <tr style=\"text-align: right;\">\n",
       "      <th></th>\n",
       "      <th>Temp</th>\n",
       "    </tr>\n",
       "  </thead>\n",
       "  <tbody>\n",
       "    <tr>\n",
       "      <th>0</th>\n",
       "      <td>2.1</td>\n",
       "    </tr>\n",
       "    <tr>\n",
       "      <th>1</th>\n",
       "      <td>2.5</td>\n",
       "    </tr>\n",
       "    <tr>\n",
       "      <th>2</th>\n",
       "      <td>3.6</td>\n",
       "    </tr>\n",
       "    <tr>\n",
       "      <th>3</th>\n",
       "      <td>4.0</td>\n",
       "    </tr>\n",
       "  </tbody>\n",
       "</table>\n",
       "</div>"
      ],
      "text/plain": [
       "   Temp\n",
       "0   2.1\n",
       "1   2.5\n",
       "2   3.6\n",
       "3   4.0"
      ]
     },
     "execution_count": 56,
     "metadata": {},
     "output_type": "execute_result"
    }
   ],
   "source": [
    "#vector A is a 1 D matrix (4 Rows * 1 Column)\n",
    "#vector B is a 1 D matrix\n",
    "\n",
    "df=X.to_frame()\n",
    "df"
   ]
  },
  {
   "cell_type": "code",
   "execution_count": 57,
   "id": "55d89347-db5f-4587-8157-db6fcbdfa2dd",
   "metadata": {},
   "outputs": [
    {
     "name": "stdout",
     "output_type": "stream",
     "text": [
      "3.05\n",
      "11.0\n"
     ]
    }
   ],
   "source": [
    "meanX=np.mean(X)\n",
    "meanY=np.mean(Y)\n",
    "print(meanX)\n",
    "print(meanY)"
   ]
  },
  {
   "cell_type": "markdown",
   "id": "7735c0dd-4edc-4eec-951c-55bfdd6e9833",
   "metadata": {},
   "source": [
    "Variance is the sum of the squared deviations from the mean divided by n-1 for the sample"
   ]
  },
  {
   "cell_type": "code",
   "execution_count": 58,
   "id": "6edbe732-6bc7-4e80-a745-aa10bcf44531",
   "metadata": {},
   "outputs": [
    {
     "name": "stdout",
     "output_type": "stream",
     "text": [
      "0.8066666666666666\n",
      "6.666666666666667\n"
     ]
    }
   ],
   "source": [
    "VarianceX=(np.square(2.1-3.1)+np.square(2.5-3.1)+np.square(3.6-3.1)+np.square(4.0-3.1))/(4-1)\n",
    "VarianceY=(np.square(8.0-11)+np.square(10-11)+np.square(12-11)+np.square(14-11))/(4-1)\n",
    "print(VarianceX)\n",
    "print(VarianceY)"
   ]
  },
  {
   "cell_type": "markdown",
   "id": "ad987404-eff0-402b-bf10-aed34ead2768",
   "metadata": {},
   "source": [
    "Covariance is the sum of the cross-products divided by n-1 for the sample\n",
    "\n",
    "Covariance is a measure of the direction and magnitude to quantify the relationship between two variables.\n",
    "\n",
    "It measures the joint variability of two random variables. "
   ]
  },
  {
   "cell_type": "code",
   "execution_count": 59,
   "id": "fd02a291-ba9b-473c-b347-8f586dd92f09",
   "metadata": {},
   "outputs": [
    {
     "name": "stdout",
     "output_type": "stream",
     "text": [
      "2.2666666666666666\n"
     ]
    }
   ],
   "source": [
    "Covariance= ((2.1-3.05)*(8.0-11.0)+(2.5-3.05)*(10-11)+(3.6-3.05)*(12-11)+(4.0-3.05)*(14-11))/(4-1)\n",
    "print(Covariance)"
   ]
  },
  {
   "cell_type": "markdown",
   "id": "f9cd7062-678a-4ac3-a618-0c1ea676bd83",
   "metadata": {},
   "source": [
    "In python the covariance matrix can be found using np.cov, where the variances are the main diagonal and the covariance is the other diagonal. \n",
    "\n",
    "The covariance matrix provides the covariance between the pairs of elements in the vectors of data.  \n",
    "\n",
    "The units of measurement are X times Y. "
   ]
  },
  {
   "cell_type": "code",
   "execution_count": 60,
   "id": "98baef5c-baa7-431a-a61d-70bdaa1423d4",
   "metadata": {},
   "outputs": [
    {
     "data": {
      "text/plain": [
       "array([[0.80333333, 2.26666667],\n",
       "       [2.26666667, 6.66666667]])"
      ]
     },
     "execution_count": 60,
     "metadata": {},
     "output_type": "execute_result"
    }
   ],
   "source": [
    "np.cov(X,Y)"
   ]
  },
  {
   "cell_type": "markdown",
   "id": "afe99de4-7521-4958-bc89-76a108e6203f",
   "metadata": {},
   "source": [
    "Correlation (Pearson's correlation coefficient = r) is the scaled covariance, and defines the co-relationship between the two variables or how linearly related they are to each other. It is equal to the covariance divided by the product of the standard deviations. \n",
    "\n",
    "It is dimensionless.\n",
    "\n",
    "It is always between -1 and +1"
   ]
  },
  {
   "cell_type": "code",
   "execution_count": 61,
   "id": "3fe33892-5190-48df-b02d-732887e60e5f",
   "metadata": {},
   "outputs": [
    {
     "name": "stdout",
     "output_type": "stream",
     "text": [
      "[[0.3471311  0.97945704]\n",
      " [0.97945704 2.88075601]]\n"
     ]
    }
   ],
   "source": [
    "Pearsons_r= np.cov(X,Y) / (np.std(X,ddof=1)*(np.std(Y,ddof=1)))\n",
    "print(Pearsons_r)"
   ]
  },
  {
   "cell_type": "code",
   "execution_count": 62,
   "id": "1b50c144-ab6c-4cd5-bc2c-aca57174de88",
   "metadata": {},
   "outputs": [
    {
     "data": {
      "text/plain": [
       "array([[1.        , 0.97945704],\n",
       "       [0.97945704, 1.        ]])"
      ]
     },
     "execution_count": 62,
     "metadata": {},
     "output_type": "execute_result"
    }
   ],
   "source": [
    "# The correlation matrix provides the Pearson's r on the off-diagonal\n",
    "# the correlation of a variable with itself is = 1\n",
    "\n",
    "np.corrcoef(X,Y)"
   ]
  },
  {
   "cell_type": "markdown",
   "id": "2527ef05-3d68-409c-892f-2072f5c69c6d",
   "metadata": {},
   "source": [
    "Scipy will provide the Pearson's r, and will return the correaltion coefficient and the p-value for testing non-correaltion. The p-value (2-sided) indicates the probability of an uncorrelated system producing datasets that have a r at least as extreme as the one computed from the data. For 2 values, you can find the test statistic as:\n",
    "\n",
    "t = r$\\sqrt{(n-2)/(1-r^2)}$\n",
    "with n-2 DOF"
   ]
  },
  {
   "cell_type": "code",
   "execution_count": 63,
   "id": "769d1a82-db3e-4c54-9e2d-acbb495f298d",
   "metadata": {},
   "outputs": [
    {
     "data": {
      "text/plain": [
       "(0.9794570432566516, 0.020542956743348384)"
      ]
     },
     "execution_count": 63,
     "metadata": {},
     "output_type": "execute_result"
    }
   ],
   "source": [
    "from scipy import stats\n",
    "stats.pearsonr(X,Y)"
   ]
  },
  {
   "cell_type": "code",
   "execution_count": 64,
   "id": "5600b0b8-5c6c-4434-ae37-413778bb00af",
   "metadata": {},
   "outputs": [
    {
     "name": "stdout",
     "output_type": "stream",
     "text": [
      "6.876457364090153\n"
     ]
    }
   ],
   "source": [
    "t1=0.9795*np.sqrt((4-2)/(1-np.square(0.9795)))\n",
    "print(t1)"
   ]
  },
  {
   "cell_type": "code",
   "execution_count": 65,
   "id": "22b9ba29-1e52-4286-b32c-785f061cb514",
   "metadata": {},
   "outputs": [
    {
     "data": {
      "text/plain": [
       "0.01024987677730093"
      ]
     },
     "execution_count": 65,
     "metadata": {},
     "output_type": "execute_result"
    }
   ],
   "source": [
    "stats.t.cdf(-6.8765,2)"
   ]
  },
  {
   "cell_type": "code",
   "execution_count": 66,
   "id": "ec3c5157-18d3-46c2-a840-41ea7d67a98b",
   "metadata": {},
   "outputs": [
    {
     "data": {
      "text/plain": [
       "0.02049975355460186"
      ]
     },
     "execution_count": 66,
     "metadata": {},
     "output_type": "execute_result"
    }
   ],
   "source": [
    "2*(stats.t.cdf(-6.8765,2))"
   ]
  },
  {
   "cell_type": "code",
   "execution_count": 67,
   "id": "eea2b84d-86df-47ae-b07f-4d648f994b84",
   "metadata": {},
   "outputs": [
    {
     "data": {
      "text/html": [
       "<div>\n",
       "<style scoped>\n",
       "    .dataframe tbody tr th:only-of-type {\n",
       "        vertical-align: middle;\n",
       "    }\n",
       "\n",
       "    .dataframe tbody tr th {\n",
       "        vertical-align: top;\n",
       "    }\n",
       "\n",
       "    .dataframe thead th {\n",
       "        text-align: right;\n",
       "    }\n",
       "</style>\n",
       "<table border=\"1\" class=\"dataframe\">\n",
       "  <thead>\n",
       "    <tr style=\"text-align: right;\">\n",
       "      <th></th>\n",
       "      <th>Temp</th>\n",
       "      <th>Pressure</th>\n",
       "    </tr>\n",
       "  </thead>\n",
       "  <tbody>\n",
       "    <tr>\n",
       "      <th>0</th>\n",
       "      <td>2.1</td>\n",
       "      <td>8.0</td>\n",
       "    </tr>\n",
       "    <tr>\n",
       "      <th>1</th>\n",
       "      <td>2.5</td>\n",
       "      <td>10.0</td>\n",
       "    </tr>\n",
       "    <tr>\n",
       "      <th>2</th>\n",
       "      <td>3.6</td>\n",
       "      <td>12.0</td>\n",
       "    </tr>\n",
       "    <tr>\n",
       "      <th>3</th>\n",
       "      <td>4.0</td>\n",
       "      <td>14.0</td>\n",
       "    </tr>\n",
       "  </tbody>\n",
       "</table>\n",
       "</div>"
      ],
      "text/plain": [
       "   Temp  Pressure\n",
       "0   2.1       8.0\n",
       "1   2.5      10.0\n",
       "2   3.6      12.0\n",
       "3   4.0      14.0"
      ]
     },
     "execution_count": 67,
     "metadata": {},
     "output_type": "execute_result"
    }
   ],
   "source": [
    "# correlation matrix with pandas\n",
    "\n",
    "df['Pressure']=Y\n",
    "df"
   ]
  },
  {
   "cell_type": "code",
   "execution_count": 68,
   "id": "74efb6a5-70ad-4d27-ac71-5603813982ce",
   "metadata": {},
   "outputs": [
    {
     "data": {
      "text/html": [
       "<div>\n",
       "<style scoped>\n",
       "    .dataframe tbody tr th:only-of-type {\n",
       "        vertical-align: middle;\n",
       "    }\n",
       "\n",
       "    .dataframe tbody tr th {\n",
       "        vertical-align: top;\n",
       "    }\n",
       "\n",
       "    .dataframe thead th {\n",
       "        text-align: right;\n",
       "    }\n",
       "</style>\n",
       "<table border=\"1\" class=\"dataframe\">\n",
       "  <thead>\n",
       "    <tr style=\"text-align: right;\">\n",
       "      <th></th>\n",
       "      <th>Temp</th>\n",
       "      <th>Pressure</th>\n",
       "    </tr>\n",
       "  </thead>\n",
       "  <tbody>\n",
       "    <tr>\n",
       "      <th>Temp</th>\n",
       "      <td>1.000000</td>\n",
       "      <td>0.979457</td>\n",
       "    </tr>\n",
       "    <tr>\n",
       "      <th>Pressure</th>\n",
       "      <td>0.979457</td>\n",
       "      <td>1.000000</td>\n",
       "    </tr>\n",
       "  </tbody>\n",
       "</table>\n",
       "</div>"
      ],
      "text/plain": [
       "              Temp  Pressure\n",
       "Temp      1.000000  0.979457\n",
       "Pressure  0.979457  1.000000"
      ]
     },
     "execution_count": 68,
     "metadata": {},
     "output_type": "execute_result"
    }
   ],
   "source": [
    "correlation_matrix=df.corr()\n",
    "correlation_matrix"
   ]
  },
  {
   "cell_type": "code",
   "execution_count": 69,
   "id": "7d8a0f4b-978f-47b9-a808-cf308e7ac027",
   "metadata": {},
   "outputs": [
    {
     "data": {
      "text/plain": [
       "<AxesSubplot:>"
      ]
     },
     "execution_count": 69,
     "metadata": {},
     "output_type": "execute_result"
    },
    {
     "data": {
      "image/png": "[encoded data removed]",
      "text/plain": [
       "<Figure size 432x288 with 2 Axes>"
      ]
     },
     "metadata": {
      "needs_background": "light"
     },
     "output_type": "display_data"
    }
   ],
   "source": [
    "sns.heatmap(correlation_matrix)"
   ]
  },
  {
   "cell_type": "markdown",
   "id": "9d5c1aee-5588-4fcd-8757-a56045a7d587",
   "metadata": {},
   "source": [
    "# Spearman's correlation"
   ]
  },
  {
   "cell_type": "markdown",
   "id": "14264ba0-91b1-41a1-8c1e-bc377151db40",
   "metadata": {},
   "source": [
    "For a non-normal distribution, the Spearman's correlation coefficient can be used to summarize the strength of the association between two variables.  You can use the Scipy stats call of spearmanr to compute this. A Spearmans correaltion of 1 results when there is a monotonic relationship between the variables, even if this relationship is not linear.  All data points with greater x values than that of a given point will have greater y values as well. The correaltion is applied to the rank varaibles."
   ]
  },
  {
   "cell_type": "code",
   "execution_count": 70,
   "id": "ee6dc53e-483a-4f8f-846d-3509a8f31268",
   "metadata": {},
   "outputs": [
    {
     "data": {
      "text/plain": [
       "SpearmanrResult(correlation=1.0, pvalue=0.0)"
      ]
     },
     "execution_count": 70,
     "metadata": {},
     "output_type": "execute_result"
    }
   ],
   "source": [
    "stats.spearmanr(X,Y)"
   ]
  },
  {
   "cell_type": "code",
   "execution_count": 71,
   "id": "e950302b-278e-4ac3-b511-a04a57877a3f",
   "metadata": {},
   "outputs": [
    {
     "name": "stdout",
     "output_type": "stream",
     "text": [
      "0    2.1\n",
      "1    2.5\n",
      "2    3.6\n",
      "3    4.0\n",
      "Name: Temp, dtype: float64\n"
     ]
    }
   ],
   "source": [
    "print(X)"
   ]
  },
  {
   "cell_type": "code",
   "execution_count": 72,
   "id": "737c7e33-f6d2-46b3-a404-36ee99f9bf51",
   "metadata": {},
   "outputs": [
    {
     "name": "stdout",
     "output_type": "stream",
     "text": [
      "0     8.0\n",
      "1    10.0\n",
      "2    12.0\n",
      "3    14.0\n",
      "Name: Pressure, dtype: float64\n"
     ]
    }
   ],
   "source": [
    "print(Y)"
   ]
  },
  {
   "cell_type": "code",
   "execution_count": 73,
   "id": "49e1fe33-03e1-4c0f-802c-a020591545bb",
   "metadata": {},
   "outputs": [
    {
     "name": "stderr",
     "output_type": "stream",
     "text": [
      "C:\\Users\\carol\\anaconda3\\lib\\site-packages\\seaborn\\_decorators.py:36: FutureWarning: Pass the following variables as keyword args: x, y. From version 0.12, the only valid positional argument will be `data`, and passing other arguments without an explicit keyword will result in an error or misinterpretation.\n",
      "  warnings.warn(\n"
     ]
    },
    {
     "data": {
      "text/plain": [
       "Text(0.5, 49.99999999999995, 'Temperature')"
      ]
     },
     "execution_count": 73,
     "metadata": {},
     "output_type": "execute_result"
    },
    {
     "data": {
      "image/png": "[encoded data removed]",
      "text/plain": [
       "<Figure size 432x432 with 3 Axes>"
      ]
     },
     "metadata": {
      "needs_background": "light"
     },
     "output_type": "display_data"
    }
   ],
   "source": [
    "#regplot() plots data and a linear regression line or can use lmplot to help in conditioning on other variables\n",
    "sns.jointplot(X,Y,kind=\"reg\",ci=None)\n",
    "plt.ylabel(\"Pressure\")\n",
    "plt.xlabel(\"Temperature\")"
   ]
  },
  {
   "cell_type": "markdown",
   "id": "27e0d521-274b-4d13-a9be-800b854889b4",
   "metadata": {},
   "source": [
    "# Another Example\n",
    "\n",
    "Percentage of children immunized against DPT and under 5 year old mortality rate for 20 countries in 1992.  "
   ]
  },
  {
   "cell_type": "code",
   "execution_count": 74,
   "id": "ed982b09-dcec-4f72-b6cf-3cd490064210",
   "metadata": {},
   "outputs": [
    {
     "name": "stdout",
     "output_type": "stream",
     "text": [
      "                Nation  Percentage Immunized  \\\n",
      "0              Bolivia                    77   \n",
      "1               Brazil                    69   \n",
      "2             Cambodia                    32   \n",
      "3               Canada                    85   \n",
      "4                China                    94   \n",
      "5       Czech Republic                    99   \n",
      "6                Egypt                    89   \n",
      "7             Ethiopia                    13   \n",
      "8              Finland                    95   \n",
      "9               France                    95   \n",
      "10              Greece                    54   \n",
      "11               India                    89   \n",
      "12                Itay                    95   \n",
      "13               Japan                    87   \n",
      "14              Mexico                    91   \n",
      "15              Poland                    98   \n",
      "16  Russian Federation                    73   \n",
      "17             Senegal                    47   \n",
      "18              Turkey                    76   \n",
      "19       United Kingdm                    90   \n",
      "\n",
      "    Mortaility Rate per 1000 Live Births  \n",
      "0                                    118  \n",
      "1                                     65  \n",
      "2                                    184  \n",
      "3                                      8  \n",
      "4                                     43  \n",
      "5                                     12  \n",
      "6                                     55  \n",
      "7                                    208  \n",
      "8                                      7  \n",
      "9                                      9  \n",
      "10                                     9  \n",
      "11                                   124  \n",
      "12                                    10  \n",
      "13                                     6  \n",
      "14                                    33  \n",
      "15                                    16  \n",
      "16                                    32  \n",
      "17                                   145  \n",
      "18                                    87  \n",
      "19                                     9  \n"
     ]
    }
   ],
   "source": [
    "DPT = pd.read_csv('DPT.csv')\n",
    "print(DPT)"
   ]
  },
  {
   "cell_type": "code",
   "execution_count": 75,
   "id": "b0b0c86b-f4df-4c02-bcfa-730e63a757de",
   "metadata": {},
   "outputs": [
    {
     "data": {
      "text/plain": [
       "(-0.7910654413914386, 3.28055812034397e-05)"
      ]
     },
     "execution_count": 75,
     "metadata": {},
     "output_type": "execute_result"
    }
   ],
   "source": [
    "stats.pearsonr(DPT[\"Percentage Immunized\"],DPT[\"Mortaility Rate per 1000 Live Births\"])"
   ]
  },
  {
   "cell_type": "code",
   "execution_count": 76,
   "id": "7b491d46-29de-46ea-b5ea-1778d8417c58",
   "metadata": {},
   "outputs": [
    {
     "name": "stderr",
     "output_type": "stream",
     "text": [
      "C:\\Users\\carol\\anaconda3\\lib\\site-packages\\seaborn\\_decorators.py:36: FutureWarning: Pass the following variables as keyword args: x, y. From version 0.12, the only valid positional argument will be `data`, and passing other arguments without an explicit keyword will result in an error or misinterpretation.\n",
      "  warnings.warn(\n"
     ]
    },
    {
     "data": {
      "text/plain": [
       "Text(30, 200, 'r=-0.79,   p-value=0.00003')"
      ]
     },
     "execution_count": 76,
     "metadata": {},
     "output_type": "execute_result"
    },
    {
     "data": {
      "image/png": "[encoded data removed]",
      "text/plain": [
       "<Figure size 432x288 with 1 Axes>"
      ]
     },
     "metadata": {
      "needs_background": "light"
     },
     "output_type": "display_data"
    }
   ],
   "source": [
    "ax=sns.regplot(\"Percentage Immunized\",\"Mortaility Rate per 1000 Live Births\",data=DPT,ci=None)\n",
    "ax.annotate(text='r=-0.79,   p-value=0.00003',xy=(30,200),xycoords='data')"
   ]
  },
  {
   "cell_type": "code",
   "execution_count": 77,
   "id": "01ee8549-1040-4d41-8283-2993480bc7e3",
   "metadata": {},
   "outputs": [
    {
     "name": "stderr",
     "output_type": "stream",
     "text": [
      "C:\\Users\\carol\\anaconda3\\lib\\site-packages\\seaborn\\_decorators.py:36: FutureWarning: Pass the following variables as keyword args: x, y. From version 0.12, the only valid positional argument will be `data`, and passing other arguments without an explicit keyword will result in an error or misinterpretation.\n",
      "  warnings.warn(\n"
     ]
    },
    {
     "data": {
      "image/png": "[encoded data removed]",
      "text/plain": [
       "<Figure size 432x432 with 3 Axes>"
      ]
     },
     "metadata": {
      "needs_background": "light"
     },
     "output_type": "display_data"
    }
   ],
   "source": [
    "ax=sns.jointplot(\"Percentage Immunized\",\"Mortaility Rate per 1000 Live Births\",data=DPT,ci=None,kind='reg')"
   ]
  },
  {
   "cell_type": "markdown",
   "id": "2d246806-1518-4fb6-a605-e1474b1386ab",
   "metadata": {},
   "source": [
    "This looks non-linear, so a Spearmans correlation coefficient will be better"
   ]
  },
  {
   "cell_type": "code",
   "execution_count": 78,
   "id": "c4419bc2-1a2e-4c28-a26b-c763c9e71a75",
   "metadata": {},
   "outputs": [
    {
     "data": {
      "text/plain": [
       "SpearmanrResult(correlation=-0.5431912872313336, pvalue=0.013319032908223387)"
      ]
     },
     "execution_count": 78,
     "metadata": {},
     "output_type": "execute_result"
    }
   ],
   "source": [
    "stats.spearmanr(DPT[\"Percentage Immunized\"],DPT[\"Mortaility Rate per 1000 Live Births\"])"
   ]
  },
  {
   "cell_type": "code",
   "execution_count": null,
   "id": "81cd7169-4067-420c-99bf-d4bfe0b24ac8",
   "metadata": {},
   "outputs": [],
   "source": []
  },
  {
   "cell_type": "code",
   "execution_count": null,
   "id": "b327b292-7b07-46e9-bcf1-78308c158f7f",
   "metadata": {},
   "outputs": [],
   "source": []
  }
 ],
 "metadata": {
  "kernelspec": {
   "display_name": "Python 3 (ipykernel)",
   "language": "python",
   "name": "python3"
  },
  "language_info": {
   "codemirror_mode": {
    "name": "ipython",
    "version": 3
   },
   "file_extension": ".py",
   "mimetype": "text/x-python",
   "name": "python",
   "nbconvert_exporter": "python",
   "pygments_lexer": "ipython3",
   "version": "3.9.12"
  }
 },
 "nbformat": 4,
 "nbformat_minor": 5
}
