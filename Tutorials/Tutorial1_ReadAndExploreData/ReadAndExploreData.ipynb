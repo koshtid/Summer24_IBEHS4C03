{
 "cells": [
  {
   "cell_type": "code",
   "execution_count": 1,
   "id": "8355e656-82c4-45db-baad-6e3fab3a5593",
   "metadata": {},
   "outputs": [],
   "source": [
    "%reset"
   ]
  },
  {
   "cell_type": "markdown",
   "id": "4bbcdd37-c1ec-48eb-8791-c6e0a9493b29",
   "metadata": {},
   "source": [
    "# Use the Python Pandas library for data manipulation and analysis.\n",
    "\n",
    "We are following the convention to import Pandas in Python with the pd alias."
   ]
  },
  {
   "cell_type": "markdown",
   "id": "11c62bac",
   "metadata": {},
   "source": [
    "# hi"
   ]
  },
  {
   "cell_type": "code",
   "execution_count": 3,
   "id": "30bcb074-bc35-40d4-9cea-0c8661a5b290",
   "metadata": {},
   "outputs": [],
   "source": [
    "import numpy as np\n",
    "import pandas as pd"
   ]
  },
  {
   "cell_type": "markdown",
   "id": "8ac76011-6b0b-40b6-9416-7965e20a5db8",
   "metadata": {},
   "source": [
    "With Pandas you can use the read_csv(path_to_file) to automatically read and parse your csv.\n",
    "The only required arguement is the path to the csv file as a string or path object. The file can\n",
    "be hosted locally on your computer or online. Documentation for this method can be found\n",
    "here at https://pandas.pydata.org/pandas-docs/dev/reference/api/pandas.read_csv.html.  \n",
    "\n",
    "In this exmple we'll use the board thickness dataset.\n",
    "\n",
    "There are many ways to read the dataset. Use the .read_csv() to read in the dataset and store\n",
    "it as a Dataframe object in the variable that we choose to name it, here all_boards"
   ]
  },
  {
   "cell_type": "markdown",
   "id": "cdab7c84-1ce7-47c6-9d0f-f8b101085f41",
   "metadata": {},
   "source": [
    "# Reading Data\n",
    "\n",
    "**Read from os**: reading from  the operating system\n",
    "\n",
    "The os commands can be used when the data is in the same folder as the python file - it\n",
    "defines the relative path between the files"
   ]
  },
  {
   "cell_type": "code",
   "execution_count": 4,
   "id": "a3c1ec4c-c60e-4384-8a25-a3b464312bae",
   "metadata": {},
   "outputs": [],
   "source": [
    "import os\n",
    "all_boards1 = pd.read_csv(os.getcwd() + os.sep + \"six-point-board-thickness.csv\")"
   ]
  },
  {
   "cell_type": "code",
   "execution_count": 82,
   "id": "2bd2a3ec-e769-4672-9099-07b68d9c86e8",
   "metadata": {},
   "outputs": [
    {
     "data": {
      "text/html": [
       "<div>\n",
       "<style scoped>\n",
       "    .dataframe tbody tr th:only-of-type {\n",
       "        vertical-align: middle;\n",
       "    }\n",
       "\n",
       "    .dataframe tbody tr th {\n",
       "        vertical-align: top;\n",
       "    }\n",
       "\n",
       "    .dataframe thead th {\n",
       "        text-align: right;\n",
       "    }\n",
       "</style>\n",
       "<table border=\"1\" class=\"dataframe\">\n",
       "  <thead>\n",
       "    <tr style=\"text-align: right;\">\n",
       "      <th></th>\n",
       "      <th>Date.Time</th>\n",
       "      <th>Pos1</th>\n",
       "      <th>Pos2</th>\n",
       "      <th>Pos3</th>\n",
       "      <th>Pos4</th>\n",
       "      <th>Pos5</th>\n",
       "      <th>Pos6</th>\n",
       "    </tr>\n",
       "  </thead>\n",
       "  <tbody>\n",
       "    <tr>\n",
       "      <th>0</th>\n",
       "      <td>2010-02-18 3:04</td>\n",
       "      <td>1761</td>\n",
       "      <td>1739</td>\n",
       "      <td>1758</td>\n",
       "      <td>1677</td>\n",
       "      <td>1684</td>\n",
       "      <td>1692</td>\n",
       "    </tr>\n",
       "    <tr>\n",
       "      <th>1</th>\n",
       "      <td>2010-02-18 3:37</td>\n",
       "      <td>1801</td>\n",
       "      <td>1688</td>\n",
       "      <td>1753</td>\n",
       "      <td>1741</td>\n",
       "      <td>1692</td>\n",
       "      <td>1675</td>\n",
       "    </tr>\n",
       "    <tr>\n",
       "      <th>2</th>\n",
       "      <td>2010-02-18 3:37</td>\n",
       "      <td>1697</td>\n",
       "      <td>1682</td>\n",
       "      <td>1663</td>\n",
       "      <td>1671</td>\n",
       "      <td>1685</td>\n",
       "      <td>1651</td>\n",
       "    </tr>\n",
       "    <tr>\n",
       "      <th>3</th>\n",
       "      <td>2010-02-18 3:37</td>\n",
       "      <td>1679</td>\n",
       "      <td>1712</td>\n",
       "      <td>1672</td>\n",
       "      <td>1703</td>\n",
       "      <td>1683</td>\n",
       "      <td>1674</td>\n",
       "    </tr>\n",
       "    <tr>\n",
       "      <th>4</th>\n",
       "      <td>2010-02-18 3:37</td>\n",
       "      <td>1699</td>\n",
       "      <td>1688</td>\n",
       "      <td>1699</td>\n",
       "      <td>1678</td>\n",
       "      <td>1688</td>\n",
       "      <td>1705</td>\n",
       "    </tr>\n",
       "    <tr>\n",
       "      <th>...</th>\n",
       "      <td>...</td>\n",
       "      <td>...</td>\n",
       "      <td>...</td>\n",
       "      <td>...</td>\n",
       "      <td>...</td>\n",
       "      <td>...</td>\n",
       "      <td>...</td>\n",
       "    </tr>\n",
       "    <tr>\n",
       "      <th>4995</th>\n",
       "      <td>2010-02-18 13:15</td>\n",
       "      <td>1690</td>\n",
       "      <td>1701</td>\n",
       "      <td>1690</td>\n",
       "      <td>1694</td>\n",
       "      <td>1735</td>\n",
       "      <td>1695</td>\n",
       "    </tr>\n",
       "    <tr>\n",
       "      <th>4996</th>\n",
       "      <td>2010-02-18 13:15</td>\n",
       "      <td>1703</td>\n",
       "      <td>1674</td>\n",
       "      <td>1666</td>\n",
       "      <td>1694</td>\n",
       "      <td>1659</td>\n",
       "      <td>1728</td>\n",
       "    </tr>\n",
       "    <tr>\n",
       "      <th>4997</th>\n",
       "      <td>2010-02-18 13:16</td>\n",
       "      <td>1657</td>\n",
       "      <td>1667</td>\n",
       "      <td>1675</td>\n",
       "      <td>1654</td>\n",
       "      <td>1648</td>\n",
       "      <td>1609</td>\n",
       "    </tr>\n",
       "    <tr>\n",
       "      <th>4998</th>\n",
       "      <td>2010-02-18 13:16</td>\n",
       "      <td>1746</td>\n",
       "      <td>1717</td>\n",
       "      <td>1638</td>\n",
       "      <td>1723</td>\n",
       "      <td>1703</td>\n",
       "      <td>1706</td>\n",
       "    </tr>\n",
       "    <tr>\n",
       "      <th>4999</th>\n",
       "      <td>2010-02-18 13:16</td>\n",
       "      <td>1668</td>\n",
       "      <td>1680</td>\n",
       "      <td>1668</td>\n",
       "      <td>1669</td>\n",
       "      <td>1651</td>\n",
       "      <td>1629</td>\n",
       "    </tr>\n",
       "  </tbody>\n",
       "</table>\n",
       "<p>5000 rows × 7 columns</p>\n",
       "</div>"
      ],
      "text/plain": [
       "             Date.Time  Pos1  Pos2  Pos3  Pos4  Pos5  Pos6\n",
       "0      2010-02-18 3:04  1761  1739  1758  1677  1684  1692\n",
       "1      2010-02-18 3:37  1801  1688  1753  1741  1692  1675\n",
       "2      2010-02-18 3:37  1697  1682  1663  1671  1685  1651\n",
       "3      2010-02-18 3:37  1679  1712  1672  1703  1683  1674\n",
       "4      2010-02-18 3:37  1699  1688  1699  1678  1688  1705\n",
       "...                ...   ...   ...   ...   ...   ...   ...\n",
       "4995  2010-02-18 13:15  1690  1701  1690  1694  1735  1695\n",
       "4996  2010-02-18 13:15  1703  1674  1666  1694  1659  1728\n",
       "4997  2010-02-18 13:16  1657  1667  1675  1654  1648  1609\n",
       "4998  2010-02-18 13:16  1746  1717  1638  1723  1703  1706\n",
       "4999  2010-02-18 13:16  1668  1680  1668  1669  1651  1629\n",
       "\n",
       "[5000 rows x 7 columns]"
      ]
     },
     "execution_count": 82,
     "metadata": {},
     "output_type": "execute_result"
    }
   ],
   "source": [
    "all_boards1"
   ]
  },
  {
   "cell_type": "markdown",
   "id": "c3499252-5669-46de-b0fd-a5a728456578",
   "metadata": {},
   "source": [
    "**Read from open**\n",
    "\n",
    "Import the dataset directly into your working directory and use it"
   ]
  },
  {
   "cell_type": "code",
   "execution_count": 6,
   "id": "0c18c23d-9e3e-4b7e-b152-38378b843cf2",
   "metadata": {},
   "outputs": [],
   "source": [
    "all_boards = pd.read_csv('six-point-board-thickness.csv')"
   ]
  },
  {
   "cell_type": "markdown",
   "id": "ac7f1871-3752-4ba5-8f27-d265d3ff34c9",
   "metadata": {},
   "source": [
    "**Read from online URL**\n",
    "\n",
    "You can import from a URL with an import request, which will save he .csv\n",
    "to your working directory. "
   ]
  },
  {
   "cell_type": "markdown",
   "id": "0532cd7a-6a69-4911-926c-df54ca6a9c8b",
   "metadata": {},
   "source": [
    "# Explore the Data that you have read into python.  \n",
    "\n",
    "Since you read it as using pandas, it will be a dataframe. "
   ]
  },
  {
   "cell_type": "markdown",
   "id": "f39e8c64-612f-459e-8fb6-13b80e15604d",
   "metadata": {},
   "source": [
    "# Dataframes\n",
    "\n",
    "The dataframe provides conveinent built in ways to query the dataset, manipulate the data, and analyze the data.  Like the dataset, the dataframe in this case has 5000 rows and 7 columns.    \n",
    "The type() function is used to get the type of the object and check that it is a Pandas Dataframe.  \n",
    "The len() function will show the number of rows.  \n",
    "There are 3 attributes to describe the size of the dataframe:  \n",
    "> The .shape attribute will show the dimensionality.  The result is a tuple containing the number of rows and columns.  \n",
    "The .ndim atribute will show the number of dimensions of the dataframe.  \n",
    "The .size attribute will show the total number of values.  \n",
    "\n",
    "There are 3 components of the dataframe: This is what makes the arrangement of a data matrix tidy. First you should arrange, or tidy, your data into the form that you want.  \n",
    "> The columns names can be found with the .columns attribute.    \n",
    "The .index attribute returns the row labels  \n",
    "The .values attribute returns the dataframe values.  You can also use the .to_numpy() to create a 2D values array. \n",
    "\n",
    "Take a look at the first 5 rows of the dataframe with .head()"
   ]
  },
  {
   "cell_type": "code",
   "execution_count": 7,
   "id": "e14aec63-ef37-4650-9e30-5919f9d29163",
   "metadata": {},
   "outputs": [
    {
     "data": {
      "text/plain": [
       "pandas.core.frame.DataFrame"
      ]
     },
     "execution_count": 7,
     "metadata": {},
     "output_type": "execute_result"
    }
   ],
   "source": [
    "type(all_boards)\n",
    "#len(all_boards)\n",
    "#all_boards.shape\n",
    "#all_boards.ndim\n",
    "#all_boards.size\n",
    "#all_boards.columns\n",
    "#all_boards.index\n",
    "#all_boards.to_numpy()\n",
    "#all_boards.head()"
   ]
  },
  {
   "cell_type": "markdown",
   "id": "62fa86e4-a3f1-4388-9e27-17f3feec1d0a",
   "metadata": {
    "tags": []
   },
   "source": [
    "# Get to know the dataframe. \n",
    "You have imported a CSV file and had a first look at the data.  Now let's learn to examine the data systematically.  \n",
    "\n",
    "First, take a look at the different data types that the dataframe contains.  The columns of the dataframe contain specific data types.  Remember that a coulmn of a dataframe is a series object.  You can display all coumns with the data types with .info()  \n",
    "\n",
    "Or use the attribute .dtypes to return a series object with column names as labels ad corresponding data types as values.  \n",
    "\n",
    "Pandas uses the NumPy library to work with these data types."
   ]
  },
  {
   "cell_type": "code",
   "execution_count": 9,
   "id": "a26d9c0d-7582-4a46-994c-fb1a3d9036d7",
   "metadata": {},
   "outputs": [
    {
     "name": "stdout",
     "output_type": "stream",
     "text": [
      "<class 'pandas.core.frame.DataFrame'>\n",
      "RangeIndex: 5000 entries, 0 to 4999\n",
      "Data columns (total 7 columns):\n",
      " #   Column     Non-Null Count  Dtype \n",
      "---  ------     --------------  ----- \n",
      " 0   Date.Time  5000 non-null   object\n",
      " 1   Pos1       5000 non-null   int64 \n",
      " 2   Pos2       5000 non-null   int64 \n",
      " 3   Pos3       5000 non-null   int64 \n",
      " 4   Pos4       5000 non-null   int64 \n",
      " 5   Pos5       5000 non-null   int64 \n",
      " 6   Pos6       5000 non-null   int64 \n",
      "dtypes: int64(6), object(1)\n",
      "memory usage: 273.6+ KB\n"
     ]
    }
   ],
   "source": [
    "all_boards.info()"
   ]
  },
  {
   "cell_type": "markdown",
   "id": "99fc2ca3-93fc-46e3-8abe-72f5b9b32e0e",
   "metadata": {},
   "source": [
    "## Accessing elements and manipulating data\n",
    "\n",
    "In this case, we're only interested in the board positions. The time the measurements were taken don't matter to us so we can drop that column (Date.Time) from the dataframe using the [.drop() method](https://pandas.pydata.org/pandas-docs/stable/reference/api/pandas.DataFrame.drop.html). Note that all of these data manipulation operators return another dataframe object so the same methods are applicable to the transformed data as well."
   ]
  },
  {
   "cell_type": "code",
   "execution_count": 86,
   "id": "a7a7dd80-fa18-4cc9-b42e-116a81b6fe50",
   "metadata": {},
   "outputs": [
    {
     "name": "stdout",
     "output_type": "stream",
     "text": [
      "      Pos1  Pos2  Pos3  Pos4  Pos5  Pos6\n",
      "0     1761  1739  1758  1677  1684  1692\n",
      "1     1801  1688  1753  1741  1692  1675\n",
      "2     1697  1682  1663  1671  1685  1651\n",
      "3     1679  1712  1672  1703  1683  1674\n",
      "4     1699  1688  1699  1678  1688  1705\n",
      "...    ...   ...   ...   ...   ...   ...\n",
      "4995  1690  1701  1690  1694  1735  1695\n",
      "4996  1703  1674  1666  1694  1659  1728\n",
      "4997  1657  1667  1675  1654  1648  1609\n",
      "4998  1746  1717  1638  1723  1703  1706\n",
      "4999  1668  1680  1668  1669  1651  1629\n",
      "\n",
      "[5000 rows x 6 columns]\n"
     ]
    }
   ],
   "source": [
    "boards_no_time = all_boards.drop(columns=[\"Date.Time\"])\n",
    "print(boards_no_time)"
   ]
  },
  {
   "cell_type": "markdown",
   "id": "d2efed6c-31b6-4636-b0dc-94b95e33d712",
   "metadata": {},
   "source": [
    "Columns can be access by using their name in square brackers \\[\\] while rows can be access using their row (index) number and the [.iloc](https://pandas.pydata.org/docs/reference/api/pandas.DataFrame.iloc.html) property. use .loc for label indexing\n",
    "\n",
    "iloc works similar to indexing on a list, the same type of slicing can be used \\[start:end\\]."
   ]
  },
  {
   "cell_type": "code",
   "execution_count": 87,
   "id": "15c32f64-6df2-46dd-8e1a-924e9a7cfe35",
   "metadata": {},
   "outputs": [
    {
     "name": "stdout",
     "output_type": "stream",
     "text": [
      "0       1761\n",
      "1       1801\n",
      "2       1697\n",
      "3       1679\n",
      "4       1699\n",
      "        ... \n",
      "4995    1690\n",
      "4996    1703\n",
      "4997    1657\n",
      "4998    1746\n",
      "4999    1668\n",
      "Name: Pos1, Length: 5000, dtype: int64\n"
     ]
    }
   ],
   "source": [
    "pos1 = boards_no_time['Pos1']\n",
    "print(pos1)"
   ]
  },
  {
   "cell_type": "code",
   "execution_count": 88,
   "id": "62acc709-41cf-4229-9f4c-efafa3697156",
   "metadata": {},
   "outputs": [
    {
     "name": "stdout",
     "output_type": "stream",
     "text": [
      "   Pos1  Pos2  Pos3  Pos4  Pos5  Pos6\n",
      "0  1761  1739  1758  1677  1684  1692\n",
      "1  1801  1688  1753  1741  1692  1675\n",
      "2  1697  1682  1663  1671  1685  1651\n"
     ]
    }
   ],
   "source": [
    "# Get the first three rows of the dataframe\n",
    "first_three_rows = boards_no_time.iloc[0:3]\n",
    "print(first_three_rows)"
   ]
  },
  {
   "cell_type": "markdown",
   "id": "a328ba87-5f87-40fc-b908-25a2234dfb15",
   "metadata": {},
   "source": [
    "You can use the .head() or .tail() methods to get a certain amount of elements from the top (head) or bottom (tail) of the dataframe. Syntactically they're the same, so I'll only show an example of one"
   ]
  },
  {
   "cell_type": "code",
   "execution_count": 89,
   "id": "confused-glasgow",
   "metadata": {},
   "outputs": [
    {
     "name": "stdout",
     "output_type": "stream",
     "text": [
      "   Pos1  Pos2  Pos3  Pos4  Pos5  Pos6\n",
      "0  1761  1739  1758  1677  1684  1692\n",
      "1  1801  1688  1753  1741  1692  1675\n",
      "2  1697  1682  1663  1671  1685  1651\n"
     ]
    }
   ],
   "source": [
    "# Get the first three rows of pos 1 using head\n",
    "first_three_rows = boards_no_time.head(3)\n",
    "print(first_three_rows)"
   ]
  },
  {
   "cell_type": "markdown",
   "id": "8030b90a-8ec9-4374-b0c6-d65b106e2172",
   "metadata": {},
   "source": [
    "Row and column access can also be combined together. The head and tail methods would work here as well."
   ]
  },
  {
   "cell_type": "code",
   "execution_count": 90,
   "id": "f507f064-42a3-4ebc-948e-a40263ca122f",
   "metadata": {},
   "outputs": [
    {
     "name": "stdout",
     "output_type": "stream",
     "text": [
      "0    1761\n",
      "1    1801\n",
      "2    1697\n",
      "Name: Pos1, dtype: int64\n"
     ]
    }
   ],
   "source": [
    "first_column_three_rows = boards_no_time['Pos1'].iloc[0:3]\n",
    "print(first_column_three_rows)"
   ]
  },
  {
   "cell_type": "markdown",
   "id": "1f7d08dd-e80f-4bc8-b038-cdca21f205f7",
   "metadata": {},
   "source": [
    "It is also possible to filter the dataframe based on the value in certain columns. Filtering the values returns a new dataframe with just the values that meet the condition (using the [.loc](https://pandas.pydata.org/docs/reference/api/pandas.DataFrame.loc.html) property). "
   ]
  },
  {
   "cell_type": "code",
   "execution_count": 91,
   "id": "5f2447ab-1b0b-4d8d-aff3-4b80f5b836ad",
   "metadata": {},
   "outputs": [
    {
     "name": "stdout",
     "output_type": "stream",
     "text": [
      "      Pos1  Pos2  Pos3  Pos4  Pos5  Pos6\n",
      "10    1546  1697  1654  1688  1668  1703\n",
      "11    1524  1668  1594  1686  1741  1730\n",
      "23    1608  1664  1641  1651  1633  1594\n",
      "48    1636  1650  1649  1666  1673  1665\n",
      "55    1643  1649  1624  1667  1662  1660\n",
      "...    ...   ...   ...   ...   ...   ...\n",
      "4932  1632  1608  1634  1667  1674  1706\n",
      "4933  1619  1692  1696  1711  1742  1728\n",
      "4961  1622  1627  1641  1664  1663  1660\n",
      "4969  1645  1680  1658  1747  1793  1808\n",
      "4974  1648  1612  1620  1637  1611  1694\n",
      "\n",
      "[539 rows x 6 columns]\n"
     ]
    }
   ],
   "source": [
    "# Get all columns (the whole dataframe) rows which have pos1 < 1650\n",
    "less_1650 = boards_no_time.loc[boards_no_time['Pos1'] < 1650]\n",
    "print(less_1650)"
   ]
  },
  {
   "cell_type": "code",
   "execution_count": 92,
   "id": "a373bf94-5531-42d3-8846-5b82447bb5dc",
   "metadata": {},
   "outputs": [
    {
     "name": "stdout",
     "output_type": "stream",
     "text": [
      "      Pos1\n",
      "10    1546\n",
      "11    1524\n",
      "23    1608\n",
      "48    1636\n",
      "55    1643\n",
      "...    ...\n",
      "4932  1632\n",
      "4933  1619\n",
      "4961  1622\n",
      "4969  1645\n",
      "4974  1648\n",
      "\n",
      "[539 rows x 1 columns]\n"
     ]
    }
   ],
   "source": [
    "# Get only pos1 values for rows with pos1 < 1650\n",
    "pos1_less_1650 = boards_no_time.loc[boards_no_time['Pos1'] < 1650, ['Pos1']]\n",
    "print(pos1_less_1650)"
   ]
  },
  {
   "cell_type": "markdown",
   "id": "c8348a68-9f34-4785-a3ba-598d82ea2b8a",
   "metadata": {},
   "source": [
    "Separate conditionals can be combined using boolean logic. In this case each conditional needs to be written in round brackets and the symbols change slightly. The element-wise logical symbols for use in these statements are:\n",
    "* and: &\n",
    "* or: |\n",
    "* not: ~ "
   ]
  },
  {
   "cell_type": "code",
   "execution_count": 93,
   "id": "b6ab59c5-9c96-471f-a891-969859a9f5fa",
   "metadata": {},
   "outputs": [
    {
     "name": "stdout",
     "output_type": "stream",
     "text": [
      "      Pos1  Pos2  Pos3  Pos4  Pos5  Pos6\n",
      "23    1608  1664  1641  1651  1633  1594\n",
      "48    1636  1650  1649  1666  1673  1665\n",
      "55    1643  1649  1624  1667  1662  1660\n",
      "84    1618  1603  1607  1652  1666  1657\n",
      "86    1645  1685  1694  1705  1644  1542\n",
      "...    ...   ...   ...   ...   ...   ...\n",
      "4932  1632  1608  1634  1667  1674  1706\n",
      "4933  1619  1692  1696  1711  1742  1728\n",
      "4961  1622  1627  1641  1664  1663  1660\n",
      "4969  1645  1680  1658  1747  1793  1808\n",
      "4974  1648  1612  1620  1637  1611  1694\n",
      "\n",
      "[465 rows x 6 columns]\n"
     ]
    }
   ],
   "source": [
    "# Get all columns that have 1600 < pos1 < 1650\n",
    "between_1600_1650 = boards_no_time.loc[(boards_no_time['Pos1'] > 1600) & (boards_no_time['Pos1'] < 1650)]\n",
    "print(between_1600_1650)"
   ]
  },
  {
   "cell_type": "markdown",
   "id": "6adcb4ac-7b8b-4eb0-9e14-c9c98bbed100",
   "metadata": {},
   "source": [
    "Alternately, the .query() method can be used to succinctly query the dataframe."
   ]
  },
  {
   "cell_type": "markdown",
   "id": "ffb1f923-feb2-4915-900b-54229b486799",
   "metadata": {},
   "source": [
    "# With a DataFrame you can use numpys and pandas to find statistical summary data"
   ]
  },
  {
   "cell_type": "code",
   "execution_count": 95,
   "id": "210b8678-664f-4a81-a40c-33490e81347f",
   "metadata": {},
   "outputs": [
    {
     "data": {
      "text/html": [
       "<div>\n",
       "<style scoped>\n",
       "    .dataframe tbody tr th:only-of-type {\n",
       "        vertical-align: middle;\n",
       "    }\n",
       "\n",
       "    .dataframe tbody tr th {\n",
       "        vertical-align: top;\n",
       "    }\n",
       "\n",
       "    .dataframe thead th {\n",
       "        text-align: right;\n",
       "    }\n",
       "</style>\n",
       "<table border=\"1\" class=\"dataframe\">\n",
       "  <thead>\n",
       "    <tr style=\"text-align: right;\">\n",
       "      <th></th>\n",
       "      <th>Pos1</th>\n",
       "      <th>Pos2</th>\n",
       "      <th>Pos3</th>\n",
       "      <th>Pos4</th>\n",
       "      <th>Pos5</th>\n",
       "      <th>Pos6</th>\n",
       "    </tr>\n",
       "  </thead>\n",
       "  <tbody>\n",
       "    <tr>\n",
       "      <th>0</th>\n",
       "      <td>1761</td>\n",
       "      <td>1739</td>\n",
       "      <td>1758</td>\n",
       "      <td>1677</td>\n",
       "      <td>1684</td>\n",
       "      <td>1692</td>\n",
       "    </tr>\n",
       "    <tr>\n",
       "      <th>1</th>\n",
       "      <td>1801</td>\n",
       "      <td>1688</td>\n",
       "      <td>1753</td>\n",
       "      <td>1741</td>\n",
       "      <td>1692</td>\n",
       "      <td>1675</td>\n",
       "    </tr>\n",
       "    <tr>\n",
       "      <th>2</th>\n",
       "      <td>1697</td>\n",
       "      <td>1682</td>\n",
       "      <td>1663</td>\n",
       "      <td>1671</td>\n",
       "      <td>1685</td>\n",
       "      <td>1651</td>\n",
       "    </tr>\n",
       "    <tr>\n",
       "      <th>3</th>\n",
       "      <td>1679</td>\n",
       "      <td>1712</td>\n",
       "      <td>1672</td>\n",
       "      <td>1703</td>\n",
       "      <td>1683</td>\n",
       "      <td>1674</td>\n",
       "    </tr>\n",
       "    <tr>\n",
       "      <th>4</th>\n",
       "      <td>1699</td>\n",
       "      <td>1688</td>\n",
       "      <td>1699</td>\n",
       "      <td>1678</td>\n",
       "      <td>1688</td>\n",
       "      <td>1705</td>\n",
       "    </tr>\n",
       "    <tr>\n",
       "      <th>...</th>\n",
       "      <td>...</td>\n",
       "      <td>...</td>\n",
       "      <td>...</td>\n",
       "      <td>...</td>\n",
       "      <td>...</td>\n",
       "      <td>...</td>\n",
       "    </tr>\n",
       "    <tr>\n",
       "      <th>4995</th>\n",
       "      <td>1690</td>\n",
       "      <td>1701</td>\n",
       "      <td>1690</td>\n",
       "      <td>1694</td>\n",
       "      <td>1735</td>\n",
       "      <td>1695</td>\n",
       "    </tr>\n",
       "    <tr>\n",
       "      <th>4996</th>\n",
       "      <td>1703</td>\n",
       "      <td>1674</td>\n",
       "      <td>1666</td>\n",
       "      <td>1694</td>\n",
       "      <td>1659</td>\n",
       "      <td>1728</td>\n",
       "    </tr>\n",
       "    <tr>\n",
       "      <th>4997</th>\n",
       "      <td>1657</td>\n",
       "      <td>1667</td>\n",
       "      <td>1675</td>\n",
       "      <td>1654</td>\n",
       "      <td>1648</td>\n",
       "      <td>1609</td>\n",
       "    </tr>\n",
       "    <tr>\n",
       "      <th>4998</th>\n",
       "      <td>1746</td>\n",
       "      <td>1717</td>\n",
       "      <td>1638</td>\n",
       "      <td>1723</td>\n",
       "      <td>1703</td>\n",
       "      <td>1706</td>\n",
       "    </tr>\n",
       "    <tr>\n",
       "      <th>4999</th>\n",
       "      <td>1668</td>\n",
       "      <td>1680</td>\n",
       "      <td>1668</td>\n",
       "      <td>1669</td>\n",
       "      <td>1651</td>\n",
       "      <td>1629</td>\n",
       "    </tr>\n",
       "  </tbody>\n",
       "</table>\n",
       "<p>5000 rows × 6 columns</p>\n",
       "</div>"
      ],
      "text/plain": [
       "      Pos1  Pos2  Pos3  Pos4  Pos5  Pos6\n",
       "0     1761  1739  1758  1677  1684  1692\n",
       "1     1801  1688  1753  1741  1692  1675\n",
       "2     1697  1682  1663  1671  1685  1651\n",
       "3     1679  1712  1672  1703  1683  1674\n",
       "4     1699  1688  1699  1678  1688  1705\n",
       "...    ...   ...   ...   ...   ...   ...\n",
       "4995  1690  1701  1690  1694  1735  1695\n",
       "4996  1703  1674  1666  1694  1659  1728\n",
       "4997  1657  1667  1675  1654  1648  1609\n",
       "4998  1746  1717  1638  1723  1703  1706\n",
       "4999  1668  1680  1668  1669  1651  1629\n",
       "\n",
       "[5000 rows x 6 columns]"
      ]
     },
     "execution_count": 95,
     "metadata": {},
     "output_type": "execute_result"
    }
   ],
   "source": [
    "boards_no_time"
   ]
  },
  {
   "cell_type": "markdown",
   "id": "ff9c37ea-17ea-44e2-8343-de00ac8fb8b6",
   "metadata": {},
   "source": [
    "Can use numpy for 1 vector of data, array data"
   ]
  },
  {
   "cell_type": "code",
   "execution_count": 101,
   "id": "48a04acf-9849-4da9-89f3-446cc2f1db3d",
   "metadata": {},
   "outputs": [
    {
     "data": {
      "text/plain": [
       "1689.3934"
      ]
     },
     "execution_count": 101,
     "metadata": {},
     "output_type": "execute_result"
    }
   ],
   "source": [
    "np.mean(boards_no_time[\"Pos1\"])"
   ]
  },
  {
   "cell_type": "markdown",
   "id": "1f78628c-fa01-429a-ae5c-05181144a0ed",
   "metadata": {},
   "source": [
    "In numpy, the default is for standard deviation is population standard deviation, remember if you want to have a sample standard deviation then you need to divide the sum of the sample values by (n-1).  In numpy you do this by stating that the dof=1.  "
   ]
  },
  {
   "cell_type": "code",
   "execution_count": 103,
   "id": "f4e20084-aff2-485c-9ed9-a2f53365b8c3",
   "metadata": {},
   "outputs": [
    {
     "data": {
      "text/plain": [
       "43.8385241503399"
      ]
     },
     "execution_count": 103,
     "metadata": {},
     "output_type": "execute_result"
    }
   ],
   "source": [
    "np.std(boards_no_time[\"Pos1\"],ddof=1)"
   ]
  },
  {
   "cell_type": "markdown",
   "id": "eadc08db-18d9-450b-88d3-4f74c5b9716a",
   "metadata": {},
   "source": [
    "Can use pandas for dataframe data.  For pandas the default is sample summary data. "
   ]
  },
  {
   "cell_type": "code",
   "execution_count": 100,
   "id": "7b2adae5-25c2-4e2e-b211-c5c1f87f8703",
   "metadata": {},
   "outputs": [
    {
     "data": {
      "text/plain": [
       "1689.3934"
      ]
     },
     "execution_count": 100,
     "metadata": {},
     "output_type": "execute_result"
    }
   ],
   "source": [
    "boards_no_time[\"Pos1\"].mean()"
   ]
  },
  {
   "cell_type": "code",
   "execution_count": 104,
   "id": "5ba9946e-f4c3-456d-a02b-3cae7a57a447",
   "metadata": {},
   "outputs": [
    {
     "data": {
      "text/html": [
       "<div>\n",
       "<style scoped>\n",
       "    .dataframe tbody tr th:only-of-type {\n",
       "        vertical-align: middle;\n",
       "    }\n",
       "\n",
       "    .dataframe tbody tr th {\n",
       "        vertical-align: top;\n",
       "    }\n",
       "\n",
       "    .dataframe thead th {\n",
       "        text-align: right;\n",
       "    }\n",
       "</style>\n",
       "<table border=\"1\" class=\"dataframe\">\n",
       "  <thead>\n",
       "    <tr style=\"text-align: right;\">\n",
       "      <th></th>\n",
       "      <th>Pos1</th>\n",
       "      <th>Pos2</th>\n",
       "      <th>Pos3</th>\n",
       "      <th>Pos4</th>\n",
       "      <th>Pos5</th>\n",
       "      <th>Pos6</th>\n",
       "    </tr>\n",
       "  </thead>\n",
       "  <tbody>\n",
       "    <tr>\n",
       "      <th>count</th>\n",
       "      <td>5000.000000</td>\n",
       "      <td>5000.000000</td>\n",
       "      <td>5000.000000</td>\n",
       "      <td>5000.000000</td>\n",
       "      <td>5000.000000</td>\n",
       "      <td>5000.000000</td>\n",
       "    </tr>\n",
       "    <tr>\n",
       "      <th>mean</th>\n",
       "      <td>1689.393400</td>\n",
       "      <td>1680.912600</td>\n",
       "      <td>1678.210800</td>\n",
       "      <td>1687.351000</td>\n",
       "      <td>1682.895200</td>\n",
       "      <td>1681.577800</td>\n",
       "    </tr>\n",
       "    <tr>\n",
       "      <th>std</th>\n",
       "      <td>43.838524</td>\n",
       "      <td>41.367021</td>\n",
       "      <td>47.637345</td>\n",
       "      <td>42.425716</td>\n",
       "      <td>40.115778</td>\n",
       "      <td>45.071714</td>\n",
       "    </tr>\n",
       "    <tr>\n",
       "      <th>min</th>\n",
       "      <td>880.000000</td>\n",
       "      <td>1333.000000</td>\n",
       "      <td>1268.000000</td>\n",
       "      <td>1252.000000</td>\n",
       "      <td>1311.000000</td>\n",
       "      <td>1282.000000</td>\n",
       "    </tr>\n",
       "    <tr>\n",
       "      <th>25%</th>\n",
       "      <td>1670.000000</td>\n",
       "      <td>1662.000000</td>\n",
       "      <td>1657.750000</td>\n",
       "      <td>1666.000000</td>\n",
       "      <td>1663.000000</td>\n",
       "      <td>1659.000000</td>\n",
       "    </tr>\n",
       "    <tr>\n",
       "      <th>50%</th>\n",
       "      <td>1685.000000</td>\n",
       "      <td>1677.000000</td>\n",
       "      <td>1677.000000</td>\n",
       "      <td>1683.000000</td>\n",
       "      <td>1679.000000</td>\n",
       "      <td>1679.000000</td>\n",
       "    </tr>\n",
       "    <tr>\n",
       "      <th>75%</th>\n",
       "      <td>1705.000000</td>\n",
       "      <td>1695.000000</td>\n",
       "      <td>1697.250000</td>\n",
       "      <td>1708.000000</td>\n",
       "      <td>1697.250000</td>\n",
       "      <td>1702.000000</td>\n",
       "    </tr>\n",
       "    <tr>\n",
       "      <th>max</th>\n",
       "      <td>1902.000000</td>\n",
       "      <td>1838.000000</td>\n",
       "      <td>1840.000000</td>\n",
       "      <td>1852.000000</td>\n",
       "      <td>1862.000000</td>\n",
       "      <td>1865.000000</td>\n",
       "    </tr>\n",
       "  </tbody>\n",
       "</table>\n",
       "</div>"
      ],
      "text/plain": [
       "              Pos1         Pos2         Pos3         Pos4         Pos5  \\\n",
       "count  5000.000000  5000.000000  5000.000000  5000.000000  5000.000000   \n",
       "mean   1689.393400  1680.912600  1678.210800  1687.351000  1682.895200   \n",
       "std      43.838524    41.367021    47.637345    42.425716    40.115778   \n",
       "min     880.000000  1333.000000  1268.000000  1252.000000  1311.000000   \n",
       "25%    1670.000000  1662.000000  1657.750000  1666.000000  1663.000000   \n",
       "50%    1685.000000  1677.000000  1677.000000  1683.000000  1679.000000   \n",
       "75%    1705.000000  1695.000000  1697.250000  1708.000000  1697.250000   \n",
       "max    1902.000000  1838.000000  1840.000000  1852.000000  1862.000000   \n",
       "\n",
       "              Pos6  \n",
       "count  5000.000000  \n",
       "mean   1681.577800  \n",
       "std      45.071714  \n",
       "min    1282.000000  \n",
       "25%    1659.000000  \n",
       "50%    1679.000000  \n",
       "75%    1702.000000  \n",
       "max    1865.000000  "
      ]
     },
     "execution_count": 104,
     "metadata": {},
     "output_type": "execute_result"
    }
   ],
   "source": [
    "boards_no_time.describe()"
   ]
  },
  {
   "cell_type": "code",
   "execution_count": null,
   "id": "5f4233af-8650-4cd7-900f-7980e7e7a965",
   "metadata": {},
   "outputs": [],
   "source": []
  }
 ],
 "metadata": {
  "kernelspec": {
   "display_name": "Python 3 (ipykernel)",
   "language": "python",
   "name": "python3"
  },
  "language_info": {
   "codemirror_mode": {
    "name": "ipython",
    "version": 3
   },
   "file_extension": ".py",
   "mimetype": "text/x-python",
   "name": "python",
   "nbconvert_exporter": "python",
   "pygments_lexer": "ipython3",
   "version": "3.11.7"
  }
 },
 "nbformat": 4,
 "nbformat_minor": 5
}
