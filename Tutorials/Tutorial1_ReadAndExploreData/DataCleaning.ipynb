{
 "cells": [
  {
   "cell_type": "markdown",
   "id": "6c7dd1fb-7d33-4a88-8a03-9c1ae0a79b7f",
   "metadata": {},
   "source": [
    "# Data Cleaning\n",
    "Before manipulating or analyzing the data, you should critically appraise to detect and fix any problems.  You should find any icnomplete, incorrect, incaccurate, or irrelevant parts of the data and then decide on replacing, modyfying, or deleting those parts to have a clean dataset to work with.    \n",
    "\n",
    "Let's look at a dataset that needs a bit of review and data cleanng. We will use the [room_temperature](https://raw.githubusercontent.com/cwbassim/IBEHS_4C03/main/room_temperature.csv?token=AWHGY67PF3VM53B2WYVW6PLBPQ7G6)  dataset, a .csv file with temperature measurements (in Kelvin) from 4 corners of a room.  \n",
    "\n",
    "We will reset any user defined variables to create a clean run and import the dataframe by using the %reset call. \n",
    "\n",
    "This is my workspace and nobody else can see what I'm doing here"
   ]
  },
  {
   "cell_type": "code",
   "execution_count": 2,
   "id": "a04e0da4-5afd-4968-92d2-71a00d0cc921",
   "metadata": {},
   "outputs": [
    {
     "name": "stdout",
     "output_type": "stream",
     "text": [
      "Once deleted, variables cannot be recovered. Proceed (y/[n])?  y\n"
     ]
    },
    {
     "name": "stdout",
     "output_type": "stream",
     "text": [
      "                Date  FrontLeft FrontRight  BackLeft  BackRight\n",
      "0    4/11/2010 11:30      295.2        297     295.8      296.3\n",
      "1    4/11/2010 12:00      296.2      296.4     296.2      296.3\n",
      "2    4/11/2010 12:30      297.3      297.5     296.7      297.1\n",
      "3    4/11/2010 13:00      295.9      296.7     297.4      297.0\n",
      "4    4/11/2010 13:30      297.2      296.5     297.6      297.4\n",
      "..               ...        ...        ...       ...        ...\n",
      "141   4/14/2010 9:30      294.8      295.5     294.7      295.6\n",
      "142  4/14/2010 10:00      295.9      295.8     295.5      295.2\n",
      "143  4/14/2010 10:30      295.1      296.2     296.0      296.1\n",
      "144  4/14/2010 11:00      296.2      297.2     296.6      296.0\n",
      "145  4/14/2010 11:15       -1.0        300      -7.0      300.0\n",
      "\n",
      "[146 rows x 5 columns]\n"
     ]
    }
   ],
   "source": [
    "%reset\n",
    "import numpy as np\n",
    "import pandas as pd\n",
    "room_temperatures = pd.read_csv(\"room_temperatures.csv\")\n",
    "print(room_temperatures)"
   ]
  },
  {
   "cell_type": "markdown",
   "id": "ccd24075-5f98-4b5b-9d28-ddc382362698",
   "metadata": {
    "tags": []
   },
   "source": [
    "# Tidying data types in the dataframe\n",
    "We want to clean specific columns and make sure that they are in the data type that want and enforce consistency.  Let's check on the datatypes.  Here we can confirm that all the columns are floating point numbers, which is what we want.  If we have to, you can tranfrom to a numerical data type with pd.to_numeric.  There is an errors argment that can be used to deal with data values that cannot be coverted to a number: you can coerrce the data value into NaN or ignore the call.  Here, we will 'coerece' data values that cannot be converted to a number (here there is missing data in the value) to be coded as NaN, which can be advantageous because it's easy to work with  NaN values in python\n",
    "\n",
    "You can also use the argument downcast to specify the data type.  To.numeric has the following data types:\n",
    "pd.to_numeric( , downcast='signed') is int8\\\n",
    "pd.to_numeric( , downcast='float') is float32\\\n",
    "The default is int64 or float 64\n",
    "\n",
    "Data type conversions for other data type spectification:\\\n",
    "pd.to_datetime()\\\n",
    "pd.Categorical()\\\n",
    "\n",
    "You can also use the .astype() to specfiy the data type for conversion.  "
   ]
  },
  {
   "cell_type": "code",
   "execution_count": 3,
   "id": "461df993-7283-4470-abdd-fa78d9cae0eb",
   "metadata": {},
   "outputs": [
    {
     "data": {
      "text/plain": [
       "Date           object\n",
       "FrontLeft     float64\n",
       "FrontRight     object\n",
       "BackLeft      float64\n",
       "BackRight     float64\n",
       "dtype: object"
      ]
     },
     "execution_count": 3,
     "metadata": {},
     "output_type": "execute_result"
    }
   ],
   "source": [
    "room_temperatures.dtypes"
   ]
  },
  {
   "cell_type": "code",
   "execution_count": 4,
   "id": "705d5d59-a0bd-4fdf-a7b0-978ad1c4ccac",
   "metadata": {},
   "outputs": [
    {
     "data": {
      "text/plain": [
       "Date           object\n",
       "FrontLeft     float64\n",
       "FrontRight    float64\n",
       "BackLeft      float64\n",
       "BackRight     float64\n",
       "dtype: object"
      ]
     },
     "execution_count": 4,
     "metadata": {},
     "output_type": "execute_result"
    }
   ],
   "source": [
    "room_temperatures[\"FrontRight\"] = pd.to_numeric(room_temperatures[\"FrontRight\"],errors='coerce')\n",
    "room_temperatures.dtypes"
   ]
  },
  {
   "cell_type": "markdown",
   "id": "abc7cc8c-bc29-42a4-9b46-6b7e92986b54",
   "metadata": {
    "tags": []
   },
   "source": [
    "# Dropping unnecessary columns and manipulating columns in the dataframe\n",
    "Let's describe the columns of the data and drop the date column.  Pandas provides a handy way to remove unwanted colmns or rows from a dataframe with the drop() function.  "
   ]
  },
  {
   "cell_type": "code",
   "execution_count": 5,
   "id": "e9b5e74d-1b1e-4af7-b9be-bda2639b6988",
   "metadata": {},
   "outputs": [
    {
     "name": "stdout",
     "output_type": "stream",
     "text": [
      "Index(['Date', 'FrontLeft', 'FrontRight', 'BackLeft', 'BackRight'], dtype='object')\n",
      "     FrontLeft  FrontRight  BackLeft  BackRight\n",
      "0        295.2       297.0     295.8      296.3\n",
      "1        296.2       296.4     296.2      296.3\n",
      "2        297.3       297.5     296.7      297.1\n",
      "3        295.9       296.7     297.4      297.0\n",
      "4        297.2       296.5     297.6      297.4\n",
      "..         ...         ...       ...        ...\n",
      "141      294.8       295.5     294.7      295.6\n",
      "142      295.9       295.8     295.5      295.2\n",
      "143      295.1       296.2     296.0      296.1\n",
      "144      296.2       297.2     296.6      296.0\n",
      "145       -1.0       300.0      -7.0      300.0\n",
      "\n",
      "[146 rows x 4 columns]\n"
     ]
    }
   ],
   "source": [
    "print(room_temperatures.columns)\n",
    "room_temperatures = room_temperatures.drop(columns=['Date'])\n",
    "print(room_temperatures)"
   ]
  },
  {
   "cell_type": "markdown",
   "id": "8041fff7-119f-4e3a-a9c3-b26da4a0036c",
   "metadata": {},
   "source": [
    "Instead of importing the date column and dropping it, you can import the data but replace the default index (a list of 0 to n-1, where n is the number of data points) with the date as the index. "
   ]
  },
  {
   "cell_type": "code",
   "execution_count": 6,
   "id": "14467563-70a5-47d0-9bc3-7e9735e18c4b",
   "metadata": {},
   "outputs": [
    {
     "name": "stdout",
     "output_type": "stream",
     "text": [
      "                 FrontLeft  FrontRight  BackLeft  BackRight\n",
      "Date                                                       \n",
      "4/11/2010 11:30      295.2       297.0     295.8      296.3\n",
      "4/11/2010 12:00      296.2       296.4     296.2      296.3\n",
      "4/11/2010 12:30      297.3       297.5     296.7      297.1\n",
      "4/11/2010 13:00      295.9       296.7     297.4      297.0\n",
      "4/11/2010 13:30      297.2       296.5     297.6      297.4\n",
      "...                    ...         ...       ...        ...\n",
      "4/14/2010 9:00       295.8       294.6     294.8      295.7\n",
      "4/14/2010 9:30       294.8       295.5     294.7      295.6\n",
      "4/14/2010 10:00      295.9       295.8     295.5      295.2\n",
      "4/14/2010 10:30      295.1       296.2     296.0      296.1\n",
      "4/14/2010 11:00      296.2       297.2     296.6      296.0\n",
      "\n",
      "[144 rows x 4 columns]\n"
     ]
    }
   ],
   "source": [
    "changed_index_to_date_room_temperatures = pd.read_csv(\"room-temperature.csv\", delimiter=',', index_col='Date')\n",
    "print(changed_index_to_date_room_temperatures)"
   ]
  },
  {
   "cell_type": "code",
   "execution_count": 7,
   "id": "0576c495-6acb-4f04-9bed-22edccffb247",
   "metadata": {},
   "outputs": [
    {
     "name": "stdout",
     "output_type": "stream",
     "text": [
      "<class 'pandas.core.frame.DataFrame'>\n",
      "RangeIndex: 146 entries, 0 to 145\n",
      "Data columns (total 4 columns):\n",
      " #   Column      Non-Null Count  Dtype  \n",
      "---  ------      --------------  -----  \n",
      " 0   FrontLeft   146 non-null    float64\n",
      " 1   FrontRight  145 non-null    float64\n",
      " 2   BackLeft    146 non-null    float64\n",
      " 3   BackRight   146 non-null    float64\n",
      "dtypes: float64(4)\n",
      "memory usage: 4.7 KB\n"
     ]
    }
   ],
   "source": [
    "room_temperatures.info()"
   ]
  },
  {
   "cell_type": "markdown",
   "id": "ea82e631-71a1-416c-b6cc-507aa7d91cc2",
   "metadata": {},
   "source": [
    "You can define new columns based on existing ones. Here let's create a new column that is the difference between the front left and front rght temperatures of the room.  We can check that we added a column looking at the new shape of the dataframe. "
   ]
  },
  {
   "cell_type": "code",
   "execution_count": 8,
   "id": "6edb692c-15f8-4da5-b39f-f20b21d6f8c6",
   "metadata": {},
   "outputs": [
    {
     "name": "stdout",
     "output_type": "stream",
     "text": [
      "<class 'pandas.core.frame.DataFrame'>\n",
      "RangeIndex: 146 entries, 0 to 145\n",
      "Data columns (total 5 columns):\n",
      " #   Column                       Non-Null Count  Dtype  \n",
      "---  ------                       --------------  -----  \n",
      " 0   FrontLeft                    146 non-null    float64\n",
      " 1   FrontRight                   145 non-null    float64\n",
      " 2   BackLeft                     146 non-null    float64\n",
      " 3   BackRight                    146 non-null    float64\n",
      " 4   new_column_difference_FL-FR  145 non-null    float64\n",
      "dtypes: float64(5)\n",
      "memory usage: 5.8 KB\n",
      "     FrontLeft  FrontRight  BackLeft  BackRight  new_column_difference_FL-FR\n",
      "0        295.2       297.0     295.8      296.3                         -1.8\n",
      "1        296.2       296.4     296.2      296.3                         -0.2\n",
      "2        297.3       297.5     296.7      297.1                         -0.2\n",
      "3        295.9       296.7     297.4      297.0                         -0.8\n",
      "4        297.2       296.5     297.6      297.4                          0.7\n",
      "..         ...         ...       ...        ...                          ...\n",
      "141      294.8       295.5     294.7      295.6                         -0.7\n",
      "142      295.9       295.8     295.5      295.2                          0.1\n",
      "143      295.1       296.2     296.0      296.1                         -1.1\n",
      "144      296.2       297.2     296.6      296.0                         -1.0\n",
      "145       -1.0       300.0      -7.0      300.0                       -301.0\n",
      "\n",
      "[146 rows x 5 columns]\n"
     ]
    },
    {
     "data": {
      "text/plain": [
       "(146, 5)"
      ]
     },
     "execution_count": 8,
     "metadata": {},
     "output_type": "execute_result"
    }
   ],
   "source": [
    "room_temperatures[\"new_column_difference_FL-FR\"] = room_temperatures.FrontLeft-room_temperatures.FrontRight\n",
    "room_temperatures.info()\n",
    "print(room_temperatures)\n",
    "room_temperatures.shape"
   ]
  },
  {
   "cell_type": "markdown",
   "id": "aa91beac-08fa-4d8c-8c42-39f78d3a1719",
   "metadata": {},
   "source": [
    "You can rename columns of the dataframe.  If we wanted to change the name of our new column from new_column_difference_FL-FR to the more simple name of FL-FR, you can rename the columns names.  Here we will overwrite the exsting dataframe to remane this column and then chek the info about the dataframe again.  "
   ]
  },
  {
   "cell_type": "code",
   "execution_count": 9,
   "id": "87436327-97c6-4931-839f-86ea0283bd79",
   "metadata": {},
   "outputs": [
    {
     "name": "stdout",
     "output_type": "stream",
     "text": [
      "<class 'pandas.core.frame.DataFrame'>\n",
      "RangeIndex: 146 entries, 0 to 145\n",
      "Data columns (total 5 columns):\n",
      " #   Column      Non-Null Count  Dtype  \n",
      "---  ------      --------------  -----  \n",
      " 0   FrontLeft   146 non-null    float64\n",
      " 1   FrontRight  145 non-null    float64\n",
      " 2   BackLeft    146 non-null    float64\n",
      " 3   BackRight   146 non-null    float64\n",
      " 4   FL-FR       145 non-null    float64\n",
      "dtypes: float64(5)\n",
      "memory usage: 5.8 KB\n"
     ]
    }
   ],
   "source": [
    "room_temperatures = room_temperatures.rename(columns = {\"new_column_difference_FL-FR\": \"FL-FR\"})\n",
    "room_temperatures.info()"
   ]
  },
  {
   "cell_type": "markdown",
   "id": "ebc14414-1598-4893-95cb-991c3382bd24",
   "metadata": {},
   "source": [
    "# Missing Data\n",
    "\n",
    "Now lets inspect the dataframe using .info().  The .info() attribute for the dataset shows if there are any null values for any columns. If there was missing data for any values then we could ignore any rows that have missing data using .dropna()."
   ]
  },
  {
   "cell_type": "code",
   "execution_count": 10,
   "id": "c3e08666-4c29-4ef5-9e88-6dcc19b9cf42",
   "metadata": {},
   "outputs": [
    {
     "name": "stdout",
     "output_type": "stream",
     "text": [
      "<class 'pandas.core.frame.DataFrame'>\n",
      "RangeIndex: 146 entries, 0 to 145\n",
      "Data columns (total 5 columns):\n",
      " #   Column      Non-Null Count  Dtype  \n",
      "---  ------      --------------  -----  \n",
      " 0   FrontLeft   146 non-null    float64\n",
      " 1   FrontRight  145 non-null    float64\n",
      " 2   BackLeft    146 non-null    float64\n",
      " 3   BackRight   146 non-null    float64\n",
      " 4   FL-FR       145 non-null    float64\n",
      "dtypes: float64(5)\n",
      "memory usage: 5.8 KB\n"
     ]
    }
   ],
   "source": [
    "room_temperatures.info()"
   ]
  },
  {
   "cell_type": "code",
   "execution_count": 11,
   "id": "385edbc5-2db5-4137-80c0-30fc82b66830",
   "metadata": {},
   "outputs": [
    {
     "name": "stdout",
     "output_type": "stream",
     "text": [
      "     FrontLeft  FrontRight  BackLeft  BackRight  FL-FR\n",
      "136      295.8       294.8     294.0      294.1    1.0\n",
      "137      294.4       295.4     294.2      294.4   -1.0\n",
      "138      295.8       295.6     295.4      295.6    0.2\n",
      "139      300.0         NaN     300.0     7000.0    NaN\n",
      "140      295.8       294.6     294.8      295.7    1.2\n",
      "141      294.8       295.5     294.7      295.6   -0.7\n",
      "142      295.9       295.8     295.5      295.2    0.1\n",
      "143      295.1       296.2     296.0      296.1   -1.1\n",
      "144      296.2       297.2     296.6      296.0   -1.0\n",
      "145       -1.0       300.0      -7.0      300.0 -301.0\n"
     ]
    },
    {
     "data": {
      "text/plain": [
       "(146, 5)"
      ]
     },
     "execution_count": 11,
     "metadata": {},
     "output_type": "execute_result"
    }
   ],
   "source": [
    "print(room_temperatures.tail(10))\n",
    "room_temperatures.shape"
   ]
  },
  {
   "cell_type": "code",
   "execution_count": 12,
   "id": "0881a006-42af-482b-8020-da9d1d2abbbd",
   "metadata": {},
   "outputs": [
    {
     "name": "stdout",
     "output_type": "stream",
     "text": [
      "<class 'pandas.core.frame.DataFrame'>\n",
      "Int64Index: 145 entries, 0 to 145\n",
      "Data columns (total 5 columns):\n",
      " #   Column      Non-Null Count  Dtype  \n",
      "---  ------      --------------  -----  \n",
      " 0   FrontLeft   145 non-null    float64\n",
      " 1   FrontRight  145 non-null    float64\n",
      " 2   BackLeft    145 non-null    float64\n",
      " 3   BackRight   145 non-null    float64\n",
      " 4   FL-FR       145 non-null    float64\n",
      "dtypes: float64(5)\n",
      "memory usage: 6.8 KB\n"
     ]
    },
    {
     "data": {
      "text/plain": [
       "(145, 5)"
      ]
     },
     "execution_count": 12,
     "metadata": {},
     "output_type": "execute_result"
    }
   ],
   "source": [
    "rows_without_null_data = room_temperatures.dropna()\n",
    "rows_without_null_data.info()\n",
    "rows_without_null_data.shape"
   ]
  },
  {
   "cell_type": "markdown",
   "id": "218c6a21-b4b2-44e4-a4be-b2b0e5ce9cc2",
   "metadata": {},
   "source": [
    "# Dataframe query\n",
    "\n",
    "A query for a dataset is a request for data results or for an action on the data. There are many ways to query the columns of a Dataframe with a boolean expression.  This in efect filters the rows of the panda dataframe. \n",
    "\n",
    "Let's look at some examples for different ways to query the dataframe.  The first will be to convert bad data to 'NaN' (not a number) values and then to remove them.  This is advantageous because it's easy to replace NaN values in python.   "
   ]
  },
  {
   "cell_type": "markdown",
   "id": "4c0fa386-ca40-4cbc-894e-a788b8b9bb1a",
   "metadata": {},
   "source": [
    "# Invalid data\n",
    "Invalid data can be even more worrying than missing values.  These are non-null values but if you use them you could have misleading or incorrect results.  You can do an invalid value review with queries and aggregations.\n",
    "\n",
    "First, let's validate the ranges of the data.  We will use the .describe() function to provide some asic descripve statistics for the columns of the dataset dataset. I'll first make a simplier dataframe with 3 significant digits and the last coulumn sliced away. "
   ]
  },
  {
   "cell_type": "code",
   "execution_count": 24,
   "id": "92cfe75a-1221-4b23-adf0-f0b3a4f433c9",
   "metadata": {},
   "outputs": [
    {
     "data": {
      "text/html": [
       "<div>\n",
       "<style scoped>\n",
       "    .dataframe tbody tr th:only-of-type {\n",
       "        vertical-align: middle;\n",
       "    }\n",
       "\n",
       "    .dataframe tbody tr th {\n",
       "        vertical-align: top;\n",
       "    }\n",
       "\n",
       "    .dataframe thead th {\n",
       "        text-align: right;\n",
       "    }\n",
       "</style>\n",
       "<table border=\"1\" class=\"dataframe\">\n",
       "  <thead>\n",
       "    <tr style=\"text-align: right;\">\n",
       "      <th></th>\n",
       "      <th>FrontLeft</th>\n",
       "      <th>FrontRight</th>\n",
       "      <th>BackLeft</th>\n",
       "      <th>BackRight</th>\n",
       "    </tr>\n",
       "  </thead>\n",
       "  <tbody>\n",
       "    <tr>\n",
       "      <th>count</th>\n",
       "      <td>145.000</td>\n",
       "      <td>145.000</td>\n",
       "      <td>145.000</td>\n",
       "      <td>145.000</td>\n",
       "    </tr>\n",
       "    <tr>\n",
       "      <th>mean</th>\n",
       "      <td>292.470</td>\n",
       "      <td>294.666</td>\n",
       "      <td>292.979</td>\n",
       "      <td>295.012</td>\n",
       "    </tr>\n",
       "    <tr>\n",
       "      <th>std</th>\n",
       "      <td>24.595</td>\n",
       "      <td>1.766</td>\n",
       "      <td>25.135</td>\n",
       "      <td>1.694</td>\n",
       "    </tr>\n",
       "    <tr>\n",
       "      <th>min</th>\n",
       "      <td>-1.000</td>\n",
       "      <td>291.100</td>\n",
       "      <td>-7.000</td>\n",
       "      <td>292.100</td>\n",
       "    </tr>\n",
       "    <tr>\n",
       "      <th>25%</th>\n",
       "      <td>293.100</td>\n",
       "      <td>293.300</td>\n",
       "      <td>293.600</td>\n",
       "      <td>293.500</td>\n",
       "    </tr>\n",
       "    <tr>\n",
       "      <th>50%</th>\n",
       "      <td>294.400</td>\n",
       "      <td>294.400</td>\n",
       "      <td>295.100</td>\n",
       "      <td>295.000</td>\n",
       "    </tr>\n",
       "    <tr>\n",
       "      <th>75%</th>\n",
       "      <td>295.800</td>\n",
       "      <td>295.800</td>\n",
       "      <td>296.300</td>\n",
       "      <td>296.500</td>\n",
       "    </tr>\n",
       "    <tr>\n",
       "      <th>max</th>\n",
       "      <td>298.100</td>\n",
       "      <td>300.000</td>\n",
       "      <td>297.600</td>\n",
       "      <td>300.000</td>\n",
       "    </tr>\n",
       "  </tbody>\n",
       "</table>\n",
       "</div>"
      ],
      "text/plain": [
       "       FrontLeft  FrontRight  BackLeft  BackRight\n",
       "count    145.000     145.000   145.000    145.000\n",
       "mean     292.470     294.666   292.979    295.012\n",
       "std       24.595       1.766    25.135      1.694\n",
       "min       -1.000     291.100    -7.000    292.100\n",
       "25%      293.100     293.300   293.600    293.500\n",
       "50%      294.400     294.400   295.100    295.000\n",
       "75%      295.800     295.800   296.300    296.500\n",
       "max      298.100     300.000   297.600    300.000"
      ]
     },
     "execution_count": 24,
     "metadata": {},
     "output_type": "execute_result"
    }
   ],
   "source": [
    "pd.options.display.float_format = '{:.3f}'.format\n",
    "room_temps=rows_without_null_data[rows_without_null_data.columns[:-1]]\n",
    "room_temps.describe()"
   ]
  },
  {
   "cell_type": "markdown",
   "id": "c8eea3b1-9553-458a-beeb-f1f3f9fa5af5",
   "metadata": {},
   "source": [
    "The min values looks stange here.  How can the tempertaure in Kelvin be negative, and 7000K seems like an unlkely valid value?  Let's query the dataframe on columns, basically filtering or selecting specific rows.  "
   ]
  },
  {
   "cell_type": "markdown",
   "id": "ae6e4240-f1a4-4365-8275-198ce4e89c0a",
   "metadata": {
    "tags": []
   },
   "source": [
    "# Method 1 Square brackets column indexing\n",
    "First we will use Pandas indexing to subet the dataframe, by creating a Boolean series and using it to filter the dataframe. This can be by a single column, all columns, or selcted columns.  The Boolean expresssions can be combined.  "
   ]
  },
  {
   "cell_type": "code",
   "execution_count": 25,
   "id": "1a087ddc-06ad-42ab-a20f-a9df19d78a08",
   "metadata": {},
   "outputs": [
    {
     "data": {
      "text/html": [
       "<div>\n",
       "<style scoped>\n",
       "    .dataframe tbody tr th:only-of-type {\n",
       "        vertical-align: middle;\n",
       "    }\n",
       "\n",
       "    .dataframe tbody tr th {\n",
       "        vertical-align: top;\n",
       "    }\n",
       "\n",
       "    .dataframe thead th {\n",
       "        text-align: right;\n",
       "    }\n",
       "</style>\n",
       "<table border=\"1\" class=\"dataframe\">\n",
       "  <thead>\n",
       "    <tr style=\"text-align: right;\">\n",
       "      <th></th>\n",
       "      <th>FrontLeft</th>\n",
       "      <th>FrontRight</th>\n",
       "      <th>BackLeft</th>\n",
       "      <th>BackRight</th>\n",
       "    </tr>\n",
       "  </thead>\n",
       "  <tbody>\n",
       "    <tr>\n",
       "      <th>145</th>\n",
       "      <td>-1.000</td>\n",
       "      <td>300.000</td>\n",
       "      <td>-7.000</td>\n",
       "      <td>300.000</td>\n",
       "    </tr>\n",
       "  </tbody>\n",
       "</table>\n",
       "</div>"
      ],
      "text/plain": [
       "     FrontLeft  FrontRight  BackLeft  BackRight\n",
       "145     -1.000     300.000    -7.000    300.000"
      ]
     },
     "execution_count": 25,
     "metadata": {},
     "output_type": "execute_result"
    }
   ],
   "source": [
    "# Filter one a specific column\n",
    "room_temps[room_temps.FrontLeft < 0]"
   ]
  },
  {
   "cell_type": "code",
   "execution_count": 26,
   "id": "020ed0b4-0699-4f86-a694-e6e266973e90",
   "metadata": {},
   "outputs": [
    {
     "data": {
      "text/html": [
       "<div>\n",
       "<style scoped>\n",
       "    .dataframe tbody tr th:only-of-type {\n",
       "        vertical-align: middle;\n",
       "    }\n",
       "\n",
       "    .dataframe tbody tr th {\n",
       "        vertical-align: top;\n",
       "    }\n",
       "\n",
       "    .dataframe thead th {\n",
       "        text-align: right;\n",
       "    }\n",
       "</style>\n",
       "<table border=\"1\" class=\"dataframe\">\n",
       "  <thead>\n",
       "    <tr style=\"text-align: right;\">\n",
       "      <th></th>\n",
       "      <th>FrontLeft</th>\n",
       "      <th>FrontRight</th>\n",
       "      <th>BackLeft</th>\n",
       "      <th>BackRight</th>\n",
       "    </tr>\n",
       "  </thead>\n",
       "  <tbody>\n",
       "    <tr>\n",
       "      <th>0</th>\n",
       "      <td>295.200</td>\n",
       "      <td>297.000</td>\n",
       "      <td>295.800</td>\n",
       "      <td>296.300</td>\n",
       "    </tr>\n",
       "    <tr>\n",
       "      <th>1</th>\n",
       "      <td>296.200</td>\n",
       "      <td>296.400</td>\n",
       "      <td>296.200</td>\n",
       "      <td>296.300</td>\n",
       "    </tr>\n",
       "    <tr>\n",
       "      <th>2</th>\n",
       "      <td>297.300</td>\n",
       "      <td>297.500</td>\n",
       "      <td>296.700</td>\n",
       "      <td>297.100</td>\n",
       "    </tr>\n",
       "    <tr>\n",
       "      <th>3</th>\n",
       "      <td>295.900</td>\n",
       "      <td>296.700</td>\n",
       "      <td>297.400</td>\n",
       "      <td>297.000</td>\n",
       "    </tr>\n",
       "    <tr>\n",
       "      <th>4</th>\n",
       "      <td>297.200</td>\n",
       "      <td>296.500</td>\n",
       "      <td>297.600</td>\n",
       "      <td>297.400</td>\n",
       "    </tr>\n",
       "    <tr>\n",
       "      <th>...</th>\n",
       "      <td>...</td>\n",
       "      <td>...</td>\n",
       "      <td>...</td>\n",
       "      <td>...</td>\n",
       "    </tr>\n",
       "    <tr>\n",
       "      <th>141</th>\n",
       "      <td>294.800</td>\n",
       "      <td>295.500</td>\n",
       "      <td>294.700</td>\n",
       "      <td>295.600</td>\n",
       "    </tr>\n",
       "    <tr>\n",
       "      <th>142</th>\n",
       "      <td>295.900</td>\n",
       "      <td>295.800</td>\n",
       "      <td>295.500</td>\n",
       "      <td>295.200</td>\n",
       "    </tr>\n",
       "    <tr>\n",
       "      <th>143</th>\n",
       "      <td>295.100</td>\n",
       "      <td>296.200</td>\n",
       "      <td>296.000</td>\n",
       "      <td>296.100</td>\n",
       "    </tr>\n",
       "    <tr>\n",
       "      <th>144</th>\n",
       "      <td>296.200</td>\n",
       "      <td>297.200</td>\n",
       "      <td>296.600</td>\n",
       "      <td>296.000</td>\n",
       "    </tr>\n",
       "    <tr>\n",
       "      <th>145</th>\n",
       "      <td>NaN</td>\n",
       "      <td>300.000</td>\n",
       "      <td>NaN</td>\n",
       "      <td>300.000</td>\n",
       "    </tr>\n",
       "  </tbody>\n",
       "</table>\n",
       "<p>145 rows × 4 columns</p>\n",
       "</div>"
      ],
      "text/plain": [
       "     FrontLeft  FrontRight  BackLeft  BackRight\n",
       "0      295.200     297.000   295.800    296.300\n",
       "1      296.200     296.400   296.200    296.300\n",
       "2      297.300     297.500   296.700    297.100\n",
       "3      295.900     296.700   297.400    297.000\n",
       "4      297.200     296.500   297.600    297.400\n",
       "..         ...         ...       ...        ...\n",
       "141    294.800     295.500   294.700    295.600\n",
       "142    295.900     295.800   295.500    295.200\n",
       "143    295.100     296.200   296.000    296.100\n",
       "144    296.200     297.200   296.600    296.000\n",
       "145        NaN     300.000       NaN    300.000\n",
       "\n",
       "[145 rows x 4 columns]"
      ]
     },
     "execution_count": 26,
     "metadata": {},
     "output_type": "execute_result"
    }
   ],
   "source": [
    "# Filter on all columns.  Here the filter comverts the bad data to NaN (not a number) value.\n",
    "# This is useful because it easy to manipulate NaN values in pandas.\n",
    "room_temps[room_temps > 0]"
   ]
  },
  {
   "cell_type": "code",
   "execution_count": 34,
   "id": "b60a0ef9-98e9-4568-9171-ec28f8642f76",
   "metadata": {},
   "outputs": [
    {
     "name": "stdout",
     "output_type": "stream",
     "text": [
      "     FrontLeft  FrontRight  BackLeft  BackRight\n",
      "125    292.700     292.400   293.100    293.500\n",
      "126    292.200     294.200   292.400    292.100\n",
      "127    292.800     292.600   293.300    292.800\n",
      "128    293.500     293.600   293.100    292.200\n",
      "129    293.300     292.600   294.500    292.900\n",
      "130    292.700     293.400   297.400    292.700\n",
      "131    292.100     293.000   292.400    293.000\n",
      "132    292.200     293.200   294.600    292.500\n",
      "133    294.400     293.800   294.000    294.100\n",
      "134    294.700     293.700   294.600    293.500\n",
      "135    294.500     294.100   294.900    293.900\n",
      "136    295.800     294.800   294.000    294.100\n",
      "137    294.400     295.400   294.200    294.400\n",
      "138    295.800     295.600   295.400    295.600\n",
      "140    295.800     294.600   294.800    295.700\n",
      "141    294.800     295.500   294.700    295.600\n",
      "142    295.900     295.800   295.500    295.200\n",
      "143    295.100     296.200   296.000    296.100\n",
      "144    296.200     297.200   296.600    296.000\n",
      "145        NaN     300.000       NaN    300.000\n"
     ]
    }
   ],
   "source": [
    "# Now we will create a new dataframe with NaNs replaing anything les than 0 or greater than 350 Kelvin.  \n",
    "room_temps_cleaned = room_temps[(0 < room_temps) & (room_temps < 350)]\n",
    "print(room_temps_cleaned.tail(20))"
   ]
  },
  {
   "cell_type": "code",
   "execution_count": 35,
   "id": "618c7ca7-e8bd-4c93-80bb-37efaf19f1bb",
   "metadata": {},
   "outputs": [
    {
     "name": "stdout",
     "output_type": "stream",
     "text": [
      "     FrontLeft  FrontRight  BackLeft  BackRight\n",
      "124    292.700     293.800   292.100    292.500\n",
      "125    292.700     292.400   293.100    293.500\n",
      "126    292.200     294.200   292.400    292.100\n",
      "127    292.800     292.600   293.300    292.800\n",
      "128    293.500     293.600   293.100    292.200\n",
      "129    293.300     292.600   294.500    292.900\n",
      "130    292.700     293.400   297.400    292.700\n",
      "131    292.100     293.000   292.400    293.000\n",
      "132    292.200     293.200   294.600    292.500\n",
      "133    294.400     293.800   294.000    294.100\n",
      "134    294.700     293.700   294.600    293.500\n",
      "135    294.500     294.100   294.900    293.900\n",
      "136    295.800     294.800   294.000    294.100\n",
      "137    294.400     295.400   294.200    294.400\n",
      "138    295.800     295.600   295.400    295.600\n",
      "140    295.800     294.600   294.800    295.700\n",
      "141    294.800     295.500   294.700    295.600\n",
      "142    295.900     295.800   295.500    295.200\n",
      "143    295.100     296.200   296.000    296.100\n",
      "144    296.200     297.200   296.600    296.000\n"
     ]
    }
   ],
   "source": [
    "# There are many ways to replace NaN values in python.  Here we will simply delete the rows with any NaN values.  \n",
    "# Remember that axis=1 is column adn axis=0 is for rows in indexing.  \n",
    "# There is a very useful Pandas Dataframe drop command used to delete columns or rows from the Dataframe in general, and not just for NaNs\n",
    "room_temps_cleaned = room_temps_cleaned.dropna(axis=0)\n",
    "print(room_temps_cleaned.tail(20))"
   ]
  },
  {
   "cell_type": "markdown",
   "id": "d8686be9-42b6-4f44-8abe-e2b0496ac475",
   "metadata": {},
   "source": [
    "# Method 2 is using the location labeling of the dataframe.  \n",
    "Let's use .loc to filter the dataframe."
   ]
  },
  {
   "cell_type": "code",
   "execution_count": 57,
   "id": "625cf3ff-c2d9-4103-978d-2f3f4e6ccda6",
   "metadata": {},
   "outputs": [
    {
     "name": "stdout",
     "output_type": "stream",
     "text": [
      "     FrontLeft  FrontRight  BackLeft  BackRight\n",
      "145     -1.000     300.000    -7.000    300.000\n"
     ]
    }
   ],
   "source": [
    "bad_room_temp_data = room_temps.loc[(room_temps[\"FrontLeft\"] <0)]\n",
    "print(bad_room_temp_data.tail(20))"
   ]
  },
  {
   "cell_type": "markdown",
   "id": "e52de85c-d87a-42f8-98dd-e17700a702b2",
   "metadata": {},
   "source": [
    "# Method 3 Use of the pandas .query function\n",
    "A [pandas Dataframe query](pandas.pydata.org/docs/reference/frame.html) is a way to query the columns of a Dataframe with a boolean expression.  The .query( ,inplace=TRUE) returns no new dataframe and .query( ,inplace=FALSE) returns a new dataframe resulting from the provided query expression (FALSE is the deafult). The query expressions can be used with multiple conditions."
   ]
  },
  {
   "cell_type": "code",
   "execution_count": 63,
   "id": "752405ac-ed90-4a7a-9850-dff7bf44d9b8",
   "metadata": {},
   "outputs": [
    {
     "name": "stdout",
     "output_type": "stream",
     "text": [
      "     FrontLeft  FrontRight  BackLeft  BackRight    FL-FR\n",
      "126    292.200     294.200   292.400    292.100   -2.000\n",
      "127    292.800     292.600   293.300    292.800    0.200\n",
      "128    293.500     293.600   293.100    292.200   -0.100\n",
      "129    293.300     292.600   294.500    292.900    0.700\n",
      "130    292.700     293.400   297.400    292.700   -0.700\n",
      "131    292.100     293.000   292.400    293.000   -0.900\n",
      "132    292.200     293.200   294.600    292.500   -1.000\n",
      "133    294.400     293.800   294.000    294.100    0.600\n",
      "134    294.700     293.700   294.600    293.500    1.000\n",
      "135    294.500     294.100   294.900    293.900    0.400\n",
      "136    295.800     294.800   294.000    294.100    1.000\n",
      "137    294.400     295.400   294.200    294.400   -1.000\n",
      "138    295.800     295.600   295.400    295.600    0.200\n",
      "139    300.000         NaN   300.000   7000.000      NaN\n",
      "140    295.800     294.600   294.800    295.700    1.200\n",
      "141    294.800     295.500   294.700    295.600   -0.700\n",
      "142    295.900     295.800   295.500    295.200    0.100\n",
      "143    295.100     296.200   296.000    296.100   -1.100\n",
      "144    296.200     297.200   296.600    296.000   -1.000\n",
      "145     -1.000     300.000    -7.000    300.000 -301.000\n"
     ]
    }
   ],
   "source": [
    "print(room_temperatures.tail(20))"
   ]
  },
  {
   "cell_type": "code",
   "execution_count": 58,
   "id": "d8e40707-e35c-4d0c-82b7-be272ebe75dd",
   "metadata": {},
   "outputs": [
    {
     "data": {
      "text/html": [
       "<div>\n",
       "<style scoped>\n",
       "    .dataframe tbody tr th:only-of-type {\n",
       "        vertical-align: middle;\n",
       "    }\n",
       "\n",
       "    .dataframe tbody tr th {\n",
       "        vertical-align: top;\n",
       "    }\n",
       "\n",
       "    .dataframe thead th {\n",
       "        text-align: right;\n",
       "    }\n",
       "</style>\n",
       "<table border=\"1\" class=\"dataframe\">\n",
       "  <thead>\n",
       "    <tr style=\"text-align: right;\">\n",
       "      <th></th>\n",
       "      <th>FrontLeft</th>\n",
       "      <th>FrontRight</th>\n",
       "      <th>BackLeft</th>\n",
       "      <th>BackRight</th>\n",
       "      <th>FL-FR</th>\n",
       "    </tr>\n",
       "  </thead>\n",
       "  <tbody>\n",
       "    <tr>\n",
       "      <th>145</th>\n",
       "      <td>-1.000</td>\n",
       "      <td>300.000</td>\n",
       "      <td>-7.000</td>\n",
       "      <td>300.000</td>\n",
       "      <td>-301.000</td>\n",
       "    </tr>\n",
       "  </tbody>\n",
       "</table>\n",
       "</div>"
      ],
      "text/plain": [
       "     FrontLeft  FrontRight  BackLeft  BackRight    FL-FR\n",
       "145     -1.000     300.000    -7.000    300.000 -301.000"
      ]
     },
     "execution_count": 58,
     "metadata": {},
     "output_type": "execute_result"
    }
   ],
   "source": [
    "room_temperatures.query('FrontLeft < 0')"
   ]
  },
  {
   "cell_type": "code",
   "execution_count": 59,
   "id": "b5779882-edd4-402f-81e7-78d914f7fb2f",
   "metadata": {},
   "outputs": [
    {
     "data": {
      "text/html": [
       "<div>\n",
       "<style scoped>\n",
       "    .dataframe tbody tr th:only-of-type {\n",
       "        vertical-align: middle;\n",
       "    }\n",
       "\n",
       "    .dataframe tbody tr th {\n",
       "        vertical-align: top;\n",
       "    }\n",
       "\n",
       "    .dataframe thead th {\n",
       "        text-align: right;\n",
       "    }\n",
       "</style>\n",
       "<table border=\"1\" class=\"dataframe\">\n",
       "  <thead>\n",
       "    <tr style=\"text-align: right;\">\n",
       "      <th></th>\n",
       "      <th>FrontLeft</th>\n",
       "      <th>FrontRight</th>\n",
       "      <th>BackLeft</th>\n",
       "      <th>BackRight</th>\n",
       "      <th>FL-FR</th>\n",
       "    </tr>\n",
       "  </thead>\n",
       "  <tbody>\n",
       "    <tr>\n",
       "      <th>139</th>\n",
       "      <td>300.000</td>\n",
       "      <td>NaN</td>\n",
       "      <td>300.000</td>\n",
       "      <td>7000.000</td>\n",
       "      <td>NaN</td>\n",
       "    </tr>\n",
       "    <tr>\n",
       "      <th>145</th>\n",
       "      <td>-1.000</td>\n",
       "      <td>300.000</td>\n",
       "      <td>-7.000</td>\n",
       "      <td>300.000</td>\n",
       "      <td>-301.000</td>\n",
       "    </tr>\n",
       "  </tbody>\n",
       "</table>\n",
       "</div>"
      ],
      "text/plain": [
       "     FrontLeft  FrontRight  BackLeft  BackRight    FL-FR\n",
       "139    300.000         NaN   300.000   7000.000      NaN\n",
       "145     -1.000     300.000    -7.000    300.000 -301.000"
      ]
     },
     "execution_count": 59,
     "metadata": {},
     "output_type": "execute_result"
    }
   ],
   "source": [
    "room_temperatures.query('not(0 < FrontLeft and BackRight and BackLeft and BackRight < 350)')"
   ]
  },
  {
   "cell_type": "code",
   "execution_count": 61,
   "id": "7148525d-5e4c-4115-9c8e-61194679a202",
   "metadata": {},
   "outputs": [
    {
     "name": "stdout",
     "output_type": "stream",
     "text": [
      "     FrontLeft  FrontRight  BackLeft  BackRight  FL-FR\n",
      "124    292.700     293.800   292.100    292.500 -1.100\n",
      "125    292.700     292.400   293.100    293.500  0.300\n",
      "126    292.200     294.200   292.400    292.100 -2.000\n",
      "127    292.800     292.600   293.300    292.800  0.200\n",
      "128    293.500     293.600   293.100    292.200 -0.100\n",
      "129    293.300     292.600   294.500    292.900  0.700\n",
      "130    292.700     293.400   297.400    292.700 -0.700\n",
      "131    292.100     293.000   292.400    293.000 -0.900\n",
      "132    292.200     293.200   294.600    292.500 -1.000\n",
      "133    294.400     293.800   294.000    294.100  0.600\n",
      "134    294.700     293.700   294.600    293.500  1.000\n",
      "135    294.500     294.100   294.900    293.900  0.400\n",
      "136    295.800     294.800   294.000    294.100  1.000\n",
      "137    294.400     295.400   294.200    294.400 -1.000\n",
      "138    295.800     295.600   295.400    295.600  0.200\n",
      "140    295.800     294.600   294.800    295.700  1.200\n",
      "141    294.800     295.500   294.700    295.600 -0.700\n",
      "142    295.900     295.800   295.500    295.200  0.100\n",
      "143    295.100     296.200   296.000    296.100 -1.100\n",
      "144    296.200     297.200   296.600    296.000 -1.000\n"
     ]
    },
    {
     "data": {
      "text/plain": [
       "(144, 5)"
      ]
     },
     "execution_count": 61,
     "metadata": {},
     "output_type": "execute_result"
    }
   ],
   "source": [
    "good_dataA = room_temperatures.query('0 < FrontLeft and BackRight and BackLeft and BackRight < 350')\n",
    "print(good_dataA.tail(20))\n",
    "good_dataA.shape"
   ]
  },
  {
   "cell_type": "markdown",
   "id": "33af9efb-02cb-43e5-967e-184ba71727d0",
   "metadata": {},
   "source": [
    "You can see that we have dropped the two rows that had invalid data and returned a dataframe that now only has valid data in it.  "
   ]
  },
  {
   "cell_type": "markdown",
   "id": "7d8d9579-bfd2-49a3-8aa0-300a99af47b3",
   "metadata": {},
   "source": [
    "When the data has many columns, manually writing out the query statements can be tedious.  There are a few ways to deal with this, using iterations.  \n",
    "\n",
    "Let's look at using a for loop to loop over the columns."
   ]
  },
  {
   "cell_type": "code",
   "execution_count": 64,
   "id": "c8ee37b4-2127-4e5a-8867-71af1b77b2a9",
   "metadata": {},
   "outputs": [
    {
     "name": "stdout",
     "output_type": "stream",
     "text": [
      "     FrontLeft  FrontRight  BackLeft  BackRight  FL-FR\n",
      "124    292.700     293.800   292.100    292.500 -1.100\n",
      "125    292.700     292.400   293.100    293.500  0.300\n",
      "126    292.200     294.200   292.400    292.100 -2.000\n",
      "127    292.800     292.600   293.300    292.800  0.200\n",
      "128    293.500     293.600   293.100    292.200 -0.100\n",
      "129    293.300     292.600   294.500    292.900  0.700\n",
      "130    292.700     293.400   297.400    292.700 -0.700\n",
      "131    292.100     293.000   292.400    293.000 -0.900\n",
      "132    292.200     293.200   294.600    292.500 -1.000\n",
      "133    294.400     293.800   294.000    294.100  0.600\n",
      "134    294.700     293.700   294.600    293.500  1.000\n",
      "135    294.500     294.100   294.900    293.900  0.400\n",
      "136    295.800     294.800   294.000    294.100  1.000\n",
      "137    294.400     295.400   294.200    294.400 -1.000\n",
      "138    295.800     295.600   295.400    295.600  0.200\n",
      "140    295.800     294.600   294.800    295.700  1.200\n",
      "141    294.800     295.500   294.700    295.600 -0.700\n",
      "142    295.900     295.800   295.500    295.200  0.100\n",
      "143    295.100     296.200   296.000    296.100 -1.100\n",
      "144    296.200     297.200   296.600    296.000 -1.000\n"
     ]
    }
   ],
   "source": [
    "dummy_room_temperaturesA = room_temperatures.copy()\n",
    "for colname in dummy_room_temperaturesA.drop(columns=[\"FL-FR\"]):\n",
    "    query_string = \"0 < \" + colname + \" < 350\"\n",
    "    dummy_room_temperaturesA = dummy_room_temperaturesA.query(query_string)\n",
    "print(dummy_room_temperaturesA.tail(20))"
   ]
  },
  {
   "cell_type": "code",
   "execution_count": null,
   "id": "30af5468-5d2f-4979-b83d-ac7a20533790",
   "metadata": {},
   "outputs": [],
   "source": []
  }
 ],
 "metadata": {
  "kernelspec": {
   "display_name": "Python 3 (ipykernel)",
   "language": "python",
   "name": "python3"
  },
  "language_info": {
   "codemirror_mode": {
    "name": "ipython",
    "version": 3
   },
   "file_extension": ".py",
   "mimetype": "text/x-python",
   "name": "python",
   "nbconvert_exporter": "python",
   "pygments_lexer": "ipython3",
   "version": "3.9.13"
  }
 },
 "nbformat": 4,
 "nbformat_minor": 5
}
