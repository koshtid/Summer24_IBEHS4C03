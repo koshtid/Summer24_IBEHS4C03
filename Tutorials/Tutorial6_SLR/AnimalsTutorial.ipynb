{
 "cells": [
  {
   "cell_type": "code",
   "execution_count": 89,
   "id": "b983a835-38ef-44ea-998c-58cb98aa7a70",
   "metadata": {},
   "outputs": [
    {
     "name": "stdin",
     "output_type": "stream",
     "text": [
      "Once deleted, variables cannot be recovered. Proceed (y/[n])?  y\n"
     ]
    }
   ],
   "source": [
    "%reset\n",
    "import numpy as np\n",
    "import pandas as pd\n",
    "import matplotlib.pyplot as plt\n",
    "import seaborn as sns\n",
    "import scipy\n",
    "from scipy import stats\n",
    "from scipy.stats import norm\n",
    "import statsmodels.api as sm\n",
    "from statsmodels.formula.api import ols"
   ]
  },
  {
   "cell_type": "code",
   "execution_count": 105,
   "id": "fec7f75f-18b0-430e-8ec9-4c632f590c8b",
   "metadata": {},
   "outputs": [],
   "source": [
    "# Read in Animmals csv\n"
   ]
  },
  {
   "cell_type": "code",
   "execution_count": 106,
   "id": "f78f344b-12d7-4233-a8e7-ec0283e75d6d",
   "metadata": {},
   "outputs": [],
   "source": [
    "# create a scatterplot"
   ]
  },
  {
   "cell_type": "code",
   "execution_count": 92,
   "id": "15cf1df4-1038-4dc7-a4b0-f71f1a8f9c72",
   "metadata": {},
   "outputs": [],
   "source": [
    "# explore and transform the data"
   ]
  },
  {
   "cell_type": "code",
   "execution_count": 107,
   "id": "df24bee0-b6b7-451d-8b71-5b73884f3593",
   "metadata": {},
   "outputs": [],
   "source": [
    "# create a new scatterplot"
   ]
  },
  {
   "cell_type": "code",
   "execution_count": 108,
   "id": "8e05828c-7f4f-4b6c-81cd-7c52439145e3",
   "metadata": {},
   "outputs": [],
   "source": [
    "# are the variables related"
   ]
  },
  {
   "cell_type": "code",
   "execution_count": 109,
   "id": "9596cec9-dddb-45a7-bba9-5e0b8403e5ac",
   "metadata": {},
   "outputs": [],
   "source": [
    "#fit the simple linear regression model to the transformed data"
   ]
  },
  {
   "cell_type": "code",
   "execution_count": 111,
   "id": "72f3a53a-6e5c-4047-b396-016ba4032a28",
   "metadata": {},
   "outputs": [],
   "source": [
    "# Calculate the predcitions based on the model and create residual plots\n",
    "# Create body weight verus y_predicted plots"
   ]
  },
  {
   "cell_type": "code",
   "execution_count": 114,
   "id": "4a6832b6-629d-4cbb-a82d-9e69ac2d5013",
   "metadata": {},
   "outputs": [],
   "source": [
    "# Explore for normality of residuals"
   ]
  },
  {
   "cell_type": "code",
   "execution_count": 115,
   "id": "98a60489-1238-4f25-92ea-150e8bf95c0a",
   "metadata": {},
   "outputs": [],
   "source": [
    "# Any concerns for other OLS issues? What could you do to explore or deal with these?"
   ]
  },
  {
   "cell_type": "code",
   "execution_count": null,
   "id": "29ac7d9a-ab25-4c49-b123-310281ea0ddd",
   "metadata": {},
   "outputs": [],
   "source": [
    "# Create the final regression plot"
   ]
  },
  {
   "cell_type": "code",
   "execution_count": null,
   "id": "9c650486-c4ec-4cd6-8713-26d0c90833a4",
   "metadata": {},
   "outputs": [],
   "source": []
  }
 ],
 "metadata": {
  "kernelspec": {
   "display_name": "Python 3 (ipykernel)",
   "language": "python",
   "name": "python3"
  },
  "language_info": {
   "codemirror_mode": {
    "name": "ipython",
    "version": 3
   },
   "file_extension": ".py",
   "mimetype": "text/x-python",
   "name": "python",
   "nbconvert_exporter": "python",
   "pygments_lexer": "ipython3",
   "version": "3.9.13"
  }
 },
 "nbformat": 4,
 "nbformat_minor": 5
}
