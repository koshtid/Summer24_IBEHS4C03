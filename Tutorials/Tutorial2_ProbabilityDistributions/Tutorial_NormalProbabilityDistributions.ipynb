{
 "cells": [
  {
   "cell_type": "code",
   "execution_count": 3,
   "id": "09ae9136-d931-42ee-b0b5-6f3eabc55502",
   "metadata": {},
   "outputs": [
    {
     "name": "stdin",
     "output_type": "stream",
     "text": [
      "Once deleted, variables cannot be recovered. Proceed (y/[n])?  y\n"
     ]
    }
   ],
   "source": [
    "%reset"
   ]
  },
  {
   "cell_type": "markdown",
   "id": "9a5d83af-1751-434a-a6ac-ffe8c23e2af1",
   "metadata": {},
   "source": [
    "# Now you try it! Use python to check the answers you find using standard normal probability tables to find probabilities."
   ]
  },
  {
   "cell_type": "markdown",
   "id": "e34872cf-d5ee-4393-b114-acb4049444ca",
   "metadata": {},
   "source": [
    "As always, first import the needed libraries:"
   ]
  },
  {
   "cell_type": "code",
   "execution_count": null,
   "id": "545b85d7-567d-47fa-9ce7-6004af0e5d92",
   "metadata": {
    "tags": []
   },
   "outputs": [],
   "source": []
  },
  {
   "cell_type": "markdown",
   "id": "8f905afa-3e8b-468c-99bb-7591b8782c96",
   "metadata": {},
   "source": [
    "**Find the probability of a value being less than or equal to some value in the normal distribution.**"
   ]
  },
  {
   "cell_type": "markdown",
   "id": "be20f919-bda6-42eb-aea8-075ff0214a61",
   "metadata": {},
   "source": [
    "Let x=stick stiffness, x~N(mean=11.38 kN/m,variance=0.01)\n",
    "\n",
    "What is the probability of x <= 11.26?\n",
    "\n",
    "**First:** Standardize to create a z-score = (x-mean)/sqrt(var) = (x-mean)/std"
   ]
  },
  {
   "cell_type": "code",
   "execution_count": null,
   "id": "26c23f0e-66d7-4369-a091-5ba3fbe69d99",
   "metadata": {},
   "outputs": [],
   "source": []
  },
  {
   "cell_type": "markdown",
   "id": "a1fb2042-3470-42f8-86a8-cf640e1355e2",
   "metadata": {},
   "source": [
    "Let's sketch out the PDF or the standard normal distribution, label the mean and your z-score.\n",
    "\n",
    "Sketch this out by hand and then use the plotting code below (fill in the ? below with loc=mean and scale=std and the x_A variable=your caluculated z-score below to plot):"
   ]
  },
  {
   "cell_type": "code",
   "execution_count": 22,
   "id": "7a76e9ac-e02f-48ac-87e9-73085816006b",
   "metadata": {},
   "outputs": [
    {
     "ename": "SyntaxError",
     "evalue": "invalid syntax (1420145286.py, line 3)",
     "output_type": "error",
     "traceback": [
      "\u001b[1;36m  Input \u001b[1;32mIn [22]\u001b[1;36m\u001b[0m\n\u001b[1;33m    normal_A=norm.pdf(x_A,loc=?,scale=?)\u001b[0m\n\u001b[1;37m                              ^\u001b[0m\n\u001b[1;31mSyntaxError\u001b[0m\u001b[1;31m:\u001b[0m invalid syntax\n"
     ]
    }
   ],
   "source": [
    "# We can plot this on the pdf to see what we are doing\n",
    "x_A = np.arange(-4,4,.01)\n",
    "normal_A=norm.pdf(x_A,loc=?,scale=?)\n",
    "ax1=sns.lineplot(x=x_A,y=normal_A)\n",
    "ax2=plt.fill_between(x_A,normal_A, where=(x_A < ?),color='g',alpha=.2)\n",
    "plt.xlabel(\"X=stick stiffness\")\n",
    "plt.title(\"Normal Distribution with Mean=0, SD=1\")"
   ]
  },
  {
   "cell_type": "markdown",
   "id": "a3040f70-d1ad-4f54-a2b5-105a8ca9e3a6",
   "metadata": {},
   "source": [
    "The probability is the area under the curve less than or equal to z=z-score\n",
    "\n",
    "This is the CDF of the the standard normal distribution of the PDF up to this value (Z<=z)."
   ]
  },
  {
   "cell_type": "code",
   "execution_count": 23,
   "id": "f4f1a0af-2cc0-432f-87ba-b7277a0c9752",
   "metadata": {},
   "outputs": [
    {
     "ename": "SyntaxError",
     "evalue": "invalid syntax (4086870236.py, line 2)",
     "output_type": "error",
     "traceback": [
      "\u001b[1;36m  Input \u001b[1;32mIn [23]\u001b[1;36m\u001b[0m\n\u001b[1;33m    normal_B=norm.cdf(x_A,loc=?,scale=?)\u001b[0m\n\u001b[1;37m                              ^\u001b[0m\n\u001b[1;31mSyntaxError\u001b[0m\u001b[1;31m:\u001b[0m invalid syntax\n"
     ]
    }
   ],
   "source": [
    "# we can plot the CDF if we wanted to\n",
    "normal_B=norm.cdf(x_A,loc=?,scale=?)\n",
    "ax1=sns.lineplot(x=x_A,y=normal_B)\n",
    "ax2=plt.fill_between(x_A,normal_B, where=(x_A <?),color='g',alpha=.2)\n",
    "plt.xlabel(\"X=stick stiffness\")\n",
    "plt.title(\"Normal Distribution with Mean=0, SD=1\")"
   ]
  },
  {
   "cell_type": "markdown",
   "id": "9f28b2e2-73da-4ff9-9371-c5d9a254a921",
   "metadata": {},
   "source": [
    "**Next:** Find the area under a standard normal curve with Z<= z-score you calculated\n",
    "\n",
    "Do this by looking it up on a standard normal table."
   ]
  },
  {
   "cell_type": "markdown",
   "id": "1a8d0563-5d20-41b4-8adb-6103d9d737fd",
   "metadata": {},
   "source": [
    "The probability is ?? that the z-score is less than or equal to -1.2"
   ]
  },
  {
   "cell_type": "markdown",
   "id": "b03c1f0e-84c2-4a25-a109-5df6b74f0fff",
   "metadata": {},
   "source": [
    "Check this using python to find the probability (Z<=z-score)"
   ]
  },
  {
   "cell_type": "code",
   "execution_count": null,
   "id": "db3a4de9-2319-40b4-8973-6d44f2dc6a04",
   "metadata": {},
   "outputs": [],
   "source": []
  },
  {
   "cell_type": "markdown",
   "id": "3cef6672-aa44-4af3-a97e-dc51bb33e4a3",
   "metadata": {},
   "source": [
    "Remember this this the same as finding this on the unstandarized pdf and letting python run the standardization\n",
    "\n",
    "Let's graph the unstandardized PDF below; note the loc=mean and std=scale here for our specified distribution.  "
   ]
  },
  {
   "cell_type": "code",
   "execution_count": 24,
   "id": "6b31c163-721d-46a6-8d2d-3e2d6d45631a",
   "metadata": {},
   "outputs": [
    {
     "ename": "SyntaxError",
     "evalue": "invalid syntax (1279702504.py, line 2)",
     "output_type": "error",
     "traceback": [
      "\u001b[1;36m  Input \u001b[1;32mIn [24]\u001b[1;36m\u001b[0m\n\u001b[1;33m    normal_D=norm.pdf(x_D,loc=?,scale=?)\u001b[0m\n\u001b[1;37m                              ^\u001b[0m\n\u001b[1;31mSyntaxError\u001b[0m\u001b[1;31m:\u001b[0m invalid syntax\n"
     ]
    }
   ],
   "source": [
    "x_D = np.arange(10.8,12,.01)\n",
    "normal_D=norm.pdf(x_D,loc=?,scale=?)\n",
    "ax1=sns.lineplot(x=x_D,y=normal_D)\n",
    "ax2=plt.fill_between(x_D,normal_D, where=(x_D < ?),color='g',alpha=.2)\n",
    "plt.xlabel(\"X=stick stiffness\")\n",
    "plt.title(\"Normal Distribution with Mean=11.38, SD=0.1\")"
   ]
  },
  {
   "cell_type": "code",
   "execution_count": 25,
   "id": "207ab437-cf2f-4980-bc36-c31b164810a6",
   "metadata": {},
   "outputs": [
    {
     "ename": "SyntaxError",
     "evalue": "invalid syntax (1142762508.py, line 2)",
     "output_type": "error",
     "traceback": [
      "\u001b[1;36m  Input \u001b[1;32mIn [25]\u001b[1;36m\u001b[0m\n\u001b[1;33m    norm.cdf(?,loc=?,scale=?)\u001b[0m\n\u001b[1;37m             ^\u001b[0m\n\u001b[1;31mSyntaxError\u001b[0m\u001b[1;31m:\u001b[0m invalid syntax\n"
     ]
    }
   ],
   "source": [
    "# The probability of finding x<= 11.26\n",
    "norm.cdf(?,loc=?,scale=?)"
   ]
  },
  {
   "cell_type": "markdown",
   "id": "5b910b1e-9900-48ad-bc8a-b773e3b50527",
   "metadata": {},
   "source": [
    "**Find the probability of a value being greater than or equal to some value in the normal distribution**\n",
    "\n",
    "Let x=stick stiffness, x~N(mean=11.38 kN/m,variance=0.01)\n",
    "\n",
    "What is the probability of x >= 11.26\n",
    "\n",
    "Standardize to create a z-score = (x-mean)/sqrt(var) = (x-mean)/std"
   ]
  },
  {
   "cell_type": "code",
   "execution_count": null,
   "id": "5129070e-f44f-4f77-a52b-8c429248f855",
   "metadata": {},
   "outputs": [],
   "source": []
  },
  {
   "cell_type": "code",
   "execution_count": 26,
   "id": "ebe21b56-ec14-4712-abbc-0de8ee434ccc",
   "metadata": {},
   "outputs": [
    {
     "ename": "SyntaxError",
     "evalue": "invalid syntax (531636156.py, line 3)",
     "output_type": "error",
     "traceback": [
      "\u001b[1;36m  Input \u001b[1;32mIn [26]\u001b[1;36m\u001b[0m\n\u001b[1;33m    normal_A=norm.pdf(x_A,loc=?,scale=?)\u001b[0m\n\u001b[1;37m                              ^\u001b[0m\n\u001b[1;31mSyntaxError\u001b[0m\u001b[1;31m:\u001b[0m invalid syntax\n"
     ]
    }
   ],
   "source": [
    "# We will plot this on the pdf\n",
    "x_A = np.arange(-4,4,.01)\n",
    "normal_A=norm.pdf(x_A,loc=?,scale=?)\n",
    "ax1=sns.lineplot(x=x_A,y=normal_A)\n",
    "ax2=plt.fill_between(x_A,normal_A, where=(x_A > ?),color='g',alpha=.2)\n",
    "plt.xlabel(\"X=stick stiffness\")\n",
    "plt.title(\"Normal Distribution with Mean=0, SD=1\")"
   ]
  },
  {
   "cell_type": "markdown",
   "id": "0a9c8e6d-818a-4cad-8002-4d23ea287226",
   "metadata": {},
   "source": [
    "Remember that the entire area under the curve is 1, so:\n",
    "\n",
    "(area to the right of z=?) = 1-(area to the left of z=?)"
   ]
  },
  {
   "cell_type": "markdown",
   "id": "27e9785e-85d4-42b3-8533-278eb5f9573d",
   "metadata": {},
   "source": [
    "Find the area under a standard normal curve with Z> z-score you calculated\n",
    "\n",
    "Do this by looking it up on a standard normal table.\n",
    "\n",
    "And calculate using scipy in python. "
   ]
  },
  {
   "cell_type": "markdown",
   "id": "8417ff0d-4d5c-45fc-9be4-a764fdb886db",
   "metadata": {},
   "source": [
    "By table:  1 - ? = ?."
   ]
  },
  {
   "cell_type": "code",
   "execution_count": null,
   "id": "c9c5b337-b2e5-4caa-8ac0-ba14aed536a1",
   "metadata": {},
   "outputs": [],
   "source": []
  },
  {
   "cell_type": "markdown",
   "id": "06724be3-717b-4cb6-9dae-a69a8e81ee79",
   "metadata": {},
   "source": [
    "In python, you can can also specifically ask for the right tail probability by using the survival function sf=(1-cdf); try it out."
   ]
  },
  {
   "cell_type": "code",
   "execution_count": null,
   "id": "a6d57de0-4189-4893-a2de-9fbf44e7ca7f",
   "metadata": {},
   "outputs": [],
   "source": []
  },
  {
   "cell_type": "markdown",
   "id": "b9380fa3-0869-4463-9fff-e3726a2fac43",
   "metadata": {},
   "source": [
    "**Find the probability of a value being between two values on the normal distribution**"
   ]
  },
  {
   "cell_type": "markdown",
   "id": "1f35db6c-0549-4f19-9a99-a4662ea67e3f",
   "metadata": {},
   "source": [
    "You have a batch process with normally distributed yields x~N(85,16); mean=85, variance=16\n",
    "\n",
    "What is the probability of yield values being between 77 adn 93g/L?\n",
    "\n",
    "First:  standardize the values.\n",
    "\n",
    "Sketch out the standard normal PDF and your z-scores to find the bounds of the probability you will compute. "
   ]
  },
  {
   "cell_type": "code",
   "execution_count": null,
   "id": "184e2188-9876-4ba1-8f15-5d07fd825ecc",
   "metadata": {},
   "outputs": [],
   "source": []
  },
  {
   "cell_type": "code",
   "execution_count": 27,
   "id": "5ddb3fc2-83fe-49ea-95e3-d4d451782eb1",
   "metadata": {},
   "outputs": [
    {
     "ename": "SyntaxError",
     "evalue": "invalid syntax (2673365591.py, line 3)",
     "output_type": "error",
     "traceback": [
      "\u001b[1;36m  Input \u001b[1;32mIn [27]\u001b[1;36m\u001b[0m\n\u001b[1;33m    normal_A=norm.pdf(x_A,loc=?,scale=?)\u001b[0m\n\u001b[1;37m                              ^\u001b[0m\n\u001b[1;31mSyntaxError\u001b[0m\u001b[1;31m:\u001b[0m invalid syntax\n"
     ]
    }
   ],
   "source": [
    "# Let's visualize this \n",
    "x_A = np.arange(-4,4,.01)\n",
    "normal_A=norm.pdf(x_A,loc=?,scale=?)\n",
    "ax1=sns.lineplot(x=x_A,y=normal_A)\n",
    "ax2=plt.fill_between(x_A,normal_A, where=(x_A < ?),color='r',alpha=.5)\n",
    "ax3=plt.fill_between(x_A,normal_A, where=(x_A < ?), color='r', alpha=.2)\n",
    "plt.xlabel(\"X=batch yield\")\n",
    "plt.title(\"Normal Distribution with Mean=0, SD=1\")"
   ]
  },
  {
   "cell_type": "markdown",
   "id": "1632c0ac-cd60-499f-85a7-1056585e3db1",
   "metadata": {},
   "source": [
    "You want the probability or the area under the curve between the z-values of z1 and z2\n",
    "\n",
    "To find this subtract the area to the left of z1 from the area to the left of z2.\n",
    "\n",
    "P(z1 < Z < z2) = P(Z<z2) - P(Z<z1) "
   ]
  },
  {
   "cell_type": "markdown",
   "id": "05ccca89-8838-4043-b57a-40cef07daf18",
   "metadata": {},
   "source": [
    "Find the area under a standard normal curve with Z between the z-scores you calculated\n",
    "\n",
    "Do this by looking them up on a standard normal table.\n",
    "\n",
    "And calculate using scipy in python. "
   ]
  },
  {
   "cell_type": "markdown",
   "id": "a3147114-6e19-4bef-90d8-029c0d38bf9a",
   "metadata": {},
   "source": [
    "By table:  P(Z<z1)= P(Z<?) = ?\n",
    "\n",
    "By table:  P(Z<z2)= P(Z<?) = 1- P(Z<?) = 1 - ? = ?\n",
    "\n",
    "? - ? = ?"
   ]
  },
  {
   "cell_type": "code",
   "execution_count": null,
   "id": "dd0f675f-3c71-45e1-98fb-65deb2956f29",
   "metadata": {},
   "outputs": [],
   "source": []
  },
  {
   "cell_type": "markdown",
   "id": "ac855a2f-5c2d-4b2f-94b5-795a8da825b5",
   "metadata": {},
   "source": [
    "Remember this this the same as finding this on the unstandarized pdf and letting python run the standardization\n",
    "\n",
    "Let's graph the unstandardized PDF below; note the loc=mean and std=scale here for our specified distribution."
   ]
  },
  {
   "cell_type": "code",
   "execution_count": 28,
   "id": "866cafca-8f08-4b46-9f31-d44faa45c0d1",
   "metadata": {},
   "outputs": [
    {
     "ename": "SyntaxError",
     "evalue": "invalid syntax (853854900.py, line 2)",
     "output_type": "error",
     "traceback": [
      "\u001b[1;36m  Input \u001b[1;32mIn [28]\u001b[1;36m\u001b[0m\n\u001b[1;33m    normal_B=norm.pdf(x_B,loc=?,scale=?)\u001b[0m\n\u001b[1;37m                              ^\u001b[0m\n\u001b[1;31mSyntaxError\u001b[0m\u001b[1;31m:\u001b[0m invalid syntax\n"
     ]
    }
   ],
   "source": [
    "x_B = np.arange(70,100,.01)\n",
    "normal_B=norm.pdf(x_B,loc=?,scale=?)\n",
    "ax=sns.lineplot(x=x_B,y=normal_B)\n",
    "ax=plt.fill_between(x_B, normal_B, where=((x_B> ?) & (x_B< ?)),color='r',alpha=.25,hatch=\"+\")\n",
    "plt.xlabel(\"X=batch yields\")\n",
    "plt.title(\"Normal Distribution with Mean=85, SD=4\")"
   ]
  },
  {
   "cell_type": "code",
   "execution_count": null,
   "id": "1b677fe5-48f9-4fcc-830d-abcecde87687",
   "metadata": {},
   "outputs": [],
   "source": []
  },
  {
   "cell_type": "markdown",
   "id": "aa16827b-d4d3-4b8b-a371-795ab092e003",
   "metadata": {},
   "source": [
    "Review the Empirical Rule of the Normal Probability Distribution"
   ]
  },
  {
   "cell_type": "code",
   "execution_count": null,
   "id": "df76ed10-20ca-429e-98d6-4076410a4012",
   "metadata": {},
   "outputs": [],
   "source": []
  }
 ],
 "metadata": {
  "kernelspec": {
   "display_name": "Python 3 (ipykernel)",
   "language": "python",
   "name": "python3"
  },
  "language_info": {
   "codemirror_mode": {
    "name": "ipython",
    "version": 3
   },
   "file_extension": ".py",
   "mimetype": "text/x-python",
   "name": "python",
   "nbconvert_exporter": "python",
   "pygments_lexer": "ipython3",
   "version": "3.9.12"
  }
 },
 "nbformat": 4,
 "nbformat_minor": 5
}
