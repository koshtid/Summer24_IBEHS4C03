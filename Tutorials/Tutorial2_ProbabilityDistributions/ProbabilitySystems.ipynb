{
 "cells": [
  {
   "cell_type": "code",
   "execution_count": 2,
   "id": "b72d4699-8921-4042-9b10-a9b6c2d52f4a",
   "metadata": {},
   "outputs": [],
   "source": [
    "import numpy as np\n",
    "import pandas as pd\n",
    "import matplotlib.pyplot as plt\n",
    "import seaborn as sns"
   ]
  },
  {
   "cell_type": "markdown",
   "id": "ece6b804-12e1-4dfb-8cc8-74392bf7b41d",
   "metadata": {},
   "source": [
    "# Probability in Flow Diagrams or Circuits\n",
    "\n",
    "![](PicTutorial2CircuitsProb.png)"
   ]
  },
  {
   "cell_type": "markdown",
   "id": "f0ca5e64-5cd7-4f77-a712-46bb33a75ba1",
   "metadata": {},
   "source": [
    "What is the probability of the circuit working?\n",
    "\n",
    "P(A)=0.9; P(B)=0.95, P(C)=0.99.  The probability of working are independent of each other.  What is the probability of the circuit working?"
   ]
  },
  {
   "cell_type": "code",
   "execution_count": null,
   "id": "dd01e412-4fc7-4ac1-a5dc-afb3cf7a7a29",
   "metadata": {},
   "outputs": [],
   "source": []
  },
  {
   "cell_type": "code",
   "execution_count": null,
   "id": "bb636964-8165-4602-98ea-8f5212eaa6ae",
   "metadata": {},
   "outputs": [],
   "source": []
  },
  {
   "cell_type": "code",
   "execution_count": null,
   "id": "6e655260-7022-43a2-80a2-744c351db243",
   "metadata": {},
   "outputs": [],
   "source": []
  }
 ],
 "metadata": {
  "kernelspec": {
   "display_name": "Python 3 (ipykernel)",
   "language": "python",
   "name": "python3"
  },
  "language_info": {
   "codemirror_mode": {
    "name": "ipython",
    "version": 3
   },
   "file_extension": ".py",
   "mimetype": "text/x-python",
   "name": "python",
   "nbconvert_exporter": "python",
   "pygments_lexer": "ipython3",
   "version": "3.9.13"
  }
 },
 "nbformat": 4,
 "nbformat_minor": 5
}
